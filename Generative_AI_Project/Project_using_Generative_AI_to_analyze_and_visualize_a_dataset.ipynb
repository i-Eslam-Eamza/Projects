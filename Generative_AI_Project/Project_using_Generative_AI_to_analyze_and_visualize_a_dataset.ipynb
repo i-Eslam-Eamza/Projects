{
 "cells": [
  {
   "cell_type": "markdown",
   "metadata": {},
   "source": [
    "\n",
    "<H2 align=\"center\" style=\"border: 2px solid #000; box-shadow: 0 0 0 2px #000, 0 0 0 5px #900; background: ; font-family: Lucida Handwriting; height:45px\"> All Codes Are Generated Using ChatGPT-4 </H2>"
   ]
  },
  {
   "cell_type": "markdown",
   "metadata": {},
   "source": [
    "##### Prompt-1: **```write a python code to import all required packages for EDA, data Visualization and Dashboarding creation```**"
   ]
  },
  {
   "cell_type": "code",
   "execution_count": 1,
   "metadata": {},
   "outputs": [
    {
     "name": "stdout",
     "output_type": "stream",
     "text": [
      "All packages imported successfully!\n"
     ]
    }
   ],
   "source": [
    "# Data manipulation\n",
    "import pandas as pd\n",
    "import numpy as np\n",
    "\n",
    "# Data visualization\n",
    "import matplotlib.pyplot as plt\n",
    "import seaborn as sns\n",
    "import plotly.express as px\n",
    "import plotly.graph_objects as go\n",
    "import plotly.tools as tls\n",
    "\n",
    "# Statistical analysis\n",
    "import scipy.stats as stats\n",
    "\n",
    "# Dashboarding\n",
    "from dash import Dash, dcc, html, Input, Output\n",
    "import dash_bootstrap_components as dbc\n",
    "\n",
    "# Other helpful libraries\n",
    "import missingno as msno  # for missing value visualization\n",
    "from sklearn.preprocessing import StandardScaler, MinMaxScaler  # for data scaling\n",
    "import warnings\n",
    "\n",
    "# Configure default settings\n",
    "warnings.filterwarnings('ignore')\n",
    "sns.set_theme(style=\"darkgrid\")  # Set the Seaborn theme directly\n",
    "\n",
    "# Check successful imports\n",
    "print(\"All packages imported successfully!\")\n"
   ]
  },
  {
   "cell_type": "markdown",
   "metadata": {},
   "source": [
    "#### Prompt-2: **```I am using Jupyter-notebook, could you write a python code to read the data in a csv file and show the first 5 rows```**\n"
   ]
  },
  {
   "cell_type": "code",
   "execution_count": 2,
   "metadata": {},
   "outputs": [
    {
     "data": {
      "text/html": [
       "<div>\n",
       "<style scoped>\n",
       "    .dataframe tbody tr th:only-of-type {\n",
       "        vertical-align: middle;\n",
       "    }\n",
       "\n",
       "    .dataframe tbody tr th {\n",
       "        vertical-align: top;\n",
       "    }\n",
       "\n",
       "    .dataframe thead th {\n",
       "        text-align: right;\n",
       "    }\n",
       "</style>\n",
       "<table border=\"1\" class=\"dataframe\">\n",
       "  <thead>\n",
       "    <tr style=\"text-align: right;\">\n",
       "      <th></th>\n",
       "      <th>Country</th>\n",
       "      <th>Region</th>\n",
       "      <th>Happiness Rank</th>\n",
       "      <th>Happiness Score</th>\n",
       "      <th>Lower Confidence Interval</th>\n",
       "      <th>Upper Confidence Interval</th>\n",
       "      <th>Economy (GDP per Capita)</th>\n",
       "      <th>Family</th>\n",
       "      <th>Health (Life Expectancy)</th>\n",
       "      <th>Freedom</th>\n",
       "      <th>Trust (Government Corruption)</th>\n",
       "      <th>Generosity</th>\n",
       "      <th>Dystopia Residual</th>\n",
       "    </tr>\n",
       "  </thead>\n",
       "  <tbody>\n",
       "    <tr>\n",
       "      <th>0</th>\n",
       "      <td>Denmark</td>\n",
       "      <td>Western Europe</td>\n",
       "      <td>1</td>\n",
       "      <td>7.526</td>\n",
       "      <td>7.460</td>\n",
       "      <td>7.592</td>\n",
       "      <td>1.44178</td>\n",
       "      <td>1.16374</td>\n",
       "      <td>0.79504</td>\n",
       "      <td>0.57941</td>\n",
       "      <td>0.44453</td>\n",
       "      <td>0.36171</td>\n",
       "      <td>2.73939</td>\n",
       "    </tr>\n",
       "    <tr>\n",
       "      <th>1</th>\n",
       "      <td>Switzerland</td>\n",
       "      <td>Western Europe</td>\n",
       "      <td>2</td>\n",
       "      <td>7.509</td>\n",
       "      <td>7.428</td>\n",
       "      <td>7.59</td>\n",
       "      <td>1.52733</td>\n",
       "      <td>1.14524</td>\n",
       "      <td>0.86303</td>\n",
       "      <td>0.58557</td>\n",
       "      <td>0.41203</td>\n",
       "      <td>0.28083</td>\n",
       "      <td>2.69463</td>\n",
       "    </tr>\n",
       "    <tr>\n",
       "      <th>2</th>\n",
       "      <td>Iceland</td>\n",
       "      <td>Western Europe</td>\n",
       "      <td>3</td>\n",
       "      <td>7.501</td>\n",
       "      <td>7.333</td>\n",
       "      <td>7.669</td>\n",
       "      <td>1.42666</td>\n",
       "      <td>1.18326</td>\n",
       "      <td>0.86733</td>\n",
       "      <td>0.56624</td>\n",
       "      <td>0.14975</td>\n",
       "      <td>0.47678</td>\n",
       "      <td>2.83137</td>\n",
       "    </tr>\n",
       "    <tr>\n",
       "      <th>3</th>\n",
       "      <td>Norway</td>\n",
       "      <td>Western Europe</td>\n",
       "      <td>4</td>\n",
       "      <td>7.498</td>\n",
       "      <td>7.421</td>\n",
       "      <td>7.575</td>\n",
       "      <td>1.57744</td>\n",
       "      <td>1.12690</td>\n",
       "      <td>0.79579</td>\n",
       "      <td>0.59609</td>\n",
       "      <td>0.35776</td>\n",
       "      <td>0.37895</td>\n",
       "      <td>2.66465</td>\n",
       "    </tr>\n",
       "    <tr>\n",
       "      <th>4</th>\n",
       "      <td>Finland</td>\n",
       "      <td>Western Europe</td>\n",
       "      <td>5</td>\n",
       "      <td>7.413</td>\n",
       "      <td>7.351</td>\n",
       "      <td>7.475</td>\n",
       "      <td>1.40598</td>\n",
       "      <td>1.13464</td>\n",
       "      <td>0.81091</td>\n",
       "      <td>0.57104</td>\n",
       "      <td>0.41004</td>\n",
       "      <td>0.25492</td>\n",
       "      <td>2.82596</td>\n",
       "    </tr>\n",
       "  </tbody>\n",
       "</table>\n",
       "</div>"
      ],
      "text/plain": [
       "       Country          Region  Happiness Rank  Happiness Score  \\\n",
       "0      Denmark  Western Europe               1            7.526   \n",
       "1  Switzerland  Western Europe               2            7.509   \n",
       "2      Iceland  Western Europe               3            7.501   \n",
       "3       Norway  Western Europe               4            7.498   \n",
       "4      Finland  Western Europe               5            7.413   \n",
       "\n",
       "   Lower Confidence Interval Upper Confidence Interval  \\\n",
       "0                      7.460                     7.592   \n",
       "1                      7.428                      7.59   \n",
       "2                      7.333                     7.669   \n",
       "3                      7.421                     7.575   \n",
       "4                      7.351                     7.475   \n",
       "\n",
       "  Economy (GDP per Capita)   Family Health (Life Expectancy)  Freedom  \\\n",
       "0                  1.44178  1.16374                  0.79504  0.57941   \n",
       "1                  1.52733  1.14524                  0.86303  0.58557   \n",
       "2                  1.42666  1.18326                  0.86733  0.56624   \n",
       "3                  1.57744  1.12690                  0.79579  0.59609   \n",
       "4                  1.40598  1.13464                  0.81091  0.57104   \n",
       "\n",
       "   Trust (Government Corruption)  Generosity  Dystopia Residual  \n",
       "0                        0.44453     0.36171            2.73939  \n",
       "1                        0.41203     0.28083            2.69463  \n",
       "2                        0.14975     0.47678            2.83137  \n",
       "3                        0.35776     0.37895            2.66465  \n",
       "4                        0.41004     0.25492            2.82596  "
      ]
     },
     "execution_count": 2,
     "metadata": {},
     "output_type": "execute_result"
    }
   ],
   "source": [
    "# Replace 'your_file.csv' with the path to your CSV file\n",
    "data = pd.read_csv('D:/PYTHON/app/happiness_data_2016.csv')\n",
    "\n",
    "# Display the first 5 rows in the notebook\n",
    "data.head()"
   ]
  },
  {
   "cell_type": "markdown",
   "metadata": {},
   "source": [
    "#### Prompt-3: **```in the next cell we need a python code to check  data types of all features and all missing values```**\n"
   ]
  },
  {
   "cell_type": "code",
   "execution_count": 3,
   "metadata": {},
   "outputs": [
    {
     "data": {
      "text/html": [
       "<div>\n",
       "<style scoped>\n",
       "    .dataframe tbody tr th:only-of-type {\n",
       "        vertical-align: middle;\n",
       "    }\n",
       "\n",
       "    .dataframe tbody tr th {\n",
       "        vertical-align: top;\n",
       "    }\n",
       "\n",
       "    .dataframe thead th {\n",
       "        text-align: right;\n",
       "    }\n",
       "</style>\n",
       "<table border=\"1\" class=\"dataframe\">\n",
       "  <thead>\n",
       "    <tr style=\"text-align: right;\">\n",
       "      <th></th>\n",
       "      <th>Data Type</th>\n",
       "      <th>Missing Values</th>\n",
       "      <th>Missing Percentage</th>\n",
       "    </tr>\n",
       "  </thead>\n",
       "  <tbody>\n",
       "    <tr>\n",
       "      <th>Country</th>\n",
       "      <td>object</td>\n",
       "      <td>0</td>\n",
       "      <td>0.00</td>\n",
       "    </tr>\n",
       "    <tr>\n",
       "      <th>Region</th>\n",
       "      <td>object</td>\n",
       "      <td>0</td>\n",
       "      <td>0.00</td>\n",
       "    </tr>\n",
       "    <tr>\n",
       "      <th>Happiness Rank</th>\n",
       "      <td>int64</td>\n",
       "      <td>0</td>\n",
       "      <td>0.00</td>\n",
       "    </tr>\n",
       "    <tr>\n",
       "      <th>Happiness Score</th>\n",
       "      <td>float64</td>\n",
       "      <td>0</td>\n",
       "      <td>0.00</td>\n",
       "    </tr>\n",
       "    <tr>\n",
       "      <th>Lower Confidence Interval</th>\n",
       "      <td>float64</td>\n",
       "      <td>4</td>\n",
       "      <td>2.55</td>\n",
       "    </tr>\n",
       "    <tr>\n",
       "      <th>Upper Confidence Interval</th>\n",
       "      <td>object</td>\n",
       "      <td>2</td>\n",
       "      <td>1.27</td>\n",
       "    </tr>\n",
       "    <tr>\n",
       "      <th>Economy (GDP per Capita)</th>\n",
       "      <td>object</td>\n",
       "      <td>1</td>\n",
       "      <td>0.64</td>\n",
       "    </tr>\n",
       "    <tr>\n",
       "      <th>Family</th>\n",
       "      <td>float64</td>\n",
       "      <td>0</td>\n",
       "      <td>0.00</td>\n",
       "    </tr>\n",
       "    <tr>\n",
       "      <th>Health (Life Expectancy)</th>\n",
       "      <td>object</td>\n",
       "      <td>2</td>\n",
       "      <td>1.27</td>\n",
       "    </tr>\n",
       "    <tr>\n",
       "      <th>Freedom</th>\n",
       "      <td>object</td>\n",
       "      <td>0</td>\n",
       "      <td>0.00</td>\n",
       "    </tr>\n",
       "    <tr>\n",
       "      <th>Trust (Government Corruption)</th>\n",
       "      <td>float64</td>\n",
       "      <td>0</td>\n",
       "      <td>0.00</td>\n",
       "    </tr>\n",
       "    <tr>\n",
       "      <th>Generosity</th>\n",
       "      <td>float64</td>\n",
       "      <td>0</td>\n",
       "      <td>0.00</td>\n",
       "    </tr>\n",
       "    <tr>\n",
       "      <th>Dystopia Residual</th>\n",
       "      <td>float64</td>\n",
       "      <td>0</td>\n",
       "      <td>0.00</td>\n",
       "    </tr>\n",
       "  </tbody>\n",
       "</table>\n",
       "</div>"
      ],
      "text/plain": [
       "                              Data Type  Missing Values  Missing Percentage\n",
       "Country                          object               0                0.00\n",
       "Region                           object               0                0.00\n",
       "Happiness Rank                    int64               0                0.00\n",
       "Happiness Score                 float64               0                0.00\n",
       "Lower Confidence Interval       float64               4                2.55\n",
       "Upper Confidence Interval        object               2                1.27\n",
       "Economy (GDP per Capita)         object               1                0.64\n",
       "Family                          float64               0                0.00\n",
       "Health (Life Expectancy)         object               2                1.27\n",
       "Freedom                          object               0                0.00\n",
       "Trust (Government Corruption)   float64               0                0.00\n",
       "Generosity                      float64               0                0.00\n",
       "Dystopia Residual               float64               0                0.00"
      ]
     },
     "execution_count": 3,
     "metadata": {},
     "output_type": "execute_result"
    }
   ],
   "source": [
    "# there were 2 option outputs I chose this one.\n",
    "# Display data types and missing values in a table format\n",
    "data_info = pd.DataFrame({\n",
    "    'Data Type': data.dtypes,\n",
    "    'Missing Values': data.isnull().sum(),\n",
    "    'Missing Percentage': (data.isnull().mean() * 100).round(2)\n",
    "})\n",
    "data_info"
   ]
  },
  {
   "cell_type": "markdown",
   "metadata": {},
   "source": [
    "#### Prompt-4: **```in the next cell show me the rows with missing values only, and highlight the missing values```**\n"
   ]
  },
  {
   "cell_type": "code",
   "execution_count": 4,
   "metadata": {},
   "outputs": [
    {
     "data": {
      "text/html": [
       "<style type=\"text/css\">\n",
       "#T_b751c_row0_col5, #T_b751c_row1_col8, #T_b751c_row2_col4, #T_b751c_row3_col4, #T_b751c_row4_col6, #T_b751c_row5_col8, #T_b751c_row6_col4, #T_b751c_row7_col5, #T_b751c_row8_col4 {\n",
       "  background-color: darkblue;\n",
       "}\n",
       "</style>\n",
       "<table id=\"T_b751c\">\n",
       "  <thead>\n",
       "    <tr>\n",
       "      <th class=\"blank level0\" >&nbsp;</th>\n",
       "      <th id=\"T_b751c_level0_col0\" class=\"col_heading level0 col0\" >Country</th>\n",
       "      <th id=\"T_b751c_level0_col1\" class=\"col_heading level0 col1\" >Region</th>\n",
       "      <th id=\"T_b751c_level0_col2\" class=\"col_heading level0 col2\" >Happiness Rank</th>\n",
       "      <th id=\"T_b751c_level0_col3\" class=\"col_heading level0 col3\" >Happiness Score</th>\n",
       "      <th id=\"T_b751c_level0_col4\" class=\"col_heading level0 col4\" >Lower Confidence Interval</th>\n",
       "      <th id=\"T_b751c_level0_col5\" class=\"col_heading level0 col5\" >Upper Confidence Interval</th>\n",
       "      <th id=\"T_b751c_level0_col6\" class=\"col_heading level0 col6\" >Economy (GDP per Capita)</th>\n",
       "      <th id=\"T_b751c_level0_col7\" class=\"col_heading level0 col7\" >Family</th>\n",
       "      <th id=\"T_b751c_level0_col8\" class=\"col_heading level0 col8\" >Health (Life Expectancy)</th>\n",
       "      <th id=\"T_b751c_level0_col9\" class=\"col_heading level0 col9\" >Freedom</th>\n",
       "      <th id=\"T_b751c_level0_col10\" class=\"col_heading level0 col10\" >Trust (Government Corruption)</th>\n",
       "      <th id=\"T_b751c_level0_col11\" class=\"col_heading level0 col11\" >Generosity</th>\n",
       "      <th id=\"T_b751c_level0_col12\" class=\"col_heading level0 col12\" >Dystopia Residual</th>\n",
       "    </tr>\n",
       "  </thead>\n",
       "  <tbody>\n",
       "    <tr>\n",
       "      <th id=\"T_b751c_level0_row0\" class=\"row_heading level0 row0\" >9</th>\n",
       "      <td id=\"T_b751c_row0_col0\" class=\"data row0 col0\" >Sweden</td>\n",
       "      <td id=\"T_b751c_row0_col1\" class=\"data row0 col1\" >Western Europe</td>\n",
       "      <td id=\"T_b751c_row0_col2\" class=\"data row0 col2\" >10</td>\n",
       "      <td id=\"T_b751c_row0_col3\" class=\"data row0 col3\" >7.291000</td>\n",
       "      <td id=\"T_b751c_row0_col4\" class=\"data row0 col4\" >7.227000</td>\n",
       "      <td id=\"T_b751c_row0_col5\" class=\"data row0 col5\" >nan</td>\n",
       "      <td id=\"T_b751c_row0_col6\" class=\"data row0 col6\" >1.45181</td>\n",
       "      <td id=\"T_b751c_row0_col7\" class=\"data row0 col7\" >1.087640</td>\n",
       "      <td id=\"T_b751c_row0_col8\" class=\"data row0 col8\" >0.83121</td>\n",
       "      <td id=\"T_b751c_row0_col9\" class=\"data row0 col9\" >0.58218</td>\n",
       "      <td id=\"T_b751c_row0_col10\" class=\"data row0 col10\" >0.408670</td>\n",
       "      <td id=\"T_b751c_row0_col11\" class=\"data row0 col11\" >0.382540</td>\n",
       "      <td id=\"T_b751c_row0_col12\" class=\"data row0 col12\" >2.547340</td>\n",
       "    </tr>\n",
       "    <tr>\n",
       "      <th id=\"T_b751c_level0_row1\" class=\"row_heading level0 row1\" >12</th>\n",
       "      <td id=\"T_b751c_row1_col0\" class=\"data row1 col0\" >United States</td>\n",
       "      <td id=\"T_b751c_row1_col1\" class=\"data row1 col1\" >North America</td>\n",
       "      <td id=\"T_b751c_row1_col2\" class=\"data row1 col2\" >13</td>\n",
       "      <td id=\"T_b751c_row1_col3\" class=\"data row1 col3\" >7.104000</td>\n",
       "      <td id=\"T_b751c_row1_col4\" class=\"data row1 col4\" >7.020000</td>\n",
       "      <td id=\"T_b751c_row1_col5\" class=\"data row1 col5\" >7.188</td>\n",
       "      <td id=\"T_b751c_row1_col6\" class=\"data row1 col6\" >1.50796</td>\n",
       "      <td id=\"T_b751c_row1_col7\" class=\"data row1 col7\" >1.047820</td>\n",
       "      <td id=\"T_b751c_row1_col8\" class=\"data row1 col8\" >nan</td>\n",
       "      <td id=\"T_b751c_row1_col9\" class=\"data row1 col9\" >0.48163</td>\n",
       "      <td id=\"T_b751c_row1_col10\" class=\"data row1 col10\" >0.148680</td>\n",
       "      <td id=\"T_b751c_row1_col11\" class=\"data row1 col11\" >0.410770</td>\n",
       "      <td id=\"T_b751c_row1_col12\" class=\"data row1 col12\" >2.727820</td>\n",
       "    </tr>\n",
       "    <tr>\n",
       "      <th id=\"T_b751c_level0_row2\" class=\"row_heading level0 row2\" >14</th>\n",
       "      <td id=\"T_b751c_row2_col0\" class=\"data row2 col0\" >Puerto Rico</td>\n",
       "      <td id=\"T_b751c_row2_col1\" class=\"data row2 col1\" >Latin America and Caribbean</td>\n",
       "      <td id=\"T_b751c_row2_col2\" class=\"data row2 col2\" >15</td>\n",
       "      <td id=\"T_b751c_row2_col3\" class=\"data row2 col3\" >7.039000</td>\n",
       "      <td id=\"T_b751c_row2_col4\" class=\"data row2 col4\" >nan</td>\n",
       "      <td id=\"T_b751c_row2_col5\" class=\"data row2 col5\" >7.284</td>\n",
       "      <td id=\"T_b751c_row2_col6\" class=\"data row2 col6\" >1.35943</td>\n",
       "      <td id=\"T_b751c_row2_col7\" class=\"data row2 col7\" >1.081130</td>\n",
       "      <td id=\"T_b751c_row2_col8\" class=\"data row2 col8\" >0.77758</td>\n",
       "      <td id=\"T_b751c_row2_col9\" class=\"data row2 col9\" >0.46823</td>\n",
       "      <td id=\"T_b751c_row2_col10\" class=\"data row2 col10\" >0.122750</td>\n",
       "      <td id=\"T_b751c_row2_col11\" class=\"data row2 col11\" >0.222020</td>\n",
       "      <td id=\"T_b751c_row2_col12\" class=\"data row2 col12\" >3.007600</td>\n",
       "    </tr>\n",
       "    <tr>\n",
       "      <th id=\"T_b751c_level0_row3\" class=\"row_heading level0 row3\" >36</th>\n",
       "      <td id=\"T_b751c_row3_col0\" class=\"data row3 col0\" >Spain</td>\n",
       "      <td id=\"T_b751c_row3_col1\" class=\"data row3 col1\" >Western Europe</td>\n",
       "      <td id=\"T_b751c_row3_col2\" class=\"data row3 col2\" >37</td>\n",
       "      <td id=\"T_b751c_row3_col3\" class=\"data row3 col3\" >6.361000</td>\n",
       "      <td id=\"T_b751c_row3_col4\" class=\"data row3 col4\" >nan</td>\n",
       "      <td id=\"T_b751c_row3_col5\" class=\"data row3 col5\" >6.434</td>\n",
       "      <td id=\"T_b751c_row3_col6\" class=\"data row3 col6\" >1.34253</td>\n",
       "      <td id=\"T_b751c_row3_col7\" class=\"data row3 col7\" >1.129450</td>\n",
       "      <td id=\"T_b751c_row3_col8\" class=\"data row3 col8\" >0.87896</td>\n",
       "      <td id=\"T_b751c_row3_col9\" class=\"data row3 col9\" >0.37545</td>\n",
       "      <td id=\"T_b751c_row3_col10\" class=\"data row3 col10\" >0.061370</td>\n",
       "      <td id=\"T_b751c_row3_col11\" class=\"data row3 col11\" >0.176650</td>\n",
       "      <td id=\"T_b751c_row3_col12\" class=\"data row3 col12\" >2.396630</td>\n",
       "    </tr>\n",
       "    <tr>\n",
       "      <th id=\"T_b751c_level0_row4\" class=\"row_heading level0 row4\" >41</th>\n",
       "      <td id=\"T_b751c_row4_col0\" class=\"data row4 col0\" >Bahrain</td>\n",
       "      <td id=\"T_b751c_row4_col1\" class=\"data row4 col1\" >Middle East and Northern Africa</td>\n",
       "      <td id=\"T_b751c_row4_col2\" class=\"data row4 col2\" >42</td>\n",
       "      <td id=\"T_b751c_row4_col3\" class=\"data row4 col3\" >6.218000</td>\n",
       "      <td id=\"T_b751c_row4_col4\" class=\"data row4 col4\" >6.128000</td>\n",
       "      <td id=\"T_b751c_row4_col5\" class=\"data row4 col5\" >6.308</td>\n",
       "      <td id=\"T_b751c_row4_col6\" class=\"data row4 col6\" >nan</td>\n",
       "      <td id=\"T_b751c_row4_col7\" class=\"data row4 col7\" >0.943970</td>\n",
       "      <td id=\"T_b751c_row4_col8\" class=\"data row4 col8\" >0.65696</td>\n",
       "      <td id=\"T_b751c_row4_col9\" class=\"data row4 col9\" >0.47375</td>\n",
       "      <td id=\"T_b751c_row4_col10\" class=\"data row4 col10\" >0.257720</td>\n",
       "      <td id=\"T_b751c_row4_col11\" class=\"data row4 col11\" >0.171470</td>\n",
       "      <td id=\"T_b751c_row4_col12\" class=\"data row4 col12\" >2.274050</td>\n",
       "    </tr>\n",
       "    <tr>\n",
       "      <th id=\"T_b751c_level0_row5\" class=\"row_heading level0 row5\" >44</th>\n",
       "      <td id=\"T_b751c_row5_col0\" class=\"data row5 col0\" >Slovakia</td>\n",
       "      <td id=\"T_b751c_row5_col1\" class=\"data row5 col1\" >Central and Eastern Europe</td>\n",
       "      <td id=\"T_b751c_row5_col2\" class=\"data row5 col2\" >45</td>\n",
       "      <td id=\"T_b751c_row5_col3\" class=\"data row5 col3\" >6.078000</td>\n",
       "      <td id=\"T_b751c_row5_col4\" class=\"data row5 col4\" >5.996000</td>\n",
       "      <td id=\"T_b751c_row5_col5\" class=\"data row5 col5\" >6.16</td>\n",
       "      <td id=\"T_b751c_row5_col6\" class=\"data row5 col6\" >1.27973</td>\n",
       "      <td id=\"T_b751c_row5_col7\" class=\"data row5 col7\" >1.082680</td>\n",
       "      <td id=\"T_b751c_row5_col8\" class=\"data row5 col8\" >nan</td>\n",
       "      <td id=\"T_b751c_row5_col9\" class=\"data row5 col9\" >0.23391</td>\n",
       "      <td id=\"T_b751c_row5_col10\" class=\"data row5 col10\" >0.029470</td>\n",
       "      <td id=\"T_b751c_row5_col11\" class=\"data row5 col11\" >0.138370</td>\n",
       "      <td id=\"T_b751c_row5_col12\" class=\"data row5 col12\" >2.610650</td>\n",
       "    </tr>\n",
       "    <tr>\n",
       "      <th id=\"T_b751c_level0_row6\" class=\"row_heading level0 row6\" >63</th>\n",
       "      <td id=\"T_b751c_row6_col0\" class=\"data row6 col0\" >Peru</td>\n",
       "      <td id=\"T_b751c_row6_col1\" class=\"data row6 col1\" >Latin America and Caribbean</td>\n",
       "      <td id=\"T_b751c_row6_col2\" class=\"data row6 col2\" >64</td>\n",
       "      <td id=\"T_b751c_row6_col3\" class=\"data row6 col3\" >5.743000</td>\n",
       "      <td id=\"T_b751c_row6_col4\" class=\"data row6 col4\" >nan</td>\n",
       "      <td id=\"T_b751c_row6_col5\" class=\"data row6 col5\" >5.839</td>\n",
       "      <td id=\"T_b751c_row6_col6\" class=\"data row6 col6\" >0.99602</td>\n",
       "      <td id=\"T_b751c_row6_col7\" class=\"data row6 col7\" >0.812550</td>\n",
       "      <td id=\"T_b751c_row6_col8\" class=\"data row6 col8\" >0.62994</td>\n",
       "      <td id=\"T_b751c_row6_col9\" class=\"data row6 col9\" >0.37502</td>\n",
       "      <td id=\"T_b751c_row6_col10\" class=\"data row6 col10\" >0.052920</td>\n",
       "      <td id=\"T_b751c_row6_col11\" class=\"data row6 col11\" >0.145270</td>\n",
       "      <td id=\"T_b751c_row6_col12\" class=\"data row6 col12\" >2.731170</td>\n",
       "    </tr>\n",
       "    <tr>\n",
       "      <th id=\"T_b751c_level0_row7\" class=\"row_heading level0 row7\" >69</th>\n",
       "      <td id=\"T_b751c_row7_col0\" class=\"data row7 col0\" >Paraguay</td>\n",
       "      <td id=\"T_b751c_row7_col1\" class=\"data row7 col1\" >Latin America and Caribbean</td>\n",
       "      <td id=\"T_b751c_row7_col2\" class=\"data row7 col2\" >70</td>\n",
       "      <td id=\"T_b751c_row7_col3\" class=\"data row7 col3\" >5.538000</td>\n",
       "      <td id=\"T_b751c_row7_col4\" class=\"data row7 col4\" >5.453000</td>\n",
       "      <td id=\"T_b751c_row7_col5\" class=\"data row7 col5\" >nan</td>\n",
       "      <td id=\"T_b751c_row7_col6\" class=\"data row7 col6\" >0.89373</td>\n",
       "      <td id=\"T_b751c_row7_col7\" class=\"data row7 col7\" >1.111110</td>\n",
       "      <td id=\"T_b751c_row7_col8\" class=\"data row7 col8\" >0.58295</td>\n",
       "      <td id=\"T_b751c_row7_col9\" class=\"data row7 col9\" >0.46235</td>\n",
       "      <td id=\"T_b751c_row7_col10\" class=\"data row7 col10\" >0.073960</td>\n",
       "      <td id=\"T_b751c_row7_col11\" class=\"data row7 col11\" >0.252960</td>\n",
       "      <td id=\"T_b751c_row7_col12\" class=\"data row7 col12\" >2.160910</td>\n",
       "    </tr>\n",
       "    <tr>\n",
       "      <th id=\"T_b751c_level0_row8\" class=\"row_heading level0 row8\" >110</th>\n",
       "      <td id=\"T_b751c_row8_col0\" class=\"data row8 col0\" >Sierra Leone</td>\n",
       "      <td id=\"T_b751c_row8_col1\" class=\"data row8 col1\" >Sub-Saharan Africa</td>\n",
       "      <td id=\"T_b751c_row8_col2\" class=\"data row8 col2\" >111</td>\n",
       "      <td id=\"T_b751c_row8_col3\" class=\"data row8 col3\" >4.635000</td>\n",
       "      <td id=\"T_b751c_row8_col4\" class=\"data row8 col4\" >nan</td>\n",
       "      <td id=\"T_b751c_row8_col5\" class=\"data row8 col5\" >4.765</td>\n",
       "      <td id=\"T_b751c_row8_col6\" class=\"data row8 col6\" >0.36485</td>\n",
       "      <td id=\"T_b751c_row8_col7\" class=\"data row8 col7\" >0.628000</td>\n",
       "      <td id=\"T_b751c_row8_col8\" class=\"data row8 col8\" >0</td>\n",
       "      <td id=\"T_b751c_row8_col9\" class=\"data row8 col9\" >0.30685</td>\n",
       "      <td id=\"T_b751c_row8_col10\" class=\"data row8 col10\" >0.081960</td>\n",
       "      <td id=\"T_b751c_row8_col11\" class=\"data row8 col11\" >0.238970</td>\n",
       "      <td id=\"T_b751c_row8_col12\" class=\"data row8 col12\" >3.014020</td>\n",
       "    </tr>\n",
       "  </tbody>\n",
       "</table>\n"
      ],
      "text/plain": [
       "<pandas.io.formats.style.Styler at 0x1d7a02261e0>"
      ]
     },
     "execution_count": 4,
     "metadata": {},
     "output_type": "execute_result"
    }
   ],
   "source": [
    "# Filter rows with missing values only\n",
    "missing_data_rows = data[data.isnull().any(axis=1)]\n",
    "\n",
    "# Highlight the missing values\n",
    "missing_data_rows.style.highlight_null('darkblue')"
   ]
  },
  {
   "cell_type": "markdown",
   "metadata": {},
   "source": [
    "#### Note: **After seeing the Missing values' locations I desided to drop them, there are lots of ways to compensate them but I won't..**"
   ]
  },
  {
   "cell_type": "markdown",
   "metadata": {},
   "source": [
    "#### Prompt-5: **```in the next cell``` ```1. drop all missing values.``` ```2. change to float the data type of the following features:'Upper Confidence Interval', 'Economy (GDP per Capita)', 'Health (Life Expectancy)', and  'Freedom'```**\n"
   ]
  },
  {
   "cell_type": "code",
   "execution_count": 5,
   "metadata": {},
   "outputs": [
    {
     "data": {
      "text/html": [
       "<div>\n",
       "<style scoped>\n",
       "    .dataframe tbody tr th:only-of-type {\n",
       "        vertical-align: middle;\n",
       "    }\n",
       "\n",
       "    .dataframe tbody tr th {\n",
       "        vertical-align: top;\n",
       "    }\n",
       "\n",
       "    .dataframe thead th {\n",
       "        text-align: right;\n",
       "    }\n",
       "</style>\n",
       "<table border=\"1\" class=\"dataframe\">\n",
       "  <thead>\n",
       "    <tr style=\"text-align: right;\">\n",
       "      <th></th>\n",
       "      <th>Country</th>\n",
       "      <th>Region</th>\n",
       "      <th>Happiness Rank</th>\n",
       "      <th>Happiness Score</th>\n",
       "      <th>Lower Confidence Interval</th>\n",
       "      <th>Upper Confidence Interval</th>\n",
       "      <th>Economy (GDP per Capita)</th>\n",
       "      <th>Family</th>\n",
       "      <th>Health (Life Expectancy)</th>\n",
       "      <th>Freedom</th>\n",
       "      <th>Trust (Government Corruption)</th>\n",
       "      <th>Generosity</th>\n",
       "      <th>Dystopia Residual</th>\n",
       "    </tr>\n",
       "  </thead>\n",
       "  <tbody>\n",
       "    <tr>\n",
       "      <th>0</th>\n",
       "      <td>Denmark</td>\n",
       "      <td>Western Europe</td>\n",
       "      <td>1</td>\n",
       "      <td>7.526</td>\n",
       "      <td>7.460</td>\n",
       "      <td>7.592</td>\n",
       "      <td>1.44178</td>\n",
       "      <td>1.16374</td>\n",
       "      <td>0.79504</td>\n",
       "      <td>0.57941</td>\n",
       "      <td>0.44453</td>\n",
       "      <td>0.36171</td>\n",
       "      <td>2.73939</td>\n",
       "    </tr>\n",
       "    <tr>\n",
       "      <th>1</th>\n",
       "      <td>Switzerland</td>\n",
       "      <td>Western Europe</td>\n",
       "      <td>2</td>\n",
       "      <td>7.509</td>\n",
       "      <td>7.428</td>\n",
       "      <td>7.590</td>\n",
       "      <td>1.52733</td>\n",
       "      <td>1.14524</td>\n",
       "      <td>0.86303</td>\n",
       "      <td>0.58557</td>\n",
       "      <td>0.41203</td>\n",
       "      <td>0.28083</td>\n",
       "      <td>2.69463</td>\n",
       "    </tr>\n",
       "    <tr>\n",
       "      <th>2</th>\n",
       "      <td>Iceland</td>\n",
       "      <td>Western Europe</td>\n",
       "      <td>3</td>\n",
       "      <td>7.501</td>\n",
       "      <td>7.333</td>\n",
       "      <td>7.669</td>\n",
       "      <td>1.42666</td>\n",
       "      <td>1.18326</td>\n",
       "      <td>0.86733</td>\n",
       "      <td>0.56624</td>\n",
       "      <td>0.14975</td>\n",
       "      <td>0.47678</td>\n",
       "      <td>2.83137</td>\n",
       "    </tr>\n",
       "    <tr>\n",
       "      <th>3</th>\n",
       "      <td>Norway</td>\n",
       "      <td>Western Europe</td>\n",
       "      <td>4</td>\n",
       "      <td>7.498</td>\n",
       "      <td>7.421</td>\n",
       "      <td>7.575</td>\n",
       "      <td>1.57744</td>\n",
       "      <td>1.12690</td>\n",
       "      <td>0.79579</td>\n",
       "      <td>0.59609</td>\n",
       "      <td>0.35776</td>\n",
       "      <td>0.37895</td>\n",
       "      <td>2.66465</td>\n",
       "    </tr>\n",
       "    <tr>\n",
       "      <th>4</th>\n",
       "      <td>Finland</td>\n",
       "      <td>Western Europe</td>\n",
       "      <td>5</td>\n",
       "      <td>7.413</td>\n",
       "      <td>7.351</td>\n",
       "      <td>7.475</td>\n",
       "      <td>1.40598</td>\n",
       "      <td>1.13464</td>\n",
       "      <td>0.81091</td>\n",
       "      <td>0.57104</td>\n",
       "      <td>0.41004</td>\n",
       "      <td>0.25492</td>\n",
       "      <td>2.82596</td>\n",
       "    </tr>\n",
       "  </tbody>\n",
       "</table>\n",
       "</div>"
      ],
      "text/plain": [
       "       Country          Region  Happiness Rank  Happiness Score  \\\n",
       "0      Denmark  Western Europe               1            7.526   \n",
       "1  Switzerland  Western Europe               2            7.509   \n",
       "2      Iceland  Western Europe               3            7.501   \n",
       "3       Norway  Western Europe               4            7.498   \n",
       "4      Finland  Western Europe               5            7.413   \n",
       "\n",
       "   Lower Confidence Interval  Upper Confidence Interval  \\\n",
       "0                      7.460                      7.592   \n",
       "1                      7.428                      7.590   \n",
       "2                      7.333                      7.669   \n",
       "3                      7.421                      7.575   \n",
       "4                      7.351                      7.475   \n",
       "\n",
       "   Economy (GDP per Capita)   Family  Health (Life Expectancy)  Freedom  \\\n",
       "0                   1.44178  1.16374                   0.79504  0.57941   \n",
       "1                   1.52733  1.14524                   0.86303  0.58557   \n",
       "2                   1.42666  1.18326                   0.86733  0.56624   \n",
       "3                   1.57744  1.12690                   0.79579  0.59609   \n",
       "4                   1.40598  1.13464                   0.81091  0.57104   \n",
       "\n",
       "   Trust (Government Corruption)  Generosity  Dystopia Residual  \n",
       "0                        0.44453     0.36171            2.73939  \n",
       "1                        0.41203     0.28083            2.69463  \n",
       "2                        0.14975     0.47678            2.83137  \n",
       "3                        0.35776     0.37895            2.66465  \n",
       "4                        0.41004     0.25492            2.82596  "
      ]
     },
     "execution_count": 5,
     "metadata": {},
     "output_type": "execute_result"
    }
   ],
   "source": [
    "\n",
    "# Replace empty strings in specified columns with NaN\n",
    "columns_to_convert = ['Upper Confidence Interval', 'Economy (GDP per Capita)', \n",
    "                      'Health (Life Expectancy)', 'Freedom']\n",
    "data[columns_to_convert] = data[columns_to_convert].replace(' ', np.nan)\n",
    "\n",
    "# Drop all rows with missing values\n",
    "data_cleaned = data.dropna()\n",
    "\n",
    "# Convert specified columns to float data type\n",
    "data_cleaned[columns_to_convert] = data_cleaned[columns_to_convert].astype(float)\n",
    "\n",
    "# Display the first 5 rows to confirm changes\n",
    "data_cleaned.head()"
   ]
  },
  {
   "cell_type": "markdown",
   "metadata": {},
   "source": [
    "#### Repeating Prompt-3: **```in the next cell we need a python code to check  data types of all features and all missing values```**\n"
   ]
  },
  {
   "cell_type": "code",
   "execution_count": 6,
   "metadata": {},
   "outputs": [
    {
     "data": {
      "text/html": [
       "<div>\n",
       "<style scoped>\n",
       "    .dataframe tbody tr th:only-of-type {\n",
       "        vertical-align: middle;\n",
       "    }\n",
       "\n",
       "    .dataframe tbody tr th {\n",
       "        vertical-align: top;\n",
       "    }\n",
       "\n",
       "    .dataframe thead th {\n",
       "        text-align: right;\n",
       "    }\n",
       "</style>\n",
       "<table border=\"1\" class=\"dataframe\">\n",
       "  <thead>\n",
       "    <tr style=\"text-align: right;\">\n",
       "      <th></th>\n",
       "      <th>Data Type</th>\n",
       "      <th>Missing Values</th>\n",
       "      <th>Missing Percentage</th>\n",
       "    </tr>\n",
       "  </thead>\n",
       "  <tbody>\n",
       "    <tr>\n",
       "      <th>Country</th>\n",
       "      <td>object</td>\n",
       "      <td>0</td>\n",
       "      <td>0.0</td>\n",
       "    </tr>\n",
       "    <tr>\n",
       "      <th>Region</th>\n",
       "      <td>object</td>\n",
       "      <td>0</td>\n",
       "      <td>0.0</td>\n",
       "    </tr>\n",
       "    <tr>\n",
       "      <th>Happiness Rank</th>\n",
       "      <td>int64</td>\n",
       "      <td>0</td>\n",
       "      <td>0.0</td>\n",
       "    </tr>\n",
       "    <tr>\n",
       "      <th>Happiness Score</th>\n",
       "      <td>float64</td>\n",
       "      <td>0</td>\n",
       "      <td>0.0</td>\n",
       "    </tr>\n",
       "    <tr>\n",
       "      <th>Lower Confidence Interval</th>\n",
       "      <td>float64</td>\n",
       "      <td>0</td>\n",
       "      <td>0.0</td>\n",
       "    </tr>\n",
       "    <tr>\n",
       "      <th>Upper Confidence Interval</th>\n",
       "      <td>float64</td>\n",
       "      <td>0</td>\n",
       "      <td>0.0</td>\n",
       "    </tr>\n",
       "    <tr>\n",
       "      <th>Economy (GDP per Capita)</th>\n",
       "      <td>float64</td>\n",
       "      <td>0</td>\n",
       "      <td>0.0</td>\n",
       "    </tr>\n",
       "    <tr>\n",
       "      <th>Family</th>\n",
       "      <td>float64</td>\n",
       "      <td>0</td>\n",
       "      <td>0.0</td>\n",
       "    </tr>\n",
       "    <tr>\n",
       "      <th>Health (Life Expectancy)</th>\n",
       "      <td>float64</td>\n",
       "      <td>0</td>\n",
       "      <td>0.0</td>\n",
       "    </tr>\n",
       "    <tr>\n",
       "      <th>Freedom</th>\n",
       "      <td>float64</td>\n",
       "      <td>0</td>\n",
       "      <td>0.0</td>\n",
       "    </tr>\n",
       "    <tr>\n",
       "      <th>Trust (Government Corruption)</th>\n",
       "      <td>float64</td>\n",
       "      <td>0</td>\n",
       "      <td>0.0</td>\n",
       "    </tr>\n",
       "    <tr>\n",
       "      <th>Generosity</th>\n",
       "      <td>float64</td>\n",
       "      <td>0</td>\n",
       "      <td>0.0</td>\n",
       "    </tr>\n",
       "    <tr>\n",
       "      <th>Dystopia Residual</th>\n",
       "      <td>float64</td>\n",
       "      <td>0</td>\n",
       "      <td>0.0</td>\n",
       "    </tr>\n",
       "  </tbody>\n",
       "</table>\n",
       "</div>"
      ],
      "text/plain": [
       "                              Data Type  Missing Values  Missing Percentage\n",
       "Country                          object               0                 0.0\n",
       "Region                           object               0                 0.0\n",
       "Happiness Rank                    int64               0                 0.0\n",
       "Happiness Score                 float64               0                 0.0\n",
       "Lower Confidence Interval       float64               0                 0.0\n",
       "Upper Confidence Interval       float64               0                 0.0\n",
       "Economy (GDP per Capita)        float64               0                 0.0\n",
       "Family                          float64               0                 0.0\n",
       "Health (Life Expectancy)        float64               0                 0.0\n",
       "Freedom                         float64               0                 0.0\n",
       "Trust (Government Corruption)   float64               0                 0.0\n",
       "Generosity                      float64               0                 0.0\n",
       "Dystopia Residual               float64               0                 0.0"
      ]
     },
     "execution_count": 6,
     "metadata": {},
     "output_type": "execute_result"
    }
   ],
   "source": [
    "# Display data types and missing values in a table format\n",
    "data_info = pd.DataFrame({\n",
    "    'Data Type': data_cleaned.dtypes,\n",
    "    'Missing Values': data_cleaned.isnull().sum(),\n",
    "    'Missing Percentage': (data_cleaned.isnull().mean() * 100).round(2)\n",
    "})\n",
    "data_info"
   ]
  },
  {
   "cell_type": "markdown",
   "metadata": {},
   "source": [
    "#### Prompt-6: **```In the next cell show me two colorful bar charts of``` ```1. the top 10 Countries per 'Economy (GDP per Capita)'.``` ```2. the top 10 Countries' per Health (Life Expectancy)'.```**"
   ]
  },
  {
   "cell_type": "code",
   "execution_count": 7,
   "metadata": {},
   "outputs": [
    {
     "data": {
      "image/png": "[encoded data removed]",
      "text/plain": [
       "<Figure size 1400x600 with 2 Axes>"
      ]
     },
     "metadata": {},
     "output_type": "display_data"
    }
   ],
   "source": [
    "# Set the figure size for two subplots\n",
    "plt.figure(figsize=(14, 6))\n",
    "\n",
    "# 1. Bar chart for the top 10 countries per 'Economy (GDP per Capita)'\n",
    "plt.subplot(1, 2, 1)  # 1 row, 2 columns, 1st subplot\n",
    "top_10_economy = data_cleaned.nlargest(10, 'Economy (GDP per Capita)')\n",
    "plt.bar(top_10_economy['Country'], top_10_economy['Economy (GDP per Capita)'], color='skyblue')\n",
    "plt.title('Top 10 Countries by Economy (GDP per Capita)')\n",
    "plt.xlabel('Countries')\n",
    "plt.ylabel('Economy (GDP per Capita)')\n",
    "plt.xticks(rotation=45)\n",
    "\n",
    "# 2. Bar chart for the top 10 countries per 'Health (Life Expectancy)'\n",
    "plt.subplot(1, 2, 2)  # 1 row, 2 columns, 2nd subplot\n",
    "top_10_health = data_cleaned.nlargest(10, 'Health (Life Expectancy)')\n",
    "plt.bar(top_10_health['Country'], top_10_health['Health (Life Expectancy)'], color='lightgreen')\n",
    "plt.title('Top 10 Countries by Health (Life Expectancy)')\n",
    "plt.xlabel('Countries')\n",
    "plt.ylabel('Health (Life Expectancy)')\n",
    "plt.xticks(rotation=45)\n",
    "\n",
    "# Adjust layout for better spacing\n",
    "plt.tight_layout()\n",
    "\n",
    "# Show the plots\n",
    "plt.show()\n"
   ]
  },
  {
   "cell_type": "markdown",
   "metadata": {},
   "source": [
    "#### Updated Prompt-6: **```In the next cell show me two separate and colorful bar charts of``` ```1. the top 10 Countries per 'Economy (GDP per Capita)'.``` ```2. the top 10 Countries' per Health (Life Expectancy)'.``` ```and use plotly.express library, and show labels please.```**"
   ]
  },
  {
   "cell_type": "code",
   "execution_count": 8,
   "metadata": {},
   "outputs": [
    {
     "data": {
      "application/vnd.plotly.v1+json": {
       "config": {
        "plotlyServerURL": "https://plot.ly"
       },
       "data": [
        {
         "alignmentgroup": "True",
         "hovertemplate": "Country=%{x}<br>Economy (GDP per Capita)=%{marker.color}<extra></extra>",
         "legendgroup": "",
         "marker": {
          "color": [
           1.82427,
           1.69752,
           1.64555,
           1.61714,
           1.57744,
           1.57352,
           1.52733,
           1.5107,
           1.48953,
           1.48341
          ],
          "coloraxis": "coloraxis",
          "pattern": {
           "shape": ""
          }
         },
         "name": "",
         "offsetgroup": "",
         "orientation": "v",
         "showlegend": false,
         "text": [
          1.82427,
          1.69752,
          1.64555,
          1.61714,
          1.57744,
          1.57352,
          1.52733,
          1.5107,
          1.48953,
          1.48341
         ],
         "textposition": "outside",
         "texttemplate": "%{text:.2f}",
         "type": "bar",
         "x": [
          "Qatar",
          "Luxembourg",
          "Singapore",
          "Kuwait",
          "Norway",
          "United Arab Emirates",
          "Switzerland",
          "Hong Kong",
          "Saudi Arabia",
          "Ireland"
         ],
         "xaxis": "x",
         "y": [
          1.82427,
          1.69752,
          1.64555,
          1.61714,
          1.57744,
          1.57352,
          1.52733,
          1.5107,
          1.48953,
          1.48341
         ],
         "yaxis": "y"
        }
       ],
       "layout": {
        "barmode": "relative",
        "coloraxis": {
         "colorbar": {
          "title": {
           "text": "Economy (GDP per Capita)"
          }
         },
         "colorscale": [
          [
           0,
           "#0d0887"
          ],
          [
           0.1111111111111111,
           "#46039f"
          ],
          [
           0.2222222222222222,
           "#7201a8"
          ],
          [
           0.3333333333333333,
           "#9c179e"
          ],
          [
           0.4444444444444444,
           "#bd3786"
          ],
          [
           0.5555555555555556,
           "#d8576b"
          ],
          [
           0.6666666666666666,
           "#ed7953"
          ],
          [
           0.7777777777777778,
           "#fb9f3a"
          ],
          [
           0.8888888888888888,
           "#fdca26"
          ],
          [
           1,
           "#f0f921"
          ]
         ]
        },
        "legend": {
         "tracegroupgap": 0
        },
        "template": {
         "data": {
          "bar": [
           {
            "error_x": {
             "color": "#2a3f5f"
            },
            "error_y": {
             "color": "#2a3f5f"
            },
            "marker": {
             "line": {
              "color": "#E5ECF6",
              "width": 0.5
             },
             "pattern": {
              "fillmode": "overlay",
              "size": 10,
              "solidity": 0.2
             }
            },
            "type": "bar"
           }
          ],
          "barpolar": [
           {
            "marker": {
             "line": {
              "color": "#E5ECF6",
              "width": 0.5
             },
             "pattern": {
              "fillmode": "overlay",
              "size": 10,
              "solidity": 0.2
             }
            },
            "type": "barpolar"
           }
          ],
          "carpet": [
           {
            "aaxis": {
             "endlinecolor": "#2a3f5f",
             "gridcolor": "white",
             "linecolor": "white",
             "minorgridcolor": "white",
             "startlinecolor": "#2a3f5f"
            },
            "baxis": {
             "endlinecolor": "#2a3f5f",
             "gridcolor": "white",
             "linecolor": "white",
             "minorgridcolor": "white",
             "startlinecolor": "#2a3f5f"
            },
            "type": "carpet"
           }
          ],
          "choropleth": [
           {
            "colorbar": {
             "outlinewidth": 0,
             "ticks": ""
            },
            "type": "choropleth"
           }
          ],
          "contour": [
           {
            "colorbar": {
             "outlinewidth": 0,
             "ticks": ""
            },
            "colorscale": [
             [
              0,
              "#0d0887"
             ],
             [
              0.1111111111111111,
              "#46039f"
             ],
             [
              0.2222222222222222,
              "#7201a8"
             ],
             [
              0.3333333333333333,
              "#9c179e"
             ],
             [
              0.4444444444444444,
              "#bd3786"
             ],
             [
              0.5555555555555556,
              "#d8576b"
             ],
             [
              0.6666666666666666,
              "#ed7953"
             ],
             [
              0.7777777777777778,
              "#fb9f3a"
             ],
             [
              0.8888888888888888,
              "#fdca26"
             ],
             [
              1,
              "#f0f921"
             ]
            ],
            "type": "contour"
           }
          ],
          "contourcarpet": [
           {
            "colorbar": {
             "outlinewidth": 0,
             "ticks": ""
            },
            "type": "contourcarpet"
           }
          ],
          "heatmap": [
           {
            "colorbar": {
             "outlinewidth": 0,
             "ticks": ""
            },
            "colorscale": [
             [
              0,
              "#0d0887"
             ],
             [
              0.1111111111111111,
              "#46039f"
             ],
             [
              0.2222222222222222,
              "#7201a8"
             ],
             [
              0.3333333333333333,
              "#9c179e"
             ],
             [
              0.4444444444444444,
              "#bd3786"
             ],
             [
              0.5555555555555556,
              "#d8576b"
             ],
             [
              0.6666666666666666,
              "#ed7953"
             ],
             [
              0.7777777777777778,
              "#fb9f3a"
             ],
             [
              0.8888888888888888,
              "#fdca26"
             ],
             [
              1,
              "#f0f921"
             ]
            ],
            "type": "heatmap"
           }
          ],
          "heatmapgl": [
           {
            "colorbar": {
             "outlinewidth": 0,
             "ticks": ""
            },
            "colorscale": [
             [
              0,
              "#0d0887"
             ],
             [
              0.1111111111111111,
              "#46039f"
             ],
             [
              0.2222222222222222,
              "#7201a8"
             ],
             [
              0.3333333333333333,
              "#9c179e"
             ],
             [
              0.4444444444444444,
              "#bd3786"
             ],
             [
              0.5555555555555556,
              "#d8576b"
             ],
             [
              0.6666666666666666,
              "#ed7953"
             ],
             [
              0.7777777777777778,
              "#fb9f3a"
             ],
             [
              0.8888888888888888,
              "#fdca26"
             ],
             [
              1,
              "#f0f921"
             ]
            ],
            "type": "heatmapgl"
           }
          ],
          "histogram": [
           {
            "marker": {
             "pattern": {
              "fillmode": "overlay",
              "size": 10,
              "solidity": 0.2
             }
            },
            "type": "histogram"
           }
          ],
          "histogram2d": [
           {
            "colorbar": {
             "outlinewidth": 0,
             "ticks": ""
            },
            "colorscale": [
             [
              0,
              "#0d0887"
             ],
             [
              0.1111111111111111,
              "#46039f"
             ],
             [
              0.2222222222222222,
              "#7201a8"
             ],
             [
              0.3333333333333333,
              "#9c179e"
             ],
             [
              0.4444444444444444,
              "#bd3786"
             ],
             [
              0.5555555555555556,
              "#d8576b"
             ],
             [
              0.6666666666666666,
              "#ed7953"
             ],
             [
              0.7777777777777778,
              "#fb9f3a"
             ],
             [
              0.8888888888888888,
              "#fdca26"
             ],
             [
              1,
              "#f0f921"
             ]
            ],
            "type": "histogram2d"
           }
          ],
          "histogram2dcontour": [
           {
            "colorbar": {
             "outlinewidth": 0,
             "ticks": ""
            },
            "colorscale": [
             [
              0,
              "#0d0887"
             ],
             [
              0.1111111111111111,
              "#46039f"
             ],
             [
              0.2222222222222222,
              "#7201a8"
             ],
             [
              0.3333333333333333,
              "#9c179e"
             ],
             [
              0.4444444444444444,
              "#bd3786"
             ],
             [
              0.5555555555555556,
              "#d8576b"
             ],
             [
              0.6666666666666666,
              "#ed7953"
             ],
             [
              0.7777777777777778,
              "#fb9f3a"
             ],
             [
              0.8888888888888888,
              "#fdca26"
             ],
             [
              1,
              "#f0f921"
             ]
            ],
            "type": "histogram2dcontour"
           }
          ],
          "mesh3d": [
           {
            "colorbar": {
             "outlinewidth": 0,
             "ticks": ""
            },
            "type": "mesh3d"
           }
          ],
          "parcoords": [
           {
            "line": {
             "colorbar": {
              "outlinewidth": 0,
              "ticks": ""
             }
            },
            "type": "parcoords"
           }
          ],
          "pie": [
           {
            "automargin": true,
            "type": "pie"
           }
          ],
          "scatter": [
           {
            "fillpattern": {
             "fillmode": "overlay",
             "size": 10,
             "solidity": 0.2
            },
            "type": "scatter"
           }
          ],
          "scatter3d": [
           {
            "line": {
             "colorbar": {
              "outlinewidth": 0,
              "ticks": ""
             }
            },
            "marker": {
             "colorbar": {
              "outlinewidth": 0,
              "ticks": ""
             }
            },
            "type": "scatter3d"
           }
          ],
          "scattercarpet": [
           {
            "marker": {
             "colorbar": {
              "outlinewidth": 0,
              "ticks": ""
             }
            },
            "type": "scattercarpet"
           }
          ],
          "scattergeo": [
           {
            "marker": {
             "colorbar": {
              "outlinewidth": 0,
              "ticks": ""
             }
            },
            "type": "scattergeo"
           }
          ],
          "scattergl": [
           {
            "marker": {
             "colorbar": {
              "outlinewidth": 0,
              "ticks": ""
             }
            },
            "type": "scattergl"
           }
          ],
          "scattermapbox": [
           {
            "marker": {
             "colorbar": {
              "outlinewidth": 0,
              "ticks": ""
             }
            },
            "type": "scattermapbox"
           }
          ],
          "scatterpolar": [
           {
            "marker": {
             "colorbar": {
              "outlinewidth": 0,
              "ticks": ""
             }
            },
            "type": "scatterpolar"
           }
          ],
          "scatterpolargl": [
           {
            "marker": {
             "colorbar": {
              "outlinewidth": 0,
              "ticks": ""
             }
            },
            "type": "scatterpolargl"
           }
          ],
          "scatterternary": [
           {
            "marker": {
             "colorbar": {
              "outlinewidth": 0,
              "ticks": ""
             }
            },
            "type": "scatterternary"
           }
          ],
          "surface": [
           {
            "colorbar": {
             "outlinewidth": 0,
             "ticks": ""
            },
            "colorscale": [
             [
              0,
              "#0d0887"
             ],
             [
              0.1111111111111111,
              "#46039f"
             ],
             [
              0.2222222222222222,
              "#7201a8"
             ],
             [
              0.3333333333333333,
              "#9c179e"
             ],
             [
              0.4444444444444444,
              "#bd3786"
             ],
             [
              0.5555555555555556,
              "#d8576b"
             ],
             [
              0.6666666666666666,
              "#ed7953"
             ],
             [
              0.7777777777777778,
              "#fb9f3a"
             ],
             [
              0.8888888888888888,
              "#fdca26"
             ],
             [
              1,
              "#f0f921"
             ]
            ],
            "type": "surface"
           }
          ],
          "table": [
           {
            "cells": {
             "fill": {
              "color": "#EBF0F8"
             },
             "line": {
              "color": "white"
             }
            },
            "header": {
             "fill": {
              "color": "#C8D4E3"
             },
             "line": {
              "color": "white"
             }
            },
            "type": "table"
           }
          ]
         },
         "layout": {
          "annotationdefaults": {
           "arrowcolor": "#2a3f5f",
           "arrowhead": 0,
           "arrowwidth": 1
          },
          "autotypenumbers": "strict",
          "coloraxis": {
           "colorbar": {
            "outlinewidth": 0,
            "ticks": ""
           }
          },
          "colorscale": {
           "diverging": [
            [
             0,
             "#8e0152"
            ],
            [
             0.1,
             "#c51b7d"
            ],
            [
             0.2,
             "#de77ae"
            ],
            [
             0.3,
             "#f1b6da"
            ],
            [
             0.4,
             "#fde0ef"
            ],
            [
             0.5,
             "#f7f7f7"
            ],
            [
             0.6,
             "#e6f5d0"
            ],
            [
             0.7,
             "#b8e186"
            ],
            [
             0.8,
             "#7fbc41"
            ],
            [
             0.9,
             "#4d9221"
            ],
            [
             1,
             "#276419"
            ]
           ],
           "sequential": [
            [
             0,
             "#0d0887"
            ],
            [
             0.1111111111111111,
             "#46039f"
            ],
            [
             0.2222222222222222,
             "#7201a8"
            ],
            [
             0.3333333333333333,
             "#9c179e"
            ],
            [
             0.4444444444444444,
             "#bd3786"
            ],
            [
             0.5555555555555556,
             "#d8576b"
            ],
            [
             0.6666666666666666,
             "#ed7953"
            ],
            [
             0.7777777777777778,
             "#fb9f3a"
            ],
            [
             0.8888888888888888,
             "#fdca26"
            ],
            [
             1,
             "#f0f921"
            ]
           ],
           "sequentialminus": [
            [
             0,
             "#0d0887"
            ],
            [
             0.1111111111111111,
             "#46039f"
            ],
            [
             0.2222222222222222,
             "#7201a8"
            ],
            [
             0.3333333333333333,
             "#9c179e"
            ],
            [
             0.4444444444444444,
             "#bd3786"
            ],
            [
             0.5555555555555556,
             "#d8576b"
            ],
            [
             0.6666666666666666,
             "#ed7953"
            ],
            [
             0.7777777777777778,
             "#fb9f3a"
            ],
            [
             0.8888888888888888,
             "#fdca26"
            ],
            [
             1,
             "#f0f921"
            ]
           ]
          },
          "colorway": [
           "#636efa",
           "#EF553B",
           "#00cc96",
           "#ab63fa",
           "#FFA15A",
           "#19d3f3",
           "#FF6692",
           "#B6E880",
           "#FF97FF",
           "#FECB52"
          ],
          "font": {
           "color": "#2a3f5f"
          },
          "geo": {
           "bgcolor": "white",
           "lakecolor": "white",
           "landcolor": "#E5ECF6",
           "showlakes": true,
           "showland": true,
           "subunitcolor": "white"
          },
          "hoverlabel": {
           "align": "left"
          },
          "hovermode": "closest",
          "mapbox": {
           "style": "light"
          },
          "paper_bgcolor": "white",
          "plot_bgcolor": "#E5ECF6",
          "polar": {
           "angularaxis": {
            "gridcolor": "white",
            "linecolor": "white",
            "ticks": ""
           },
           "bgcolor": "#E5ECF6",
           "radialaxis": {
            "gridcolor": "white",
            "linecolor": "white",
            "ticks": ""
           }
          },
          "scene": {
           "xaxis": {
            "backgroundcolor": "#E5ECF6",
            "gridcolor": "white",
            "gridwidth": 2,
            "linecolor": "white",
            "showbackground": true,
            "ticks": "",
            "zerolinecolor": "white"
           },
           "yaxis": {
            "backgroundcolor": "#E5ECF6",
            "gridcolor": "white",
            "gridwidth": 2,
            "linecolor": "white",
            "showbackground": true,
            "ticks": "",
            "zerolinecolor": "white"
           },
           "zaxis": {
            "backgroundcolor": "#E5ECF6",
            "gridcolor": "white",
            "gridwidth": 2,
            "linecolor": "white",
            "showbackground": true,
            "ticks": "",
            "zerolinecolor": "white"
           }
          },
          "shapedefaults": {
           "line": {
            "color": "#2a3f5f"
           }
          },
          "ternary": {
           "aaxis": {
            "gridcolor": "white",
            "linecolor": "white",
            "ticks": ""
           },
           "baxis": {
            "gridcolor": "white",
            "linecolor": "white",
            "ticks": ""
           },
           "bgcolor": "#E5ECF6",
           "caxis": {
            "gridcolor": "white",
            "linecolor": "white",
            "ticks": ""
           }
          },
          "title": {
           "x": 0.05
          },
          "xaxis": {
           "automargin": true,
           "gridcolor": "white",
           "linecolor": "white",
           "ticks": "",
           "title": {
            "standoff": 15
           },
           "zerolinecolor": "white",
           "zerolinewidth": 2
          },
          "yaxis": {
           "automargin": true,
           "gridcolor": "white",
           "linecolor": "white",
           "ticks": "",
           "title": {
            "standoff": 15
           },
           "zerolinecolor": "white",
           "zerolinewidth": 2
          }
         }
        },
        "title": {
         "text": "Top 10 Countries by Economy (GDP per Capita)"
        },
        "xaxis": {
         "anchor": "y",
         "domain": [
          0,
          1
         ],
         "title": {
          "text": "Country"
         }
        },
        "yaxis": {
         "anchor": "x",
         "domain": [
          0,
          1
         ],
         "title": {
          "text": "Economy (GDP per Capita)"
         }
        }
       }
      }
     },
     "metadata": {},
     "output_type": "display_data"
    },
    {
     "data": {
      "application/vnd.plotly.v1+json": {
       "config": {
        "plotlyServerURL": "https://plot.ly"
       },
       "data": [
        {
         "alignmentgroup": "True",
         "hovertemplate": "Country=%{x}<br>Health (Life Expectancy)=%{marker.color}<extra></extra>",
         "legendgroup": "",
         "marker": {
          "color": [
           0.95277,
           0.94719,
           0.91491,
           0.88645,
           0.86733,
           0.86303,
           0.8512,
           0.85102,
           0.84917,
           0.84542
          ],
          "coloraxis": "coloraxis",
          "pattern": {
           "shape": ""
          }
         },
         "name": "",
         "offsetgroup": "",
         "orientation": "v",
         "showlegend": false,
         "text": [
          0.95277,
          0.94719,
          0.91491,
          0.88645,
          0.86733,
          0.86303,
          0.8512,
          0.85102,
          0.84917,
          0.84542
         ],
         "textposition": "outside",
         "texttemplate": "%{text:.2f}",
         "type": "bar",
         "x": [
          "Hong Kong",
          "Singapore",
          "Japan",
          "South Korea",
          "Iceland",
          "Switzerland",
          "Australia",
          "Italy",
          "Israel",
          "Luxembourg"
         ],
         "xaxis": "x",
         "y": [
          0.95277,
          0.94719,
          0.91491,
          0.88645,
          0.86733,
          0.86303,
          0.8512,
          0.85102,
          0.84917,
          0.84542
         ],
         "yaxis": "y"
        }
       ],
       "layout": {
        "barmode": "relative",
        "coloraxis": {
         "colorbar": {
          "title": {
           "text": "Health (Life Expectancy)"
          }
         },
         "colorscale": [
          [
           0,
           "#440154"
          ],
          [
           0.1111111111111111,
           "#482878"
          ],
          [
           0.2222222222222222,
           "#3e4989"
          ],
          [
           0.3333333333333333,
           "#31688e"
          ],
          [
           0.4444444444444444,
           "#26828e"
          ],
          [
           0.5555555555555556,
           "#1f9e89"
          ],
          [
           0.6666666666666666,
           "#35b779"
          ],
          [
           0.7777777777777778,
           "#6ece58"
          ],
          [
           0.8888888888888888,
           "#b5de2b"
          ],
          [
           1,
           "#fde725"
          ]
         ]
        },
        "legend": {
         "tracegroupgap": 0
        },
        "template": {
         "data": {
          "bar": [
           {
            "error_x": {
             "color": "#2a3f5f"
            },
            "error_y": {
             "color": "#2a3f5f"
            },
            "marker": {
             "line": {
              "color": "#E5ECF6",
              "width": 0.5
             },
             "pattern": {
              "fillmode": "overlay",
              "size": 10,
              "solidity": 0.2
             }
            },
            "type": "bar"
           }
          ],
          "barpolar": [
           {
            "marker": {
             "line": {
              "color": "#E5ECF6",
              "width": 0.5
             },
             "pattern": {
              "fillmode": "overlay",
              "size": 10,
              "solidity": 0.2
             }
            },
            "type": "barpolar"
           }
          ],
          "carpet": [
           {
            "aaxis": {
             "endlinecolor": "#2a3f5f",
             "gridcolor": "white",
             "linecolor": "white",
             "minorgridcolor": "white",
             "startlinecolor": "#2a3f5f"
            },
            "baxis": {
             "endlinecolor": "#2a3f5f",
             "gridcolor": "white",
             "linecolor": "white",
             "minorgridcolor": "white",
             "startlinecolor": "#2a3f5f"
            },
            "type": "carpet"
           }
          ],
          "choropleth": [
           {
            "colorbar": {
             "outlinewidth": 0,
             "ticks": ""
            },
            "type": "choropleth"
           }
          ],
          "contour": [
           {
            "colorbar": {
             "outlinewidth": 0,
             "ticks": ""
            },
            "colorscale": [
             [
              0,
              "#0d0887"
             ],
             [
              0.1111111111111111,
              "#46039f"
             ],
             [
              0.2222222222222222,
              "#7201a8"
             ],
             [
              0.3333333333333333,
              "#9c179e"
             ],
             [
              0.4444444444444444,
              "#bd3786"
             ],
             [
              0.5555555555555556,
              "#d8576b"
             ],
             [
              0.6666666666666666,
              "#ed7953"
             ],
             [
              0.7777777777777778,
              "#fb9f3a"
             ],
             [
              0.8888888888888888,
              "#fdca26"
             ],
             [
              1,
              "#f0f921"
             ]
            ],
            "type": "contour"
           }
          ],
          "contourcarpet": [
           {
            "colorbar": {
             "outlinewidth": 0,
             "ticks": ""
            },
            "type": "contourcarpet"
           }
          ],
          "heatmap": [
           {
            "colorbar": {
             "outlinewidth": 0,
             "ticks": ""
            },
            "colorscale": [
             [
              0,
              "#0d0887"
             ],
             [
              0.1111111111111111,
              "#46039f"
             ],
             [
              0.2222222222222222,
              "#7201a8"
             ],
             [
              0.3333333333333333,
              "#9c179e"
             ],
             [
              0.4444444444444444,
              "#bd3786"
             ],
             [
              0.5555555555555556,
              "#d8576b"
             ],
             [
              0.6666666666666666,
              "#ed7953"
             ],
             [
              0.7777777777777778,
              "#fb9f3a"
             ],
             [
              0.8888888888888888,
              "#fdca26"
             ],
             [
              1,
              "#f0f921"
             ]
            ],
            "type": "heatmap"
           }
          ],
          "heatmapgl": [
           {
            "colorbar": {
             "outlinewidth": 0,
             "ticks": ""
            },
            "colorscale": [
             [
              0,
              "#0d0887"
             ],
             [
              0.1111111111111111,
              "#46039f"
             ],
             [
              0.2222222222222222,
              "#7201a8"
             ],
             [
              0.3333333333333333,
              "#9c179e"
             ],
             [
              0.4444444444444444,
              "#bd3786"
             ],
             [
              0.5555555555555556,
              "#d8576b"
             ],
             [
              0.6666666666666666,
              "#ed7953"
             ],
             [
              0.7777777777777778,
              "#fb9f3a"
             ],
             [
              0.8888888888888888,
              "#fdca26"
             ],
             [
              1,
              "#f0f921"
             ]
            ],
            "type": "heatmapgl"
           }
          ],
          "histogram": [
           {
            "marker": {
             "pattern": {
              "fillmode": "overlay",
              "size": 10,
              "solidity": 0.2
             }
            },
            "type": "histogram"
           }
          ],
          "histogram2d": [
           {
            "colorbar": {
             "outlinewidth": 0,
             "ticks": ""
            },
            "colorscale": [
             [
              0,
              "#0d0887"
             ],
             [
              0.1111111111111111,
              "#46039f"
             ],
             [
              0.2222222222222222,
              "#7201a8"
             ],
             [
              0.3333333333333333,
              "#9c179e"
             ],
             [
              0.4444444444444444,
              "#bd3786"
             ],
             [
              0.5555555555555556,
              "#d8576b"
             ],
             [
              0.6666666666666666,
              "#ed7953"
             ],
             [
              0.7777777777777778,
              "#fb9f3a"
             ],
             [
              0.8888888888888888,
              "#fdca26"
             ],
             [
              1,
              "#f0f921"
             ]
            ],
            "type": "histogram2d"
           }
          ],
          "histogram2dcontour": [
           {
            "colorbar": {
             "outlinewidth": 0,
             "ticks": ""
            },
            "colorscale": [
             [
              0,
              "#0d0887"
             ],
             [
              0.1111111111111111,
              "#46039f"
             ],
             [
              0.2222222222222222,
              "#7201a8"
             ],
             [
              0.3333333333333333,
              "#9c179e"
             ],
             [
              0.4444444444444444,
              "#bd3786"
             ],
             [
              0.5555555555555556,
              "#d8576b"
             ],
             [
              0.6666666666666666,
              "#ed7953"
             ],
             [
              0.7777777777777778,
              "#fb9f3a"
             ],
             [
              0.8888888888888888,
              "#fdca26"
             ],
             [
              1,
              "#f0f921"
             ]
            ],
            "type": "histogram2dcontour"
           }
          ],
          "mesh3d": [
           {
            "colorbar": {
             "outlinewidth": 0,
             "ticks": ""
            },
            "type": "mesh3d"
           }
          ],
          "parcoords": [
           {
            "line": {
             "colorbar": {
              "outlinewidth": 0,
              "ticks": ""
             }
            },
            "type": "parcoords"
           }
          ],
          "pie": [
           {
            "automargin": true,
            "type": "pie"
           }
          ],
          "scatter": [
           {
            "fillpattern": {
             "fillmode": "overlay",
             "size": 10,
             "solidity": 0.2
            },
            "type": "scatter"
           }
          ],
          "scatter3d": [
           {
            "line": {
             "colorbar": {
              "outlinewidth": 0,
              "ticks": ""
             }
            },
            "marker": {
             "colorbar": {
              "outlinewidth": 0,
              "ticks": ""
             }
            },
            "type": "scatter3d"
           }
          ],
          "scattercarpet": [
           {
            "marker": {
             "colorbar": {
              "outlinewidth": 0,
              "ticks": ""
             }
            },
            "type": "scattercarpet"
           }
          ],
          "scattergeo": [
           {
            "marker": {
             "colorbar": {
              "outlinewidth": 0,
              "ticks": ""
             }
            },
            "type": "scattergeo"
           }
          ],
          "scattergl": [
           {
            "marker": {
             "colorbar": {
              "outlinewidth": 0,
              "ticks": ""
             }
            },
            "type": "scattergl"
           }
          ],
          "scattermapbox": [
           {
            "marker": {
             "colorbar": {
              "outlinewidth": 0,
              "ticks": ""
             }
            },
            "type": "scattermapbox"
           }
          ],
          "scatterpolar": [
           {
            "marker": {
             "colorbar": {
              "outlinewidth": 0,
              "ticks": ""
             }
            },
            "type": "scatterpolar"
           }
          ],
          "scatterpolargl": [
           {
            "marker": {
             "colorbar": {
              "outlinewidth": 0,
              "ticks": ""
             }
            },
            "type": "scatterpolargl"
           }
          ],
          "scatterternary": [
           {
            "marker": {
             "colorbar": {
              "outlinewidth": 0,
              "ticks": ""
             }
            },
            "type": "scatterternary"
           }
          ],
          "surface": [
           {
            "colorbar": {
             "outlinewidth": 0,
             "ticks": ""
            },
            "colorscale": [
             [
              0,
              "#0d0887"
             ],
             [
              0.1111111111111111,
              "#46039f"
             ],
             [
              0.2222222222222222,
              "#7201a8"
             ],
             [
              0.3333333333333333,
              "#9c179e"
             ],
             [
              0.4444444444444444,
              "#bd3786"
             ],
             [
              0.5555555555555556,
              "#d8576b"
             ],
             [
              0.6666666666666666,
              "#ed7953"
             ],
             [
              0.7777777777777778,
              "#fb9f3a"
             ],
             [
              0.8888888888888888,
              "#fdca26"
             ],
             [
              1,
              "#f0f921"
             ]
            ],
            "type": "surface"
           }
          ],
          "table": [
           {
            "cells": {
             "fill": {
              "color": "#EBF0F8"
             },
             "line": {
              "color": "white"
             }
            },
            "header": {
             "fill": {
              "color": "#C8D4E3"
             },
             "line": {
              "color": "white"
             }
            },
            "type": "table"
           }
          ]
         },
         "layout": {
          "annotationdefaults": {
           "arrowcolor": "#2a3f5f",
           "arrowhead": 0,
           "arrowwidth": 1
          },
          "autotypenumbers": "strict",
          "coloraxis": {
           "colorbar": {
            "outlinewidth": 0,
            "ticks": ""
           }
          },
          "colorscale": {
           "diverging": [
            [
             0,
             "#8e0152"
            ],
            [
             0.1,
             "#c51b7d"
            ],
            [
             0.2,
             "#de77ae"
            ],
            [
             0.3,
             "#f1b6da"
            ],
            [
             0.4,
             "#fde0ef"
            ],
            [
             0.5,
             "#f7f7f7"
            ],
            [
             0.6,
             "#e6f5d0"
            ],
            [
             0.7,
             "#b8e186"
            ],
            [
             0.8,
             "#7fbc41"
            ],
            [
             0.9,
             "#4d9221"
            ],
            [
             1,
             "#276419"
            ]
           ],
           "sequential": [
            [
             0,
             "#0d0887"
            ],
            [
             0.1111111111111111,
             "#46039f"
            ],
            [
             0.2222222222222222,
             "#7201a8"
            ],
            [
             0.3333333333333333,
             "#9c179e"
            ],
            [
             0.4444444444444444,
             "#bd3786"
            ],
            [
             0.5555555555555556,
             "#d8576b"
            ],
            [
             0.6666666666666666,
             "#ed7953"
            ],
            [
             0.7777777777777778,
             "#fb9f3a"
            ],
            [
             0.8888888888888888,
             "#fdca26"
            ],
            [
             1,
             "#f0f921"
            ]
           ],
           "sequentialminus": [
            [
             0,
             "#0d0887"
            ],
            [
             0.1111111111111111,
             "#46039f"
            ],
            [
             0.2222222222222222,
             "#7201a8"
            ],
            [
             0.3333333333333333,
             "#9c179e"
            ],
            [
             0.4444444444444444,
             "#bd3786"
            ],
            [
             0.5555555555555556,
             "#d8576b"
            ],
            [
             0.6666666666666666,
             "#ed7953"
            ],
            [
             0.7777777777777778,
             "#fb9f3a"
            ],
            [
             0.8888888888888888,
             "#fdca26"
            ],
            [
             1,
             "#f0f921"
            ]
           ]
          },
          "colorway": [
           "#636efa",
           "#EF553B",
           "#00cc96",
           "#ab63fa",
           "#FFA15A",
           "#19d3f3",
           "#FF6692",
           "#B6E880",
           "#FF97FF",
           "#FECB52"
          ],
          "font": {
           "color": "#2a3f5f"
          },
          "geo": {
           "bgcolor": "white",
           "lakecolor": "white",
           "landcolor": "#E5ECF6",
           "showlakes": true,
           "showland": true,
           "subunitcolor": "white"
          },
          "hoverlabel": {
           "align": "left"
          },
          "hovermode": "closest",
          "mapbox": {
           "style": "light"
          },
          "paper_bgcolor": "white",
          "plot_bgcolor": "#E5ECF6",
          "polar": {
           "angularaxis": {
            "gridcolor": "white",
            "linecolor": "white",
            "ticks": ""
           },
           "bgcolor": "#E5ECF6",
           "radialaxis": {
            "gridcolor": "white",
            "linecolor": "white",
            "ticks": ""
           }
          },
          "scene": {
           "xaxis": {
            "backgroundcolor": "#E5ECF6",
            "gridcolor": "white",
            "gridwidth": 2,
            "linecolor": "white",
            "showbackground": true,
            "ticks": "",
            "zerolinecolor": "white"
           },
           "yaxis": {
            "backgroundcolor": "#E5ECF6",
            "gridcolor": "white",
            "gridwidth": 2,
            "linecolor": "white",
            "showbackground": true,
            "ticks": "",
            "zerolinecolor": "white"
           },
           "zaxis": {
            "backgroundcolor": "#E5ECF6",
            "gridcolor": "white",
            "gridwidth": 2,
            "linecolor": "white",
            "showbackground": true,
            "ticks": "",
            "zerolinecolor": "white"
           }
          },
          "shapedefaults": {
           "line": {
            "color": "#2a3f5f"
           }
          },
          "ternary": {
           "aaxis": {
            "gridcolor": "white",
            "linecolor": "white",
            "ticks": ""
           },
           "baxis": {
            "gridcolor": "white",
            "linecolor": "white",
            "ticks": ""
           },
           "bgcolor": "#E5ECF6",
           "caxis": {
            "gridcolor": "white",
            "linecolor": "white",
            "ticks": ""
           }
          },
          "title": {
           "x": 0.05
          },
          "xaxis": {
           "automargin": true,
           "gridcolor": "white",
           "linecolor": "white",
           "ticks": "",
           "title": {
            "standoff": 15
           },
           "zerolinecolor": "white",
           "zerolinewidth": 2
          },
          "yaxis": {
           "automargin": true,
           "gridcolor": "white",
           "linecolor": "white",
           "ticks": "",
           "title": {
            "standoff": 15
           },
           "zerolinecolor": "white",
           "zerolinewidth": 2
          }
         }
        },
        "title": {
         "text": "Top 10 Countries by Health (Life Expectancy)"
        },
        "xaxis": {
         "anchor": "y",
         "domain": [
          0,
          1
         ],
         "title": {
          "text": "Country"
         }
        },
        "yaxis": {
         "anchor": "x",
         "domain": [
          0,
          1
         ],
         "title": {
          "text": "Health (Life Expectancy)"
         }
        }
       }
      }
     },
     "metadata": {},
     "output_type": "display_data"
    }
   ],
   "source": [
    "# Top 10 countries based on 'Economy (GDP per Capita)'\n",
    "top_10_economy = data_cleaned.nlargest(10, 'Economy (GDP per Capita)')\n",
    "\n",
    "# Bar chart for 'Economy (GDP per Capita)'\n",
    "fig_economy = px.bar(\n",
    "    top_10_economy,\n",
    "    x='Country',\n",
    "    y='Economy (GDP per Capita)',\n",
    "    title='Top 10 Countries by Economy (GDP per Capita)',\n",
    "    text='Economy (GDP per Capita)',\n",
    "    color='Economy (GDP per Capita)',\n",
    "    color_continuous_scale=px.colors.sequential.Plasma\n",
    ")\n",
    "\n",
    "# Update the layout to show the text on the bars\n",
    "fig_economy.update_traces(texttemplate='%{text:.2f}', textposition='outside')  # Format text\n",
    "\n",
    "# Show the Economy bar chart\n",
    "fig_economy.show()\n",
    "\n",
    "# Top 10 countries based on 'Health (Life Expectancy)'\n",
    "top_10_health = data_cleaned.nlargest(10, 'Health (Life Expectancy)')\n",
    "\n",
    "# Bar chart for 'Health (Life Expectancy)'\n",
    "fig_health = px.bar(\n",
    "    top_10_health,\n",
    "    x='Country',\n",
    "    y='Health (Life Expectancy)',\n",
    "    title='Top 10 Countries by Health (Life Expectancy)',\n",
    "    text='Health (Life Expectancy)',\n",
    "    color='Health (Life Expectancy)',\n",
    "    color_continuous_scale=px.colors.sequential.Viridis\n",
    ")\n",
    "\n",
    "# Update the layout to show the text on the bars\n",
    "fig_health.update_traces(texttemplate='%{text:.2f}', textposition='outside')  # Format text\n",
    "\n",
    "# Show the Health bar chart\n",
    "fig_health.show()"
   ]
  },
  {
   "cell_type": "markdown",
   "metadata": {},
   "source": [
    "#### Prompt-7: **```In the next cell show me the correlation between``` ```the 'Economy (GDP per Capita)', 'Family', 'Health (Life Expectancy)', 'Freedom', 'Trust (Government Corruption)', 'Generosity', and 'Happiness Score'```**"
   ]
  },
  {
   "cell_type": "code",
   "execution_count": 9,
   "metadata": {},
   "outputs": [
    {
     "data": {
      "application/vnd.plotly.v1+json": {
       "config": {
        "plotlyServerURL": "https://plot.ly"
       },
       "data": [
        {
         "coloraxis": "coloraxis",
         "hovertemplate": "Features: %{x}<br>Features: %{y}<br>color: %{z}<extra></extra>",
         "name": "0",
         "type": "heatmap",
         "x": [
          "Economy (GDP per Capita)",
          "Family",
          "Health (Life Expectancy)",
          "Freedom",
          "Trust (Government Corruption)",
          "Generosity",
          "Happiness Score"
         ],
         "xaxis": "x",
         "y": [
          "Economy (GDP per Capita)",
          "Family",
          "Health (Life Expectancy)",
          "Freedom",
          "Trust (Government Corruption)",
          "Generosity",
          "Happiness Score"
         ],
         "yaxis": "y",
         "z": [
          [
           1,
           0.6660014374505433,
           0.8335999849893362,
           0.3618128214235401,
           0.29142549602595397,
           -0.027747935534737467,
           0.7852826301503045
          ],
          [
           0.6660014374505433,
           1,
           0.5828933694592322,
           0.44642445727739477,
           0.21973545204861444,
           0.09383958693485539,
           0.7315817032912021
          ],
          [
           0.8335999849893362,
           0.5828933694592322,
           1,
           0.34380601602974853,
           0.2571834877921403,
           0.07472039242659326,
           0.7677849165559801
          ],
          [
           0.3618128214235401,
           0.44642445727739477,
           0.34380601602974853,
           1,
           0.49865071049834053,
           0.35985623857911253,
           0.5623043434073259
          ],
          [
           0.29142549602595397,
           0.21973545204861444,
           0.2571834877921403,
           0.49865071049834053,
           1,
           0.30285254857636557,
           0.40673977866781885
          ],
          [
           -0.027747935534737467,
           0.09383958693485539,
           0.07472039242659326,
           0.35985623857911253,
           0.30285254857636557,
           1,
           0.1557320149671213
          ],
          [
           0.7852826301503045,
           0.7315817032912021,
           0.7677849165559801,
           0.5623043434073259,
           0.40673977866781885,
           0.1557320149671213,
           1
          ]
         ]
        }
       ],
       "layout": {
        "coloraxis": {
         "colorscale": [
          [
           0,
           "#000000"
          ],
          [
           0.0625,
           "#001f4d"
          ],
          [
           0.125,
           "#003786"
          ],
          [
           0.1875,
           "#0e58a8"
          ],
          [
           0.25,
           "#217eb8"
          ],
          [
           0.3125,
           "#30a4ca"
          ],
          [
           0.375,
           "#54c8df"
          ],
          [
           0.4375,
           "#9be4ef"
          ],
          [
           0.5,
           "#e1e9d1"
          ],
          [
           0.5625,
           "#f3d573"
          ],
          [
           0.625,
           "#e7b000"
          ],
          [
           0.6875,
           "#da8200"
          ],
          [
           0.75,
           "#c65400"
          ],
          [
           0.8125,
           "#ac2301"
          ],
          [
           0.875,
           "#820000"
          ],
          [
           0.9375,
           "#4c0000"
          ],
          [
           1,
           "#000000"
          ]
         ]
        },
        "template": {
         "data": {
          "bar": [
           {
            "error_x": {
             "color": "#2a3f5f"
            },
            "error_y": {
             "color": "#2a3f5f"
            },
            "marker": {
             "line": {
              "color": "white",
              "width": 0.5
             },
             "pattern": {
              "fillmode": "overlay",
              "size": 10,
              "solidity": 0.2
             }
            },
            "type": "bar"
           }
          ],
          "barpolar": [
           {
            "marker": {
             "line": {
              "color": "white",
              "width": 0.5
             },
             "pattern": {
              "fillmode": "overlay",
              "size": 10,
              "solidity": 0.2
             }
            },
            "type": "barpolar"
           }
          ],
          "carpet": [
           {
            "aaxis": {
             "endlinecolor": "#2a3f5f",
             "gridcolor": "#C8D4E3",
             "linecolor": "#C8D4E3",
             "minorgridcolor": "#C8D4E3",
             "startlinecolor": "#2a3f5f"
            },
            "baxis": {
             "endlinecolor": "#2a3f5f",
             "gridcolor": "#C8D4E3",
             "linecolor": "#C8D4E3",
             "minorgridcolor": "#C8D4E3",
             "startlinecolor": "#2a3f5f"
            },
            "type": "carpet"
           }
          ],
          "choropleth": [
           {
            "colorbar": {
             "outlinewidth": 0,
             "ticks": ""
            },
            "type": "choropleth"
           }
          ],
          "contour": [
           {
            "colorbar": {
             "outlinewidth": 0,
             "ticks": ""
            },
            "colorscale": [
             [
              0,
              "#0d0887"
             ],
             [
              0.1111111111111111,
              "#46039f"
             ],
             [
              0.2222222222222222,
              "#7201a8"
             ],
             [
              0.3333333333333333,
              "#9c179e"
             ],
             [
              0.4444444444444444,
              "#bd3786"
             ],
             [
              0.5555555555555556,
              "#d8576b"
             ],
             [
              0.6666666666666666,
              "#ed7953"
             ],
             [
              0.7777777777777778,
              "#fb9f3a"
             ],
             [
              0.8888888888888888,
              "#fdca26"
             ],
             [
              1,
              "#f0f921"
             ]
            ],
            "type": "contour"
           }
          ],
          "contourcarpet": [
           {
            "colorbar": {
             "outlinewidth": 0,
             "ticks": ""
            },
            "type": "contourcarpet"
           }
          ],
          "heatmap": [
           {
            "colorbar": {
             "outlinewidth": 0,
             "ticks": ""
            },
            "colorscale": [
             [
              0,
              "#0d0887"
             ],
             [
              0.1111111111111111,
              "#46039f"
             ],
             [
              0.2222222222222222,
              "#7201a8"
             ],
             [
              0.3333333333333333,
              "#9c179e"
             ],
             [
              0.4444444444444444,
              "#bd3786"
             ],
             [
              0.5555555555555556,
              "#d8576b"
             ],
             [
              0.6666666666666666,
              "#ed7953"
             ],
             [
              0.7777777777777778,
              "#fb9f3a"
             ],
             [
              0.8888888888888888,
              "#fdca26"
             ],
             [
              1,
              "#f0f921"
             ]
            ],
            "type": "heatmap"
           }
          ],
          "heatmapgl": [
           {
            "colorbar": {
             "outlinewidth": 0,
             "ticks": ""
            },
            "colorscale": [
             [
              0,
              "#0d0887"
             ],
             [
              0.1111111111111111,
              "#46039f"
             ],
             [
              0.2222222222222222,
              "#7201a8"
             ],
             [
              0.3333333333333333,
              "#9c179e"
             ],
             [
              0.4444444444444444,
              "#bd3786"
             ],
             [
              0.5555555555555556,
              "#d8576b"
             ],
             [
              0.6666666666666666,
              "#ed7953"
             ],
             [
              0.7777777777777778,
              "#fb9f3a"
             ],
             [
              0.8888888888888888,
              "#fdca26"
             ],
             [
              1,
              "#f0f921"
             ]
            ],
            "type": "heatmapgl"
           }
          ],
          "histogram": [
           {
            "marker": {
             "pattern": {
              "fillmode": "overlay",
              "size": 10,
              "solidity": 0.2
             }
            },
            "type": "histogram"
           }
          ],
          "histogram2d": [
           {
            "colorbar": {
             "outlinewidth": 0,
             "ticks": ""
            },
            "colorscale": [
             [
              0,
              "#0d0887"
             ],
             [
              0.1111111111111111,
              "#46039f"
             ],
             [
              0.2222222222222222,
              "#7201a8"
             ],
             [
              0.3333333333333333,
              "#9c179e"
             ],
             [
              0.4444444444444444,
              "#bd3786"
             ],
             [
              0.5555555555555556,
              "#d8576b"
             ],
             [
              0.6666666666666666,
              "#ed7953"
             ],
             [
              0.7777777777777778,
              "#fb9f3a"
             ],
             [
              0.8888888888888888,
              "#fdca26"
             ],
             [
              1,
              "#f0f921"
             ]
            ],
            "type": "histogram2d"
           }
          ],
          "histogram2dcontour": [
           {
            "colorbar": {
             "outlinewidth": 0,
             "ticks": ""
            },
            "colorscale": [
             [
              0,
              "#0d0887"
             ],
             [
              0.1111111111111111,
              "#46039f"
             ],
             [
              0.2222222222222222,
              "#7201a8"
             ],
             [
              0.3333333333333333,
              "#9c179e"
             ],
             [
              0.4444444444444444,
              "#bd3786"
             ],
             [
              0.5555555555555556,
              "#d8576b"
             ],
             [
              0.6666666666666666,
              "#ed7953"
             ],
             [
              0.7777777777777778,
              "#fb9f3a"
             ],
             [
              0.8888888888888888,
              "#fdca26"
             ],
             [
              1,
              "#f0f921"
             ]
            ],
            "type": "histogram2dcontour"
           }
          ],
          "mesh3d": [
           {
            "colorbar": {
             "outlinewidth": 0,
             "ticks": ""
            },
            "type": "mesh3d"
           }
          ],
          "parcoords": [
           {
            "line": {
             "colorbar": {
              "outlinewidth": 0,
              "ticks": ""
             }
            },
            "type": "parcoords"
           }
          ],
          "pie": [
           {
            "automargin": true,
            "type": "pie"
           }
          ],
          "scatter": [
           {
            "fillpattern": {
             "fillmode": "overlay",
             "size": 10,
             "solidity": 0.2
            },
            "type": "scatter"
           }
          ],
          "scatter3d": [
           {
            "line": {
             "colorbar": {
              "outlinewidth": 0,
              "ticks": ""
             }
            },
            "marker": {
             "colorbar": {
              "outlinewidth": 0,
              "ticks": ""
             }
            },
            "type": "scatter3d"
           }
          ],
          "scattercarpet": [
           {
            "marker": {
             "colorbar": {
              "outlinewidth": 0,
              "ticks": ""
             }
            },
            "type": "scattercarpet"
           }
          ],
          "scattergeo": [
           {
            "marker": {
             "colorbar": {
              "outlinewidth": 0,
              "ticks": ""
             }
            },
            "type": "scattergeo"
           }
          ],
          "scattergl": [
           {
            "marker": {
             "colorbar": {
              "outlinewidth": 0,
              "ticks": ""
             }
            },
            "type": "scattergl"
           }
          ],
          "scattermapbox": [
           {
            "marker": {
             "colorbar": {
              "outlinewidth": 0,
              "ticks": ""
             }
            },
            "type": "scattermapbox"
           }
          ],
          "scatterpolar": [
           {
            "marker": {
             "colorbar": {
              "outlinewidth": 0,
              "ticks": ""
             }
            },
            "type": "scatterpolar"
           }
          ],
          "scatterpolargl": [
           {
            "marker": {
             "colorbar": {
              "outlinewidth": 0,
              "ticks": ""
             }
            },
            "type": "scatterpolargl"
           }
          ],
          "scatterternary": [
           {
            "marker": {
             "colorbar": {
              "outlinewidth": 0,
              "ticks": ""
             }
            },
            "type": "scatterternary"
           }
          ],
          "surface": [
           {
            "colorbar": {
             "outlinewidth": 0,
             "ticks": ""
            },
            "colorscale": [
             [
              0,
              "#0d0887"
             ],
             [
              0.1111111111111111,
              "#46039f"
             ],
             [
              0.2222222222222222,
              "#7201a8"
             ],
             [
              0.3333333333333333,
              "#9c179e"
             ],
             [
              0.4444444444444444,
              "#bd3786"
             ],
             [
              0.5555555555555556,
              "#d8576b"
             ],
             [
              0.6666666666666666,
              "#ed7953"
             ],
             [
              0.7777777777777778,
              "#fb9f3a"
             ],
             [
              0.8888888888888888,
              "#fdca26"
             ],
             [
              1,
              "#f0f921"
             ]
            ],
            "type": "surface"
           }
          ],
          "table": [
           {
            "cells": {
             "fill": {
              "color": "#EBF0F8"
             },
             "line": {
              "color": "white"
             }
            },
            "header": {
             "fill": {
              "color": "#C8D4E3"
             },
             "line": {
              "color": "white"
             }
            },
            "type": "table"
           }
          ]
         },
         "layout": {
          "annotationdefaults": {
           "arrowcolor": "#2a3f5f",
           "arrowhead": 0,
           "arrowwidth": 1
          },
          "autotypenumbers": "strict",
          "coloraxis": {
           "colorbar": {
            "outlinewidth": 0,
            "ticks": ""
           }
          },
          "colorscale": {
           "diverging": [
            [
             0,
             "#8e0152"
            ],
            [
             0.1,
             "#c51b7d"
            ],
            [
             0.2,
             "#de77ae"
            ],
            [
             0.3,
             "#f1b6da"
            ],
            [
             0.4,
             "#fde0ef"
            ],
            [
             0.5,
             "#f7f7f7"
            ],
            [
             0.6,
             "#e6f5d0"
            ],
            [
             0.7,
             "#b8e186"
            ],
            [
             0.8,
             "#7fbc41"
            ],
            [
             0.9,
             "#4d9221"
            ],
            [
             1,
             "#276419"
            ]
           ],
           "sequential": [
            [
             0,
             "#0d0887"
            ],
            [
             0.1111111111111111,
             "#46039f"
            ],
            [
             0.2222222222222222,
             "#7201a8"
            ],
            [
             0.3333333333333333,
             "#9c179e"
            ],
            [
             0.4444444444444444,
             "#bd3786"
            ],
            [
             0.5555555555555556,
             "#d8576b"
            ],
            [
             0.6666666666666666,
             "#ed7953"
            ],
            [
             0.7777777777777778,
             "#fb9f3a"
            ],
            [
             0.8888888888888888,
             "#fdca26"
            ],
            [
             1,
             "#f0f921"
            ]
           ],
           "sequentialminus": [
            [
             0,
             "#0d0887"
            ],
            [
             0.1111111111111111,
             "#46039f"
            ],
            [
             0.2222222222222222,
             "#7201a8"
            ],
            [
             0.3333333333333333,
             "#9c179e"
            ],
            [
             0.4444444444444444,
             "#bd3786"
            ],
            [
             0.5555555555555556,
             "#d8576b"
            ],
            [
             0.6666666666666666,
             "#ed7953"
            ],
            [
             0.7777777777777778,
             "#fb9f3a"
            ],
            [
             0.8888888888888888,
             "#fdca26"
            ],
            [
             1,
             "#f0f921"
            ]
           ]
          },
          "colorway": [
           "#636efa",
           "#EF553B",
           "#00cc96",
           "#ab63fa",
           "#FFA15A",
           "#19d3f3",
           "#FF6692",
           "#B6E880",
           "#FF97FF",
           "#FECB52"
          ],
          "font": {
           "color": "#2a3f5f"
          },
          "geo": {
           "bgcolor": "white",
           "lakecolor": "white",
           "landcolor": "white",
           "showlakes": true,
           "showland": true,
           "subunitcolor": "#C8D4E3"
          },
          "hoverlabel": {
           "align": "left"
          },
          "hovermode": "closest",
          "mapbox": {
           "style": "light"
          },
          "paper_bgcolor": "white",
          "plot_bgcolor": "white",
          "polar": {
           "angularaxis": {
            "gridcolor": "#EBF0F8",
            "linecolor": "#EBF0F8",
            "ticks": ""
           },
           "bgcolor": "white",
           "radialaxis": {
            "gridcolor": "#EBF0F8",
            "linecolor": "#EBF0F8",
            "ticks": ""
           }
          },
          "scene": {
           "xaxis": {
            "backgroundcolor": "white",
            "gridcolor": "#DFE8F3",
            "gridwidth": 2,
            "linecolor": "#EBF0F8",
            "showbackground": true,
            "ticks": "",
            "zerolinecolor": "#EBF0F8"
           },
           "yaxis": {
            "backgroundcolor": "white",
            "gridcolor": "#DFE8F3",
            "gridwidth": 2,
            "linecolor": "#EBF0F8",
            "showbackground": true,
            "ticks": "",
            "zerolinecolor": "#EBF0F8"
           },
           "zaxis": {
            "backgroundcolor": "white",
            "gridcolor": "#DFE8F3",
            "gridwidth": 2,
            "linecolor": "#EBF0F8",
            "showbackground": true,
            "ticks": "",
            "zerolinecolor": "#EBF0F8"
           }
          },
          "shapedefaults": {
           "line": {
            "color": "#2a3f5f"
           }
          },
          "ternary": {
           "aaxis": {
            "gridcolor": "#DFE8F3",
            "linecolor": "#A2B1C6",
            "ticks": ""
           },
           "baxis": {
            "gridcolor": "#DFE8F3",
            "linecolor": "#A2B1C6",
            "ticks": ""
           },
           "bgcolor": "white",
           "caxis": {
            "gridcolor": "#DFE8F3",
            "linecolor": "#A2B1C6",
            "ticks": ""
           }
          },
          "title": {
           "x": 0.05
          },
          "xaxis": {
           "automargin": true,
           "gridcolor": "#EBF0F8",
           "linecolor": "#EBF0F8",
           "ticks": "",
           "title": {
            "standoff": 15
           },
           "zerolinecolor": "#EBF0F8",
           "zerolinewidth": 2
          },
          "yaxis": {
           "automargin": true,
           "gridcolor": "#EBF0F8",
           "linecolor": "#EBF0F8",
           "ticks": "",
           "title": {
            "standoff": 15
           },
           "zerolinecolor": "#EBF0F8",
           "zerolinewidth": 2
          }
         }
        },
        "title": {
         "text": "Correlation Matrix for Key Features"
        },
        "xaxis": {
         "anchor": "y",
         "constrain": "domain",
         "domain": [
          0,
          1
         ],
         "scaleanchor": "y",
         "title": {
          "text": "Features"
         }
        },
        "yaxis": {
         "anchor": "x",
         "autorange": "reversed",
         "constrain": "domain",
         "domain": [
          0,
          1
         ],
         "title": {
          "text": "Features"
         }
        }
       }
      }
     },
     "metadata": {},
     "output_type": "display_data"
    }
   ],
   "source": [
    "# Select the relevant columns\n",
    "correlation_columns = ['Economy (GDP per Capita)', 'Family', \n",
    "                       'Health (Life Expectancy)', 'Freedom', \n",
    "                       'Trust (Government Corruption)', 'Generosity', \n",
    "                       'Happiness Score']\n",
    "\n",
    "# Calculate the correlation matrix\n",
    "correlation_matrix = data_cleaned[correlation_columns].corr()\n",
    "\n",
    "\n",
    "# Create a heatmap to visualize the correlation matrix\n",
    "fig_correlation = px.imshow(correlation_matrix, \n",
    "                        title='Correlation Matrix for Key Features', \n",
    "                        color_continuous_scale='icefire',\n",
    "                        labels=dict(x=\"Features\", y=\"Features\"))\n",
    "\n",
    "# Update the layout \n",
    "fig_correlation.update_layout(template='plotly_white')\n",
    "\n",
    "# Show the plot\n",
    "fig_correlation.show()\n"
   ]
  },
  {
   "cell_type": "markdown",
   "metadata": {},
   "source": [
    "#### Prompt-8: **```now, in the next cell create a scatter plot to identify the effect of GDP per Capita on Happiness Score in various Regions.```**"
   ]
  },
  {
   "cell_type": "code",
   "execution_count": 10,
   "metadata": {},
   "outputs": [
    {
     "data": {
      "image/png": "[encoded data removed]",
      "text/plain": [
       "<Figure size 1200x800 with 1 Axes>"
      ]
     },
     "metadata": {},
     "output_type": "display_data"
    }
   ],
   "source": [
    "# Set the figure size\n",
    "plt.figure(figsize=(12, 8))\n",
    "\n",
    "# Create a scatter plot\n",
    "sns.scatterplot(data=data_cleaned, x='Economy (GDP per Capita)', y='Happiness Score', \n",
    "                hue='Region', palette='Set2', s=100, alpha=0.7)\n",
    "\n",
    "# Add titles and labels\n",
    "plt.title('Effect of GDP per Capita on Happiness Score by Region', fontsize=16)\n",
    "plt.xlabel('Economy (GDP per Capita)', fontsize=14)\n",
    "plt.ylabel('Happiness Score', fontsize=14)\n",
    "plt.legend(title='Region', bbox_to_anchor=(1.05, 1), loc='upper left')\n",
    "\n",
    "# Show the plot\n",
    "plt.tight_layout()\n",
    "plt.show()"
   ]
  },
  {
   "cell_type": "markdown",
   "metadata": {},
   "source": [
    "#### Updated-Prompt-8: **```now, in the next cell create a scatter plot to identify the effect of GDP per Capita on Happiness Score in various Regions. use plotly.express library, and flatten the legend above the chart, please.```**\n",
    "\n",
    "*Note: I did the 'title_y=0.98' part to adjust the title position*"
   ]
  },
  {
   "cell_type": "code",
   "execution_count": 11,
   "metadata": {},
   "outputs": [
    {
     "data": {
      "application/vnd.plotly.v1+json": {
       "config": {
        "plotlyServerURL": "https://plot.ly"
       },
       "data": [
        {
         "hovertemplate": "<b>%{hovertext}</b><br><br>Region=Western Europe<br>GDP per Capita=%{x}<br>Happiness Score=%{marker.size}<extra></extra>",
         "hovertext": [
          "Denmark",
          "Switzerland",
          "Iceland",
          "Norway",
          "Finland",
          "Netherlands",
          "Austria",
          "Germany",
          "Belgium",
          "Ireland",
          "Luxembourg",
          "United Kingdom",
          "Malta",
          "France",
          "Italy",
          "North Cyprus",
          "Portugal",
          "Greece"
         ],
         "legendgroup": "Western Europe",
         "marker": {
          "color": "#636efa",
          "size": [
           7.526,
           7.509,
           7.501,
           7.498,
           7.413,
           7.339,
           7.119,
           6.994,
           6.929,
           6.907,
           6.871,
           6.725,
           6.488,
           6.478,
           5.977,
           5.771,
           5.123,
           5.033
          ],
          "sizemode": "area",
          "sizeref": 0.018815,
          "symbol": "circle"
         },
         "mode": "markers",
         "name": "Western Europe",
         "orientation": "v",
         "showlegend": true,
         "type": "scatter",
         "x": [
          1.44178,
          1.52733,
          1.42666,
          1.57744,
          1.40598,
          1.46468,
          1.45038,
          1.44787,
          1.42539,
          1.48341,
          1.69752,
          1.40283,
          1.30782,
          1.39488,
          1.35495,
          1.31141,
          1.27607,
          1.24886
         ],
         "xaxis": "x",
         "y": [
          7.526,
          7.509,
          7.501,
          7.498,
          7.413,
          7.339,
          7.119,
          6.994,
          6.929,
          6.907,
          6.871,
          6.725,
          6.488,
          6.478,
          5.977,
          5.771,
          5.123,
          5.033
         ],
         "yaxis": "y"
        },
        {
         "hovertemplate": "<b>%{hovertext}</b><br><br>Region=North America<br>GDP per Capita=%{x}<br>Happiness Score=%{marker.size}<extra></extra>",
         "hovertext": [
          "Canada"
         ],
         "legendgroup": "North America",
         "marker": {
          "color": "#EF553B",
          "size": [
           7.404
          ],
          "sizemode": "area",
          "sizeref": 0.018815,
          "symbol": "circle"
         },
         "mode": "markers",
         "name": "North America",
         "orientation": "v",
         "showlegend": true,
         "type": "scatter",
         "x": [
          1.44015
         ],
         "xaxis": "x",
         "y": [
          7.404
         ],
         "yaxis": "y"
        },
        {
         "hovertemplate": "<b>%{hovertext}</b><br><br>Region=Australia and New Zealand<br>GDP per Capita=%{x}<br>Happiness Score=%{marker.size}<extra></extra>",
         "hovertext": [
          "New Zealand",
          "Australia"
         ],
         "legendgroup": "Australia and New Zealand",
         "marker": {
          "color": "#00cc96",
          "size": [
           7.334,
           7.313
          ],
          "sizemode": "area",
          "sizeref": 0.018815,
          "symbol": "circle"
         },
         "mode": "markers",
         "name": "Australia and New Zealand",
         "orientation": "v",
         "showlegend": true,
         "type": "scatter",
         "x": [
          1.36066,
          1.44443
         ],
         "xaxis": "x",
         "y": [
          7.334,
          7.313
         ],
         "yaxis": "y"
        },
        {
         "hovertemplate": "<b>%{hovertext}</b><br><br>Region=Middle East and Northern Africa<br>GDP per Capita=%{x}<br>Happiness Score=%{marker.size}<extra></extra>",
         "hovertext": [
          "Israel",
          "United Arab Emirates",
          "Saudi Arabia",
          "Qatar",
          "Algeria",
          "Kuwait",
          "Libya",
          "Turkey",
          "Jordan",
          "Morocco",
          "Lebanon",
          "Tunisia",
          "Iran",
          "Palestinian Territories",
          "Iraq",
          "Egypt",
          "Yemen",
          "Syria"
         ],
         "legendgroup": "Middle East and Northern Africa",
         "marker": {
          "color": "#ab63fa",
          "size": [
           7.267,
           6.573,
           6.379,
           6.375,
           6.355,
           6.239,
           5.615,
           5.389,
           5.303,
           5.151,
           5.129,
           5.045,
           4.813,
           4.754,
           4.575,
           4.362,
           3.724,
           3.069
          ],
          "sizemode": "area",
          "sizeref": 0.018815,
          "symbol": "circle"
         },
         "mode": "markers",
         "name": "Middle East and Northern Africa",
         "orientation": "v",
         "showlegend": true,
         "type": "scatter",
         "x": [
          1.33766,
          1.57352,
          1.48953,
          1.82427,
          1.05266,
          1.61714,
          1.06688,
          1.16492,
          0.99673,
          0.84058,
          1.12268,
          0.97724,
          1.11758,
          0.67024,
          1.07474,
          0.95395,
          0.57939,
          0.74719
         ],
         "xaxis": "x",
         "y": [
          7.267,
          6.573,
          6.379,
          6.375,
          6.355,
          6.239,
          5.615,
          5.389,
          5.303,
          5.151,
          5.129,
          5.045,
          4.813,
          4.754,
          4.575,
          4.362,
          3.724,
          3.069
         ],
         "yaxis": "y"
        },
        {
         "hovertemplate": "<b>%{hovertext}</b><br><br>Region=Latin America and Caribbean<br>GDP per Capita=%{x}<br>Happiness Score=%{marker.size}<extra></extra>",
         "hovertext": [
          "Costa Rica",
          "Brazil",
          "Mexico",
          "Chile",
          "Panama",
          "Argentina",
          "Uruguay",
          "Colombia",
          "Guatemala",
          "Suriname",
          "Trinidad and Tobago",
          "Venezuela",
          "El Salvador",
          "Nicaragua",
          "Ecuador",
          "Belize",
          "Jamaica",
          "Dominican Republic",
          "Honduras",
          "Haiti"
         ],
         "legendgroup": "Latin America and Caribbean",
         "marker": {
          "color": "#FFA15A",
          "size": [
           7.087,
           6.952,
           6.778,
           6.705,
           6.701,
           6.65,
           6.545,
           6.481,
           6.324,
           6.269,
           6.168,
           6.084,
           6.068,
           5.992,
           5.976,
           5.956,
           5.51,
           5.155,
           4.871,
           4.028
          ],
          "sizemode": "area",
          "sizeref": 0.018815,
          "symbol": "circle"
         },
         "mode": "markers",
         "name": "Latin America and Caribbean",
         "orientation": "v",
         "showlegend": true,
         "type": "scatter",
         "x": [
          1.06879,
          1.08754,
          1.11508,
          1.2167,
          1.18306,
          1.15137,
          1.18157,
          1.03032,
          0.83454,
          1.09686,
          1.32572,
          1.13367,
          0.8737,
          0.69384,
          0.97306,
          0.87616,
          0.89333,
          1.02787,
          0.69429,
          0.34097
         ],
         "xaxis": "x",
         "y": [
          7.087,
          6.952,
          6.778,
          6.705,
          6.701,
          6.65,
          6.545,
          6.481,
          6.324,
          6.269,
          6.168,
          6.084,
          6.068,
          5.992,
          5.976,
          5.956,
          5.51,
          5.155,
          4.871,
          4.028
         ],
         "yaxis": "y"
        },
        {
         "hovertemplate": "<b>%{hovertext}</b><br><br>Region=Southeastern Asia<br>GDP per Capita=%{x}<br>Happiness Score=%{marker.size}<extra></extra>",
         "hovertext": [
          "Singapore",
          "Thailand",
          "Malaysia",
          "Indonesia",
          "Philippines",
          "Vietnam",
          "Laos",
          "Myanmar",
          "Cambodia"
         ],
         "legendgroup": "Southeastern Asia",
         "marker": {
          "color": "#19d3f3",
          "size": [
           6.739,
           6.474,
           6.005,
           5.314,
           5.279,
           5.061,
           4.876,
           4.395,
           3.907
          ],
          "sizemode": "area",
          "sizeref": 0.018815,
          "symbol": "circle"
         },
         "mode": "markers",
         "name": "Southeastern Asia",
         "orientation": "v",
         "showlegend": true,
         "type": "scatter",
         "x": [
          1.64555,
          1.0893,
          1.25142,
          0.95104,
          0.81217,
          0.74037,
          0.68042,
          0.34112,
          0.55604
         ],
         "xaxis": "x",
         "y": [
          6.739,
          6.474,
          6.005,
          5.314,
          5.279,
          5.061,
          4.876,
          4.395,
          3.907
         ],
         "yaxis": "y"
        },
        {
         "hovertemplate": "<b>%{hovertext}</b><br><br>Region=Central and Eastern Europe<br>GDP per Capita=%{x}<br>Happiness Score=%{marker.size}<extra></extra>",
         "hovertext": [
          "Czech Republic",
          "Uzbekistan",
          "Kazakhstan",
          "Moldova",
          "Russia",
          "Poland",
          "Lithuania",
          "Belarus",
          "Slovenia",
          "Turkmenistan",
          "Latvia",
          "Romania",
          "Estonia",
          "Croatia",
          "Kosovo",
          "Azerbaijan",
          "Kyrgyzstan",
          "Serbia",
          "Bosnia and Herzegovina",
          "Montenegro",
          "Hungary",
          "Macedonia",
          "Tajikistan",
          "Albania",
          "Armenia",
          "Ukraine",
          "Georgia",
          "Bulgaria"
         ],
         "legendgroup": "Central and Eastern Europe",
         "marker": {
          "color": "#FF6692",
          "size": [
           6.596,
           5.987,
           5.919,
           5.897,
           5.856,
           5.835,
           5.813,
           5.802,
           5.768,
           5.658,
           5.56,
           5.528,
           5.517,
           5.488,
           5.401,
           5.291,
           5.185,
           5.177,
           5.163,
           5.161,
           5.145,
           5.121,
           4.996,
           4.655,
           4.36,
           4.324,
           4.252,
           4.217
          ],
          "sizemode": "area",
          "sizeref": 0.018815,
          "symbol": "circle"
         },
         "mode": "markers",
         "name": "Central and Eastern Europe",
         "orientation": "v",
         "showlegend": true,
         "type": "scatter",
         "x": [
          1.30915,
          0.73591,
          1.22943,
          0.69177,
          1.23228,
          1.24585,
          1.2692,
          1.13062,
          1.29947,
          1.08017,
          1.21788,
          1.1697,
          1.27964,
          1.18649,
          0.90145,
          1.12373,
          0.56044,
          1.03437,
          0.93383,
          1.07838,
          1.24142,
          1.0193,
          0.48835,
          0.9553,
          0.86086,
          0.87287,
          0.83792,
          1.11306
         ],
         "xaxis": "x",
         "y": [
          6.596,
          5.987,
          5.919,
          5.897,
          5.856,
          5.835,
          5.813,
          5.802,
          5.768,
          5.658,
          5.56,
          5.528,
          5.517,
          5.488,
          5.401,
          5.291,
          5.185,
          5.177,
          5.163,
          5.161,
          5.145,
          5.121,
          4.996,
          4.655,
          4.36,
          4.324,
          4.252,
          4.217
         ],
         "yaxis": "y"
        },
        {
         "hovertemplate": "<b>%{hovertext}</b><br><br>Region=Eastern Asia<br>GDP per Capita=%{x}<br>Happiness Score=%{marker.size}<extra></extra>",
         "hovertext": [
          "Taiwan",
          "Japan",
          "South Korea",
          "Hong Kong",
          "China",
          "Mongolia"
         ],
         "legendgroup": "Eastern Asia",
         "marker": {
          "color": "#B6E880",
          "size": [
           6.379,
           5.921,
           5.835,
           5.458,
           5.245,
           4.907
          ],
          "sizemode": "area",
          "sizeref": 0.018815,
          "symbol": "circle"
         },
         "mode": "markers",
         "name": "Eastern Asia",
         "orientation": "v",
         "showlegend": true,
         "type": "scatter",
         "x": [
          1.39729,
          1.38007,
          1.35948,
          1.5107,
          1.0278,
          0.98853
         ],
         "xaxis": "x",
         "y": [
          6.379,
          5.921,
          5.835,
          5.458,
          5.245,
          4.907
         ],
         "yaxis": "y"
        },
        {
         "hovertemplate": "<b>%{hovertext}</b><br><br>Region=Sub-Saharan Africa<br>GDP per Capita=%{x}<br>Happiness Score=%{marker.size}<extra></extra>",
         "hovertext": [
          "Mauritius",
          "Somalia",
          "Somaliland Region",
          "Nigeria",
          "Zambia",
          "Namibia",
          "Cameroon",
          "Ethiopia",
          "South Africa",
          "Kenya",
          "Ghana",
          "Congo (Kinshasa)",
          "Congo (Brazzaville)",
          "Senegal",
          "Mauritania",
          "Zimbabwe",
          "Malawi",
          "Sudan",
          "Gabon",
          "Mali",
          "Botswana",
          "Comoros",
          "Ivory Coast",
          "Angola",
          "Niger",
          "South Sudan",
          "Chad",
          "Burkina Faso",
          "Uganda",
          "Madagascar",
          "Tanzania",
          "Liberia",
          "Guinea",
          "Rwanda",
          "Benin",
          "Togo",
          "Burundi"
         ],
         "legendgroup": "Sub-Saharan Africa",
         "marker": {
          "color": "#FF97FF",
          "size": [
           5.648,
           5.44,
           5.057,
           4.875,
           4.795,
           4.574,
           4.513,
           4.508,
           4.459,
           4.356,
           4.276,
           4.272,
           4.236,
           4.219,
           4.201,
           4.193,
           4.156,
           4.139,
           4.121,
           4.073,
           3.974,
           3.956,
           3.916,
           3.866,
           3.856,
           3.832,
           3.763,
           3.739,
           3.739,
           3.695,
           3.666,
           3.622,
           3.607,
           3.515,
           3.484,
           3.303,
           2.905
          ],
          "sizemode": "area",
          "sizeref": 0.018815,
          "symbol": "circle"
         },
         "mode": "markers",
         "name": "Sub-Saharan Africa",
         "orientation": "v",
         "showlegend": true,
         "type": "scatter",
         "x": [
          1.14372,
          0,
          0.25558,
          0.75216,
          0.61202,
          0.93287,
          0.52497,
          0.29283,
          1.02416,
          0.52267,
          0.63107,
          0.05661,
          0.77109,
          0.44314,
          0.61391,
          0.35041,
          0.08709,
          0.63069,
          1.15851,
          0.31292,
          1.09426,
          0.27509,
          0.55507,
          0.84731,
          0.1327,
          0.39394,
          0.42214,
          0.31995,
          0.34719,
          0.27954,
          0.47155,
          0.10706,
          0.22415,
          0.32846,
          0.39499,
          0.28123,
          0.06831
         ],
         "xaxis": "x",
         "y": [
          5.648,
          5.44,
          5.057,
          4.875,
          4.795,
          4.574,
          4.513,
          4.508,
          4.459,
          4.356,
          4.276,
          4.272,
          4.236,
          4.219,
          4.201,
          4.193,
          4.156,
          4.139,
          4.121,
          4.073,
          3.974,
          3.956,
          3.916,
          3.866,
          3.856,
          3.832,
          3.763,
          3.739,
          3.739,
          3.695,
          3.666,
          3.622,
          3.607,
          3.515,
          3.484,
          3.303,
          2.905
         ],
         "yaxis": "y"
        },
        {
         "hovertemplate": "<b>%{hovertext}</b><br><br>Region=Southern Asia<br>GDP per Capita=%{x}<br>Happiness Score=%{marker.size}<extra></extra>",
         "hovertext": [
          "Bhutan",
          "Pakistan",
          "Bangladesh",
          "Sri Lanka",
          "India",
          "Afghanistan"
         ],
         "legendgroup": "Southern Asia",
         "marker": {
          "color": "#FECB52",
          "size": [
           5.196,
           5.132,
           4.643,
           4.415,
           4.404,
           3.36
          ],
          "sizemode": "area",
          "sizeref": 0.018815,
          "symbol": "circle"
         },
         "mode": "markers",
         "name": "Southern Asia",
         "orientation": "v",
         "showlegend": true,
         "type": "scatter",
         "x": [
          0.8527,
          0.68816,
          0.54177,
          0.97318,
          0.74036,
          0.38227
         ],
         "xaxis": "x",
         "y": [
          5.196,
          5.132,
          4.643,
          4.415,
          4.404,
          3.36
         ],
         "yaxis": "y"
        }
       ],
       "layout": {
        "legend": {
         "itemsizing": "constant",
         "orientation": "h",
         "title": {
          "text": "Region"
         },
         "tracegroupgap": 0,
         "x": 0.5,
         "xanchor": "center",
         "y": 1.02,
         "yanchor": "bottom"
        },
        "template": {
         "data": {
          "bar": [
           {
            "error_x": {
             "color": "#2a3f5f"
            },
            "error_y": {
             "color": "#2a3f5f"
            },
            "marker": {
             "line": {
              "color": "white",
              "width": 0.5
             },
             "pattern": {
              "fillmode": "overlay",
              "size": 10,
              "solidity": 0.2
             }
            },
            "type": "bar"
           }
          ],
          "barpolar": [
           {
            "marker": {
             "line": {
              "color": "white",
              "width": 0.5
             },
             "pattern": {
              "fillmode": "overlay",
              "size": 10,
              "solidity": 0.2
             }
            },
            "type": "barpolar"
           }
          ],
          "carpet": [
           {
            "aaxis": {
             "endlinecolor": "#2a3f5f",
             "gridcolor": "#C8D4E3",
             "linecolor": "#C8D4E3",
             "minorgridcolor": "#C8D4E3",
             "startlinecolor": "#2a3f5f"
            },
            "baxis": {
             "endlinecolor": "#2a3f5f",
             "gridcolor": "#C8D4E3",
             "linecolor": "#C8D4E3",
             "minorgridcolor": "#C8D4E3",
             "startlinecolor": "#2a3f5f"
            },
            "type": "carpet"
           }
          ],
          "choropleth": [
           {
            "colorbar": {
             "outlinewidth": 0,
             "ticks": ""
            },
            "type": "choropleth"
           }
          ],
          "contour": [
           {
            "colorbar": {
             "outlinewidth": 0,
             "ticks": ""
            },
            "colorscale": [
             [
              0,
              "#0d0887"
             ],
             [
              0.1111111111111111,
              "#46039f"
             ],
             [
              0.2222222222222222,
              "#7201a8"
             ],
             [
              0.3333333333333333,
              "#9c179e"
             ],
             [
              0.4444444444444444,
              "#bd3786"
             ],
             [
              0.5555555555555556,
              "#d8576b"
             ],
             [
              0.6666666666666666,
              "#ed7953"
             ],
             [
              0.7777777777777778,
              "#fb9f3a"
             ],
             [
              0.8888888888888888,
              "#fdca26"
             ],
             [
              1,
              "#f0f921"
             ]
            ],
            "type": "contour"
           }
          ],
          "contourcarpet": [
           {
            "colorbar": {
             "outlinewidth": 0,
             "ticks": ""
            },
            "type": "contourcarpet"
           }
          ],
          "heatmap": [
           {
            "colorbar": {
             "outlinewidth": 0,
             "ticks": ""
            },
            "colorscale": [
             [
              0,
              "#0d0887"
             ],
             [
              0.1111111111111111,
              "#46039f"
             ],
             [
              0.2222222222222222,
              "#7201a8"
             ],
             [
              0.3333333333333333,
              "#9c179e"
             ],
             [
              0.4444444444444444,
              "#bd3786"
             ],
             [
              0.5555555555555556,
              "#d8576b"
             ],
             [
              0.6666666666666666,
              "#ed7953"
             ],
             [
              0.7777777777777778,
              "#fb9f3a"
             ],
             [
              0.8888888888888888,
              "#fdca26"
             ],
             [
              1,
              "#f0f921"
             ]
            ],
            "type": "heatmap"
           }
          ],
          "heatmapgl": [
           {
            "colorbar": {
             "outlinewidth": 0,
             "ticks": ""
            },
            "colorscale": [
             [
              0,
              "#0d0887"
             ],
             [
              0.1111111111111111,
              "#46039f"
             ],
             [
              0.2222222222222222,
              "#7201a8"
             ],
             [
              0.3333333333333333,
              "#9c179e"
             ],
             [
              0.4444444444444444,
              "#bd3786"
             ],
             [
              0.5555555555555556,
              "#d8576b"
             ],
             [
              0.6666666666666666,
              "#ed7953"
             ],
             [
              0.7777777777777778,
              "#fb9f3a"
             ],
             [
              0.8888888888888888,
              "#fdca26"
             ],
             [
              1,
              "#f0f921"
             ]
            ],
            "type": "heatmapgl"
           }
          ],
          "histogram": [
           {
            "marker": {
             "pattern": {
              "fillmode": "overlay",
              "size": 10,
              "solidity": 0.2
             }
            },
            "type": "histogram"
           }
          ],
          "histogram2d": [
           {
            "colorbar": {
             "outlinewidth": 0,
             "ticks": ""
            },
            "colorscale": [
             [
              0,
              "#0d0887"
             ],
             [
              0.1111111111111111,
              "#46039f"
             ],
             [
              0.2222222222222222,
              "#7201a8"
             ],
             [
              0.3333333333333333,
              "#9c179e"
             ],
             [
              0.4444444444444444,
              "#bd3786"
             ],
             [
              0.5555555555555556,
              "#d8576b"
             ],
             [
              0.6666666666666666,
              "#ed7953"
             ],
             [
              0.7777777777777778,
              "#fb9f3a"
             ],
             [
              0.8888888888888888,
              "#fdca26"
             ],
             [
              1,
              "#f0f921"
             ]
            ],
            "type": "histogram2d"
           }
          ],
          "histogram2dcontour": [
           {
            "colorbar": {
             "outlinewidth": 0,
             "ticks": ""
            },
            "colorscale": [
             [
              0,
              "#0d0887"
             ],
             [
              0.1111111111111111,
              "#46039f"
             ],
             [
              0.2222222222222222,
              "#7201a8"
             ],
             [
              0.3333333333333333,
              "#9c179e"
             ],
             [
              0.4444444444444444,
              "#bd3786"
             ],
             [
              0.5555555555555556,
              "#d8576b"
             ],
             [
              0.6666666666666666,
              "#ed7953"
             ],
             [
              0.7777777777777778,
              "#fb9f3a"
             ],
             [
              0.8888888888888888,
              "#fdca26"
             ],
             [
              1,
              "#f0f921"
             ]
            ],
            "type": "histogram2dcontour"
           }
          ],
          "mesh3d": [
           {
            "colorbar": {
             "outlinewidth": 0,
             "ticks": ""
            },
            "type": "mesh3d"
           }
          ],
          "parcoords": [
           {
            "line": {
             "colorbar": {
              "outlinewidth": 0,
              "ticks": ""
             }
            },
            "type": "parcoords"
           }
          ],
          "pie": [
           {
            "automargin": true,
            "type": "pie"
           }
          ],
          "scatter": [
           {
            "fillpattern": {
             "fillmode": "overlay",
             "size": 10,
             "solidity": 0.2
            },
            "type": "scatter"
           }
          ],
          "scatter3d": [
           {
            "line": {
             "colorbar": {
              "outlinewidth": 0,
              "ticks": ""
             }
            },
            "marker": {
             "colorbar": {
              "outlinewidth": 0,
              "ticks": ""
             }
            },
            "type": "scatter3d"
           }
          ],
          "scattercarpet": [
           {
            "marker": {
             "colorbar": {
              "outlinewidth": 0,
              "ticks": ""
             }
            },
            "type": "scattercarpet"
           }
          ],
          "scattergeo": [
           {
            "marker": {
             "colorbar": {
              "outlinewidth": 0,
              "ticks": ""
             }
            },
            "type": "scattergeo"
           }
          ],
          "scattergl": [
           {
            "marker": {
             "colorbar": {
              "outlinewidth": 0,
              "ticks": ""
             }
            },
            "type": "scattergl"
           }
          ],
          "scattermapbox": [
           {
            "marker": {
             "colorbar": {
              "outlinewidth": 0,
              "ticks": ""
             }
            },
            "type": "scattermapbox"
           }
          ],
          "scatterpolar": [
           {
            "marker": {
             "colorbar": {
              "outlinewidth": 0,
              "ticks": ""
             }
            },
            "type": "scatterpolar"
           }
          ],
          "scatterpolargl": [
           {
            "marker": {
             "colorbar": {
              "outlinewidth": 0,
              "ticks": ""
             }
            },
            "type": "scatterpolargl"
           }
          ],
          "scatterternary": [
           {
            "marker": {
             "colorbar": {
              "outlinewidth": 0,
              "ticks": ""
             }
            },
            "type": "scatterternary"
           }
          ],
          "surface": [
           {
            "colorbar": {
             "outlinewidth": 0,
             "ticks": ""
            },
            "colorscale": [
             [
              0,
              "#0d0887"
             ],
             [
              0.1111111111111111,
              "#46039f"
             ],
             [
              0.2222222222222222,
              "#7201a8"
             ],
             [
              0.3333333333333333,
              "#9c179e"
             ],
             [
              0.4444444444444444,
              "#bd3786"
             ],
             [
              0.5555555555555556,
              "#d8576b"
             ],
             [
              0.6666666666666666,
              "#ed7953"
             ],
             [
              0.7777777777777778,
              "#fb9f3a"
             ],
             [
              0.8888888888888888,
              "#fdca26"
             ],
             [
              1,
              "#f0f921"
             ]
            ],
            "type": "surface"
           }
          ],
          "table": [
           {
            "cells": {
             "fill": {
              "color": "#EBF0F8"
             },
             "line": {
              "color": "white"
             }
            },
            "header": {
             "fill": {
              "color": "#C8D4E3"
             },
             "line": {
              "color": "white"
             }
            },
            "type": "table"
           }
          ]
         },
         "layout": {
          "annotationdefaults": {
           "arrowcolor": "#2a3f5f",
           "arrowhead": 0,
           "arrowwidth": 1
          },
          "autotypenumbers": "strict",
          "coloraxis": {
           "colorbar": {
            "outlinewidth": 0,
            "ticks": ""
           }
          },
          "colorscale": {
           "diverging": [
            [
             0,
             "#8e0152"
            ],
            [
             0.1,
             "#c51b7d"
            ],
            [
             0.2,
             "#de77ae"
            ],
            [
             0.3,
             "#f1b6da"
            ],
            [
             0.4,
             "#fde0ef"
            ],
            [
             0.5,
             "#f7f7f7"
            ],
            [
             0.6,
             "#e6f5d0"
            ],
            [
             0.7,
             "#b8e186"
            ],
            [
             0.8,
             "#7fbc41"
            ],
            [
             0.9,
             "#4d9221"
            ],
            [
             1,
             "#276419"
            ]
           ],
           "sequential": [
            [
             0,
             "#0d0887"
            ],
            [
             0.1111111111111111,
             "#46039f"
            ],
            [
             0.2222222222222222,
             "#7201a8"
            ],
            [
             0.3333333333333333,
             "#9c179e"
            ],
            [
             0.4444444444444444,
             "#bd3786"
            ],
            [
             0.5555555555555556,
             "#d8576b"
            ],
            [
             0.6666666666666666,
             "#ed7953"
            ],
            [
             0.7777777777777778,
             "#fb9f3a"
            ],
            [
             0.8888888888888888,
             "#fdca26"
            ],
            [
             1,
             "#f0f921"
            ]
           ],
           "sequentialminus": [
            [
             0,
             "#0d0887"
            ],
            [
             0.1111111111111111,
             "#46039f"
            ],
            [
             0.2222222222222222,
             "#7201a8"
            ],
            [
             0.3333333333333333,
             "#9c179e"
            ],
            [
             0.4444444444444444,
             "#bd3786"
            ],
            [
             0.5555555555555556,
             "#d8576b"
            ],
            [
             0.6666666666666666,
             "#ed7953"
            ],
            [
             0.7777777777777778,
             "#fb9f3a"
            ],
            [
             0.8888888888888888,
             "#fdca26"
            ],
            [
             1,
             "#f0f921"
            ]
           ]
          },
          "colorway": [
           "#636efa",
           "#EF553B",
           "#00cc96",
           "#ab63fa",
           "#FFA15A",
           "#19d3f3",
           "#FF6692",
           "#B6E880",
           "#FF97FF",
           "#FECB52"
          ],
          "font": {
           "color": "#2a3f5f"
          },
          "geo": {
           "bgcolor": "white",
           "lakecolor": "white",
           "landcolor": "white",
           "showlakes": true,
           "showland": true,
           "subunitcolor": "#C8D4E3"
          },
          "hoverlabel": {
           "align": "left"
          },
          "hovermode": "closest",
          "mapbox": {
           "style": "light"
          },
          "paper_bgcolor": "white",
          "plot_bgcolor": "white",
          "polar": {
           "angularaxis": {
            "gridcolor": "#EBF0F8",
            "linecolor": "#EBF0F8",
            "ticks": ""
           },
           "bgcolor": "white",
           "radialaxis": {
            "gridcolor": "#EBF0F8",
            "linecolor": "#EBF0F8",
            "ticks": ""
           }
          },
          "scene": {
           "xaxis": {
            "backgroundcolor": "white",
            "gridcolor": "#DFE8F3",
            "gridwidth": 2,
            "linecolor": "#EBF0F8",
            "showbackground": true,
            "ticks": "",
            "zerolinecolor": "#EBF0F8"
           },
           "yaxis": {
            "backgroundcolor": "white",
            "gridcolor": "#DFE8F3",
            "gridwidth": 2,
            "linecolor": "#EBF0F8",
            "showbackground": true,
            "ticks": "",
            "zerolinecolor": "#EBF0F8"
           },
           "zaxis": {
            "backgroundcolor": "white",
            "gridcolor": "#DFE8F3",
            "gridwidth": 2,
            "linecolor": "#EBF0F8",
            "showbackground": true,
            "ticks": "",
            "zerolinecolor": "#EBF0F8"
           }
          },
          "shapedefaults": {
           "line": {
            "color": "#2a3f5f"
           }
          },
          "ternary": {
           "aaxis": {
            "gridcolor": "#DFE8F3",
            "linecolor": "#A2B1C6",
            "ticks": ""
           },
           "baxis": {
            "gridcolor": "#DFE8F3",
            "linecolor": "#A2B1C6",
            "ticks": ""
           },
           "bgcolor": "white",
           "caxis": {
            "gridcolor": "#DFE8F3",
            "linecolor": "#A2B1C6",
            "ticks": ""
           }
          },
          "title": {
           "x": 0.05
          },
          "xaxis": {
           "automargin": true,
           "gridcolor": "#EBF0F8",
           "linecolor": "#EBF0F8",
           "ticks": "",
           "title": {
            "standoff": 15
           },
           "zerolinecolor": "#EBF0F8",
           "zerolinewidth": 2
          },
          "yaxis": {
           "automargin": true,
           "gridcolor": "#EBF0F8",
           "linecolor": "#EBF0F8",
           "ticks": "",
           "title": {
            "standoff": 15
           },
           "zerolinecolor": "#EBF0F8",
           "zerolinewidth": 2
          }
         }
        },
        "title": {
         "text": "Effect of GDP per Capita on Happiness Score by Region",
         "y": 0.98
        },
        "xaxis": {
         "anchor": "y",
         "domain": [
          0,
          1
         ],
         "title": {
          "text": "GDP per Capita"
         }
        },
        "yaxis": {
         "anchor": "x",
         "domain": [
          0,
          1
         ],
         "title": {
          "text": "Happiness Score"
         }
        }
       }
      }
     },
     "metadata": {},
     "output_type": "display_data"
    }
   ],
   "source": [
    "\n",
    "# Create a scatter plot using Plotly Express\n",
    "fig_scatter = px.scatter(data_cleaned, \n",
    "                 x='Economy (GDP per Capita)', \n",
    "                 y='Happiness Score', \n",
    "                 color='Region', \n",
    "                 title='Effect of GDP per Capita on Happiness Score by Region',\n",
    "                 labels={'Economy (GDP per Capita)': 'GDP per Capita', 'Happiness Score': 'Happiness Score'},\n",
    "                 hover_name='Country',\n",
    "                 size='Happiness Score', \n",
    "                 template='plotly_white')\n",
    "\n",
    "# Update layout to flatten the legend above the chart\n",
    "fig_scatter.update_layout(legend=dict(title='Region', orientation='h', yanchor='bottom', \n",
    "                              y=1.02, xanchor='center', x=0.5), title_y=0.98)\n",
    "\n",
    "# Show the plot\n",
    "fig_scatter.show()\n"
   ]
  },
  {
   "cell_type": "markdown",
   "metadata": {},
   "source": [
    "#### Prompt-9: **``` in the next cell Create a pie chart to present Happiness Score by region```**"
   ]
  },
  {
   "cell_type": "code",
   "execution_count": 12,
   "metadata": {},
   "outputs": [
    {
     "data": {
      "application/vnd.plotly.v1+json": {
       "config": {
        "plotlyServerURL": "https://plot.ly"
       },
       "data": [
        {
         "domain": {
          "x": [
           0,
           1
          ],
          "y": [
           0,
           1
          ]
         },
         "hovertemplate": "Region=%{label}<br>Happiness Score=%{value}<extra></extra>",
         "labels": [
          "Australia and New Zealand",
          "Central and Eastern Europe",
          "Eastern Asia",
          "Latin America and Caribbean",
          "Middle East and Northern Africa",
          "North America",
          "Southeastern Asia",
          "Southern Asia",
          "Sub-Saharan Africa",
          "Western Europe"
         ],
         "legendgroup": "",
         "name": "",
         "showlegend": true,
         "type": "pie",
         "values": [
          7.323499999999999,
          5.345428571428571,
          5.6241666666666665,
          6.115,
          5.339833333333334,
          7.404,
          5.338888888888889,
          4.5249999999999995,
          4.122945945945946,
          6.733388888888889
         ]
        }
       ],
       "layout": {
        "legend": {
         "tracegroupgap": 0
        },
        "template": {
         "data": {
          "bar": [
           {
            "error_x": {
             "color": "#2a3f5f"
            },
            "error_y": {
             "color": "#2a3f5f"
            },
            "marker": {
             "line": {
              "color": "white",
              "width": 0.5
             },
             "pattern": {
              "fillmode": "overlay",
              "size": 10,
              "solidity": 0.2
             }
            },
            "type": "bar"
           }
          ],
          "barpolar": [
           {
            "marker": {
             "line": {
              "color": "white",
              "width": 0.5
             },
             "pattern": {
              "fillmode": "overlay",
              "size": 10,
              "solidity": 0.2
             }
            },
            "type": "barpolar"
           }
          ],
          "carpet": [
           {
            "aaxis": {
             "endlinecolor": "#2a3f5f",
             "gridcolor": "#C8D4E3",
             "linecolor": "#C8D4E3",
             "minorgridcolor": "#C8D4E3",
             "startlinecolor": "#2a3f5f"
            },
            "baxis": {
             "endlinecolor": "#2a3f5f",
             "gridcolor": "#C8D4E3",
             "linecolor": "#C8D4E3",
             "minorgridcolor": "#C8D4E3",
             "startlinecolor": "#2a3f5f"
            },
            "type": "carpet"
           }
          ],
          "choropleth": [
           {
            "colorbar": {
             "outlinewidth": 0,
             "ticks": ""
            },
            "type": "choropleth"
           }
          ],
          "contour": [
           {
            "colorbar": {
             "outlinewidth": 0,
             "ticks": ""
            },
            "colorscale": [
             [
              0,
              "#0d0887"
             ],
             [
              0.1111111111111111,
              "#46039f"
             ],
             [
              0.2222222222222222,
              "#7201a8"
             ],
             [
              0.3333333333333333,
              "#9c179e"
             ],
             [
              0.4444444444444444,
              "#bd3786"
             ],
             [
              0.5555555555555556,
              "#d8576b"
             ],
             [
              0.6666666666666666,
              "#ed7953"
             ],
             [
              0.7777777777777778,
              "#fb9f3a"
             ],
             [
              0.8888888888888888,
              "#fdca26"
             ],
             [
              1,
              "#f0f921"
             ]
            ],
            "type": "contour"
           }
          ],
          "contourcarpet": [
           {
            "colorbar": {
             "outlinewidth": 0,
             "ticks": ""
            },
            "type": "contourcarpet"
           }
          ],
          "heatmap": [
           {
            "colorbar": {
             "outlinewidth": 0,
             "ticks": ""
            },
            "colorscale": [
             [
              0,
              "#0d0887"
             ],
             [
              0.1111111111111111,
              "#46039f"
             ],
             [
              0.2222222222222222,
              "#7201a8"
             ],
             [
              0.3333333333333333,
              "#9c179e"
             ],
             [
              0.4444444444444444,
              "#bd3786"
             ],
             [
              0.5555555555555556,
              "#d8576b"
             ],
             [
              0.6666666666666666,
              "#ed7953"
             ],
             [
              0.7777777777777778,
              "#fb9f3a"
             ],
             [
              0.8888888888888888,
              "#fdca26"
             ],
             [
              1,
              "#f0f921"
             ]
            ],
            "type": "heatmap"
           }
          ],
          "heatmapgl": [
           {
            "colorbar": {
             "outlinewidth": 0,
             "ticks": ""
            },
            "colorscale": [
             [
              0,
              "#0d0887"
             ],
             [
              0.1111111111111111,
              "#46039f"
             ],
             [
              0.2222222222222222,
              "#7201a8"
             ],
             [
              0.3333333333333333,
              "#9c179e"
             ],
             [
              0.4444444444444444,
              "#bd3786"
             ],
             [
              0.5555555555555556,
              "#d8576b"
             ],
             [
              0.6666666666666666,
              "#ed7953"
             ],
             [
              0.7777777777777778,
              "#fb9f3a"
             ],
             [
              0.8888888888888888,
              "#fdca26"
             ],
             [
              1,
              "#f0f921"
             ]
            ],
            "type": "heatmapgl"
           }
          ],
          "histogram": [
           {
            "marker": {
             "pattern": {
              "fillmode": "overlay",
              "size": 10,
              "solidity": 0.2
             }
            },
            "type": "histogram"
           }
          ],
          "histogram2d": [
           {
            "colorbar": {
             "outlinewidth": 0,
             "ticks": ""
            },
            "colorscale": [
             [
              0,
              "#0d0887"
             ],
             [
              0.1111111111111111,
              "#46039f"
             ],
             [
              0.2222222222222222,
              "#7201a8"
             ],
             [
              0.3333333333333333,
              "#9c179e"
             ],
             [
              0.4444444444444444,
              "#bd3786"
             ],
             [
              0.5555555555555556,
              "#d8576b"
             ],
             [
              0.6666666666666666,
              "#ed7953"
             ],
             [
              0.7777777777777778,
              "#fb9f3a"
             ],
             [
              0.8888888888888888,
              "#fdca26"
             ],
             [
              1,
              "#f0f921"
             ]
            ],
            "type": "histogram2d"
           }
          ],
          "histogram2dcontour": [
           {
            "colorbar": {
             "outlinewidth": 0,
             "ticks": ""
            },
            "colorscale": [
             [
              0,
              "#0d0887"
             ],
             [
              0.1111111111111111,
              "#46039f"
             ],
             [
              0.2222222222222222,
              "#7201a8"
             ],
             [
              0.3333333333333333,
              "#9c179e"
             ],
             [
              0.4444444444444444,
              "#bd3786"
             ],
             [
              0.5555555555555556,
              "#d8576b"
             ],
             [
              0.6666666666666666,
              "#ed7953"
             ],
             [
              0.7777777777777778,
              "#fb9f3a"
             ],
             [
              0.8888888888888888,
              "#fdca26"
             ],
             [
              1,
              "#f0f921"
             ]
            ],
            "type": "histogram2dcontour"
           }
          ],
          "mesh3d": [
           {
            "colorbar": {
             "outlinewidth": 0,
             "ticks": ""
            },
            "type": "mesh3d"
           }
          ],
          "parcoords": [
           {
            "line": {
             "colorbar": {
              "outlinewidth": 0,
              "ticks": ""
             }
            },
            "type": "parcoords"
           }
          ],
          "pie": [
           {
            "automargin": true,
            "type": "pie"
           }
          ],
          "scatter": [
           {
            "fillpattern": {
             "fillmode": "overlay",
             "size": 10,
             "solidity": 0.2
            },
            "type": "scatter"
           }
          ],
          "scatter3d": [
           {
            "line": {
             "colorbar": {
              "outlinewidth": 0,
              "ticks": ""
             }
            },
            "marker": {
             "colorbar": {
              "outlinewidth": 0,
              "ticks": ""
             }
            },
            "type": "scatter3d"
           }
          ],
          "scattercarpet": [
           {
            "marker": {
             "colorbar": {
              "outlinewidth": 0,
              "ticks": ""
             }
            },
            "type": "scattercarpet"
           }
          ],
          "scattergeo": [
           {
            "marker": {
             "colorbar": {
              "outlinewidth": 0,
              "ticks": ""
             }
            },
            "type": "scattergeo"
           }
          ],
          "scattergl": [
           {
            "marker": {
             "colorbar": {
              "outlinewidth": 0,
              "ticks": ""
             }
            },
            "type": "scattergl"
           }
          ],
          "scattermapbox": [
           {
            "marker": {
             "colorbar": {
              "outlinewidth": 0,
              "ticks": ""
             }
            },
            "type": "scattermapbox"
           }
          ],
          "scatterpolar": [
           {
            "marker": {
             "colorbar": {
              "outlinewidth": 0,
              "ticks": ""
             }
            },
            "type": "scatterpolar"
           }
          ],
          "scatterpolargl": [
           {
            "marker": {
             "colorbar": {
              "outlinewidth": 0,
              "ticks": ""
             }
            },
            "type": "scatterpolargl"
           }
          ],
          "scatterternary": [
           {
            "marker": {
             "colorbar": {
              "outlinewidth": 0,
              "ticks": ""
             }
            },
            "type": "scatterternary"
           }
          ],
          "surface": [
           {
            "colorbar": {
             "outlinewidth": 0,
             "ticks": ""
            },
            "colorscale": [
             [
              0,
              "#0d0887"
             ],
             [
              0.1111111111111111,
              "#46039f"
             ],
             [
              0.2222222222222222,
              "#7201a8"
             ],
             [
              0.3333333333333333,
              "#9c179e"
             ],
             [
              0.4444444444444444,
              "#bd3786"
             ],
             [
              0.5555555555555556,
              "#d8576b"
             ],
             [
              0.6666666666666666,
              "#ed7953"
             ],
             [
              0.7777777777777778,
              "#fb9f3a"
             ],
             [
              0.8888888888888888,
              "#fdca26"
             ],
             [
              1,
              "#f0f921"
             ]
            ],
            "type": "surface"
           }
          ],
          "table": [
           {
            "cells": {
             "fill": {
              "color": "#EBF0F8"
             },
             "line": {
              "color": "white"
             }
            },
            "header": {
             "fill": {
              "color": "#C8D4E3"
             },
             "line": {
              "color": "white"
             }
            },
            "type": "table"
           }
          ]
         },
         "layout": {
          "annotationdefaults": {
           "arrowcolor": "#2a3f5f",
           "arrowhead": 0,
           "arrowwidth": 1
          },
          "autotypenumbers": "strict",
          "coloraxis": {
           "colorbar": {
            "outlinewidth": 0,
            "ticks": ""
           }
          },
          "colorscale": {
           "diverging": [
            [
             0,
             "#8e0152"
            ],
            [
             0.1,
             "#c51b7d"
            ],
            [
             0.2,
             "#de77ae"
            ],
            [
             0.3,
             "#f1b6da"
            ],
            [
             0.4,
             "#fde0ef"
            ],
            [
             0.5,
             "#f7f7f7"
            ],
            [
             0.6,
             "#e6f5d0"
            ],
            [
             0.7,
             "#b8e186"
            ],
            [
             0.8,
             "#7fbc41"
            ],
            [
             0.9,
             "#4d9221"
            ],
            [
             1,
             "#276419"
            ]
           ],
           "sequential": [
            [
             0,
             "#0d0887"
            ],
            [
             0.1111111111111111,
             "#46039f"
            ],
            [
             0.2222222222222222,
             "#7201a8"
            ],
            [
             0.3333333333333333,
             "#9c179e"
            ],
            [
             0.4444444444444444,
             "#bd3786"
            ],
            [
             0.5555555555555556,
             "#d8576b"
            ],
            [
             0.6666666666666666,
             "#ed7953"
            ],
            [
             0.7777777777777778,
             "#fb9f3a"
            ],
            [
             0.8888888888888888,
             "#fdca26"
            ],
            [
             1,
             "#f0f921"
            ]
           ],
           "sequentialminus": [
            [
             0,
             "#0d0887"
            ],
            [
             0.1111111111111111,
             "#46039f"
            ],
            [
             0.2222222222222222,
             "#7201a8"
            ],
            [
             0.3333333333333333,
             "#9c179e"
            ],
            [
             0.4444444444444444,
             "#bd3786"
            ],
            [
             0.5555555555555556,
             "#d8576b"
            ],
            [
             0.6666666666666666,
             "#ed7953"
            ],
            [
             0.7777777777777778,
             "#fb9f3a"
            ],
            [
             0.8888888888888888,
             "#fdca26"
            ],
            [
             1,
             "#f0f921"
            ]
           ]
          },
          "colorway": [
           "#636efa",
           "#EF553B",
           "#00cc96",
           "#ab63fa",
           "#FFA15A",
           "#19d3f3",
           "#FF6692",
           "#B6E880",
           "#FF97FF",
           "#FECB52"
          ],
          "font": {
           "color": "#2a3f5f"
          },
          "geo": {
           "bgcolor": "white",
           "lakecolor": "white",
           "landcolor": "white",
           "showlakes": true,
           "showland": true,
           "subunitcolor": "#C8D4E3"
          },
          "hoverlabel": {
           "align": "left"
          },
          "hovermode": "closest",
          "mapbox": {
           "style": "light"
          },
          "paper_bgcolor": "white",
          "plot_bgcolor": "white",
          "polar": {
           "angularaxis": {
            "gridcolor": "#EBF0F8",
            "linecolor": "#EBF0F8",
            "ticks": ""
           },
           "bgcolor": "white",
           "radialaxis": {
            "gridcolor": "#EBF0F8",
            "linecolor": "#EBF0F8",
            "ticks": ""
           }
          },
          "scene": {
           "xaxis": {
            "backgroundcolor": "white",
            "gridcolor": "#DFE8F3",
            "gridwidth": 2,
            "linecolor": "#EBF0F8",
            "showbackground": true,
            "ticks": "",
            "zerolinecolor": "#EBF0F8"
           },
           "yaxis": {
            "backgroundcolor": "white",
            "gridcolor": "#DFE8F3",
            "gridwidth": 2,
            "linecolor": "#EBF0F8",
            "showbackground": true,
            "ticks": "",
            "zerolinecolor": "#EBF0F8"
           },
           "zaxis": {
            "backgroundcolor": "white",
            "gridcolor": "#DFE8F3",
            "gridwidth": 2,
            "linecolor": "#EBF0F8",
            "showbackground": true,
            "ticks": "",
            "zerolinecolor": "#EBF0F8"
           }
          },
          "shapedefaults": {
           "line": {
            "color": "#2a3f5f"
           }
          },
          "ternary": {
           "aaxis": {
            "gridcolor": "#DFE8F3",
            "linecolor": "#A2B1C6",
            "ticks": ""
           },
           "baxis": {
            "gridcolor": "#DFE8F3",
            "linecolor": "#A2B1C6",
            "ticks": ""
           },
           "bgcolor": "white",
           "caxis": {
            "gridcolor": "#DFE8F3",
            "linecolor": "#A2B1C6",
            "ticks": ""
           }
          },
          "title": {
           "x": 0.05
          },
          "xaxis": {
           "automargin": true,
           "gridcolor": "#EBF0F8",
           "linecolor": "#EBF0F8",
           "ticks": "",
           "title": {
            "standoff": 15
           },
           "zerolinecolor": "#EBF0F8",
           "zerolinewidth": 2
          },
          "yaxis": {
           "automargin": true,
           "gridcolor": "#EBF0F8",
           "linecolor": "#EBF0F8",
           "ticks": "",
           "title": {
            "standoff": 15
           },
           "zerolinecolor": "#EBF0F8",
           "zerolinewidth": 2
          }
         }
        },
        "title": {
         "text": "Happiness Score Distribution by Region"
        }
       }
      }
     },
     "metadata": {},
     "output_type": "display_data"
    }
   ],
   "source": [
    "# Calculate the average Happiness Score by region\n",
    "happiness_by_region = data_cleaned.groupby('Region')['Happiness Score'].mean().reset_index()\n",
    "\n",
    "# Create a pie chart using Plotly Express\n",
    "fig_pie = px.pie(happiness_by_region, \n",
    "             values='Happiness Score', \n",
    "             names='Region', \n",
    "             title='Happiness Score Distribution by Region',\n",
    "             template='plotly_white')\n",
    "\n",
    "# Show the plot\n",
    "fig_pie.show()"
   ]
  },
  {
   "cell_type": "markdown",
   "metadata": {},
   "source": [
    "#### Prompt-10: **```in the next cell we need to``` ```Create a map to display GDP per capita of countries and include Healthy Life Expectancy to be shown as a tooltip```**"
   ]
  },
  {
   "cell_type": "code",
   "execution_count": 13,
   "metadata": {},
   "outputs": [
    {
     "data": {
      "application/vnd.plotly.v1+json": {
       "config": {
        "plotlyServerURL": "https://plot.ly"
       },
       "data": [
        {
         "coloraxis": "coloraxis",
         "customdata": [
          [
           0.79504
          ],
          [
           0.86303
          ],
          [
           0.86733
          ],
          [
           0.79579
          ],
          [
           0.81091
          ],
          [
           0.8276
          ],
          [
           0.81231
          ],
          [
           0.83096
          ],
          [
           0.8512
          ],
          [
           0.84917
          ],
          [
           0.80565
          ],
          [
           0.76146
          ],
          [
           0.81487
          ],
          [
           0.61415
          ],
          [
           0.81959
          ],
          [
           0.81455
          ],
          [
           0.84542
          ],
          [
           0.71143
          ],
          [
           0.94719
          ],
          [
           0.80991
          ],
          [
           0.81883
          ],
          [
           0.70835
          ],
          [
           0.69711
          ],
          [
           0.76376
          ],
          [
           0.72993
          ],
          [
           0.72183
          ],
          [
           0.80315
          ],
          [
           0.59659
          ],
          [
           0.83795
          ],
          [
           0.64915
          ],
          [
           0.59267
          ],
          [
           0.79565
          ],
          [
           0.71723
          ],
          [
           0.61804
          ],
          [
           0.54039
          ],
          [
           0.50933
          ],
          [
           0.63569
          ],
          [
           0.52608
          ],
          [
           0.61904
          ],
          [
           0.596
          ],
          [
           0.62366
          ],
          [
           0.65213
          ],
          [
           0.50163
          ],
          [
           0.85102
          ],
          [
           0.68613
          ],
          [
           0.45569
          ],
          [
           0.91491
          ],
          [
           0.57386
          ],
          [
           0.52309
          ],
          [
           0.58991
          ],
          [
           0.69058
          ],
          [
           0.88645
          ],
          [
           0.64674
          ],
          [
           0.63104
          ],
          [
           0.84142
          ],
          [
           0.79151
          ],
          [
           0.44006
          ],
          [
           0.66189
          ],
          [
           0.52304
          ],
          [
           0.63952
          ],
          [
           0.67602
          ],
          [
           0.68098
          ],
          [
           0.59469
          ],
          [
           0.70524
          ],
          [
           0.95277
          ],
          [
           0.11466
          ],
          [
           0.54
          ],
          [
           0.64718
          ],
          [
           0.49374
          ],
          [
           0.60712
          ],
          [
           0.54504
          ],
          [
           0.47036
          ],
          [
           0.73561
          ],
          [
           0.49759
          ],
          [
           0.55449
          ],
          [
           0.6458
          ],
          [
           0.70766
          ],
          [
           0.63533
          ],
          [
           0.57669
          ],
          [
           0.59471
          ],
          [
           0.67608
          ],
          [
           0.40306
          ],
          [
           0.76171
          ],
          [
           0.79363
          ],
          [
           0.64738
          ],
          [
           0.66157
          ],
          [
           0.33108
          ],
          [
           0.59577
          ],
          [
           0.80029
          ],
          [
           0.53119
          ],
          [
           0.55469
          ],
          [
           0.38291
          ],
          [
           0.05108
          ],
          [
           0.58383
          ],
          [
           0.64232
          ],
          [
           0.23573
          ],
          [
           0.56844
          ],
          [
           0.73007
          ],
          [
           0.52989
          ],
          [
           0.51076
          ],
          [
           0.34745
          ],
          [
           0.12698
          ],
          [
           0.34578
          ],
          [
           0.18611
          ],
          [
           0.62007
          ],
          [
           0.45091
          ],
          [
           0.3988
          ],
          [
           0.52116
          ],
          [
           0.64083
          ],
          [
           0.30147
          ],
          [
           0.58628
          ],
          [
           0.29681
          ],
          [
           0.188
          ],
          [
           0.64035
          ],
          [
           0.28212
          ],
          [
           0.40457
          ],
          [
           0.67806
          ],
          [
           0.28639
          ],
          [
           0.1595
          ],
          [
           0.29364
          ],
          [
           0.29759
          ],
          [
           0.3494
          ],
          [
           0.16347
          ],
          [
           0.27494
          ],
          [
           0.34752
          ],
          [
           0.29981
          ],
          [
           0.04476
          ],
          [
           0.42494
          ],
          [
           0.04991
          ],
          [
           0.26162
          ],
          [
           0.15781
          ],
          [
           0.03824
          ],
          [
           0.21297
          ],
          [
           0.19625
          ],
          [
           0.31048
          ],
          [
           0.37109
          ],
          [
           0.357
          ],
          [
           0.23165
          ],
          [
           0.18829
          ],
          [
           0.31865
          ],
          [
           0.21028
          ],
          [
           0.17344
          ],
          [
           0.24811
          ],
          [
           0.62994
          ],
          [
           0.15747
          ]
         ],
         "geo": "geo",
         "hovertemplate": "<b>%{hovertext}</b><br><br>Country=%{location}<br>Health (Life Expectancy)=%{customdata[0]}<br>Economy (GDP per Capita)=%{z}<extra></extra>",
         "hovertext": [
          "Denmark",
          "Switzerland",
          "Iceland",
          "Norway",
          "Finland",
          "Canada",
          "Netherlands",
          "New Zealand",
          "Australia",
          "Israel",
          "Austria",
          "Costa Rica",
          "Germany",
          "Brazil",
          "Belgium",
          "Ireland",
          "Luxembourg",
          "Mexico",
          "Singapore",
          "United Kingdom",
          "Chile",
          "Panama",
          "Argentina",
          "Czech Republic",
          "United Arab Emirates",
          "Uruguay",
          "Malta",
          "Colombia",
          "France",
          "Thailand",
          "Saudi Arabia",
          "Taiwan",
          "Qatar",
          "Algeria",
          "Guatemala",
          "Suriname",
          "Kuwait",
          "Trinidad and Tobago",
          "Venezuela",
          "El Salvador",
          "Malaysia",
          "Nicaragua",
          "Uzbekistan",
          "Italy",
          "Ecuador",
          "Belize",
          "Japan",
          "Kazakhstan",
          "Moldova",
          "Russia",
          "Poland",
          "South Korea",
          "Lithuania",
          "Belarus",
          "North Cyprus",
          "Slovenia",
          "Turkmenistan",
          "Mauritius",
          "Libya",
          "Latvia",
          "Romania",
          "Estonia",
          "Jamaica",
          "Croatia",
          "Hong Kong",
          "Somalia",
          "Kosovo",
          "Turkey",
          "Indonesia",
          "Jordan",
          "Azerbaijan",
          "Philippines",
          "China",
          "Bhutan",
          "Kyrgyzstan",
          "Serbia",
          "Bosnia and Herzegovina",
          "Montenegro",
          "Dominican Republic",
          "Morocco",
          "Hungary",
          "Pakistan",
          "Lebanon",
          "Portugal",
          "Macedonia",
          "Vietnam",
          "Somaliland Region",
          "Tunisia",
          "Greece",
          "Tajikistan",
          "Mongolia",
          "Laos",
          "Nigeria",
          "Honduras",
          "Iran",
          "Zambia",
          "Palestinian Territories",
          "Albania",
          "Bangladesh",
          "Iraq",
          "Namibia",
          "Cameroon",
          "Ethiopia",
          "South Africa",
          "Sri Lanka",
          "India",
          "Myanmar",
          "Egypt",
          "Armenia",
          "Kenya",
          "Ukraine",
          "Ghana",
          "Congo (Kinshasa)",
          "Georgia",
          "Congo (Brazzaville)",
          "Senegal",
          "Bulgaria",
          "Mauritania",
          "Zimbabwe",
          "Malawi",
          "Sudan",
          "Gabon",
          "Mali",
          "Haiti",
          "Botswana",
          "Comoros",
          "Ivory Coast",
          "Cambodia",
          "Angola",
          "Niger",
          "South Sudan",
          "Chad",
          "Burkina Faso",
          "Uganda",
          "Yemen",
          "Madagascar",
          "Tanzania",
          "Liberia",
          "Guinea",
          "Rwanda",
          "Benin",
          "Afghanistan",
          "Togo",
          "Syria",
          "Burundi"
         ],
         "locationmode": "country names",
         "locations": [
          "Denmark",
          "Switzerland",
          "Iceland",
          "Norway",
          "Finland",
          "Canada",
          "Netherlands",
          "New Zealand",
          "Australia",
          "Israel",
          "Austria",
          "Costa Rica",
          "Germany",
          "Brazil",
          "Belgium",
          "Ireland",
          "Luxembourg",
          "Mexico",
          "Singapore",
          "United Kingdom",
          "Chile",
          "Panama",
          "Argentina",
          "Czech Republic",
          "United Arab Emirates",
          "Uruguay",
          "Malta",
          "Colombia",
          "France",
          "Thailand",
          "Saudi Arabia",
          "Taiwan",
          "Qatar",
          "Algeria",
          "Guatemala",
          "Suriname",
          "Kuwait",
          "Trinidad and Tobago",
          "Venezuela",
          "El Salvador",
          "Malaysia",
          "Nicaragua",
          "Uzbekistan",
          "Italy",
          "Ecuador",
          "Belize",
          "Japan",
          "Kazakhstan",
          "Moldova",
          "Russia",
          "Poland",
          "South Korea",
          "Lithuania",
          "Belarus",
          "North Cyprus",
          "Slovenia",
          "Turkmenistan",
          "Mauritius",
          "Libya",
          "Latvia",
          "Romania",
          "Estonia",
          "Jamaica",
          "Croatia",
          "Hong Kong",
          "Somalia",
          "Kosovo",
          "Turkey",
          "Indonesia",
          "Jordan",
          "Azerbaijan",
          "Philippines",
          "China",
          "Bhutan",
          "Kyrgyzstan",
          "Serbia",
          "Bosnia and Herzegovina",
          "Montenegro",
          "Dominican Republic",
          "Morocco",
          "Hungary",
          "Pakistan",
          "Lebanon",
          "Portugal",
          "Macedonia",
          "Vietnam",
          "Somaliland Region",
          "Tunisia",
          "Greece",
          "Tajikistan",
          "Mongolia",
          "Laos",
          "Nigeria",
          "Honduras",
          "Iran",
          "Zambia",
          "Palestinian Territories",
          "Albania",
          "Bangladesh",
          "Iraq",
          "Namibia",
          "Cameroon",
          "Ethiopia",
          "South Africa",
          "Sri Lanka",
          "India",
          "Myanmar",
          "Egypt",
          "Armenia",
          "Kenya",
          "Ukraine",
          "Ghana",
          "Congo (Kinshasa)",
          "Georgia",
          "Congo (Brazzaville)",
          "Senegal",
          "Bulgaria",
          "Mauritania",
          "Zimbabwe",
          "Malawi",
          "Sudan",
          "Gabon",
          "Mali",
          "Haiti",
          "Botswana",
          "Comoros",
          "Ivory Coast",
          "Cambodia",
          "Angola",
          "Niger",
          "South Sudan",
          "Chad",
          "Burkina Faso",
          "Uganda",
          "Yemen",
          "Madagascar",
          "Tanzania",
          "Liberia",
          "Guinea",
          "Rwanda",
          "Benin",
          "Afghanistan",
          "Togo",
          "Syria",
          "Burundi"
         ],
         "name": "",
         "type": "choropleth",
         "z": [
          1.44178,
          1.52733,
          1.42666,
          1.57744,
          1.40598,
          1.44015,
          1.46468,
          1.36066,
          1.44443,
          1.33766,
          1.45038,
          1.06879,
          1.44787,
          1.08754,
          1.42539,
          1.48341,
          1.69752,
          1.11508,
          1.64555,
          1.40283,
          1.2167,
          1.18306,
          1.15137,
          1.30915,
          1.57352,
          1.18157,
          1.30782,
          1.03032,
          1.39488,
          1.0893,
          1.48953,
          1.39729,
          1.82427,
          1.05266,
          0.83454,
          1.09686,
          1.61714,
          1.32572,
          1.13367,
          0.8737,
          1.25142,
          0.69384,
          0.73591,
          1.35495,
          0.97306,
          0.87616,
          1.38007,
          1.22943,
          0.69177,
          1.23228,
          1.24585,
          1.35948,
          1.2692,
          1.13062,
          1.31141,
          1.29947,
          1.08017,
          1.14372,
          1.06688,
          1.21788,
          1.1697,
          1.27964,
          0.89333,
          1.18649,
          1.5107,
          0,
          0.90145,
          1.16492,
          0.95104,
          0.99673,
          1.12373,
          0.81217,
          1.0278,
          0.8527,
          0.56044,
          1.03437,
          0.93383,
          1.07838,
          1.02787,
          0.84058,
          1.24142,
          0.68816,
          1.12268,
          1.27607,
          1.0193,
          0.74037,
          0.25558,
          0.97724,
          1.24886,
          0.48835,
          0.98853,
          0.68042,
          0.75216,
          0.69429,
          1.11758,
          0.61202,
          0.67024,
          0.9553,
          0.54177,
          1.07474,
          0.93287,
          0.52497,
          0.29283,
          1.02416,
          0.97318,
          0.74036,
          0.34112,
          0.95395,
          0.86086,
          0.52267,
          0.87287,
          0.63107,
          0.05661,
          0.83792,
          0.77109,
          0.44314,
          1.11306,
          0.61391,
          0.35041,
          0.08709,
          0.63069,
          1.15851,
          0.31292,
          0.34097,
          1.09426,
          0.27509,
          0.55507,
          0.55604,
          0.84731,
          0.1327,
          0.39394,
          0.42214,
          0.31995,
          0.34719,
          0.57939,
          0.27954,
          0.47155,
          0.10706,
          0.22415,
          0.32846,
          0.39499,
          0.38227,
          0.28123,
          0.74719,
          0.06831
         ]
        }
       ],
       "layout": {
        "coloraxis": {
         "colorbar": {
          "title": {
           "text": "Economy (GDP per Capita)"
          }
         },
         "colorscale": [
          [
           0,
           "#440154"
          ],
          [
           0.1111111111111111,
           "#482878"
          ],
          [
           0.2222222222222222,
           "#3e4989"
          ],
          [
           0.3333333333333333,
           "#31688e"
          ],
          [
           0.4444444444444444,
           "#26828e"
          ],
          [
           0.5555555555555556,
           "#1f9e89"
          ],
          [
           0.6666666666666666,
           "#35b779"
          ],
          [
           0.7777777777777778,
           "#6ece58"
          ],
          [
           0.8888888888888888,
           "#b5de2b"
          ],
          [
           1,
           "#fde725"
          ]
         ]
        },
        "geo": {
         "center": {},
         "domain": {
          "x": [
           0,
           1
          ],
          "y": [
           0,
           1
          ]
         }
        },
        "legend": {
         "tracegroupgap": 0
        },
        "template": {
         "data": {
          "bar": [
           {
            "error_x": {
             "color": "#2a3f5f"
            },
            "error_y": {
             "color": "#2a3f5f"
            },
            "marker": {
             "line": {
              "color": "#E5ECF6",
              "width": 0.5
             },
             "pattern": {
              "fillmode": "overlay",
              "size": 10,
              "solidity": 0.2
             }
            },
            "type": "bar"
           }
          ],
          "barpolar": [
           {
            "marker": {
             "line": {
              "color": "#E5ECF6",
              "width": 0.5
             },
             "pattern": {
              "fillmode": "overlay",
              "size": 10,
              "solidity": 0.2
             }
            },
            "type": "barpolar"
           }
          ],
          "carpet": [
           {
            "aaxis": {
             "endlinecolor": "#2a3f5f",
             "gridcolor": "white",
             "linecolor": "white",
             "minorgridcolor": "white",
             "startlinecolor": "#2a3f5f"
            },
            "baxis": {
             "endlinecolor": "#2a3f5f",
             "gridcolor": "white",
             "linecolor": "white",
             "minorgridcolor": "white",
             "startlinecolor": "#2a3f5f"
            },
            "type": "carpet"
           }
          ],
          "choropleth": [
           {
            "colorbar": {
             "outlinewidth": 0,
             "ticks": ""
            },
            "type": "choropleth"
           }
          ],
          "contour": [
           {
            "colorbar": {
             "outlinewidth": 0,
             "ticks": ""
            },
            "colorscale": [
             [
              0,
              "#0d0887"
             ],
             [
              0.1111111111111111,
              "#46039f"
             ],
             [
              0.2222222222222222,
              "#7201a8"
             ],
             [
              0.3333333333333333,
              "#9c179e"
             ],
             [
              0.4444444444444444,
              "#bd3786"
             ],
             [
              0.5555555555555556,
              "#d8576b"
             ],
             [
              0.6666666666666666,
              "#ed7953"
             ],
             [
              0.7777777777777778,
              "#fb9f3a"
             ],
             [
              0.8888888888888888,
              "#fdca26"
             ],
             [
              1,
              "#f0f921"
             ]
            ],
            "type": "contour"
           }
          ],
          "contourcarpet": [
           {
            "colorbar": {
             "outlinewidth": 0,
             "ticks": ""
            },
            "type": "contourcarpet"
           }
          ],
          "heatmap": [
           {
            "colorbar": {
             "outlinewidth": 0,
             "ticks": ""
            },
            "colorscale": [
             [
              0,
              "#0d0887"
             ],
             [
              0.1111111111111111,
              "#46039f"
             ],
             [
              0.2222222222222222,
              "#7201a8"
             ],
             [
              0.3333333333333333,
              "#9c179e"
             ],
             [
              0.4444444444444444,
              "#bd3786"
             ],
             [
              0.5555555555555556,
              "#d8576b"
             ],
             [
              0.6666666666666666,
              "#ed7953"
             ],
             [
              0.7777777777777778,
              "#fb9f3a"
             ],
             [
              0.8888888888888888,
              "#fdca26"
             ],
             [
              1,
              "#f0f921"
             ]
            ],
            "type": "heatmap"
           }
          ],
          "heatmapgl": [
           {
            "colorbar": {
             "outlinewidth": 0,
             "ticks": ""
            },
            "colorscale": [
             [
              0,
              "#0d0887"
             ],
             [
              0.1111111111111111,
              "#46039f"
             ],
             [
              0.2222222222222222,
              "#7201a8"
             ],
             [
              0.3333333333333333,
              "#9c179e"
             ],
             [
              0.4444444444444444,
              "#bd3786"
             ],
             [
              0.5555555555555556,
              "#d8576b"
             ],
             [
              0.6666666666666666,
              "#ed7953"
             ],
             [
              0.7777777777777778,
              "#fb9f3a"
             ],
             [
              0.8888888888888888,
              "#fdca26"
             ],
             [
              1,
              "#f0f921"
             ]
            ],
            "type": "heatmapgl"
           }
          ],
          "histogram": [
           {
            "marker": {
             "pattern": {
              "fillmode": "overlay",
              "size": 10,
              "solidity": 0.2
             }
            },
            "type": "histogram"
           }
          ],
          "histogram2d": [
           {
            "colorbar": {
             "outlinewidth": 0,
             "ticks": ""
            },
            "colorscale": [
             [
              0,
              "#0d0887"
             ],
             [
              0.1111111111111111,
              "#46039f"
             ],
             [
              0.2222222222222222,
              "#7201a8"
             ],
             [
              0.3333333333333333,
              "#9c179e"
             ],
             [
              0.4444444444444444,
              "#bd3786"
             ],
             [
              0.5555555555555556,
              "#d8576b"
             ],
             [
              0.6666666666666666,
              "#ed7953"
             ],
             [
              0.7777777777777778,
              "#fb9f3a"
             ],
             [
              0.8888888888888888,
              "#fdca26"
             ],
             [
              1,
              "#f0f921"
             ]
            ],
            "type": "histogram2d"
           }
          ],
          "histogram2dcontour": [
           {
            "colorbar": {
             "outlinewidth": 0,
             "ticks": ""
            },
            "colorscale": [
             [
              0,
              "#0d0887"
             ],
             [
              0.1111111111111111,
              "#46039f"
             ],
             [
              0.2222222222222222,
              "#7201a8"
             ],
             [
              0.3333333333333333,
              "#9c179e"
             ],
             [
              0.4444444444444444,
              "#bd3786"
             ],
             [
              0.5555555555555556,
              "#d8576b"
             ],
             [
              0.6666666666666666,
              "#ed7953"
             ],
             [
              0.7777777777777778,
              "#fb9f3a"
             ],
             [
              0.8888888888888888,
              "#fdca26"
             ],
             [
              1,
              "#f0f921"
             ]
            ],
            "type": "histogram2dcontour"
           }
          ],
          "mesh3d": [
           {
            "colorbar": {
             "outlinewidth": 0,
             "ticks": ""
            },
            "type": "mesh3d"
           }
          ],
          "parcoords": [
           {
            "line": {
             "colorbar": {
              "outlinewidth": 0,
              "ticks": ""
             }
            },
            "type": "parcoords"
           }
          ],
          "pie": [
           {
            "automargin": true,
            "type": "pie"
           }
          ],
          "scatter": [
           {
            "fillpattern": {
             "fillmode": "overlay",
             "size": 10,
             "solidity": 0.2
            },
            "type": "scatter"
           }
          ],
          "scatter3d": [
           {
            "line": {
             "colorbar": {
              "outlinewidth": 0,
              "ticks": ""
             }
            },
            "marker": {
             "colorbar": {
              "outlinewidth": 0,
              "ticks": ""
             }
            },
            "type": "scatter3d"
           }
          ],
          "scattercarpet": [
           {
            "marker": {
             "colorbar": {
              "outlinewidth": 0,
              "ticks": ""
             }
            },
            "type": "scattercarpet"
           }
          ],
          "scattergeo": [
           {
            "marker": {
             "colorbar": {
              "outlinewidth": 0,
              "ticks": ""
             }
            },
            "type": "scattergeo"
           }
          ],
          "scattergl": [
           {
            "marker": {
             "colorbar": {
              "outlinewidth": 0,
              "ticks": ""
             }
            },
            "type": "scattergl"
           }
          ],
          "scattermapbox": [
           {
            "marker": {
             "colorbar": {
              "outlinewidth": 0,
              "ticks": ""
             }
            },
            "type": "scattermapbox"
           }
          ],
          "scatterpolar": [
           {
            "marker": {
             "colorbar": {
              "outlinewidth": 0,
              "ticks": ""
             }
            },
            "type": "scatterpolar"
           }
          ],
          "scatterpolargl": [
           {
            "marker": {
             "colorbar": {
              "outlinewidth": 0,
              "ticks": ""
             }
            },
            "type": "scatterpolargl"
           }
          ],
          "scatterternary": [
           {
            "marker": {
             "colorbar": {
              "outlinewidth": 0,
              "ticks": ""
             }
            },
            "type": "scatterternary"
           }
          ],
          "surface": [
           {
            "colorbar": {
             "outlinewidth": 0,
             "ticks": ""
            },
            "colorscale": [
             [
              0,
              "#0d0887"
             ],
             [
              0.1111111111111111,
              "#46039f"
             ],
             [
              0.2222222222222222,
              "#7201a8"
             ],
             [
              0.3333333333333333,
              "#9c179e"
             ],
             [
              0.4444444444444444,
              "#bd3786"
             ],
             [
              0.5555555555555556,
              "#d8576b"
             ],
             [
              0.6666666666666666,
              "#ed7953"
             ],
             [
              0.7777777777777778,
              "#fb9f3a"
             ],
             [
              0.8888888888888888,
              "#fdca26"
             ],
             [
              1,
              "#f0f921"
             ]
            ],
            "type": "surface"
           }
          ],
          "table": [
           {
            "cells": {
             "fill": {
              "color": "#EBF0F8"
             },
             "line": {
              "color": "white"
             }
            },
            "header": {
             "fill": {
              "color": "#C8D4E3"
             },
             "line": {
              "color": "white"
             }
            },
            "type": "table"
           }
          ]
         },
         "layout": {
          "annotationdefaults": {
           "arrowcolor": "#2a3f5f",
           "arrowhead": 0,
           "arrowwidth": 1
          },
          "autotypenumbers": "strict",
          "coloraxis": {
           "colorbar": {
            "outlinewidth": 0,
            "ticks": ""
           }
          },
          "colorscale": {
           "diverging": [
            [
             0,
             "#8e0152"
            ],
            [
             0.1,
             "#c51b7d"
            ],
            [
             0.2,
             "#de77ae"
            ],
            [
             0.3,
             "#f1b6da"
            ],
            [
             0.4,
             "#fde0ef"
            ],
            [
             0.5,
             "#f7f7f7"
            ],
            [
             0.6,
             "#e6f5d0"
            ],
            [
             0.7,
             "#b8e186"
            ],
            [
             0.8,
             "#7fbc41"
            ],
            [
             0.9,
             "#4d9221"
            ],
            [
             1,
             "#276419"
            ]
           ],
           "sequential": [
            [
             0,
             "#0d0887"
            ],
            [
             0.1111111111111111,
             "#46039f"
            ],
            [
             0.2222222222222222,
             "#7201a8"
            ],
            [
             0.3333333333333333,
             "#9c179e"
            ],
            [
             0.4444444444444444,
             "#bd3786"
            ],
            [
             0.5555555555555556,
             "#d8576b"
            ],
            [
             0.6666666666666666,
             "#ed7953"
            ],
            [
             0.7777777777777778,
             "#fb9f3a"
            ],
            [
             0.8888888888888888,
             "#fdca26"
            ],
            [
             1,
             "#f0f921"
            ]
           ],
           "sequentialminus": [
            [
             0,
             "#0d0887"
            ],
            [
             0.1111111111111111,
             "#46039f"
            ],
            [
             0.2222222222222222,
             "#7201a8"
            ],
            [
             0.3333333333333333,
             "#9c179e"
            ],
            [
             0.4444444444444444,
             "#bd3786"
            ],
            [
             0.5555555555555556,
             "#d8576b"
            ],
            [
             0.6666666666666666,
             "#ed7953"
            ],
            [
             0.7777777777777778,
             "#fb9f3a"
            ],
            [
             0.8888888888888888,
             "#fdca26"
            ],
            [
             1,
             "#f0f921"
            ]
           ]
          },
          "colorway": [
           "#636efa",
           "#EF553B",
           "#00cc96",
           "#ab63fa",
           "#FFA15A",
           "#19d3f3",
           "#FF6692",
           "#B6E880",
           "#FF97FF",
           "#FECB52"
          ],
          "font": {
           "color": "#2a3f5f"
          },
          "geo": {
           "bgcolor": "white",
           "lakecolor": "white",
           "landcolor": "#E5ECF6",
           "showlakes": true,
           "showland": true,
           "subunitcolor": "white"
          },
          "hoverlabel": {
           "align": "left"
          },
          "hovermode": "closest",
          "mapbox": {
           "style": "light"
          },
          "paper_bgcolor": "white",
          "plot_bgcolor": "#E5ECF6",
          "polar": {
           "angularaxis": {
            "gridcolor": "white",
            "linecolor": "white",
            "ticks": ""
           },
           "bgcolor": "#E5ECF6",
           "radialaxis": {
            "gridcolor": "white",
            "linecolor": "white",
            "ticks": ""
           }
          },
          "scene": {
           "xaxis": {
            "backgroundcolor": "#E5ECF6",
            "gridcolor": "white",
            "gridwidth": 2,
            "linecolor": "white",
            "showbackground": true,
            "ticks": "",
            "zerolinecolor": "white"
           },
           "yaxis": {
            "backgroundcolor": "#E5ECF6",
            "gridcolor": "white",
            "gridwidth": 2,
            "linecolor": "white",
            "showbackground": true,
            "ticks": "",
            "zerolinecolor": "white"
           },
           "zaxis": {
            "backgroundcolor": "#E5ECF6",
            "gridcolor": "white",
            "gridwidth": 2,
            "linecolor": "white",
            "showbackground": true,
            "ticks": "",
            "zerolinecolor": "white"
           }
          },
          "shapedefaults": {
           "line": {
            "color": "#2a3f5f"
           }
          },
          "ternary": {
           "aaxis": {
            "gridcolor": "white",
            "linecolor": "white",
            "ticks": ""
           },
           "baxis": {
            "gridcolor": "white",
            "linecolor": "white",
            "ticks": ""
           },
           "bgcolor": "#E5ECF6",
           "caxis": {
            "gridcolor": "white",
            "linecolor": "white",
            "ticks": ""
           }
          },
          "title": {
           "x": 0.05
          },
          "xaxis": {
           "automargin": true,
           "gridcolor": "white",
           "linecolor": "white",
           "ticks": "",
           "title": {
            "standoff": 15
           },
           "zerolinecolor": "white",
           "zerolinewidth": 2
          },
          "yaxis": {
           "automargin": true,
           "gridcolor": "white",
           "linecolor": "white",
           "ticks": "",
           "title": {
            "standoff": 15
           },
           "zerolinecolor": "white",
           "zerolinewidth": 2
          }
         }
        },
        "title": {
         "text": "GDP per Capita by Country with Healthy Life Expectancy Tooltip"
        }
       }
      }
     },
     "metadata": {},
     "output_type": "display_data"
    }
   ],
   "source": [
    "# Create a map using Plotly Express\n",
    "fig = px.choropleth(data_cleaned, \n",
    "                     locations='Country', \n",
    "                     locationmode='country names', \n",
    "                     color='Economy (GDP per Capita)', \n",
    "                     hover_name='Country', \n",
    "                     hover_data=['Health (Life Expectancy)'], \n",
    "                     title='GDP per Capita by Country with Healthy Life Expectancy Tooltip',\n",
    "                     color_continuous_scale='Viridis')\n",
    "\n",
    "# Show the plot\n",
    "fig.show()"
   ]
  },
  {
   "cell_type": "markdown",
   "metadata": {},
   "source": [
    "#### Updated-Prompt-10: **```in the next cell we need to``` ```Create a map -not a choropleth map- to display GDP per capita of countries and include Healthy Life Expectancy to be shown as a tooltip```**"
   ]
  },
  {
   "cell_type": "code",
   "execution_count": 14,
   "metadata": {},
   "outputs": [
    {
     "data": {
      "application/vnd.plotly.v1+json": {
       "config": {
        "plotlyServerURL": "https://plot.ly"
       },
       "data": [
        {
         "customdata": [
          [
           0.79504
          ],
          [
           0.86303
          ],
          [
           0.86733
          ],
          [
           0.79579
          ],
          [
           0.81091
          ],
          [
           0.8276
          ],
          [
           0.81231
          ],
          [
           0.83096
          ],
          [
           0.8512
          ],
          [
           0.84917
          ],
          [
           0.80565
          ],
          [
           0.76146
          ],
          [
           0.81487
          ],
          [
           0.61415
          ],
          [
           0.81959
          ],
          [
           0.81455
          ],
          [
           0.84542
          ],
          [
           0.71143
          ],
          [
           0.94719
          ],
          [
           0.80991
          ],
          [
           0.81883
          ],
          [
           0.70835
          ],
          [
           0.69711
          ],
          [
           0.76376
          ],
          [
           0.72993
          ],
          [
           0.72183
          ],
          [
           0.80315
          ],
          [
           0.59659
          ],
          [
           0.83795
          ],
          [
           0.64915
          ],
          [
           0.59267
          ],
          [
           0.79565
          ],
          [
           0.71723
          ],
          [
           0.61804
          ],
          [
           0.54039
          ],
          [
           0.50933
          ],
          [
           0.63569
          ],
          [
           0.52608
          ],
          [
           0.61904
          ],
          [
           0.596
          ],
          [
           0.62366
          ],
          [
           0.65213
          ],
          [
           0.50163
          ],
          [
           0.85102
          ],
          [
           0.68613
          ],
          [
           0.45569
          ],
          [
           0.91491
          ],
          [
           0.57386
          ],
          [
           0.52309
          ],
          [
           0.58991
          ],
          [
           0.69058
          ],
          [
           0.88645
          ],
          [
           0.64674
          ],
          [
           0.63104
          ],
          [
           0.84142
          ],
          [
           0.79151
          ],
          [
           0.44006
          ],
          [
           0.66189
          ],
          [
           0.52304
          ],
          [
           0.63952
          ],
          [
           0.67602
          ],
          [
           0.68098
          ],
          [
           0.59469
          ],
          [
           0.70524
          ],
          [
           0.95277
          ],
          [
           0.11466
          ],
          [
           0.54
          ],
          [
           0.64718
          ],
          [
           0.49374
          ],
          [
           0.60712
          ],
          [
           0.54504
          ],
          [
           0.47036
          ],
          [
           0.73561
          ],
          [
           0.49759
          ],
          [
           0.55449
          ],
          [
           0.6458
          ],
          [
           0.70766
          ],
          [
           0.63533
          ],
          [
           0.57669
          ],
          [
           0.59471
          ],
          [
           0.67608
          ],
          [
           0.40306
          ],
          [
           0.76171
          ],
          [
           0.79363
          ],
          [
           0.64738
          ],
          [
           0.66157
          ],
          [
           0.33108
          ],
          [
           0.59577
          ],
          [
           0.80029
          ],
          [
           0.53119
          ],
          [
           0.55469
          ],
          [
           0.38291
          ],
          [
           0.05108
          ],
          [
           0.58383
          ],
          [
           0.64232
          ],
          [
           0.23573
          ],
          [
           0.56844
          ],
          [
           0.73007
          ],
          [
           0.52989
          ],
          [
           0.51076
          ],
          [
           0.34745
          ],
          [
           0.12698
          ],
          [
           0.34578
          ],
          [
           0.18611
          ],
          [
           0.62007
          ],
          [
           0.45091
          ],
          [
           0.3988
          ],
          [
           0.52116
          ],
          [
           0.64083
          ],
          [
           0.30147
          ],
          [
           0.58628
          ],
          [
           0.29681
          ],
          [
           0.188
          ],
          [
           0.64035
          ],
          [
           0.28212
          ],
          [
           0.40457
          ],
          [
           0.67806
          ],
          [
           0.28639
          ],
          [
           0.1595
          ],
          [
           0.29364
          ],
          [
           0.29759
          ],
          [
           0.3494
          ],
          [
           0.16347
          ],
          [
           0.27494
          ],
          [
           0.34752
          ],
          [
           0.29981
          ],
          [
           0.04476
          ],
          [
           0.42494
          ],
          [
           0.04991
          ],
          [
           0.26162
          ],
          [
           0.15781
          ],
          [
           0.03824
          ],
          [
           0.21297
          ],
          [
           0.19625
          ],
          [
           0.31048
          ],
          [
           0.37109
          ],
          [
           0.357
          ],
          [
           0.23165
          ],
          [
           0.18829
          ],
          [
           0.31865
          ],
          [
           0.21028
          ],
          [
           0.17344
          ],
          [
           0.24811
          ],
          [
           0.62994
          ],
          [
           0.15747
          ]
         ],
         "geo": "geo",
         "hovertemplate": "<b>%{hovertext}</b><br><br>Economy (GDP per Capita)=%{marker.size}<br>Country=%{location}<br>Healthy Life Expectancy=%{customdata[0]}<extra></extra>",
         "hovertext": [
          "Denmark",
          "Switzerland",
          "Iceland",
          "Norway",
          "Finland",
          "Canada",
          "Netherlands",
          "New Zealand",
          "Australia",
          "Israel",
          "Austria",
          "Costa Rica",
          "Germany",
          "Brazil",
          "Belgium",
          "Ireland",
          "Luxembourg",
          "Mexico",
          "Singapore",
          "United Kingdom",
          "Chile",
          "Panama",
          "Argentina",
          "Czech Republic",
          "United Arab Emirates",
          "Uruguay",
          "Malta",
          "Colombia",
          "France",
          "Thailand",
          "Saudi Arabia",
          "Taiwan",
          "Qatar",
          "Algeria",
          "Guatemala",
          "Suriname",
          "Kuwait",
          "Trinidad and Tobago",
          "Venezuela",
          "El Salvador",
          "Malaysia",
          "Nicaragua",
          "Uzbekistan",
          "Italy",
          "Ecuador",
          "Belize",
          "Japan",
          "Kazakhstan",
          "Moldova",
          "Russia",
          "Poland",
          "South Korea",
          "Lithuania",
          "Belarus",
          "North Cyprus",
          "Slovenia",
          "Turkmenistan",
          "Mauritius",
          "Libya",
          "Latvia",
          "Romania",
          "Estonia",
          "Jamaica",
          "Croatia",
          "Hong Kong",
          "Somalia",
          "Kosovo",
          "Turkey",
          "Indonesia",
          "Jordan",
          "Azerbaijan",
          "Philippines",
          "China",
          "Bhutan",
          "Kyrgyzstan",
          "Serbia",
          "Bosnia and Herzegovina",
          "Montenegro",
          "Dominican Republic",
          "Morocco",
          "Hungary",
          "Pakistan",
          "Lebanon",
          "Portugal",
          "Macedonia",
          "Vietnam",
          "Somaliland Region",
          "Tunisia",
          "Greece",
          "Tajikistan",
          "Mongolia",
          "Laos",
          "Nigeria",
          "Honduras",
          "Iran",
          "Zambia",
          "Palestinian Territories",
          "Albania",
          "Bangladesh",
          "Iraq",
          "Namibia",
          "Cameroon",
          "Ethiopia",
          "South Africa",
          "Sri Lanka",
          "India",
          "Myanmar",
          "Egypt",
          "Armenia",
          "Kenya",
          "Ukraine",
          "Ghana",
          "Congo (Kinshasa)",
          "Georgia",
          "Congo (Brazzaville)",
          "Senegal",
          "Bulgaria",
          "Mauritania",
          "Zimbabwe",
          "Malawi",
          "Sudan",
          "Gabon",
          "Mali",
          "Haiti",
          "Botswana",
          "Comoros",
          "Ivory Coast",
          "Cambodia",
          "Angola",
          "Niger",
          "South Sudan",
          "Chad",
          "Burkina Faso",
          "Uganda",
          "Yemen",
          "Madagascar",
          "Tanzania",
          "Liberia",
          "Guinea",
          "Rwanda",
          "Benin",
          "Afghanistan",
          "Togo",
          "Syria",
          "Burundi"
         ],
         "legendgroup": "",
         "locationmode": "country names",
         "locations": [
          "Denmark",
          "Switzerland",
          "Iceland",
          "Norway",
          "Finland",
          "Canada",
          "Netherlands",
          "New Zealand",
          "Australia",
          "Israel",
          "Austria",
          "Costa Rica",
          "Germany",
          "Brazil",
          "Belgium",
          "Ireland",
          "Luxembourg",
          "Mexico",
          "Singapore",
          "United Kingdom",
          "Chile",
          "Panama",
          "Argentina",
          "Czech Republic",
          "United Arab Emirates",
          "Uruguay",
          "Malta",
          "Colombia",
          "France",
          "Thailand",
          "Saudi Arabia",
          "Taiwan",
          "Qatar",
          "Algeria",
          "Guatemala",
          "Suriname",
          "Kuwait",
          "Trinidad and Tobago",
          "Venezuela",
          "El Salvador",
          "Malaysia",
          "Nicaragua",
          "Uzbekistan",
          "Italy",
          "Ecuador",
          "Belize",
          "Japan",
          "Kazakhstan",
          "Moldova",
          "Russia",
          "Poland",
          "South Korea",
          "Lithuania",
          "Belarus",
          "North Cyprus",
          "Slovenia",
          "Turkmenistan",
          "Mauritius",
          "Libya",
          "Latvia",
          "Romania",
          "Estonia",
          "Jamaica",
          "Croatia",
          "Hong Kong",
          "Somalia",
          "Kosovo",
          "Turkey",
          "Indonesia",
          "Jordan",
          "Azerbaijan",
          "Philippines",
          "China",
          "Bhutan",
          "Kyrgyzstan",
          "Serbia",
          "Bosnia and Herzegovina",
          "Montenegro",
          "Dominican Republic",
          "Morocco",
          "Hungary",
          "Pakistan",
          "Lebanon",
          "Portugal",
          "Macedonia",
          "Vietnam",
          "Somaliland Region",
          "Tunisia",
          "Greece",
          "Tajikistan",
          "Mongolia",
          "Laos",
          "Nigeria",
          "Honduras",
          "Iran",
          "Zambia",
          "Palestinian Territories",
          "Albania",
          "Bangladesh",
          "Iraq",
          "Namibia",
          "Cameroon",
          "Ethiopia",
          "South Africa",
          "Sri Lanka",
          "India",
          "Myanmar",
          "Egypt",
          "Armenia",
          "Kenya",
          "Ukraine",
          "Ghana",
          "Congo (Kinshasa)",
          "Georgia",
          "Congo (Brazzaville)",
          "Senegal",
          "Bulgaria",
          "Mauritania",
          "Zimbabwe",
          "Malawi",
          "Sudan",
          "Gabon",
          "Mali",
          "Haiti",
          "Botswana",
          "Comoros",
          "Ivory Coast",
          "Cambodia",
          "Angola",
          "Niger",
          "South Sudan",
          "Chad",
          "Burkina Faso",
          "Uganda",
          "Yemen",
          "Madagascar",
          "Tanzania",
          "Liberia",
          "Guinea",
          "Rwanda",
          "Benin",
          "Afghanistan",
          "Togo",
          "Syria",
          "Burundi"
         ],
         "marker": {
          "color": "#636efa",
          "size": [
           1.44178,
           1.52733,
           1.42666,
           1.57744,
           1.40598,
           1.44015,
           1.46468,
           1.36066,
           1.44443,
           1.33766,
           1.45038,
           1.06879,
           1.44787,
           1.08754,
           1.42539,
           1.48341,
           1.69752,
           1.11508,
           1.64555,
           1.40283,
           1.2167,
           1.18306,
           1.15137,
           1.30915,
           1.57352,
           1.18157,
           1.30782,
           1.03032,
           1.39488,
           1.0893,
           1.48953,
           1.39729,
           1.82427,
           1.05266,
           0.83454,
           1.09686,
           1.61714,
           1.32572,
           1.13367,
           0.8737,
           1.25142,
           0.69384,
           0.73591,
           1.35495,
           0.97306,
           0.87616,
           1.38007,
           1.22943,
           0.69177,
           1.23228,
           1.24585,
           1.35948,
           1.2692,
           1.13062,
           1.31141,
           1.29947,
           1.08017,
           1.14372,
           1.06688,
           1.21788,
           1.1697,
           1.27964,
           0.89333,
           1.18649,
           1.5107,
           0,
           0.90145,
           1.16492,
           0.95104,
           0.99673,
           1.12373,
           0.81217,
           1.0278,
           0.8527,
           0.56044,
           1.03437,
           0.93383,
           1.07838,
           1.02787,
           0.84058,
           1.24142,
           0.68816,
           1.12268,
           1.27607,
           1.0193,
           0.74037,
           0.25558,
           0.97724,
           1.24886,
           0.48835,
           0.98853,
           0.68042,
           0.75216,
           0.69429,
           1.11758,
           0.61202,
           0.67024,
           0.9553,
           0.54177,
           1.07474,
           0.93287,
           0.52497,
           0.29283,
           1.02416,
           0.97318,
           0.74036,
           0.34112,
           0.95395,
           0.86086,
           0.52267,
           0.87287,
           0.63107,
           0.05661,
           0.83792,
           0.77109,
           0.44314,
           1.11306,
           0.61391,
           0.35041,
           0.08709,
           0.63069,
           1.15851,
           0.31292,
           0.34097,
           1.09426,
           0.27509,
           0.55507,
           0.55604,
           0.84731,
           0.1327,
           0.39394,
           0.42214,
           0.31995,
           0.34719,
           0.57939,
           0.27954,
           0.47155,
           0.10706,
           0.22415,
           0.32846,
           0.39499,
           0.38227,
           0.28123,
           0.74719,
           0.06831
          ],
          "sizemode": "area",
          "sizeref": 0.004560675,
          "symbol": "circle"
         },
         "mode": "markers",
         "name": "",
         "showlegend": false,
         "type": "scattergeo"
        }
       ],
       "layout": {
        "geo": {
         "center": {},
         "domain": {
          "x": [
           0,
           1
          ],
          "y": [
           0,
           1
          ]
         }
        },
        "legend": {
         "itemsizing": "constant",
         "tracegroupgap": 0
        },
        "template": {
         "data": {
          "bar": [
           {
            "error_x": {
             "color": "#2a3f5f"
            },
            "error_y": {
             "color": "#2a3f5f"
            },
            "marker": {
             "line": {
              "color": "white",
              "width": 0.5
             },
             "pattern": {
              "fillmode": "overlay",
              "size": 10,
              "solidity": 0.2
             }
            },
            "type": "bar"
           }
          ],
          "barpolar": [
           {
            "marker": {
             "line": {
              "color": "white",
              "width": 0.5
             },
             "pattern": {
              "fillmode": "overlay",
              "size": 10,
              "solidity": 0.2
             }
            },
            "type": "barpolar"
           }
          ],
          "carpet": [
           {
            "aaxis": {
             "endlinecolor": "#2a3f5f",
             "gridcolor": "#C8D4E3",
             "linecolor": "#C8D4E3",
             "minorgridcolor": "#C8D4E3",
             "startlinecolor": "#2a3f5f"
            },
            "baxis": {
             "endlinecolor": "#2a3f5f",
             "gridcolor": "#C8D4E3",
             "linecolor": "#C8D4E3",
             "minorgridcolor": "#C8D4E3",
             "startlinecolor": "#2a3f5f"
            },
            "type": "carpet"
           }
          ],
          "choropleth": [
           {
            "colorbar": {
             "outlinewidth": 0,
             "ticks": ""
            },
            "type": "choropleth"
           }
          ],
          "contour": [
           {
            "colorbar": {
             "outlinewidth": 0,
             "ticks": ""
            },
            "colorscale": [
             [
              0,
              "#0d0887"
             ],
             [
              0.1111111111111111,
              "#46039f"
             ],
             [
              0.2222222222222222,
              "#7201a8"
             ],
             [
              0.3333333333333333,
              "#9c179e"
             ],
             [
              0.4444444444444444,
              "#bd3786"
             ],
             [
              0.5555555555555556,
              "#d8576b"
             ],
             [
              0.6666666666666666,
              "#ed7953"
             ],
             [
              0.7777777777777778,
              "#fb9f3a"
             ],
             [
              0.8888888888888888,
              "#fdca26"
             ],
             [
              1,
              "#f0f921"
             ]
            ],
            "type": "contour"
           }
          ],
          "contourcarpet": [
           {
            "colorbar": {
             "outlinewidth": 0,
             "ticks": ""
            },
            "type": "contourcarpet"
           }
          ],
          "heatmap": [
           {
            "colorbar": {
             "outlinewidth": 0,
             "ticks": ""
            },
            "colorscale": [
             [
              0,
              "#0d0887"
             ],
             [
              0.1111111111111111,
              "#46039f"
             ],
             [
              0.2222222222222222,
              "#7201a8"
             ],
             [
              0.3333333333333333,
              "#9c179e"
             ],
             [
              0.4444444444444444,
              "#bd3786"
             ],
             [
              0.5555555555555556,
              "#d8576b"
             ],
             [
              0.6666666666666666,
              "#ed7953"
             ],
             [
              0.7777777777777778,
              "#fb9f3a"
             ],
             [
              0.8888888888888888,
              "#fdca26"
             ],
             [
              1,
              "#f0f921"
             ]
            ],
            "type": "heatmap"
           }
          ],
          "heatmapgl": [
           {
            "colorbar": {
             "outlinewidth": 0,
             "ticks": ""
            },
            "colorscale": [
             [
              0,
              "#0d0887"
             ],
             [
              0.1111111111111111,
              "#46039f"
             ],
             [
              0.2222222222222222,
              "#7201a8"
             ],
             [
              0.3333333333333333,
              "#9c179e"
             ],
             [
              0.4444444444444444,
              "#bd3786"
             ],
             [
              0.5555555555555556,
              "#d8576b"
             ],
             [
              0.6666666666666666,
              "#ed7953"
             ],
             [
              0.7777777777777778,
              "#fb9f3a"
             ],
             [
              0.8888888888888888,
              "#fdca26"
             ],
             [
              1,
              "#f0f921"
             ]
            ],
            "type": "heatmapgl"
           }
          ],
          "histogram": [
           {
            "marker": {
             "pattern": {
              "fillmode": "overlay",
              "size": 10,
              "solidity": 0.2
             }
            },
            "type": "histogram"
           }
          ],
          "histogram2d": [
           {
            "colorbar": {
             "outlinewidth": 0,
             "ticks": ""
            },
            "colorscale": [
             [
              0,
              "#0d0887"
             ],
             [
              0.1111111111111111,
              "#46039f"
             ],
             [
              0.2222222222222222,
              "#7201a8"
             ],
             [
              0.3333333333333333,
              "#9c179e"
             ],
             [
              0.4444444444444444,
              "#bd3786"
             ],
             [
              0.5555555555555556,
              "#d8576b"
             ],
             [
              0.6666666666666666,
              "#ed7953"
             ],
             [
              0.7777777777777778,
              "#fb9f3a"
             ],
             [
              0.8888888888888888,
              "#fdca26"
             ],
             [
              1,
              "#f0f921"
             ]
            ],
            "type": "histogram2d"
           }
          ],
          "histogram2dcontour": [
           {
            "colorbar": {
             "outlinewidth": 0,
             "ticks": ""
            },
            "colorscale": [
             [
              0,
              "#0d0887"
             ],
             [
              0.1111111111111111,
              "#46039f"
             ],
             [
              0.2222222222222222,
              "#7201a8"
             ],
             [
              0.3333333333333333,
              "#9c179e"
             ],
             [
              0.4444444444444444,
              "#bd3786"
             ],
             [
              0.5555555555555556,
              "#d8576b"
             ],
             [
              0.6666666666666666,
              "#ed7953"
             ],
             [
              0.7777777777777778,
              "#fb9f3a"
             ],
             [
              0.8888888888888888,
              "#fdca26"
             ],
             [
              1,
              "#f0f921"
             ]
            ],
            "type": "histogram2dcontour"
           }
          ],
          "mesh3d": [
           {
            "colorbar": {
             "outlinewidth": 0,
             "ticks": ""
            },
            "type": "mesh3d"
           }
          ],
          "parcoords": [
           {
            "line": {
             "colorbar": {
              "outlinewidth": 0,
              "ticks": ""
             }
            },
            "type": "parcoords"
           }
          ],
          "pie": [
           {
            "automargin": true,
            "type": "pie"
           }
          ],
          "scatter": [
           {
            "fillpattern": {
             "fillmode": "overlay",
             "size": 10,
             "solidity": 0.2
            },
            "type": "scatter"
           }
          ],
          "scatter3d": [
           {
            "line": {
             "colorbar": {
              "outlinewidth": 0,
              "ticks": ""
             }
            },
            "marker": {
             "colorbar": {
              "outlinewidth": 0,
              "ticks": ""
             }
            },
            "type": "scatter3d"
           }
          ],
          "scattercarpet": [
           {
            "marker": {
             "colorbar": {
              "outlinewidth": 0,
              "ticks": ""
             }
            },
            "type": "scattercarpet"
           }
          ],
          "scattergeo": [
           {
            "marker": {
             "colorbar": {
              "outlinewidth": 0,
              "ticks": ""
             }
            },
            "type": "scattergeo"
           }
          ],
          "scattergl": [
           {
            "marker": {
             "colorbar": {
              "outlinewidth": 0,
              "ticks": ""
             }
            },
            "type": "scattergl"
           }
          ],
          "scattermapbox": [
           {
            "marker": {
             "colorbar": {
              "outlinewidth": 0,
              "ticks": ""
             }
            },
            "type": "scattermapbox"
           }
          ],
          "scatterpolar": [
           {
            "marker": {
             "colorbar": {
              "outlinewidth": 0,
              "ticks": ""
             }
            },
            "type": "scatterpolar"
           }
          ],
          "scatterpolargl": [
           {
            "marker": {
             "colorbar": {
              "outlinewidth": 0,
              "ticks": ""
             }
            },
            "type": "scatterpolargl"
           }
          ],
          "scatterternary": [
           {
            "marker": {
             "colorbar": {
              "outlinewidth": 0,
              "ticks": ""
             }
            },
            "type": "scatterternary"
           }
          ],
          "surface": [
           {
            "colorbar": {
             "outlinewidth": 0,
             "ticks": ""
            },
            "colorscale": [
             [
              0,
              "#0d0887"
             ],
             [
              0.1111111111111111,
              "#46039f"
             ],
             [
              0.2222222222222222,
              "#7201a8"
             ],
             [
              0.3333333333333333,
              "#9c179e"
             ],
             [
              0.4444444444444444,
              "#bd3786"
             ],
             [
              0.5555555555555556,
              "#d8576b"
             ],
             [
              0.6666666666666666,
              "#ed7953"
             ],
             [
              0.7777777777777778,
              "#fb9f3a"
             ],
             [
              0.8888888888888888,
              "#fdca26"
             ],
             [
              1,
              "#f0f921"
             ]
            ],
            "type": "surface"
           }
          ],
          "table": [
           {
            "cells": {
             "fill": {
              "color": "#EBF0F8"
             },
             "line": {
              "color": "white"
             }
            },
            "header": {
             "fill": {
              "color": "#C8D4E3"
             },
             "line": {
              "color": "white"
             }
            },
            "type": "table"
           }
          ]
         },
         "layout": {
          "annotationdefaults": {
           "arrowcolor": "#2a3f5f",
           "arrowhead": 0,
           "arrowwidth": 1
          },
          "autotypenumbers": "strict",
          "coloraxis": {
           "colorbar": {
            "outlinewidth": 0,
            "ticks": ""
           }
          },
          "colorscale": {
           "diverging": [
            [
             0,
             "#8e0152"
            ],
            [
             0.1,
             "#c51b7d"
            ],
            [
             0.2,
             "#de77ae"
            ],
            [
             0.3,
             "#f1b6da"
            ],
            [
             0.4,
             "#fde0ef"
            ],
            [
             0.5,
             "#f7f7f7"
            ],
            [
             0.6,
             "#e6f5d0"
            ],
            [
             0.7,
             "#b8e186"
            ],
            [
             0.8,
             "#7fbc41"
            ],
            [
             0.9,
             "#4d9221"
            ],
            [
             1,
             "#276419"
            ]
           ],
           "sequential": [
            [
             0,
             "#0d0887"
            ],
            [
             0.1111111111111111,
             "#46039f"
            ],
            [
             0.2222222222222222,
             "#7201a8"
            ],
            [
             0.3333333333333333,
             "#9c179e"
            ],
            [
             0.4444444444444444,
             "#bd3786"
            ],
            [
             0.5555555555555556,
             "#d8576b"
            ],
            [
             0.6666666666666666,
             "#ed7953"
            ],
            [
             0.7777777777777778,
             "#fb9f3a"
            ],
            [
             0.8888888888888888,
             "#fdca26"
            ],
            [
             1,
             "#f0f921"
            ]
           ],
           "sequentialminus": [
            [
             0,
             "#0d0887"
            ],
            [
             0.1111111111111111,
             "#46039f"
            ],
            [
             0.2222222222222222,
             "#7201a8"
            ],
            [
             0.3333333333333333,
             "#9c179e"
            ],
            [
             0.4444444444444444,
             "#bd3786"
            ],
            [
             0.5555555555555556,
             "#d8576b"
            ],
            [
             0.6666666666666666,
             "#ed7953"
            ],
            [
             0.7777777777777778,
             "#fb9f3a"
            ],
            [
             0.8888888888888888,
             "#fdca26"
            ],
            [
             1,
             "#f0f921"
            ]
           ]
          },
          "colorway": [
           "#636efa",
           "#EF553B",
           "#00cc96",
           "#ab63fa",
           "#FFA15A",
           "#19d3f3",
           "#FF6692",
           "#B6E880",
           "#FF97FF",
           "#FECB52"
          ],
          "font": {
           "color": "#2a3f5f"
          },
          "geo": {
           "bgcolor": "white",
           "lakecolor": "white",
           "landcolor": "white",
           "showlakes": true,
           "showland": true,
           "subunitcolor": "#C8D4E3"
          },
          "hoverlabel": {
           "align": "left"
          },
          "hovermode": "closest",
          "mapbox": {
           "style": "light"
          },
          "paper_bgcolor": "white",
          "plot_bgcolor": "white",
          "polar": {
           "angularaxis": {
            "gridcolor": "#EBF0F8",
            "linecolor": "#EBF0F8",
            "ticks": ""
           },
           "bgcolor": "white",
           "radialaxis": {
            "gridcolor": "#EBF0F8",
            "linecolor": "#EBF0F8",
            "ticks": ""
           }
          },
          "scene": {
           "xaxis": {
            "backgroundcolor": "white",
            "gridcolor": "#DFE8F3",
            "gridwidth": 2,
            "linecolor": "#EBF0F8",
            "showbackground": true,
            "ticks": "",
            "zerolinecolor": "#EBF0F8"
           },
           "yaxis": {
            "backgroundcolor": "white",
            "gridcolor": "#DFE8F3",
            "gridwidth": 2,
            "linecolor": "#EBF0F8",
            "showbackground": true,
            "ticks": "",
            "zerolinecolor": "#EBF0F8"
           },
           "zaxis": {
            "backgroundcolor": "white",
            "gridcolor": "#DFE8F3",
            "gridwidth": 2,
            "linecolor": "#EBF0F8",
            "showbackground": true,
            "ticks": "",
            "zerolinecolor": "#EBF0F8"
           }
          },
          "shapedefaults": {
           "line": {
            "color": "#2a3f5f"
           }
          },
          "ternary": {
           "aaxis": {
            "gridcolor": "#DFE8F3",
            "linecolor": "#A2B1C6",
            "ticks": ""
           },
           "baxis": {
            "gridcolor": "#DFE8F3",
            "linecolor": "#A2B1C6",
            "ticks": ""
           },
           "bgcolor": "white",
           "caxis": {
            "gridcolor": "#DFE8F3",
            "linecolor": "#A2B1C6",
            "ticks": ""
           }
          },
          "title": {
           "x": 0.05
          },
          "xaxis": {
           "automargin": true,
           "gridcolor": "#EBF0F8",
           "linecolor": "#EBF0F8",
           "ticks": "",
           "title": {
            "standoff": 15
           },
           "zerolinecolor": "#EBF0F8",
           "zerolinewidth": 2
          },
          "yaxis": {
           "automargin": true,
           "gridcolor": "#EBF0F8",
           "linecolor": "#EBF0F8",
           "ticks": "",
           "title": {
            "standoff": 15
           },
           "zerolinecolor": "#EBF0F8",
           "zerolinewidth": 2
          }
         }
        },
        "title": {
         "text": "GDP per Capita and Healthy Life Expectancy by Country"
        }
       }
      }
     },
     "metadata": {},
     "output_type": "display_data"
    }
   ],
   "source": [
    "# Create a scatter map using Plotly Express\n",
    "fig = px.scatter_geo(data_cleaned,\n",
    "                     locations=\"Country\",\n",
    "                     locationmode=\"country names\",\n",
    "                     size='Economy (GDP per Capita)',\n",
    "                     hover_name=\"Country\",\n",
    "                     hover_data={'Healthy Life Expectancy': data_cleaned['Health (Life Expectancy)']},\n",
    "                     title='GDP per Capita and Healthy Life Expectancy by Country',\n",
    "                     template='plotly_white')\n",
    "\n",
    "# Show the plot\n",
    "fig.show()"
   ]
  },
  {
   "cell_type": "markdown",
   "metadata": {},
   "source": [
    "#### Updated-Prompt-10 (V2): **```please process the following carefully:``` ```in the next cell we need to``` ```Create a map -not a choropleth map- to display GDP per capita of countries and include Healthy Life Expectancy to be shown as a tooltip,``` ```use folium library, note that the data doesn't have latitude or longitude attributes, so we should compensate that by the Country attribute.```**\n",
    "\n",
    "*Note I added the saving part to use the map in the dashboard we will build*"
   ]
  },
  {
   "cell_type": "code",
   "execution_count": 15,
   "metadata": {},
   "outputs": [
    {
     "data": {
      "text/html": [
       "<div style=\"width:100%;\"><div style=\"position:relative;width:100%;height:0;padding-bottom:60%;\"><span style=\"color:#565656\">Make this Notebook Trusted to load map: File -> Trust Notebook</span><iframe srcdoc=\"&lt;!DOCTYPE html&gt;\n",
       "&lt;html&gt;\n",
       "&lt;head&gt;\n",
       "    \n",
       "    &lt;meta http-equiv=&quot;content-type&quot; content=&quot;text/html; charset=UTF-8&quot; /&gt;\n",
       "    \n",
       "        &lt;script&gt;\n",
       "            L_NO_TOUCH = false;\n",
       "            L_DISABLE_3D = false;\n",
       "        &lt;/script&gt;\n",
       "    \n",
       "    &lt;style&gt;html, body {width: 100%;height: 100%;margin: 0;padding: 0;}&lt;/style&gt;\n",
       "    &lt;style&gt;#map {position:absolute;top:0;bottom:0;right:0;left:0;}&lt;/style&gt;\n",
       "    &lt;script src=&quot;https://cdn.jsdelivr.net/npm/leaflet@1.9.3/dist/leaflet.js&quot;&gt;&lt;/script&gt;\n",
       "    &lt;script src=&quot;https://code.jquery.com/jquery-3.7.1.min.js&quot;&gt;&lt;/script&gt;\n",
       "    &lt;script src=&quot;https://cdn.jsdelivr.net/npm/bootstrap@5.2.2/dist/js/bootstrap.bundle.min.js&quot;&gt;&lt;/script&gt;\n",
       "    &lt;script src=&quot;https://cdnjs.cloudflare.com/ajax/libs/Leaflet.awesome-markers/2.0.2/leaflet.awesome-markers.js&quot;&gt;&lt;/script&gt;\n",
       "    &lt;link rel=&quot;stylesheet&quot; href=&quot;https://cdn.jsdelivr.net/npm/leaflet@1.9.3/dist/leaflet.css&quot;/&gt;\n",
       "    &lt;link rel=&quot;stylesheet&quot; href=&quot;https://cdn.jsdelivr.net/npm/bootstrap@5.2.2/dist/css/bootstrap.min.css&quot;/&gt;\n",
       "    &lt;link rel=&quot;stylesheet&quot; href=&quot;https://netdna.bootstrapcdn.com/bootstrap/3.0.0/css/bootstrap-glyphicons.css&quot;/&gt;\n",
       "    &lt;link rel=&quot;stylesheet&quot; href=&quot;https://cdn.jsdelivr.net/npm/@fortawesome/fontawesome-free@6.2.0/css/all.min.css&quot;/&gt;\n",
       "    &lt;link rel=&quot;stylesheet&quot; href=&quot;https://cdnjs.cloudflare.com/ajax/libs/Leaflet.awesome-markers/2.0.2/leaflet.awesome-markers.css&quot;/&gt;\n",
       "    &lt;link rel=&quot;stylesheet&quot; href=&quot;https://cdn.jsdelivr.net/gh/python-visualization/folium/folium/templates/leaflet.awesome.rotate.min.css&quot;/&gt;\n",
       "    \n",
       "            &lt;meta name=&quot;viewport&quot; content=&quot;width=device-width,\n",
       "                initial-scale=1.0, maximum-scale=1.0, user-scalable=no&quot; /&gt;\n",
       "            &lt;style&gt;\n",
       "                #map_06a1420f9985c2c5655def3928d2992e {\n",
       "                    position: relative;\n",
       "                    width: 100.0%;\n",
       "                    height: 100.0%;\n",
       "                    left: 0.0%;\n",
       "                    top: 0.0%;\n",
       "                }\n",
       "                .leaflet-container { font-size: 1rem; }\n",
       "            &lt;/style&gt;\n",
       "        \n",
       "    &lt;script src=&quot;https://cdnjs.cloudflare.com/ajax/libs/leaflet.markercluster/1.1.0/leaflet.markercluster.js&quot;&gt;&lt;/script&gt;\n",
       "    &lt;link rel=&quot;stylesheet&quot; href=&quot;https://cdnjs.cloudflare.com/ajax/libs/leaflet.markercluster/1.1.0/MarkerCluster.css&quot;/&gt;\n",
       "    &lt;link rel=&quot;stylesheet&quot; href=&quot;https://cdnjs.cloudflare.com/ajax/libs/leaflet.markercluster/1.1.0/MarkerCluster.Default.css&quot;/&gt;\n",
       "&lt;/head&gt;\n",
       "&lt;body&gt;\n",
       "    \n",
       "    \n",
       "            &lt;div class=&quot;folium-map&quot; id=&quot;map_06a1420f9985c2c5655def3928d2992e&quot; &gt;&lt;/div&gt;\n",
       "        \n",
       "&lt;/body&gt;\n",
       "&lt;script&gt;\n",
       "    \n",
       "    \n",
       "            var map_06a1420f9985c2c5655def3928d2992e = L.map(\n",
       "                &quot;map_06a1420f9985c2c5655def3928d2992e&quot;,\n",
       "                {\n",
       "                    center: [20.0, 0.0],\n",
       "                    crs: L.CRS.EPSG3857,\n",
       "                    zoom: 2,\n",
       "                    zoomControl: true,\n",
       "                    preferCanvas: false,\n",
       "                }\n",
       "            );\n",
       "\n",
       "            \n",
       "\n",
       "        \n",
       "    \n",
       "            var tile_layer_5ea91630472f9d04c5bf1304b9f56a30 = L.tileLayer(\n",
       "                &quot;https://{s}.basemaps.cartocdn.com/light_all/{z}/{x}/{y}{r}.png&quot;,\n",
       "                {&quot;attribution&quot;: &quot;\\u0026copy; \\u003ca href=\\&quot;https://www.openstreetmap.org/copyright\\&quot;\\u003eOpenStreetMap\\u003c/a\\u003e contributors \\u0026copy; \\u003ca href=\\&quot;https://carto.com/attributions\\&quot;\\u003eCARTO\\u003c/a\\u003e&quot;, &quot;detectRetina&quot;: false, &quot;maxNativeZoom&quot;: 20, &quot;maxZoom&quot;: 20, &quot;minZoom&quot;: 0, &quot;noWrap&quot;: false, &quot;opacity&quot;: 1, &quot;subdomains&quot;: &quot;abcd&quot;, &quot;tms&quot;: false}\n",
       "            );\n",
       "        \n",
       "    \n",
       "            tile_layer_5ea91630472f9d04c5bf1304b9f56a30.addTo(map_06a1420f9985c2c5655def3928d2992e);\n",
       "        \n",
       "    \n",
       "            var marker_cluster_c40bb7d58d7b1ff2b9ca2b07126a61d5 = L.markerClusterGroup(\n",
       "                {}\n",
       "            );\n",
       "        \n",
       "    \n",
       "            var marker_e37f45ef84cca16d75acd8c42d0e3009 = L.marker(\n",
       "                [55.670249, 10.3333283],\n",
       "                {}\n",
       "            ).addTo(marker_cluster_c40bb7d58d7b1ff2b9ca2b07126a61d5);\n",
       "        \n",
       "    \n",
       "        var popup_1b26e04845c7580ebfd26e3d431662e7 = L.popup({&quot;maxWidth&quot;: &quot;100%&quot;});\n",
       "\n",
       "        \n",
       "            \n",
       "                var html_4f4cdea1e10ae18bcd037d1459b483b6 = $(`&lt;div id=&quot;html_4f4cdea1e10ae18bcd037d1459b483b6&quot; style=&quot;width: 100.0%; height: 100.0%;&quot;&gt;&lt;strong&gt;Denmark&lt;/strong&gt;&lt;br&gt;GDP per Capita: 1.44178&lt;br&gt;Healthy Life Expectancy: 0.79504&lt;/div&gt;`)[0];\n",
       "                popup_1b26e04845c7580ebfd26e3d431662e7.setContent(html_4f4cdea1e10ae18bcd037d1459b483b6);\n",
       "            \n",
       "        \n",
       "\n",
       "        marker_e37f45ef84cca16d75acd8c42d0e3009.bindPopup(popup_1b26e04845c7580ebfd26e3d431662e7)\n",
       "        ;\n",
       "\n",
       "        \n",
       "    \n",
       "    \n",
       "            marker_e37f45ef84cca16d75acd8c42d0e3009.bindTooltip(\n",
       "                `&lt;div&gt;\n",
       "                     Denmark\n",
       "                 &lt;/div&gt;`,\n",
       "                {&quot;sticky&quot;: true}\n",
       "            );\n",
       "        \n",
       "    \n",
       "            var marker_d8137bdf922fe064eece4944cc25f3b4 = L.marker(\n",
       "                [46.7985624, 8.2319736],\n",
       "                {}\n",
       "            ).addTo(marker_cluster_c40bb7d58d7b1ff2b9ca2b07126a61d5);\n",
       "        \n",
       "    \n",
       "        var popup_2984faa43c74eefbcfb64ce997635112 = L.popup({&quot;maxWidth&quot;: &quot;100%&quot;});\n",
       "\n",
       "        \n",
       "            \n",
       "                var html_79b9c107d0f4f51119725dccde448380 = $(`&lt;div id=&quot;html_79b9c107d0f4f51119725dccde448380&quot; style=&quot;width: 100.0%; height: 100.0%;&quot;&gt;&lt;strong&gt;Switzerland&lt;/strong&gt;&lt;br&gt;GDP per Capita: 1.52733&lt;br&gt;Healthy Life Expectancy: 0.86303&lt;/div&gt;`)[0];\n",
       "                popup_2984faa43c74eefbcfb64ce997635112.setContent(html_79b9c107d0f4f51119725dccde448380);\n",
       "            \n",
       "        \n",
       "\n",
       "        marker_d8137bdf922fe064eece4944cc25f3b4.bindPopup(popup_2984faa43c74eefbcfb64ce997635112)\n",
       "        ;\n",
       "\n",
       "        \n",
       "    \n",
       "    \n",
       "            marker_d8137bdf922fe064eece4944cc25f3b4.bindTooltip(\n",
       "                `&lt;div&gt;\n",
       "                     Switzerland\n",
       "                 &lt;/div&gt;`,\n",
       "                {&quot;sticky&quot;: true}\n",
       "            );\n",
       "        \n",
       "    \n",
       "            var marker_1a5adba796b109622985fd74a266d594 = L.marker(\n",
       "                [64.9841821, -18.1059013],\n",
       "                {}\n",
       "            ).addTo(marker_cluster_c40bb7d58d7b1ff2b9ca2b07126a61d5);\n",
       "        \n",
       "    \n",
       "        var popup_efe847110019db870770a6ee4929698f = L.popup({&quot;maxWidth&quot;: &quot;100%&quot;});\n",
       "\n",
       "        \n",
       "            \n",
       "                var html_4bba11eec09bf4f4df748168d2a3fb70 = $(`&lt;div id=&quot;html_4bba11eec09bf4f4df748168d2a3fb70&quot; style=&quot;width: 100.0%; height: 100.0%;&quot;&gt;&lt;strong&gt;Iceland&lt;/strong&gt;&lt;br&gt;GDP per Capita: 1.42666&lt;br&gt;Healthy Life Expectancy: 0.86733&lt;/div&gt;`)[0];\n",
       "                popup_efe847110019db870770a6ee4929698f.setContent(html_4bba11eec09bf4f4df748168d2a3fb70);\n",
       "            \n",
       "        \n",
       "\n",
       "        marker_1a5adba796b109622985fd74a266d594.bindPopup(popup_efe847110019db870770a6ee4929698f)\n",
       "        ;\n",
       "\n",
       "        \n",
       "    \n",
       "    \n",
       "            marker_1a5adba796b109622985fd74a266d594.bindTooltip(\n",
       "                `&lt;div&gt;\n",
       "                     Iceland\n",
       "                 &lt;/div&gt;`,\n",
       "                {&quot;sticky&quot;: true}\n",
       "            );\n",
       "        \n",
       "    \n",
       "            var marker_7a58d7907e48f6aa8ba7260da7288c34 = L.marker(\n",
       "                [64.5731537, 11.52803643954819],\n",
       "                {}\n",
       "            ).addTo(marker_cluster_c40bb7d58d7b1ff2b9ca2b07126a61d5);\n",
       "        \n",
       "    \n",
       "        var popup_01f4476c3c7b7fc3be3f2914afe07e94 = L.popup({&quot;maxWidth&quot;: &quot;100%&quot;});\n",
       "\n",
       "        \n",
       "            \n",
       "                var html_f8eb770929ff1f29a3ff4b0e557568c6 = $(`&lt;div id=&quot;html_f8eb770929ff1f29a3ff4b0e557568c6&quot; style=&quot;width: 100.0%; height: 100.0%;&quot;&gt;&lt;strong&gt;Norway&lt;/strong&gt;&lt;br&gt;GDP per Capita: 1.57744&lt;br&gt;Healthy Life Expectancy: 0.79579&lt;/div&gt;`)[0];\n",
       "                popup_01f4476c3c7b7fc3be3f2914afe07e94.setContent(html_f8eb770929ff1f29a3ff4b0e557568c6);\n",
       "            \n",
       "        \n",
       "\n",
       "        marker_7a58d7907e48f6aa8ba7260da7288c34.bindPopup(popup_01f4476c3c7b7fc3be3f2914afe07e94)\n",
       "        ;\n",
       "\n",
       "        \n",
       "    \n",
       "    \n",
       "            marker_7a58d7907e48f6aa8ba7260da7288c34.bindTooltip(\n",
       "                `&lt;div&gt;\n",
       "                     Norway\n",
       "                 &lt;/div&gt;`,\n",
       "                {&quot;sticky&quot;: true}\n",
       "            );\n",
       "        \n",
       "    \n",
       "            var marker_e4db0322b01c1ef6db8d0730e6b30c57 = L.marker(\n",
       "                [63.2467777, 25.9209164],\n",
       "                {}\n",
       "            ).addTo(marker_cluster_c40bb7d58d7b1ff2b9ca2b07126a61d5);\n",
       "        \n",
       "    \n",
       "        var popup_14ba0e263b4cede0c8989eb7f0600712 = L.popup({&quot;maxWidth&quot;: &quot;100%&quot;});\n",
       "\n",
       "        \n",
       "            \n",
       "                var html_293b3025610745ff14d41b8272e551f7 = $(`&lt;div id=&quot;html_293b3025610745ff14d41b8272e551f7&quot; style=&quot;width: 100.0%; height: 100.0%;&quot;&gt;&lt;strong&gt;Finland&lt;/strong&gt;&lt;br&gt;GDP per Capita: 1.40598&lt;br&gt;Healthy Life Expectancy: 0.81091&lt;/div&gt;`)[0];\n",
       "                popup_14ba0e263b4cede0c8989eb7f0600712.setContent(html_293b3025610745ff14d41b8272e551f7);\n",
       "            \n",
       "        \n",
       "\n",
       "        marker_e4db0322b01c1ef6db8d0730e6b30c57.bindPopup(popup_14ba0e263b4cede0c8989eb7f0600712)\n",
       "        ;\n",
       "\n",
       "        \n",
       "    \n",
       "    \n",
       "            marker_e4db0322b01c1ef6db8d0730e6b30c57.bindTooltip(\n",
       "                `&lt;div&gt;\n",
       "                     Finland\n",
       "                 &lt;/div&gt;`,\n",
       "                {&quot;sticky&quot;: true}\n",
       "            );\n",
       "        \n",
       "    \n",
       "            var marker_a6ec84be4c3d735c602cf82a79eaeace = L.marker(\n",
       "                [61.0666922, -107.991707],\n",
       "                {}\n",
       "            ).addTo(marker_cluster_c40bb7d58d7b1ff2b9ca2b07126a61d5);\n",
       "        \n",
       "    \n",
       "        var popup_ef5a9dad8da22222ac1940017cd0877c = L.popup({&quot;maxWidth&quot;: &quot;100%&quot;});\n",
       "\n",
       "        \n",
       "            \n",
       "                var html_c4089d92b29452c87f1def5a4b4e4ede = $(`&lt;div id=&quot;html_c4089d92b29452c87f1def5a4b4e4ede&quot; style=&quot;width: 100.0%; height: 100.0%;&quot;&gt;&lt;strong&gt;Canada&lt;/strong&gt;&lt;br&gt;GDP per Capita: 1.44015&lt;br&gt;Healthy Life Expectancy: 0.8276&lt;/div&gt;`)[0];\n",
       "                popup_ef5a9dad8da22222ac1940017cd0877c.setContent(html_c4089d92b29452c87f1def5a4b4e4ede);\n",
       "            \n",
       "        \n",
       "\n",
       "        marker_a6ec84be4c3d735c602cf82a79eaeace.bindPopup(popup_ef5a9dad8da22222ac1940017cd0877c)\n",
       "        ;\n",
       "\n",
       "        \n",
       "    \n",
       "    \n",
       "            marker_a6ec84be4c3d735c602cf82a79eaeace.bindTooltip(\n",
       "                `&lt;div&gt;\n",
       "                     Canada\n",
       "                 &lt;/div&gt;`,\n",
       "                {&quot;sticky&quot;: true}\n",
       "            );\n",
       "        \n",
       "    \n",
       "            var marker_34aeea77759b12f09c958e13f20e52fe = L.marker(\n",
       "                [52.2434979, 5.6343227],\n",
       "                {}\n",
       "            ).addTo(marker_cluster_c40bb7d58d7b1ff2b9ca2b07126a61d5);\n",
       "        \n",
       "    \n",
       "        var popup_8efb395a4d9576d4b16b4b38c6105ffd = L.popup({&quot;maxWidth&quot;: &quot;100%&quot;});\n",
       "\n",
       "        \n",
       "            \n",
       "                var html_e113224d32d777445eab45efe35a3628 = $(`&lt;div id=&quot;html_e113224d32d777445eab45efe35a3628&quot; style=&quot;width: 100.0%; height: 100.0%;&quot;&gt;&lt;strong&gt;Netherlands&lt;/strong&gt;&lt;br&gt;GDP per Capita: 1.46468&lt;br&gt;Healthy Life Expectancy: 0.81231&lt;/div&gt;`)[0];\n",
       "                popup_8efb395a4d9576d4b16b4b38c6105ffd.setContent(html_e113224d32d777445eab45efe35a3628);\n",
       "            \n",
       "        \n",
       "\n",
       "        marker_34aeea77759b12f09c958e13f20e52fe.bindPopup(popup_8efb395a4d9576d4b16b4b38c6105ffd)\n",
       "        ;\n",
       "\n",
       "        \n",
       "    \n",
       "    \n",
       "            marker_34aeea77759b12f09c958e13f20e52fe.bindTooltip(\n",
       "                `&lt;div&gt;\n",
       "                     Netherlands\n",
       "                 &lt;/div&gt;`,\n",
       "                {&quot;sticky&quot;: true}\n",
       "            );\n",
       "        \n",
       "    \n",
       "            var marker_3c8dee57c306559fede32f6927315764 = L.marker(\n",
       "                [-41.5000831, 172.8344077],\n",
       "                {}\n",
       "            ).addTo(marker_cluster_c40bb7d58d7b1ff2b9ca2b07126a61d5);\n",
       "        \n",
       "    \n",
       "        var popup_b794734e53d1721c7236873417062bb6 = L.popup({&quot;maxWidth&quot;: &quot;100%&quot;});\n",
       "\n",
       "        \n",
       "            \n",
       "                var html_8eed980fd67876c03d791eabd2d78b58 = $(`&lt;div id=&quot;html_8eed980fd67876c03d791eabd2d78b58&quot; style=&quot;width: 100.0%; height: 100.0%;&quot;&gt;&lt;strong&gt;New Zealand&lt;/strong&gt;&lt;br&gt;GDP per Capita: 1.36066&lt;br&gt;Healthy Life Expectancy: 0.83096&lt;/div&gt;`)[0];\n",
       "                popup_b794734e53d1721c7236873417062bb6.setContent(html_8eed980fd67876c03d791eabd2d78b58);\n",
       "            \n",
       "        \n",
       "\n",
       "        marker_3c8dee57c306559fede32f6927315764.bindPopup(popup_b794734e53d1721c7236873417062bb6)\n",
       "        ;\n",
       "\n",
       "        \n",
       "    \n",
       "    \n",
       "            marker_3c8dee57c306559fede32f6927315764.bindTooltip(\n",
       "                `&lt;div&gt;\n",
       "                     New Zealand\n",
       "                 &lt;/div&gt;`,\n",
       "                {&quot;sticky&quot;: true}\n",
       "            );\n",
       "        \n",
       "    \n",
       "            var marker_0dc20438cebd6d8a797ee7c0956b5930 = L.marker(\n",
       "                [-24.7761086, 134.755],\n",
       "                {}\n",
       "            ).addTo(marker_cluster_c40bb7d58d7b1ff2b9ca2b07126a61d5);\n",
       "        \n",
       "    \n",
       "        var popup_0bf288608a1b7c3edd6dcec553b0af97 = L.popup({&quot;maxWidth&quot;: &quot;100%&quot;});\n",
       "\n",
       "        \n",
       "            \n",
       "                var html_f0438f0e269b9e889582e16b59bc5ed5 = $(`&lt;div id=&quot;html_f0438f0e269b9e889582e16b59bc5ed5&quot; style=&quot;width: 100.0%; height: 100.0%;&quot;&gt;&lt;strong&gt;Australia&lt;/strong&gt;&lt;br&gt;GDP per Capita: 1.44443&lt;br&gt;Healthy Life Expectancy: 0.8512&lt;/div&gt;`)[0];\n",
       "                popup_0bf288608a1b7c3edd6dcec553b0af97.setContent(html_f0438f0e269b9e889582e16b59bc5ed5);\n",
       "            \n",
       "        \n",
       "\n",
       "        marker_0dc20438cebd6d8a797ee7c0956b5930.bindPopup(popup_0bf288608a1b7c3edd6dcec553b0af97)\n",
       "        ;\n",
       "\n",
       "        \n",
       "    \n",
       "    \n",
       "            marker_0dc20438cebd6d8a797ee7c0956b5930.bindTooltip(\n",
       "                `&lt;div&gt;\n",
       "                     Australia\n",
       "                 &lt;/div&gt;`,\n",
       "                {&quot;sticky&quot;: true}\n",
       "            );\n",
       "        \n",
       "    \n",
       "            var marker_f57385b56c7b10de66689c202e8fe78f = L.marker(\n",
       "                [30.8124247, 34.8594762],\n",
       "                {}\n",
       "            ).addTo(marker_cluster_c40bb7d58d7b1ff2b9ca2b07126a61d5);\n",
       "        \n",
       "    \n",
       "        var popup_ec7f9f43e699a9e7045ce33b8608a3e9 = L.popup({&quot;maxWidth&quot;: &quot;100%&quot;});\n",
       "\n",
       "        \n",
       "            \n",
       "                var html_6f2384907dca572c2f3e4d59d07d5b19 = $(`&lt;div id=&quot;html_6f2384907dca572c2f3e4d59d07d5b19&quot; style=&quot;width: 100.0%; height: 100.0%;&quot;&gt;&lt;strong&gt;Israel&lt;/strong&gt;&lt;br&gt;GDP per Capita: 1.33766&lt;br&gt;Healthy Life Expectancy: 0.84917&lt;/div&gt;`)[0];\n",
       "                popup_ec7f9f43e699a9e7045ce33b8608a3e9.setContent(html_6f2384907dca572c2f3e4d59d07d5b19);\n",
       "            \n",
       "        \n",
       "\n",
       "        marker_f57385b56c7b10de66689c202e8fe78f.bindPopup(popup_ec7f9f43e699a9e7045ce33b8608a3e9)\n",
       "        ;\n",
       "\n",
       "        \n",
       "    \n",
       "    \n",
       "            marker_f57385b56c7b10de66689c202e8fe78f.bindTooltip(\n",
       "                `&lt;div&gt;\n",
       "                     Israel\n",
       "                 &lt;/div&gt;`,\n",
       "                {&quot;sticky&quot;: true}\n",
       "            );\n",
       "        \n",
       "    \n",
       "            var marker_f34fd2b6cee3163d99cce768e959595f = L.marker(\n",
       "                [47.59397, 14.12456],\n",
       "                {}\n",
       "            ).addTo(marker_cluster_c40bb7d58d7b1ff2b9ca2b07126a61d5);\n",
       "        \n",
       "    \n",
       "        var popup_08b86c778dd274079ddfba3178efc9e9 = L.popup({&quot;maxWidth&quot;: &quot;100%&quot;});\n",
       "\n",
       "        \n",
       "            \n",
       "                var html_57a01f83eb071d46649d59bbb4a4c481 = $(`&lt;div id=&quot;html_57a01f83eb071d46649d59bbb4a4c481&quot; style=&quot;width: 100.0%; height: 100.0%;&quot;&gt;&lt;strong&gt;Austria&lt;/strong&gt;&lt;br&gt;GDP per Capita: 1.45038&lt;br&gt;Healthy Life Expectancy: 0.80565&lt;/div&gt;`)[0];\n",
       "                popup_08b86c778dd274079ddfba3178efc9e9.setContent(html_57a01f83eb071d46649d59bbb4a4c481);\n",
       "            \n",
       "        \n",
       "\n",
       "        marker_f34fd2b6cee3163d99cce768e959595f.bindPopup(popup_08b86c778dd274079ddfba3178efc9e9)\n",
       "        ;\n",
       "\n",
       "        \n",
       "    \n",
       "    \n",
       "            marker_f34fd2b6cee3163d99cce768e959595f.bindTooltip(\n",
       "                `&lt;div&gt;\n",
       "                     Austria\n",
       "                 &lt;/div&gt;`,\n",
       "                {&quot;sticky&quot;: true}\n",
       "            );\n",
       "        \n",
       "    \n",
       "            var marker_d37cac4ad0e59fccae247dfcaf93bcad = L.marker(\n",
       "                [10.2735633, -84.0739102],\n",
       "                {}\n",
       "            ).addTo(marker_cluster_c40bb7d58d7b1ff2b9ca2b07126a61d5);\n",
       "        \n",
       "    \n",
       "        var popup_8fa97be6d3e98ba18408e1657c1fbece = L.popup({&quot;maxWidth&quot;: &quot;100%&quot;});\n",
       "\n",
       "        \n",
       "            \n",
       "                var html_3a4a87404d20c32528a4411a35e88483 = $(`&lt;div id=&quot;html_3a4a87404d20c32528a4411a35e88483&quot; style=&quot;width: 100.0%; height: 100.0%;&quot;&gt;&lt;strong&gt;Costa Rica&lt;/strong&gt;&lt;br&gt;GDP per Capita: 1.06879&lt;br&gt;Healthy Life Expectancy: 0.76146&lt;/div&gt;`)[0];\n",
       "                popup_8fa97be6d3e98ba18408e1657c1fbece.setContent(html_3a4a87404d20c32528a4411a35e88483);\n",
       "            \n",
       "        \n",
       "\n",
       "        marker_d37cac4ad0e59fccae247dfcaf93bcad.bindPopup(popup_8fa97be6d3e98ba18408e1657c1fbece)\n",
       "        ;\n",
       "\n",
       "        \n",
       "    \n",
       "    \n",
       "            marker_d37cac4ad0e59fccae247dfcaf93bcad.bindTooltip(\n",
       "                `&lt;div&gt;\n",
       "                     Costa Rica\n",
       "                 &lt;/div&gt;`,\n",
       "                {&quot;sticky&quot;: true}\n",
       "            );\n",
       "        \n",
       "    \n",
       "            var marker_5a3cf6647f83e7f83412ed15e1df1fef = L.marker(\n",
       "                [51.1638175, 10.4478313],\n",
       "                {}\n",
       "            ).addTo(marker_cluster_c40bb7d58d7b1ff2b9ca2b07126a61d5);\n",
       "        \n",
       "    \n",
       "        var popup_f939dd596be63834b94c95edd70f2cf7 = L.popup({&quot;maxWidth&quot;: &quot;100%&quot;});\n",
       "\n",
       "        \n",
       "            \n",
       "                var html_cf1d502bd602074a6651dcb106692808 = $(`&lt;div id=&quot;html_cf1d502bd602074a6651dcb106692808&quot; style=&quot;width: 100.0%; height: 100.0%;&quot;&gt;&lt;strong&gt;Germany&lt;/strong&gt;&lt;br&gt;GDP per Capita: 1.44787&lt;br&gt;Healthy Life Expectancy: 0.81487&lt;/div&gt;`)[0];\n",
       "                popup_f939dd596be63834b94c95edd70f2cf7.setContent(html_cf1d502bd602074a6651dcb106692808);\n",
       "            \n",
       "        \n",
       "\n",
       "        marker_5a3cf6647f83e7f83412ed15e1df1fef.bindPopup(popup_f939dd596be63834b94c95edd70f2cf7)\n",
       "        ;\n",
       "\n",
       "        \n",
       "    \n",
       "    \n",
       "            marker_5a3cf6647f83e7f83412ed15e1df1fef.bindTooltip(\n",
       "                `&lt;div&gt;\n",
       "                     Germany\n",
       "                 &lt;/div&gt;`,\n",
       "                {&quot;sticky&quot;: true}\n",
       "            );\n",
       "        \n",
       "    \n",
       "            var marker_4775cd0d3ad50febb57452cdbc6468c0 = L.marker(\n",
       "                [-10.3333333, -53.2],\n",
       "                {}\n",
       "            ).addTo(marker_cluster_c40bb7d58d7b1ff2b9ca2b07126a61d5);\n",
       "        \n",
       "    \n",
       "        var popup_826244792c815b01108107b20b5e1301 = L.popup({&quot;maxWidth&quot;: &quot;100%&quot;});\n",
       "\n",
       "        \n",
       "            \n",
       "                var html_e82af0577b909c23c6242436189e16af = $(`&lt;div id=&quot;html_e82af0577b909c23c6242436189e16af&quot; style=&quot;width: 100.0%; height: 100.0%;&quot;&gt;&lt;strong&gt;Brazil&lt;/strong&gt;&lt;br&gt;GDP per Capita: 1.08754&lt;br&gt;Healthy Life Expectancy: 0.61415&lt;/div&gt;`)[0];\n",
       "                popup_826244792c815b01108107b20b5e1301.setContent(html_e82af0577b909c23c6242436189e16af);\n",
       "            \n",
       "        \n",
       "\n",
       "        marker_4775cd0d3ad50febb57452cdbc6468c0.bindPopup(popup_826244792c815b01108107b20b5e1301)\n",
       "        ;\n",
       "\n",
       "        \n",
       "    \n",
       "    \n",
       "            marker_4775cd0d3ad50febb57452cdbc6468c0.bindTooltip(\n",
       "                `&lt;div&gt;\n",
       "                     Brazil\n",
       "                 &lt;/div&gt;`,\n",
       "                {&quot;sticky&quot;: true}\n",
       "            );\n",
       "        \n",
       "    \n",
       "            var marker_4fc54b3b7486c317454c0ad01f2bc1a1 = L.marker(\n",
       "                [50.6402809, 4.6667145],\n",
       "                {}\n",
       "            ).addTo(marker_cluster_c40bb7d58d7b1ff2b9ca2b07126a61d5);\n",
       "        \n",
       "    \n",
       "        var popup_b89b5e597aacdb2c102c80200efddb78 = L.popup({&quot;maxWidth&quot;: &quot;100%&quot;});\n",
       "\n",
       "        \n",
       "            \n",
       "                var html_5d853538eaa37f617fe24c20f9f2f6cb = $(`&lt;div id=&quot;html_5d853538eaa37f617fe24c20f9f2f6cb&quot; style=&quot;width: 100.0%; height: 100.0%;&quot;&gt;&lt;strong&gt;Belgium&lt;/strong&gt;&lt;br&gt;GDP per Capita: 1.42539&lt;br&gt;Healthy Life Expectancy: 0.81959&lt;/div&gt;`)[0];\n",
       "                popup_b89b5e597aacdb2c102c80200efddb78.setContent(html_5d853538eaa37f617fe24c20f9f2f6cb);\n",
       "            \n",
       "        \n",
       "\n",
       "        marker_4fc54b3b7486c317454c0ad01f2bc1a1.bindPopup(popup_b89b5e597aacdb2c102c80200efddb78)\n",
       "        ;\n",
       "\n",
       "        \n",
       "    \n",
       "    \n",
       "            marker_4fc54b3b7486c317454c0ad01f2bc1a1.bindTooltip(\n",
       "                `&lt;div&gt;\n",
       "                     Belgium\n",
       "                 &lt;/div&gt;`,\n",
       "                {&quot;sticky&quot;: true}\n",
       "            );\n",
       "        \n",
       "    \n",
       "            var marker_0599ca885fed60fcdc59c895016deccf = L.marker(\n",
       "                [52.865196, -7.9794599],\n",
       "                {}\n",
       "            ).addTo(marker_cluster_c40bb7d58d7b1ff2b9ca2b07126a61d5);\n",
       "        \n",
       "    \n",
       "        var popup_519519ec59cc491859d7576d85bafe72 = L.popup({&quot;maxWidth&quot;: &quot;100%&quot;});\n",
       "\n",
       "        \n",
       "            \n",
       "                var html_4a36b206972aa6fcb66ddf839ec6ed60 = $(`&lt;div id=&quot;html_4a36b206972aa6fcb66ddf839ec6ed60&quot; style=&quot;width: 100.0%; height: 100.0%;&quot;&gt;&lt;strong&gt;Ireland&lt;/strong&gt;&lt;br&gt;GDP per Capita: 1.48341&lt;br&gt;Healthy Life Expectancy: 0.81455&lt;/div&gt;`)[0];\n",
       "                popup_519519ec59cc491859d7576d85bafe72.setContent(html_4a36b206972aa6fcb66ddf839ec6ed60);\n",
       "            \n",
       "        \n",
       "\n",
       "        marker_0599ca885fed60fcdc59c895016deccf.bindPopup(popup_519519ec59cc491859d7576d85bafe72)\n",
       "        ;\n",
       "\n",
       "        \n",
       "    \n",
       "    \n",
       "            marker_0599ca885fed60fcdc59c895016deccf.bindTooltip(\n",
       "                `&lt;div&gt;\n",
       "                     Ireland\n",
       "                 &lt;/div&gt;`,\n",
       "                {&quot;sticky&quot;: true}\n",
       "            );\n",
       "        \n",
       "    \n",
       "            var marker_e751ef78f5597a9c17a7c4a044e90e72 = L.marker(\n",
       "                [49.6112768, 6.129799],\n",
       "                {}\n",
       "            ).addTo(marker_cluster_c40bb7d58d7b1ff2b9ca2b07126a61d5);\n",
       "        \n",
       "    \n",
       "        var popup_319c38959e6c4ff1c143ebf13ca9f871 = L.popup({&quot;maxWidth&quot;: &quot;100%&quot;});\n",
       "\n",
       "        \n",
       "            \n",
       "                var html_6dd9bf39fc74e9dec85d724e734a7059 = $(`&lt;div id=&quot;html_6dd9bf39fc74e9dec85d724e734a7059&quot; style=&quot;width: 100.0%; height: 100.0%;&quot;&gt;&lt;strong&gt;Luxembourg&lt;/strong&gt;&lt;br&gt;GDP per Capita: 1.69752&lt;br&gt;Healthy Life Expectancy: 0.84542&lt;/div&gt;`)[0];\n",
       "                popup_319c38959e6c4ff1c143ebf13ca9f871.setContent(html_6dd9bf39fc74e9dec85d724e734a7059);\n",
       "            \n",
       "        \n",
       "\n",
       "        marker_e751ef78f5597a9c17a7c4a044e90e72.bindPopup(popup_319c38959e6c4ff1c143ebf13ca9f871)\n",
       "        ;\n",
       "\n",
       "        \n",
       "    \n",
       "    \n",
       "            marker_e751ef78f5597a9c17a7c4a044e90e72.bindTooltip(\n",
       "                `&lt;div&gt;\n",
       "                     Luxembourg\n",
       "                 &lt;/div&gt;`,\n",
       "                {&quot;sticky&quot;: true}\n",
       "            );\n",
       "        \n",
       "    \n",
       "            var marker_09e0aaab730ad5ed1d55463fff29b06b = L.marker(\n",
       "                [19.4326296, -99.1331785],\n",
       "                {}\n",
       "            ).addTo(marker_cluster_c40bb7d58d7b1ff2b9ca2b07126a61d5);\n",
       "        \n",
       "    \n",
       "        var popup_7ad751266962a92d2bbef1db6731705d = L.popup({&quot;maxWidth&quot;: &quot;100%&quot;});\n",
       "\n",
       "        \n",
       "            \n",
       "                var html_1de6f0876d9da129ad5239e4aadc593b = $(`&lt;div id=&quot;html_1de6f0876d9da129ad5239e4aadc593b&quot; style=&quot;width: 100.0%; height: 100.0%;&quot;&gt;&lt;strong&gt;Mexico&lt;/strong&gt;&lt;br&gt;GDP per Capita: 1.11508&lt;br&gt;Healthy Life Expectancy: 0.71143&lt;/div&gt;`)[0];\n",
       "                popup_7ad751266962a92d2bbef1db6731705d.setContent(html_1de6f0876d9da129ad5239e4aadc593b);\n",
       "            \n",
       "        \n",
       "\n",
       "        marker_09e0aaab730ad5ed1d55463fff29b06b.bindPopup(popup_7ad751266962a92d2bbef1db6731705d)\n",
       "        ;\n",
       "\n",
       "        \n",
       "    \n",
       "    \n",
       "            marker_09e0aaab730ad5ed1d55463fff29b06b.bindTooltip(\n",
       "                `&lt;div&gt;\n",
       "                     Mexico\n",
       "                 &lt;/div&gt;`,\n",
       "                {&quot;sticky&quot;: true}\n",
       "            );\n",
       "        \n",
       "    \n",
       "            var marker_7a5f856e26ca2612a6d1e6c8ac6c5fae = L.marker(\n",
       "                [1.357107, 103.8194992],\n",
       "                {}\n",
       "            ).addTo(marker_cluster_c40bb7d58d7b1ff2b9ca2b07126a61d5);\n",
       "        \n",
       "    \n",
       "        var popup_bd34bf4db17f75e59f566046de91bf2f = L.popup({&quot;maxWidth&quot;: &quot;100%&quot;});\n",
       "\n",
       "        \n",
       "            \n",
       "                var html_631faf490d2269d6fadb700b61319c4c = $(`&lt;div id=&quot;html_631faf490d2269d6fadb700b61319c4c&quot; style=&quot;width: 100.0%; height: 100.0%;&quot;&gt;&lt;strong&gt;Singapore&lt;/strong&gt;&lt;br&gt;GDP per Capita: 1.64555&lt;br&gt;Healthy Life Expectancy: 0.94719&lt;/div&gt;`)[0];\n",
       "                popup_bd34bf4db17f75e59f566046de91bf2f.setContent(html_631faf490d2269d6fadb700b61319c4c);\n",
       "            \n",
       "        \n",
       "\n",
       "        marker_7a5f856e26ca2612a6d1e6c8ac6c5fae.bindPopup(popup_bd34bf4db17f75e59f566046de91bf2f)\n",
       "        ;\n",
       "\n",
       "        \n",
       "    \n",
       "    \n",
       "            marker_7a5f856e26ca2612a6d1e6c8ac6c5fae.bindTooltip(\n",
       "                `&lt;div&gt;\n",
       "                     Singapore\n",
       "                 &lt;/div&gt;`,\n",
       "                {&quot;sticky&quot;: true}\n",
       "            );\n",
       "        \n",
       "    \n",
       "            var marker_e8c82d6e3e04f5d1bc43f1292d5a24fc = L.marker(\n",
       "                [54.7023545, -3.2765753],\n",
       "                {}\n",
       "            ).addTo(marker_cluster_c40bb7d58d7b1ff2b9ca2b07126a61d5);\n",
       "        \n",
       "    \n",
       "        var popup_613e3e72a5cbb511de8d07d063b0423e = L.popup({&quot;maxWidth&quot;: &quot;100%&quot;});\n",
       "\n",
       "        \n",
       "            \n",
       "                var html_6fe353bb128389ee89153ce7357f9c10 = $(`&lt;div id=&quot;html_6fe353bb128389ee89153ce7357f9c10&quot; style=&quot;width: 100.0%; height: 100.0%;&quot;&gt;&lt;strong&gt;United Kingdom&lt;/strong&gt;&lt;br&gt;GDP per Capita: 1.40283&lt;br&gt;Healthy Life Expectancy: 0.80991&lt;/div&gt;`)[0];\n",
       "                popup_613e3e72a5cbb511de8d07d063b0423e.setContent(html_6fe353bb128389ee89153ce7357f9c10);\n",
       "            \n",
       "        \n",
       "\n",
       "        marker_e8c82d6e3e04f5d1bc43f1292d5a24fc.bindPopup(popup_613e3e72a5cbb511de8d07d063b0423e)\n",
       "        ;\n",
       "\n",
       "        \n",
       "    \n",
       "    \n",
       "            marker_e8c82d6e3e04f5d1bc43f1292d5a24fc.bindTooltip(\n",
       "                `&lt;div&gt;\n",
       "                     United Kingdom\n",
       "                 &lt;/div&gt;`,\n",
       "                {&quot;sticky&quot;: true}\n",
       "            );\n",
       "        \n",
       "    \n",
       "            var marker_8403bf3c9449d42627b92f4eaa276365 = L.marker(\n",
       "                [-31.7613365, -71.3187697],\n",
       "                {}\n",
       "            ).addTo(marker_cluster_c40bb7d58d7b1ff2b9ca2b07126a61d5);\n",
       "        \n",
       "    \n",
       "        var popup_10c18244449b595ec030c54cae7d02c5 = L.popup({&quot;maxWidth&quot;: &quot;100%&quot;});\n",
       "\n",
       "        \n",
       "            \n",
       "                var html_8364915e724847555de0ed24ed53577c = $(`&lt;div id=&quot;html_8364915e724847555de0ed24ed53577c&quot; style=&quot;width: 100.0%; height: 100.0%;&quot;&gt;&lt;strong&gt;Chile&lt;/strong&gt;&lt;br&gt;GDP per Capita: 1.2167&lt;br&gt;Healthy Life Expectancy: 0.81883&lt;/div&gt;`)[0];\n",
       "                popup_10c18244449b595ec030c54cae7d02c5.setContent(html_8364915e724847555de0ed24ed53577c);\n",
       "            \n",
       "        \n",
       "\n",
       "        marker_8403bf3c9449d42627b92f4eaa276365.bindPopup(popup_10c18244449b595ec030c54cae7d02c5)\n",
       "        ;\n",
       "\n",
       "        \n",
       "    \n",
       "    \n",
       "            marker_8403bf3c9449d42627b92f4eaa276365.bindTooltip(\n",
       "                `&lt;div&gt;\n",
       "                     Chile\n",
       "                 &lt;/div&gt;`,\n",
       "                {&quot;sticky&quot;: true}\n",
       "            );\n",
       "        \n",
       "    \n",
       "            var marker_c84ed63ff82abbb6500007cab3688217 = L.marker(\n",
       "                [8.559559, -81.1308434],\n",
       "                {}\n",
       "            ).addTo(marker_cluster_c40bb7d58d7b1ff2b9ca2b07126a61d5);\n",
       "        \n",
       "    \n",
       "        var popup_bd03cc38946aeaaf5c8b2325e7107163 = L.popup({&quot;maxWidth&quot;: &quot;100%&quot;});\n",
       "\n",
       "        \n",
       "            \n",
       "                var html_204c8894ce3476fe45464433e426acdd = $(`&lt;div id=&quot;html_204c8894ce3476fe45464433e426acdd&quot; style=&quot;width: 100.0%; height: 100.0%;&quot;&gt;&lt;strong&gt;Panama&lt;/strong&gt;&lt;br&gt;GDP per Capita: 1.18306&lt;br&gt;Healthy Life Expectancy: 0.70835&lt;/div&gt;`)[0];\n",
       "                popup_bd03cc38946aeaaf5c8b2325e7107163.setContent(html_204c8894ce3476fe45464433e426acdd);\n",
       "            \n",
       "        \n",
       "\n",
       "        marker_c84ed63ff82abbb6500007cab3688217.bindPopup(popup_bd03cc38946aeaaf5c8b2325e7107163)\n",
       "        ;\n",
       "\n",
       "        \n",
       "    \n",
       "    \n",
       "            marker_c84ed63ff82abbb6500007cab3688217.bindTooltip(\n",
       "                `&lt;div&gt;\n",
       "                     Panama\n",
       "                 &lt;/div&gt;`,\n",
       "                {&quot;sticky&quot;: true}\n",
       "            );\n",
       "        \n",
       "    \n",
       "            var marker_ccc5af8171aa9d75864d10e0e34294d5 = L.marker(\n",
       "                [-34.9964963, -64.9672817],\n",
       "                {}\n",
       "            ).addTo(marker_cluster_c40bb7d58d7b1ff2b9ca2b07126a61d5);\n",
       "        \n",
       "    \n",
       "        var popup_5f32668b8ab149829789601953a382d2 = L.popup({&quot;maxWidth&quot;: &quot;100%&quot;});\n",
       "\n",
       "        \n",
       "            \n",
       "                var html_ad27c459e66d7665d2e4904c895c5ada = $(`&lt;div id=&quot;html_ad27c459e66d7665d2e4904c895c5ada&quot; style=&quot;width: 100.0%; height: 100.0%;&quot;&gt;&lt;strong&gt;Argentina&lt;/strong&gt;&lt;br&gt;GDP per Capita: 1.15137&lt;br&gt;Healthy Life Expectancy: 0.69711&lt;/div&gt;`)[0];\n",
       "                popup_5f32668b8ab149829789601953a382d2.setContent(html_ad27c459e66d7665d2e4904c895c5ada);\n",
       "            \n",
       "        \n",
       "\n",
       "        marker_ccc5af8171aa9d75864d10e0e34294d5.bindPopup(popup_5f32668b8ab149829789601953a382d2)\n",
       "        ;\n",
       "\n",
       "        \n",
       "    \n",
       "    \n",
       "            marker_ccc5af8171aa9d75864d10e0e34294d5.bindTooltip(\n",
       "                `&lt;div&gt;\n",
       "                     Argentina\n",
       "                 &lt;/div&gt;`,\n",
       "                {&quot;sticky&quot;: true}\n",
       "            );\n",
       "        \n",
       "    \n",
       "            var marker_9657bb31ded1ca4e59860cdae85faabb = L.marker(\n",
       "                [49.7439047, 15.3381061],\n",
       "                {}\n",
       "            ).addTo(marker_cluster_c40bb7d58d7b1ff2b9ca2b07126a61d5);\n",
       "        \n",
       "    \n",
       "        var popup_cda995ab269cda804188c7dc6d8cf726 = L.popup({&quot;maxWidth&quot;: &quot;100%&quot;});\n",
       "\n",
       "        \n",
       "            \n",
       "                var html_eba786b2063ce88c8c62af368879a248 = $(`&lt;div id=&quot;html_eba786b2063ce88c8c62af368879a248&quot; style=&quot;width: 100.0%; height: 100.0%;&quot;&gt;&lt;strong&gt;Czech Republic&lt;/strong&gt;&lt;br&gt;GDP per Capita: 1.30915&lt;br&gt;Healthy Life Expectancy: 0.76376&lt;/div&gt;`)[0];\n",
       "                popup_cda995ab269cda804188c7dc6d8cf726.setContent(html_eba786b2063ce88c8c62af368879a248);\n",
       "            \n",
       "        \n",
       "\n",
       "        marker_9657bb31ded1ca4e59860cdae85faabb.bindPopup(popup_cda995ab269cda804188c7dc6d8cf726)\n",
       "        ;\n",
       "\n",
       "        \n",
       "    \n",
       "    \n",
       "            marker_9657bb31ded1ca4e59860cdae85faabb.bindTooltip(\n",
       "                `&lt;div&gt;\n",
       "                     Czech Republic\n",
       "                 &lt;/div&gt;`,\n",
       "                {&quot;sticky&quot;: true}\n",
       "            );\n",
       "        \n",
       "    \n",
       "            var marker_c3a91c51bf551bbb8ec6e425381d16de = L.marker(\n",
       "                [24.0002488, 53.9994829],\n",
       "                {}\n",
       "            ).addTo(marker_cluster_c40bb7d58d7b1ff2b9ca2b07126a61d5);\n",
       "        \n",
       "    \n",
       "        var popup_8d807136c858591c77567dc41b84d130 = L.popup({&quot;maxWidth&quot;: &quot;100%&quot;});\n",
       "\n",
       "        \n",
       "            \n",
       "                var html_8448801ee03aa19f5f8727d459ebf81b = $(`&lt;div id=&quot;html_8448801ee03aa19f5f8727d459ebf81b&quot; style=&quot;width: 100.0%; height: 100.0%;&quot;&gt;&lt;strong&gt;United Arab Emirates&lt;/strong&gt;&lt;br&gt;GDP per Capita: 1.57352&lt;br&gt;Healthy Life Expectancy: 0.72993&lt;/div&gt;`)[0];\n",
       "                popup_8d807136c858591c77567dc41b84d130.setContent(html_8448801ee03aa19f5f8727d459ebf81b);\n",
       "            \n",
       "        \n",
       "\n",
       "        marker_c3a91c51bf551bbb8ec6e425381d16de.bindPopup(popup_8d807136c858591c77567dc41b84d130)\n",
       "        ;\n",
       "\n",
       "        \n",
       "    \n",
       "    \n",
       "            marker_c3a91c51bf551bbb8ec6e425381d16de.bindTooltip(\n",
       "                `&lt;div&gt;\n",
       "                     United Arab Emirates\n",
       "                 &lt;/div&gt;`,\n",
       "                {&quot;sticky&quot;: true}\n",
       "            );\n",
       "        \n",
       "    \n",
       "            var marker_27dfbf8a4396bc12cc6abaccc6075c45 = L.marker(\n",
       "                [-32.8755548, -56.0201525],\n",
       "                {}\n",
       "            ).addTo(marker_cluster_c40bb7d58d7b1ff2b9ca2b07126a61d5);\n",
       "        \n",
       "    \n",
       "        var popup_2066899af9123a1c864be924fc36e134 = L.popup({&quot;maxWidth&quot;: &quot;100%&quot;});\n",
       "\n",
       "        \n",
       "            \n",
       "                var html_56312cc3edd49078ddb32c0fbbd60532 = $(`&lt;div id=&quot;html_56312cc3edd49078ddb32c0fbbd60532&quot; style=&quot;width: 100.0%; height: 100.0%;&quot;&gt;&lt;strong&gt;Uruguay&lt;/strong&gt;&lt;br&gt;GDP per Capita: 1.18157&lt;br&gt;Healthy Life Expectancy: 0.72183&lt;/div&gt;`)[0];\n",
       "                popup_2066899af9123a1c864be924fc36e134.setContent(html_56312cc3edd49078ddb32c0fbbd60532);\n",
       "            \n",
       "        \n",
       "\n",
       "        marker_27dfbf8a4396bc12cc6abaccc6075c45.bindPopup(popup_2066899af9123a1c864be924fc36e134)\n",
       "        ;\n",
       "\n",
       "        \n",
       "    \n",
       "    \n",
       "            marker_27dfbf8a4396bc12cc6abaccc6075c45.bindTooltip(\n",
       "                `&lt;div&gt;\n",
       "                     Uruguay\n",
       "                 &lt;/div&gt;`,\n",
       "                {&quot;sticky&quot;: true}\n",
       "            );\n",
       "        \n",
       "    \n",
       "            var marker_9ceff7e4f7cf8be719e7efd0fc585115 = L.marker(\n",
       "                [35.8885993, 14.4476911],\n",
       "                {}\n",
       "            ).addTo(marker_cluster_c40bb7d58d7b1ff2b9ca2b07126a61d5);\n",
       "        \n",
       "    \n",
       "        var popup_3b0adca9c88099705b0dd80d54a4775a = L.popup({&quot;maxWidth&quot;: &quot;100%&quot;});\n",
       "\n",
       "        \n",
       "            \n",
       "                var html_92cece7b60900d522723599c5041b4e5 = $(`&lt;div id=&quot;html_92cece7b60900d522723599c5041b4e5&quot; style=&quot;width: 100.0%; height: 100.0%;&quot;&gt;&lt;strong&gt;Malta&lt;/strong&gt;&lt;br&gt;GDP per Capita: 1.30782&lt;br&gt;Healthy Life Expectancy: 0.80315&lt;/div&gt;`)[0];\n",
       "                popup_3b0adca9c88099705b0dd80d54a4775a.setContent(html_92cece7b60900d522723599c5041b4e5);\n",
       "            \n",
       "        \n",
       "\n",
       "        marker_9ceff7e4f7cf8be719e7efd0fc585115.bindPopup(popup_3b0adca9c88099705b0dd80d54a4775a)\n",
       "        ;\n",
       "\n",
       "        \n",
       "    \n",
       "    \n",
       "            marker_9ceff7e4f7cf8be719e7efd0fc585115.bindTooltip(\n",
       "                `&lt;div&gt;\n",
       "                     Malta\n",
       "                 &lt;/div&gt;`,\n",
       "                {&quot;sticky&quot;: true}\n",
       "            );\n",
       "        \n",
       "    \n",
       "            var marker_6d8e7d5ebd69b42a0ced8571daf8d901 = L.marker(\n",
       "                [4.099917, -72.9088133],\n",
       "                {}\n",
       "            ).addTo(marker_cluster_c40bb7d58d7b1ff2b9ca2b07126a61d5);\n",
       "        \n",
       "    \n",
       "        var popup_9745c4659fcc65dc102e9c79400e953e = L.popup({&quot;maxWidth&quot;: &quot;100%&quot;});\n",
       "\n",
       "        \n",
       "            \n",
       "                var html_a87c7bd2e69601c33f0ac237d783f75c = $(`&lt;div id=&quot;html_a87c7bd2e69601c33f0ac237d783f75c&quot; style=&quot;width: 100.0%; height: 100.0%;&quot;&gt;&lt;strong&gt;Colombia&lt;/strong&gt;&lt;br&gt;GDP per Capita: 1.03032&lt;br&gt;Healthy Life Expectancy: 0.59659&lt;/div&gt;`)[0];\n",
       "                popup_9745c4659fcc65dc102e9c79400e953e.setContent(html_a87c7bd2e69601c33f0ac237d783f75c);\n",
       "            \n",
       "        \n",
       "\n",
       "        marker_6d8e7d5ebd69b42a0ced8571daf8d901.bindPopup(popup_9745c4659fcc65dc102e9c79400e953e)\n",
       "        ;\n",
       "\n",
       "        \n",
       "    \n",
       "    \n",
       "            marker_6d8e7d5ebd69b42a0ced8571daf8d901.bindTooltip(\n",
       "                `&lt;div&gt;\n",
       "                     Colombia\n",
       "                 &lt;/div&gt;`,\n",
       "                {&quot;sticky&quot;: true}\n",
       "            );\n",
       "        \n",
       "    \n",
       "            var marker_2c2a661cb129285b8983843df2a51f65 = L.marker(\n",
       "                [46.603354, 1.8883335],\n",
       "                {}\n",
       "            ).addTo(marker_cluster_c40bb7d58d7b1ff2b9ca2b07126a61d5);\n",
       "        \n",
       "    \n",
       "        var popup_6f4254b59e817d67feea7369308c69e4 = L.popup({&quot;maxWidth&quot;: &quot;100%&quot;});\n",
       "\n",
       "        \n",
       "            \n",
       "                var html_04b9fedba1f52d10d8b596a3e0347b4b = $(`&lt;div id=&quot;html_04b9fedba1f52d10d8b596a3e0347b4b&quot; style=&quot;width: 100.0%; height: 100.0%;&quot;&gt;&lt;strong&gt;France&lt;/strong&gt;&lt;br&gt;GDP per Capita: 1.39488&lt;br&gt;Healthy Life Expectancy: 0.83795&lt;/div&gt;`)[0];\n",
       "                popup_6f4254b59e817d67feea7369308c69e4.setContent(html_04b9fedba1f52d10d8b596a3e0347b4b);\n",
       "            \n",
       "        \n",
       "\n",
       "        marker_2c2a661cb129285b8983843df2a51f65.bindPopup(popup_6f4254b59e817d67feea7369308c69e4)\n",
       "        ;\n",
       "\n",
       "        \n",
       "    \n",
       "    \n",
       "            marker_2c2a661cb129285b8983843df2a51f65.bindTooltip(\n",
       "                `&lt;div&gt;\n",
       "                     France\n",
       "                 &lt;/div&gt;`,\n",
       "                {&quot;sticky&quot;: true}\n",
       "            );\n",
       "        \n",
       "    \n",
       "            var marker_aed8b6d024bb029b886661e0effc10a6 = L.marker(\n",
       "                [14.8971921, 100.83273],\n",
       "                {}\n",
       "            ).addTo(marker_cluster_c40bb7d58d7b1ff2b9ca2b07126a61d5);\n",
       "        \n",
       "    \n",
       "        var popup_5317027bbd07194609cf72d1bb05bf69 = L.popup({&quot;maxWidth&quot;: &quot;100%&quot;});\n",
       "\n",
       "        \n",
       "            \n",
       "                var html_572cc16259a37855e4349b6f1b27090b = $(`&lt;div id=&quot;html_572cc16259a37855e4349b6f1b27090b&quot; style=&quot;width: 100.0%; height: 100.0%;&quot;&gt;&lt;strong&gt;Thailand&lt;/strong&gt;&lt;br&gt;GDP per Capita: 1.0893&lt;br&gt;Healthy Life Expectancy: 0.64915&lt;/div&gt;`)[0];\n",
       "                popup_5317027bbd07194609cf72d1bb05bf69.setContent(html_572cc16259a37855e4349b6f1b27090b);\n",
       "            \n",
       "        \n",
       "\n",
       "        marker_aed8b6d024bb029b886661e0effc10a6.bindPopup(popup_5317027bbd07194609cf72d1bb05bf69)\n",
       "        ;\n",
       "\n",
       "        \n",
       "    \n",
       "    \n",
       "            marker_aed8b6d024bb029b886661e0effc10a6.bindTooltip(\n",
       "                `&lt;div&gt;\n",
       "                     Thailand\n",
       "                 &lt;/div&gt;`,\n",
       "                {&quot;sticky&quot;: true}\n",
       "            );\n",
       "        \n",
       "    \n",
       "            var marker_d7001fca8bb1affa529c0cfdfce4e14c = L.marker(\n",
       "                [25.6242618, 42.3528328],\n",
       "                {}\n",
       "            ).addTo(marker_cluster_c40bb7d58d7b1ff2b9ca2b07126a61d5);\n",
       "        \n",
       "    \n",
       "        var popup_0fc0d3971c23d1ef7d87a82f5ed88c65 = L.popup({&quot;maxWidth&quot;: &quot;100%&quot;});\n",
       "\n",
       "        \n",
       "            \n",
       "                var html_630cf39e6a8eab802dfce8958183e319 = $(`&lt;div id=&quot;html_630cf39e6a8eab802dfce8958183e319&quot; style=&quot;width: 100.0%; height: 100.0%;&quot;&gt;&lt;strong&gt;Saudi Arabia&lt;/strong&gt;&lt;br&gt;GDP per Capita: 1.48953&lt;br&gt;Healthy Life Expectancy: 0.59267&lt;/div&gt;`)[0];\n",
       "                popup_0fc0d3971c23d1ef7d87a82f5ed88c65.setContent(html_630cf39e6a8eab802dfce8958183e319);\n",
       "            \n",
       "        \n",
       "\n",
       "        marker_d7001fca8bb1affa529c0cfdfce4e14c.bindPopup(popup_0fc0d3971c23d1ef7d87a82f5ed88c65)\n",
       "        ;\n",
       "\n",
       "        \n",
       "    \n",
       "    \n",
       "            marker_d7001fca8bb1affa529c0cfdfce4e14c.bindTooltip(\n",
       "                `&lt;div&gt;\n",
       "                     Saudi Arabia\n",
       "                 &lt;/div&gt;`,\n",
       "                {&quot;sticky&quot;: true}\n",
       "            );\n",
       "        \n",
       "    \n",
       "            var marker_b8beb07435c03ad215cf51e6c07f8ca9 = L.marker(\n",
       "                [23.5983227, 120.83537694479215],\n",
       "                {}\n",
       "            ).addTo(marker_cluster_c40bb7d58d7b1ff2b9ca2b07126a61d5);\n",
       "        \n",
       "    \n",
       "        var popup_988b41c22caebd542d6c16d123af074b = L.popup({&quot;maxWidth&quot;: &quot;100%&quot;});\n",
       "\n",
       "        \n",
       "            \n",
       "                var html_fb7b016f38932829e2eec5048a2b8963 = $(`&lt;div id=&quot;html_fb7b016f38932829e2eec5048a2b8963&quot; style=&quot;width: 100.0%; height: 100.0%;&quot;&gt;&lt;strong&gt;Taiwan&lt;/strong&gt;&lt;br&gt;GDP per Capita: 1.39729&lt;br&gt;Healthy Life Expectancy: 0.79565&lt;/div&gt;`)[0];\n",
       "                popup_988b41c22caebd542d6c16d123af074b.setContent(html_fb7b016f38932829e2eec5048a2b8963);\n",
       "            \n",
       "        \n",
       "\n",
       "        marker_b8beb07435c03ad215cf51e6c07f8ca9.bindPopup(popup_988b41c22caebd542d6c16d123af074b)\n",
       "        ;\n",
       "\n",
       "        \n",
       "    \n",
       "    \n",
       "            marker_b8beb07435c03ad215cf51e6c07f8ca9.bindTooltip(\n",
       "                `&lt;div&gt;\n",
       "                     Taiwan\n",
       "                 &lt;/div&gt;`,\n",
       "                {&quot;sticky&quot;: true}\n",
       "            );\n",
       "        \n",
       "    \n",
       "            var marker_5cf0a3a6c641340b81fb729a60dd98fa = L.marker(\n",
       "                [25.3336984, 51.2295295],\n",
       "                {}\n",
       "            ).addTo(marker_cluster_c40bb7d58d7b1ff2b9ca2b07126a61d5);\n",
       "        \n",
       "    \n",
       "        var popup_d5fb000e8b7cc3909b04e987a326da13 = L.popup({&quot;maxWidth&quot;: &quot;100%&quot;});\n",
       "\n",
       "        \n",
       "            \n",
       "                var html_21d8b29f92ad9fb1cf446f80c4dd9754 = $(`&lt;div id=&quot;html_21d8b29f92ad9fb1cf446f80c4dd9754&quot; style=&quot;width: 100.0%; height: 100.0%;&quot;&gt;&lt;strong&gt;Qatar&lt;/strong&gt;&lt;br&gt;GDP per Capita: 1.82427&lt;br&gt;Healthy Life Expectancy: 0.71723&lt;/div&gt;`)[0];\n",
       "                popup_d5fb000e8b7cc3909b04e987a326da13.setContent(html_21d8b29f92ad9fb1cf446f80c4dd9754);\n",
       "            \n",
       "        \n",
       "\n",
       "        marker_5cf0a3a6c641340b81fb729a60dd98fa.bindPopup(popup_d5fb000e8b7cc3909b04e987a326da13)\n",
       "        ;\n",
       "\n",
       "        \n",
       "    \n",
       "    \n",
       "            marker_5cf0a3a6c641340b81fb729a60dd98fa.bindTooltip(\n",
       "                `&lt;div&gt;\n",
       "                     Qatar\n",
       "                 &lt;/div&gt;`,\n",
       "                {&quot;sticky&quot;: true}\n",
       "            );\n",
       "        \n",
       "    \n",
       "            var marker_4555c4d8b86c045afb4977877eb0d4a4 = L.marker(\n",
       "                [28.0000272, 2.9999825],\n",
       "                {}\n",
       "            ).addTo(marker_cluster_c40bb7d58d7b1ff2b9ca2b07126a61d5);\n",
       "        \n",
       "    \n",
       "        var popup_90c5a8ed5b37f6ec1582dc49f178fedd = L.popup({&quot;maxWidth&quot;: &quot;100%&quot;});\n",
       "\n",
       "        \n",
       "            \n",
       "                var html_66d4f400aedc7a5e456f8dab87957883 = $(`&lt;div id=&quot;html_66d4f400aedc7a5e456f8dab87957883&quot; style=&quot;width: 100.0%; height: 100.0%;&quot;&gt;&lt;strong&gt;Algeria&lt;/strong&gt;&lt;br&gt;GDP per Capita: 1.05266&lt;br&gt;Healthy Life Expectancy: 0.61804&lt;/div&gt;`)[0];\n",
       "                popup_90c5a8ed5b37f6ec1582dc49f178fedd.setContent(html_66d4f400aedc7a5e456f8dab87957883);\n",
       "            \n",
       "        \n",
       "\n",
       "        marker_4555c4d8b86c045afb4977877eb0d4a4.bindPopup(popup_90c5a8ed5b37f6ec1582dc49f178fedd)\n",
       "        ;\n",
       "\n",
       "        \n",
       "    \n",
       "    \n",
       "            marker_4555c4d8b86c045afb4977877eb0d4a4.bindTooltip(\n",
       "                `&lt;div&gt;\n",
       "                     Algeria\n",
       "                 &lt;/div&gt;`,\n",
       "                {&quot;sticky&quot;: true}\n",
       "            );\n",
       "        \n",
       "    \n",
       "            var marker_ae3ea9ebce8ebed88c7ddbdad577746b = L.marker(\n",
       "                [15.5855545, -90.345759],\n",
       "                {}\n",
       "            ).addTo(marker_cluster_c40bb7d58d7b1ff2b9ca2b07126a61d5);\n",
       "        \n",
       "    \n",
       "        var popup_9b55b025ae3ad015b208997d26fd5982 = L.popup({&quot;maxWidth&quot;: &quot;100%&quot;});\n",
       "\n",
       "        \n",
       "            \n",
       "                var html_0255a3880fc321ee2f8d8e42d49b6409 = $(`&lt;div id=&quot;html_0255a3880fc321ee2f8d8e42d49b6409&quot; style=&quot;width: 100.0%; height: 100.0%;&quot;&gt;&lt;strong&gt;Guatemala&lt;/strong&gt;&lt;br&gt;GDP per Capita: 0.83454&lt;br&gt;Healthy Life Expectancy: 0.54039&lt;/div&gt;`)[0];\n",
       "                popup_9b55b025ae3ad015b208997d26fd5982.setContent(html_0255a3880fc321ee2f8d8e42d49b6409);\n",
       "            \n",
       "        \n",
       "\n",
       "        marker_ae3ea9ebce8ebed88c7ddbdad577746b.bindPopup(popup_9b55b025ae3ad015b208997d26fd5982)\n",
       "        ;\n",
       "\n",
       "        \n",
       "    \n",
       "    \n",
       "            marker_ae3ea9ebce8ebed88c7ddbdad577746b.bindTooltip(\n",
       "                `&lt;div&gt;\n",
       "                     Guatemala\n",
       "                 &lt;/div&gt;`,\n",
       "                {&quot;sticky&quot;: true}\n",
       "            );\n",
       "        \n",
       "    \n",
       "            var marker_78db452a2f6316b3cf14a63f082f899d = L.marker(\n",
       "                [4.1413025, -56.0771187],\n",
       "                {}\n",
       "            ).addTo(marker_cluster_c40bb7d58d7b1ff2b9ca2b07126a61d5);\n",
       "        \n",
       "    \n",
       "        var popup_042eb4626fbe21f9f0a238ce5dcdbc27 = L.popup({&quot;maxWidth&quot;: &quot;100%&quot;});\n",
       "\n",
       "        \n",
       "            \n",
       "                var html_b92e689dff60e9352b3e7fee9bcf57a2 = $(`&lt;div id=&quot;html_b92e689dff60e9352b3e7fee9bcf57a2&quot; style=&quot;width: 100.0%; height: 100.0%;&quot;&gt;&lt;strong&gt;Suriname&lt;/strong&gt;&lt;br&gt;GDP per Capita: 1.09686&lt;br&gt;Healthy Life Expectancy: 0.50933&lt;/div&gt;`)[0];\n",
       "                popup_042eb4626fbe21f9f0a238ce5dcdbc27.setContent(html_b92e689dff60e9352b3e7fee9bcf57a2);\n",
       "            \n",
       "        \n",
       "\n",
       "        marker_78db452a2f6316b3cf14a63f082f899d.bindPopup(popup_042eb4626fbe21f9f0a238ce5dcdbc27)\n",
       "        ;\n",
       "\n",
       "        \n",
       "    \n",
       "    \n",
       "            marker_78db452a2f6316b3cf14a63f082f899d.bindTooltip(\n",
       "                `&lt;div&gt;\n",
       "                     Suriname\n",
       "                 &lt;/div&gt;`,\n",
       "                {&quot;sticky&quot;: true}\n",
       "            );\n",
       "        \n",
       "    \n",
       "            var marker_a84519eadca2502d8f4fb6018d786702 = L.marker(\n",
       "                [29.3796532, 47.9734174],\n",
       "                {}\n",
       "            ).addTo(marker_cluster_c40bb7d58d7b1ff2b9ca2b07126a61d5);\n",
       "        \n",
       "    \n",
       "        var popup_fe3522a9af42b081f21fe2b609216e5f = L.popup({&quot;maxWidth&quot;: &quot;100%&quot;});\n",
       "\n",
       "        \n",
       "            \n",
       "                var html_09a8c83b95527f7cb6fa1d00201f71ae = $(`&lt;div id=&quot;html_09a8c83b95527f7cb6fa1d00201f71ae&quot; style=&quot;width: 100.0%; height: 100.0%;&quot;&gt;&lt;strong&gt;Kuwait&lt;/strong&gt;&lt;br&gt;GDP per Capita: 1.61714&lt;br&gt;Healthy Life Expectancy: 0.63569&lt;/div&gt;`)[0];\n",
       "                popup_fe3522a9af42b081f21fe2b609216e5f.setContent(html_09a8c83b95527f7cb6fa1d00201f71ae);\n",
       "            \n",
       "        \n",
       "\n",
       "        marker_a84519eadca2502d8f4fb6018d786702.bindPopup(popup_fe3522a9af42b081f21fe2b609216e5f)\n",
       "        ;\n",
       "\n",
       "        \n",
       "    \n",
       "    \n",
       "            marker_a84519eadca2502d8f4fb6018d786702.bindTooltip(\n",
       "                `&lt;div&gt;\n",
       "                     Kuwait\n",
       "                 &lt;/div&gt;`,\n",
       "                {&quot;sticky&quot;: true}\n",
       "            );\n",
       "        \n",
       "    \n",
       "            var marker_def332cda8445f2fc5a6fefac559c029 = L.marker(\n",
       "                [10.7466905, -61.0840075],\n",
       "                {}\n",
       "            ).addTo(marker_cluster_c40bb7d58d7b1ff2b9ca2b07126a61d5);\n",
       "        \n",
       "    \n",
       "        var popup_e5d75c678070c5d7ea82bc4267d20e79 = L.popup({&quot;maxWidth&quot;: &quot;100%&quot;});\n",
       "\n",
       "        \n",
       "            \n",
       "                var html_4922f01709859bdabfd82f8cc0150db3 = $(`&lt;div id=&quot;html_4922f01709859bdabfd82f8cc0150db3&quot; style=&quot;width: 100.0%; height: 100.0%;&quot;&gt;&lt;strong&gt;Trinidad and Tobago&lt;/strong&gt;&lt;br&gt;GDP per Capita: 1.32572&lt;br&gt;Healthy Life Expectancy: 0.52608&lt;/div&gt;`)[0];\n",
       "                popup_e5d75c678070c5d7ea82bc4267d20e79.setContent(html_4922f01709859bdabfd82f8cc0150db3);\n",
       "            \n",
       "        \n",
       "\n",
       "        marker_def332cda8445f2fc5a6fefac559c029.bindPopup(popup_e5d75c678070c5d7ea82bc4267d20e79)\n",
       "        ;\n",
       "\n",
       "        \n",
       "    \n",
       "    \n",
       "            marker_def332cda8445f2fc5a6fefac559c029.bindTooltip(\n",
       "                `&lt;div&gt;\n",
       "                     Trinidad and Tobago\n",
       "                 &lt;/div&gt;`,\n",
       "                {&quot;sticky&quot;: true}\n",
       "            );\n",
       "        \n",
       "    \n",
       "            var marker_8659870e2b05f2aeb49cbe8da28e8425 = L.marker(\n",
       "                [8.0018709, -66.1109318],\n",
       "                {}\n",
       "            ).addTo(marker_cluster_c40bb7d58d7b1ff2b9ca2b07126a61d5);\n",
       "        \n",
       "    \n",
       "        var popup_cae419ec3a78deffd10438f72eca7914 = L.popup({&quot;maxWidth&quot;: &quot;100%&quot;});\n",
       "\n",
       "        \n",
       "            \n",
       "                var html_d94982673552fd6a82042a3d03abd219 = $(`&lt;div id=&quot;html_d94982673552fd6a82042a3d03abd219&quot; style=&quot;width: 100.0%; height: 100.0%;&quot;&gt;&lt;strong&gt;Venezuela&lt;/strong&gt;&lt;br&gt;GDP per Capita: 1.13367&lt;br&gt;Healthy Life Expectancy: 0.61904&lt;/div&gt;`)[0];\n",
       "                popup_cae419ec3a78deffd10438f72eca7914.setContent(html_d94982673552fd6a82042a3d03abd219);\n",
       "            \n",
       "        \n",
       "\n",
       "        marker_8659870e2b05f2aeb49cbe8da28e8425.bindPopup(popup_cae419ec3a78deffd10438f72eca7914)\n",
       "        ;\n",
       "\n",
       "        \n",
       "    \n",
       "    \n",
       "            marker_8659870e2b05f2aeb49cbe8da28e8425.bindTooltip(\n",
       "                `&lt;div&gt;\n",
       "                     Venezuela\n",
       "                 &lt;/div&gt;`,\n",
       "                {&quot;sticky&quot;: true}\n",
       "            );\n",
       "        \n",
       "    \n",
       "            var marker_a88986cd4c7b08f3420993a557448a3b = L.marker(\n",
       "                [13.8000382, -88.9140683],\n",
       "                {}\n",
       "            ).addTo(marker_cluster_c40bb7d58d7b1ff2b9ca2b07126a61d5);\n",
       "        \n",
       "    \n",
       "        var popup_ac82b383b923111ab3f07d242a69e0b9 = L.popup({&quot;maxWidth&quot;: &quot;100%&quot;});\n",
       "\n",
       "        \n",
       "            \n",
       "                var html_1431da8e76253bab3e1a6be0ce0112ea = $(`&lt;div id=&quot;html_1431da8e76253bab3e1a6be0ce0112ea&quot; style=&quot;width: 100.0%; height: 100.0%;&quot;&gt;&lt;strong&gt;El Salvador&lt;/strong&gt;&lt;br&gt;GDP per Capita: 0.8737&lt;br&gt;Healthy Life Expectancy: 0.596&lt;/div&gt;`)[0];\n",
       "                popup_ac82b383b923111ab3f07d242a69e0b9.setContent(html_1431da8e76253bab3e1a6be0ce0112ea);\n",
       "            \n",
       "        \n",
       "\n",
       "        marker_a88986cd4c7b08f3420993a557448a3b.bindPopup(popup_ac82b383b923111ab3f07d242a69e0b9)\n",
       "        ;\n",
       "\n",
       "        \n",
       "    \n",
       "    \n",
       "            marker_a88986cd4c7b08f3420993a557448a3b.bindTooltip(\n",
       "                `&lt;div&gt;\n",
       "                     El Salvador\n",
       "                 &lt;/div&gt;`,\n",
       "                {&quot;sticky&quot;: true}\n",
       "            );\n",
       "        \n",
       "    \n",
       "            var marker_600491710bbd31de5dcd3703a9ab5f44 = L.marker(\n",
       "                [4.5693754, 102.2656823],\n",
       "                {}\n",
       "            ).addTo(marker_cluster_c40bb7d58d7b1ff2b9ca2b07126a61d5);\n",
       "        \n",
       "    \n",
       "        var popup_b89ca576973cd3083fb3d349852ed6b7 = L.popup({&quot;maxWidth&quot;: &quot;100%&quot;});\n",
       "\n",
       "        \n",
       "            \n",
       "                var html_a3607844987b94f9f092841389d83055 = $(`&lt;div id=&quot;html_a3607844987b94f9f092841389d83055&quot; style=&quot;width: 100.0%; height: 100.0%;&quot;&gt;&lt;strong&gt;Malaysia&lt;/strong&gt;&lt;br&gt;GDP per Capita: 1.25142&lt;br&gt;Healthy Life Expectancy: 0.62366&lt;/div&gt;`)[0];\n",
       "                popup_b89ca576973cd3083fb3d349852ed6b7.setContent(html_a3607844987b94f9f092841389d83055);\n",
       "            \n",
       "        \n",
       "\n",
       "        marker_600491710bbd31de5dcd3703a9ab5f44.bindPopup(popup_b89ca576973cd3083fb3d349852ed6b7)\n",
       "        ;\n",
       "\n",
       "        \n",
       "    \n",
       "    \n",
       "            marker_600491710bbd31de5dcd3703a9ab5f44.bindTooltip(\n",
       "                `&lt;div&gt;\n",
       "                     Malaysia\n",
       "                 &lt;/div&gt;`,\n",
       "                {&quot;sticky&quot;: true}\n",
       "            );\n",
       "        \n",
       "    \n",
       "            var marker_ac59482d149bf6b1719c6700865a7af8 = L.marker(\n",
       "                [12.6090157, -85.2936911],\n",
       "                {}\n",
       "            ).addTo(marker_cluster_c40bb7d58d7b1ff2b9ca2b07126a61d5);\n",
       "        \n",
       "    \n",
       "        var popup_acdee4ac9ce4770d29d0bfe8fef348a5 = L.popup({&quot;maxWidth&quot;: &quot;100%&quot;});\n",
       "\n",
       "        \n",
       "            \n",
       "                var html_6f912451c89102faf63e34a7c085f2db = $(`&lt;div id=&quot;html_6f912451c89102faf63e34a7c085f2db&quot; style=&quot;width: 100.0%; height: 100.0%;&quot;&gt;&lt;strong&gt;Nicaragua&lt;/strong&gt;&lt;br&gt;GDP per Capita: 0.69384&lt;br&gt;Healthy Life Expectancy: 0.65213&lt;/div&gt;`)[0];\n",
       "                popup_acdee4ac9ce4770d29d0bfe8fef348a5.setContent(html_6f912451c89102faf63e34a7c085f2db);\n",
       "            \n",
       "        \n",
       "\n",
       "        marker_ac59482d149bf6b1719c6700865a7af8.bindPopup(popup_acdee4ac9ce4770d29d0bfe8fef348a5)\n",
       "        ;\n",
       "\n",
       "        \n",
       "    \n",
       "    \n",
       "            marker_ac59482d149bf6b1719c6700865a7af8.bindTooltip(\n",
       "                `&lt;div&gt;\n",
       "                     Nicaragua\n",
       "                 &lt;/div&gt;`,\n",
       "                {&quot;sticky&quot;: true}\n",
       "            );\n",
       "        \n",
       "    \n",
       "            var marker_706522c1ecfa0a678d781e527a467d8e = L.marker(\n",
       "                [41.32373, 63.9528098],\n",
       "                {}\n",
       "            ).addTo(marker_cluster_c40bb7d58d7b1ff2b9ca2b07126a61d5);\n",
       "        \n",
       "    \n",
       "        var popup_db18e33b68cf5b120cfb64ef531657dd = L.popup({&quot;maxWidth&quot;: &quot;100%&quot;});\n",
       "\n",
       "        \n",
       "            \n",
       "                var html_459662c62eaebfcf21948260de322fb8 = $(`&lt;div id=&quot;html_459662c62eaebfcf21948260de322fb8&quot; style=&quot;width: 100.0%; height: 100.0%;&quot;&gt;&lt;strong&gt;Uzbekistan&lt;/strong&gt;&lt;br&gt;GDP per Capita: 0.73591&lt;br&gt;Healthy Life Expectancy: 0.50163&lt;/div&gt;`)[0];\n",
       "                popup_db18e33b68cf5b120cfb64ef531657dd.setContent(html_459662c62eaebfcf21948260de322fb8);\n",
       "            \n",
       "        \n",
       "\n",
       "        marker_706522c1ecfa0a678d781e527a467d8e.bindPopup(popup_db18e33b68cf5b120cfb64ef531657dd)\n",
       "        ;\n",
       "\n",
       "        \n",
       "    \n",
       "    \n",
       "            marker_706522c1ecfa0a678d781e527a467d8e.bindTooltip(\n",
       "                `&lt;div&gt;\n",
       "                     Uzbekistan\n",
       "                 &lt;/div&gt;`,\n",
       "                {&quot;sticky&quot;: true}\n",
       "            );\n",
       "        \n",
       "    \n",
       "            var marker_a3e9d8ab2f6946d9bc2b0de533b1f946 = L.marker(\n",
       "                [42.6384261, 12.674297],\n",
       "                {}\n",
       "            ).addTo(marker_cluster_c40bb7d58d7b1ff2b9ca2b07126a61d5);\n",
       "        \n",
       "    \n",
       "        var popup_bde4e53c0ea78a1d4ac25a04b0617298 = L.popup({&quot;maxWidth&quot;: &quot;100%&quot;});\n",
       "\n",
       "        \n",
       "            \n",
       "                var html_ea6b918ddc12b9e3c73271c7119d7d06 = $(`&lt;div id=&quot;html_ea6b918ddc12b9e3c73271c7119d7d06&quot; style=&quot;width: 100.0%; height: 100.0%;&quot;&gt;&lt;strong&gt;Italy&lt;/strong&gt;&lt;br&gt;GDP per Capita: 1.35495&lt;br&gt;Healthy Life Expectancy: 0.85102&lt;/div&gt;`)[0];\n",
       "                popup_bde4e53c0ea78a1d4ac25a04b0617298.setContent(html_ea6b918ddc12b9e3c73271c7119d7d06);\n",
       "            \n",
       "        \n",
       "\n",
       "        marker_a3e9d8ab2f6946d9bc2b0de533b1f946.bindPopup(popup_bde4e53c0ea78a1d4ac25a04b0617298)\n",
       "        ;\n",
       "\n",
       "        \n",
       "    \n",
       "    \n",
       "            marker_a3e9d8ab2f6946d9bc2b0de533b1f946.bindTooltip(\n",
       "                `&lt;div&gt;\n",
       "                     Italy\n",
       "                 &lt;/div&gt;`,\n",
       "                {&quot;sticky&quot;: true}\n",
       "            );\n",
       "        \n",
       "    \n",
       "            var marker_de38cb2305cde4085ba5aed566435cec = L.marker(\n",
       "                [-1.3397668, -79.3666965],\n",
       "                {}\n",
       "            ).addTo(marker_cluster_c40bb7d58d7b1ff2b9ca2b07126a61d5);\n",
       "        \n",
       "    \n",
       "        var popup_d6379bd62ececbfa00a9f31d2d49ce36 = L.popup({&quot;maxWidth&quot;: &quot;100%&quot;});\n",
       "\n",
       "        \n",
       "            \n",
       "                var html_8cf8c1af139e8baed7a4d5faba42835d = $(`&lt;div id=&quot;html_8cf8c1af139e8baed7a4d5faba42835d&quot; style=&quot;width: 100.0%; height: 100.0%;&quot;&gt;&lt;strong&gt;Ecuador&lt;/strong&gt;&lt;br&gt;GDP per Capita: 0.97306&lt;br&gt;Healthy Life Expectancy: 0.68613&lt;/div&gt;`)[0];\n",
       "                popup_d6379bd62ececbfa00a9f31d2d49ce36.setContent(html_8cf8c1af139e8baed7a4d5faba42835d);\n",
       "            \n",
       "        \n",
       "\n",
       "        marker_de38cb2305cde4085ba5aed566435cec.bindPopup(popup_d6379bd62ececbfa00a9f31d2d49ce36)\n",
       "        ;\n",
       "\n",
       "        \n",
       "    \n",
       "    \n",
       "            marker_de38cb2305cde4085ba5aed566435cec.bindTooltip(\n",
       "                `&lt;div&gt;\n",
       "                     Ecuador\n",
       "                 &lt;/div&gt;`,\n",
       "                {&quot;sticky&quot;: true}\n",
       "            );\n",
       "        \n",
       "    \n",
       "            var marker_f02f87a5ae37f6406a67866f09ee9fcd = L.marker(\n",
       "                [17.1204943, -88.6859028],\n",
       "                {}\n",
       "            ).addTo(marker_cluster_c40bb7d58d7b1ff2b9ca2b07126a61d5);\n",
       "        \n",
       "    \n",
       "        var popup_fb499c3cc73b9347159e15bb4e112558 = L.popup({&quot;maxWidth&quot;: &quot;100%&quot;});\n",
       "\n",
       "        \n",
       "            \n",
       "                var html_8d4c3dbbd6222a25fe0eb683d42ab9f1 = $(`&lt;div id=&quot;html_8d4c3dbbd6222a25fe0eb683d42ab9f1&quot; style=&quot;width: 100.0%; height: 100.0%;&quot;&gt;&lt;strong&gt;Belize&lt;/strong&gt;&lt;br&gt;GDP per Capita: 0.87616&lt;br&gt;Healthy Life Expectancy: 0.45569&lt;/div&gt;`)[0];\n",
       "                popup_fb499c3cc73b9347159e15bb4e112558.setContent(html_8d4c3dbbd6222a25fe0eb683d42ab9f1);\n",
       "            \n",
       "        \n",
       "\n",
       "        marker_f02f87a5ae37f6406a67866f09ee9fcd.bindPopup(popup_fb499c3cc73b9347159e15bb4e112558)\n",
       "        ;\n",
       "\n",
       "        \n",
       "    \n",
       "    \n",
       "            marker_f02f87a5ae37f6406a67866f09ee9fcd.bindTooltip(\n",
       "                `&lt;div&gt;\n",
       "                     Belize\n",
       "                 &lt;/div&gt;`,\n",
       "                {&quot;sticky&quot;: true}\n",
       "            );\n",
       "        \n",
       "    \n",
       "            var marker_337509d51605735b5cd27c725768a64a = L.marker(\n",
       "                [36.5748441, 139.2394179],\n",
       "                {}\n",
       "            ).addTo(marker_cluster_c40bb7d58d7b1ff2b9ca2b07126a61d5);\n",
       "        \n",
       "    \n",
       "        var popup_286326dfbc38f092ea2f4873853997ef = L.popup({&quot;maxWidth&quot;: &quot;100%&quot;});\n",
       "\n",
       "        \n",
       "            \n",
       "                var html_edd020fffb7a6f17a88e3f9e2431fa1a = $(`&lt;div id=&quot;html_edd020fffb7a6f17a88e3f9e2431fa1a&quot; style=&quot;width: 100.0%; height: 100.0%;&quot;&gt;&lt;strong&gt;Japan&lt;/strong&gt;&lt;br&gt;GDP per Capita: 1.38007&lt;br&gt;Healthy Life Expectancy: 0.91491&lt;/div&gt;`)[0];\n",
       "                popup_286326dfbc38f092ea2f4873853997ef.setContent(html_edd020fffb7a6f17a88e3f9e2431fa1a);\n",
       "            \n",
       "        \n",
       "\n",
       "        marker_337509d51605735b5cd27c725768a64a.bindPopup(popup_286326dfbc38f092ea2f4873853997ef)\n",
       "        ;\n",
       "\n",
       "        \n",
       "    \n",
       "    \n",
       "            marker_337509d51605735b5cd27c725768a64a.bindTooltip(\n",
       "                `&lt;div&gt;\n",
       "                     Japan\n",
       "                 &lt;/div&gt;`,\n",
       "                {&quot;sticky&quot;: true}\n",
       "            );\n",
       "        \n",
       "    \n",
       "            var marker_c8a527b42267192550c740585dc6e7f4 = L.marker(\n",
       "                [48.1012954, 66.7780818],\n",
       "                {}\n",
       "            ).addTo(marker_cluster_c40bb7d58d7b1ff2b9ca2b07126a61d5);\n",
       "        \n",
       "    \n",
       "        var popup_7ff181f399652a420f6b0350096dccd1 = L.popup({&quot;maxWidth&quot;: &quot;100%&quot;});\n",
       "\n",
       "        \n",
       "            \n",
       "                var html_db77e75c30442f64efbe26e0540fe355 = $(`&lt;div id=&quot;html_db77e75c30442f64efbe26e0540fe355&quot; style=&quot;width: 100.0%; height: 100.0%;&quot;&gt;&lt;strong&gt;Kazakhstan&lt;/strong&gt;&lt;br&gt;GDP per Capita: 1.22943&lt;br&gt;Healthy Life Expectancy: 0.57386&lt;/div&gt;`)[0];\n",
       "                popup_7ff181f399652a420f6b0350096dccd1.setContent(html_db77e75c30442f64efbe26e0540fe355);\n",
       "            \n",
       "        \n",
       "\n",
       "        marker_c8a527b42267192550c740585dc6e7f4.bindPopup(popup_7ff181f399652a420f6b0350096dccd1)\n",
       "        ;\n",
       "\n",
       "        \n",
       "    \n",
       "    \n",
       "            marker_c8a527b42267192550c740585dc6e7f4.bindTooltip(\n",
       "                `&lt;div&gt;\n",
       "                     Kazakhstan\n",
       "                 &lt;/div&gt;`,\n",
       "                {&quot;sticky&quot;: true}\n",
       "            );\n",
       "        \n",
       "    \n",
       "            var marker_d4bbe59956172db5afca879294f75bb3 = L.marker(\n",
       "                [47.2879608, 28.5670941],\n",
       "                {}\n",
       "            ).addTo(marker_cluster_c40bb7d58d7b1ff2b9ca2b07126a61d5);\n",
       "        \n",
       "    \n",
       "        var popup_030c129d3b4423f46347526e5941ea2e = L.popup({&quot;maxWidth&quot;: &quot;100%&quot;});\n",
       "\n",
       "        \n",
       "            \n",
       "                var html_428b132cbcebbd44521e9f24f341c833 = $(`&lt;div id=&quot;html_428b132cbcebbd44521e9f24f341c833&quot; style=&quot;width: 100.0%; height: 100.0%;&quot;&gt;&lt;strong&gt;Moldova&lt;/strong&gt;&lt;br&gt;GDP per Capita: 0.69177&lt;br&gt;Healthy Life Expectancy: 0.52309&lt;/div&gt;`)[0];\n",
       "                popup_030c129d3b4423f46347526e5941ea2e.setContent(html_428b132cbcebbd44521e9f24f341c833);\n",
       "            \n",
       "        \n",
       "\n",
       "        marker_d4bbe59956172db5afca879294f75bb3.bindPopup(popup_030c129d3b4423f46347526e5941ea2e)\n",
       "        ;\n",
       "\n",
       "        \n",
       "    \n",
       "    \n",
       "            marker_d4bbe59956172db5afca879294f75bb3.bindTooltip(\n",
       "                `&lt;div&gt;\n",
       "                     Moldova\n",
       "                 &lt;/div&gt;`,\n",
       "                {&quot;sticky&quot;: true}\n",
       "            );\n",
       "        \n",
       "    \n",
       "            var marker_72cafef6e5cf140d58992946d2f70b25 = L.marker(\n",
       "                [64.6863136, 97.7453061],\n",
       "                {}\n",
       "            ).addTo(marker_cluster_c40bb7d58d7b1ff2b9ca2b07126a61d5);\n",
       "        \n",
       "    \n",
       "        var popup_1a393db6df51fbfd9562a5c46ca6862e = L.popup({&quot;maxWidth&quot;: &quot;100%&quot;});\n",
       "\n",
       "        \n",
       "            \n",
       "                var html_5a7f060a5728831694ff587c2238a16b = $(`&lt;div id=&quot;html_5a7f060a5728831694ff587c2238a16b&quot; style=&quot;width: 100.0%; height: 100.0%;&quot;&gt;&lt;strong&gt;Russia&lt;/strong&gt;&lt;br&gt;GDP per Capita: 1.23228&lt;br&gt;Healthy Life Expectancy: 0.58991&lt;/div&gt;`)[0];\n",
       "                popup_1a393db6df51fbfd9562a5c46ca6862e.setContent(html_5a7f060a5728831694ff587c2238a16b);\n",
       "            \n",
       "        \n",
       "\n",
       "        marker_72cafef6e5cf140d58992946d2f70b25.bindPopup(popup_1a393db6df51fbfd9562a5c46ca6862e)\n",
       "        ;\n",
       "\n",
       "        \n",
       "    \n",
       "    \n",
       "            marker_72cafef6e5cf140d58992946d2f70b25.bindTooltip(\n",
       "                `&lt;div&gt;\n",
       "                     Russia\n",
       "                 &lt;/div&gt;`,\n",
       "                {&quot;sticky&quot;: true}\n",
       "            );\n",
       "        \n",
       "    \n",
       "            var marker_a796032ae8ca5db91f69f799041c81ea = L.marker(\n",
       "                [52.215933, 19.134422],\n",
       "                {}\n",
       "            ).addTo(marker_cluster_c40bb7d58d7b1ff2b9ca2b07126a61d5);\n",
       "        \n",
       "    \n",
       "        var popup_2bb9f78c826822af86849b267aec66f1 = L.popup({&quot;maxWidth&quot;: &quot;100%&quot;});\n",
       "\n",
       "        \n",
       "            \n",
       "                var html_c035d24ea9de42a971f41b05022514b4 = $(`&lt;div id=&quot;html_c035d24ea9de42a971f41b05022514b4&quot; style=&quot;width: 100.0%; height: 100.0%;&quot;&gt;&lt;strong&gt;Poland&lt;/strong&gt;&lt;br&gt;GDP per Capita: 1.24585&lt;br&gt;Healthy Life Expectancy: 0.69058&lt;/div&gt;`)[0];\n",
       "                popup_2bb9f78c826822af86849b267aec66f1.setContent(html_c035d24ea9de42a971f41b05022514b4);\n",
       "            \n",
       "        \n",
       "\n",
       "        marker_a796032ae8ca5db91f69f799041c81ea.bindPopup(popup_2bb9f78c826822af86849b267aec66f1)\n",
       "        ;\n",
       "\n",
       "        \n",
       "    \n",
       "    \n",
       "            marker_a796032ae8ca5db91f69f799041c81ea.bindTooltip(\n",
       "                `&lt;div&gt;\n",
       "                     Poland\n",
       "                 &lt;/div&gt;`,\n",
       "                {&quot;sticky&quot;: true}\n",
       "            );\n",
       "        \n",
       "    \n",
       "            var marker_6826b026fdfa228c089a302baf2ae770 = L.marker(\n",
       "                [36.638392, 127.6961188],\n",
       "                {}\n",
       "            ).addTo(marker_cluster_c40bb7d58d7b1ff2b9ca2b07126a61d5);\n",
       "        \n",
       "    \n",
       "        var popup_485721da98cbcba91d078d18e32e42fd = L.popup({&quot;maxWidth&quot;: &quot;100%&quot;});\n",
       "\n",
       "        \n",
       "            \n",
       "                var html_f9a50e97ac649e00719ab068521e0a69 = $(`&lt;div id=&quot;html_f9a50e97ac649e00719ab068521e0a69&quot; style=&quot;width: 100.0%; height: 100.0%;&quot;&gt;&lt;strong&gt;South Korea&lt;/strong&gt;&lt;br&gt;GDP per Capita: 1.35948&lt;br&gt;Healthy Life Expectancy: 0.88645&lt;/div&gt;`)[0];\n",
       "                popup_485721da98cbcba91d078d18e32e42fd.setContent(html_f9a50e97ac649e00719ab068521e0a69);\n",
       "            \n",
       "        \n",
       "\n",
       "        marker_6826b026fdfa228c089a302baf2ae770.bindPopup(popup_485721da98cbcba91d078d18e32e42fd)\n",
       "        ;\n",
       "\n",
       "        \n",
       "    \n",
       "    \n",
       "            marker_6826b026fdfa228c089a302baf2ae770.bindTooltip(\n",
       "                `&lt;div&gt;\n",
       "                     South Korea\n",
       "                 &lt;/div&gt;`,\n",
       "                {&quot;sticky&quot;: true}\n",
       "            );\n",
       "        \n",
       "    \n",
       "            var marker_ebdb910642584af25d7b82025ebffeb6 = L.marker(\n",
       "                [55.3500003, 23.7499997],\n",
       "                {}\n",
       "            ).addTo(marker_cluster_c40bb7d58d7b1ff2b9ca2b07126a61d5);\n",
       "        \n",
       "    \n",
       "        var popup_b3fa927f808af1ae3d4b2e8369f064e4 = L.popup({&quot;maxWidth&quot;: &quot;100%&quot;});\n",
       "\n",
       "        \n",
       "            \n",
       "                var html_d2af4ee2f52662c73a57fbf459479149 = $(`&lt;div id=&quot;html_d2af4ee2f52662c73a57fbf459479149&quot; style=&quot;width: 100.0%; height: 100.0%;&quot;&gt;&lt;strong&gt;Lithuania&lt;/strong&gt;&lt;br&gt;GDP per Capita: 1.2692&lt;br&gt;Healthy Life Expectancy: 0.64674&lt;/div&gt;`)[0];\n",
       "                popup_b3fa927f808af1ae3d4b2e8369f064e4.setContent(html_d2af4ee2f52662c73a57fbf459479149);\n",
       "            \n",
       "        \n",
       "\n",
       "        marker_ebdb910642584af25d7b82025ebffeb6.bindPopup(popup_b3fa927f808af1ae3d4b2e8369f064e4)\n",
       "        ;\n",
       "\n",
       "        \n",
       "    \n",
       "    \n",
       "            marker_ebdb910642584af25d7b82025ebffeb6.bindTooltip(\n",
       "                `&lt;div&gt;\n",
       "                     Lithuania\n",
       "                 &lt;/div&gt;`,\n",
       "                {&quot;sticky&quot;: true}\n",
       "            );\n",
       "        \n",
       "    \n",
       "            var marker_5f5548c4910d2b98c9f198ef78bcd687 = L.marker(\n",
       "                [53.4250605, 27.6971358],\n",
       "                {}\n",
       "            ).addTo(marker_cluster_c40bb7d58d7b1ff2b9ca2b07126a61d5);\n",
       "        \n",
       "    \n",
       "        var popup_92e9e5d43307579b3717fda8c1bbf316 = L.popup({&quot;maxWidth&quot;: &quot;100%&quot;});\n",
       "\n",
       "        \n",
       "            \n",
       "                var html_42345c08e655a2a4c762684c15c534ce = $(`&lt;div id=&quot;html_42345c08e655a2a4c762684c15c534ce&quot; style=&quot;width: 100.0%; height: 100.0%;&quot;&gt;&lt;strong&gt;Belarus&lt;/strong&gt;&lt;br&gt;GDP per Capita: 1.13062&lt;br&gt;Healthy Life Expectancy: 0.63104&lt;/div&gt;`)[0];\n",
       "                popup_92e9e5d43307579b3717fda8c1bbf316.setContent(html_42345c08e655a2a4c762684c15c534ce);\n",
       "            \n",
       "        \n",
       "\n",
       "        marker_5f5548c4910d2b98c9f198ef78bcd687.bindPopup(popup_92e9e5d43307579b3717fda8c1bbf316)\n",
       "        ;\n",
       "\n",
       "        \n",
       "    \n",
       "    \n",
       "            marker_5f5548c4910d2b98c9f198ef78bcd687.bindTooltip(\n",
       "                `&lt;div&gt;\n",
       "                     Belarus\n",
       "                 &lt;/div&gt;`,\n",
       "                {&quot;sticky&quot;: true}\n",
       "            );\n",
       "        \n",
       "    \n",
       "            var marker_b2412cf91a63acd3f20dc01633761f5c = L.marker(\n",
       "                [35.2245313, 33.6252379],\n",
       "                {}\n",
       "            ).addTo(marker_cluster_c40bb7d58d7b1ff2b9ca2b07126a61d5);\n",
       "        \n",
       "    \n",
       "        var popup_fa196451c4f1b189586bf2f2c8ef33fc = L.popup({&quot;maxWidth&quot;: &quot;100%&quot;});\n",
       "\n",
       "        \n",
       "            \n",
       "                var html_b0f4c552907b3b34e19c560c29cc9e90 = $(`&lt;div id=&quot;html_b0f4c552907b3b34e19c560c29cc9e90&quot; style=&quot;width: 100.0%; height: 100.0%;&quot;&gt;&lt;strong&gt;North Cyprus&lt;/strong&gt;&lt;br&gt;GDP per Capita: 1.31141&lt;br&gt;Healthy Life Expectancy: 0.84142&lt;/div&gt;`)[0];\n",
       "                popup_fa196451c4f1b189586bf2f2c8ef33fc.setContent(html_b0f4c552907b3b34e19c560c29cc9e90);\n",
       "            \n",
       "        \n",
       "\n",
       "        marker_b2412cf91a63acd3f20dc01633761f5c.bindPopup(popup_fa196451c4f1b189586bf2f2c8ef33fc)\n",
       "        ;\n",
       "\n",
       "        \n",
       "    \n",
       "    \n",
       "            marker_b2412cf91a63acd3f20dc01633761f5c.bindTooltip(\n",
       "                `&lt;div&gt;\n",
       "                     North Cyprus\n",
       "                 &lt;/div&gt;`,\n",
       "                {&quot;sticky&quot;: true}\n",
       "            );\n",
       "        \n",
       "    \n",
       "            var marker_c7049983d866bfd00cc73e5a5f180fcd = L.marker(\n",
       "                [46.1199444, 14.8153333],\n",
       "                {}\n",
       "            ).addTo(marker_cluster_c40bb7d58d7b1ff2b9ca2b07126a61d5);\n",
       "        \n",
       "    \n",
       "        var popup_8de1558e179e20db1131bd026da38701 = L.popup({&quot;maxWidth&quot;: &quot;100%&quot;});\n",
       "\n",
       "        \n",
       "            \n",
       "                var html_43f29a0aa6a424e1c443e3de5143fd42 = $(`&lt;div id=&quot;html_43f29a0aa6a424e1c443e3de5143fd42&quot; style=&quot;width: 100.0%; height: 100.0%;&quot;&gt;&lt;strong&gt;Slovenia&lt;/strong&gt;&lt;br&gt;GDP per Capita: 1.29947&lt;br&gt;Healthy Life Expectancy: 0.79151&lt;/div&gt;`)[0];\n",
       "                popup_8de1558e179e20db1131bd026da38701.setContent(html_43f29a0aa6a424e1c443e3de5143fd42);\n",
       "            \n",
       "        \n",
       "\n",
       "        marker_c7049983d866bfd00cc73e5a5f180fcd.bindPopup(popup_8de1558e179e20db1131bd026da38701)\n",
       "        ;\n",
       "\n",
       "        \n",
       "    \n",
       "    \n",
       "            marker_c7049983d866bfd00cc73e5a5f180fcd.bindTooltip(\n",
       "                `&lt;div&gt;\n",
       "                     Slovenia\n",
       "                 &lt;/div&gt;`,\n",
       "                {&quot;sticky&quot;: true}\n",
       "            );\n",
       "        \n",
       "    \n",
       "            var marker_fee776a342107c0ef52a8c59f28a1e03 = L.marker(\n",
       "                [39.3763807, 59.3924609],\n",
       "                {}\n",
       "            ).addTo(marker_cluster_c40bb7d58d7b1ff2b9ca2b07126a61d5);\n",
       "        \n",
       "    \n",
       "        var popup_438605cd102444690ebf369866a14818 = L.popup({&quot;maxWidth&quot;: &quot;100%&quot;});\n",
       "\n",
       "        \n",
       "            \n",
       "                var html_b1e5d7a98e7703a30b4decac4d36358b = $(`&lt;div id=&quot;html_b1e5d7a98e7703a30b4decac4d36358b&quot; style=&quot;width: 100.0%; height: 100.0%;&quot;&gt;&lt;strong&gt;Turkmenistan&lt;/strong&gt;&lt;br&gt;GDP per Capita: 1.08017&lt;br&gt;Healthy Life Expectancy: 0.44006&lt;/div&gt;`)[0];\n",
       "                popup_438605cd102444690ebf369866a14818.setContent(html_b1e5d7a98e7703a30b4decac4d36358b);\n",
       "            \n",
       "        \n",
       "\n",
       "        marker_fee776a342107c0ef52a8c59f28a1e03.bindPopup(popup_438605cd102444690ebf369866a14818)\n",
       "        ;\n",
       "\n",
       "        \n",
       "    \n",
       "    \n",
       "            marker_fee776a342107c0ef52a8c59f28a1e03.bindTooltip(\n",
       "                `&lt;div&gt;\n",
       "                     Turkmenistan\n",
       "                 &lt;/div&gt;`,\n",
       "                {&quot;sticky&quot;: true}\n",
       "            );\n",
       "        \n",
       "    \n",
       "            var marker_5edc71057b9a0b4b5efabd176c3ed44b = L.marker(\n",
       "                [-20.2759451, 57.5703566],\n",
       "                {}\n",
       "            ).addTo(marker_cluster_c40bb7d58d7b1ff2b9ca2b07126a61d5);\n",
       "        \n",
       "    \n",
       "        var popup_bef1c928557d5904c1789d3d008d68ca = L.popup({&quot;maxWidth&quot;: &quot;100%&quot;});\n",
       "\n",
       "        \n",
       "            \n",
       "                var html_ec5cc939ef671c3edaa45f85adffd2bb = $(`&lt;div id=&quot;html_ec5cc939ef671c3edaa45f85adffd2bb&quot; style=&quot;width: 100.0%; height: 100.0%;&quot;&gt;&lt;strong&gt;Mauritius&lt;/strong&gt;&lt;br&gt;GDP per Capita: 1.14372&lt;br&gt;Healthy Life Expectancy: 0.66189&lt;/div&gt;`)[0];\n",
       "                popup_bef1c928557d5904c1789d3d008d68ca.setContent(html_ec5cc939ef671c3edaa45f85adffd2bb);\n",
       "            \n",
       "        \n",
       "\n",
       "        marker_5edc71057b9a0b4b5efabd176c3ed44b.bindPopup(popup_bef1c928557d5904c1789d3d008d68ca)\n",
       "        ;\n",
       "\n",
       "        \n",
       "    \n",
       "    \n",
       "            marker_5edc71057b9a0b4b5efabd176c3ed44b.bindTooltip(\n",
       "                `&lt;div&gt;\n",
       "                     Mauritius\n",
       "                 &lt;/div&gt;`,\n",
       "                {&quot;sticky&quot;: true}\n",
       "            );\n",
       "        \n",
       "    \n",
       "            var marker_e6481e17af4f0ea5cb733bc936543253 = L.marker(\n",
       "                [26.8234472, 18.1236723],\n",
       "                {}\n",
       "            ).addTo(marker_cluster_c40bb7d58d7b1ff2b9ca2b07126a61d5);\n",
       "        \n",
       "    \n",
       "        var popup_75a3aba0aa113e2f7769a39aca4cf967 = L.popup({&quot;maxWidth&quot;: &quot;100%&quot;});\n",
       "\n",
       "        \n",
       "            \n",
       "                var html_3436d724402fd71a904854be445fb871 = $(`&lt;div id=&quot;html_3436d724402fd71a904854be445fb871&quot; style=&quot;width: 100.0%; height: 100.0%;&quot;&gt;&lt;strong&gt;Libya&lt;/strong&gt;&lt;br&gt;GDP per Capita: 1.06688&lt;br&gt;Healthy Life Expectancy: 0.52304&lt;/div&gt;`)[0];\n",
       "                popup_75a3aba0aa113e2f7769a39aca4cf967.setContent(html_3436d724402fd71a904854be445fb871);\n",
       "            \n",
       "        \n",
       "\n",
       "        marker_e6481e17af4f0ea5cb733bc936543253.bindPopup(popup_75a3aba0aa113e2f7769a39aca4cf967)\n",
       "        ;\n",
       "\n",
       "        \n",
       "    \n",
       "    \n",
       "            marker_e6481e17af4f0ea5cb733bc936543253.bindTooltip(\n",
       "                `&lt;div&gt;\n",
       "                     Libya\n",
       "                 &lt;/div&gt;`,\n",
       "                {&quot;sticky&quot;: true}\n",
       "            );\n",
       "        \n",
       "    \n",
       "            var marker_ecb4d6d830a0206c72e5efb18740123b = L.marker(\n",
       "                [56.8406494, 24.7537645],\n",
       "                {}\n",
       "            ).addTo(marker_cluster_c40bb7d58d7b1ff2b9ca2b07126a61d5);\n",
       "        \n",
       "    \n",
       "        var popup_f7245c2d4ba5a57fa4f76bcb6b398c32 = L.popup({&quot;maxWidth&quot;: &quot;100%&quot;});\n",
       "\n",
       "        \n",
       "            \n",
       "                var html_a65252a5cc8824a6c28e0a52e5637b52 = $(`&lt;div id=&quot;html_a65252a5cc8824a6c28e0a52e5637b52&quot; style=&quot;width: 100.0%; height: 100.0%;&quot;&gt;&lt;strong&gt;Latvia&lt;/strong&gt;&lt;br&gt;GDP per Capita: 1.21788&lt;br&gt;Healthy Life Expectancy: 0.63952&lt;/div&gt;`)[0];\n",
       "                popup_f7245c2d4ba5a57fa4f76bcb6b398c32.setContent(html_a65252a5cc8824a6c28e0a52e5637b52);\n",
       "            \n",
       "        \n",
       "\n",
       "        marker_ecb4d6d830a0206c72e5efb18740123b.bindPopup(popup_f7245c2d4ba5a57fa4f76bcb6b398c32)\n",
       "        ;\n",
       "\n",
       "        \n",
       "    \n",
       "    \n",
       "            marker_ecb4d6d830a0206c72e5efb18740123b.bindTooltip(\n",
       "                `&lt;div&gt;\n",
       "                     Latvia\n",
       "                 &lt;/div&gt;`,\n",
       "                {&quot;sticky&quot;: true}\n",
       "            );\n",
       "        \n",
       "    \n",
       "            var marker_229e968de5f1f3bc4c08cd95529dc51d = L.marker(\n",
       "                [45.9852129, 24.6859225],\n",
       "                {}\n",
       "            ).addTo(marker_cluster_c40bb7d58d7b1ff2b9ca2b07126a61d5);\n",
       "        \n",
       "    \n",
       "        var popup_64e627d2017386875f7a96229ec2d58f = L.popup({&quot;maxWidth&quot;: &quot;100%&quot;});\n",
       "\n",
       "        \n",
       "            \n",
       "                var html_2b7e513370cdb48838a27eaf814c1735 = $(`&lt;div id=&quot;html_2b7e513370cdb48838a27eaf814c1735&quot; style=&quot;width: 100.0%; height: 100.0%;&quot;&gt;&lt;strong&gt;Romania&lt;/strong&gt;&lt;br&gt;GDP per Capita: 1.1697&lt;br&gt;Healthy Life Expectancy: 0.67602&lt;/div&gt;`)[0];\n",
       "                popup_64e627d2017386875f7a96229ec2d58f.setContent(html_2b7e513370cdb48838a27eaf814c1735);\n",
       "            \n",
       "        \n",
       "\n",
       "        marker_229e968de5f1f3bc4c08cd95529dc51d.bindPopup(popup_64e627d2017386875f7a96229ec2d58f)\n",
       "        ;\n",
       "\n",
       "        \n",
       "    \n",
       "    \n",
       "            marker_229e968de5f1f3bc4c08cd95529dc51d.bindTooltip(\n",
       "                `&lt;div&gt;\n",
       "                     Romania\n",
       "                 &lt;/div&gt;`,\n",
       "                {&quot;sticky&quot;: true}\n",
       "            );\n",
       "        \n",
       "    \n",
       "            var marker_6d1587b7da634cb5283f7067fce20d9e = L.marker(\n",
       "                [58.7523778, 25.3319078],\n",
       "                {}\n",
       "            ).addTo(marker_cluster_c40bb7d58d7b1ff2b9ca2b07126a61d5);\n",
       "        \n",
       "    \n",
       "        var popup_d96d608af6e8fb52f013d83bfc3cd915 = L.popup({&quot;maxWidth&quot;: &quot;100%&quot;});\n",
       "\n",
       "        \n",
       "            \n",
       "                var html_c535082285cee6d55489c8de42eed01f = $(`&lt;div id=&quot;html_c535082285cee6d55489c8de42eed01f&quot; style=&quot;width: 100.0%; height: 100.0%;&quot;&gt;&lt;strong&gt;Estonia&lt;/strong&gt;&lt;br&gt;GDP per Capita: 1.27964&lt;br&gt;Healthy Life Expectancy: 0.68098&lt;/div&gt;`)[0];\n",
       "                popup_d96d608af6e8fb52f013d83bfc3cd915.setContent(html_c535082285cee6d55489c8de42eed01f);\n",
       "            \n",
       "        \n",
       "\n",
       "        marker_6d1587b7da634cb5283f7067fce20d9e.bindPopup(popup_d96d608af6e8fb52f013d83bfc3cd915)\n",
       "        ;\n",
       "\n",
       "        \n",
       "    \n",
       "    \n",
       "            marker_6d1587b7da634cb5283f7067fce20d9e.bindTooltip(\n",
       "                `&lt;div&gt;\n",
       "                     Estonia\n",
       "                 &lt;/div&gt;`,\n",
       "                {&quot;sticky&quot;: true}\n",
       "            );\n",
       "        \n",
       "    \n",
       "            var marker_1e3567688bf8c91e8daf055c0f037dde = L.marker(\n",
       "                [18.1850507, -77.3947693],\n",
       "                {}\n",
       "            ).addTo(marker_cluster_c40bb7d58d7b1ff2b9ca2b07126a61d5);\n",
       "        \n",
       "    \n",
       "        var popup_59b8439040963e61f29b13c46207abdb = L.popup({&quot;maxWidth&quot;: &quot;100%&quot;});\n",
       "\n",
       "        \n",
       "            \n",
       "                var html_db0e64524d7f12fe43decaa93f7467a2 = $(`&lt;div id=&quot;html_db0e64524d7f12fe43decaa93f7467a2&quot; style=&quot;width: 100.0%; height: 100.0%;&quot;&gt;&lt;strong&gt;Jamaica&lt;/strong&gt;&lt;br&gt;GDP per Capita: 0.89333&lt;br&gt;Healthy Life Expectancy: 0.59469&lt;/div&gt;`)[0];\n",
       "                popup_59b8439040963e61f29b13c46207abdb.setContent(html_db0e64524d7f12fe43decaa93f7467a2);\n",
       "            \n",
       "        \n",
       "\n",
       "        marker_1e3567688bf8c91e8daf055c0f037dde.bindPopup(popup_59b8439040963e61f29b13c46207abdb)\n",
       "        ;\n",
       "\n",
       "        \n",
       "    \n",
       "    \n",
       "            marker_1e3567688bf8c91e8daf055c0f037dde.bindTooltip(\n",
       "                `&lt;div&gt;\n",
       "                     Jamaica\n",
       "                 &lt;/div&gt;`,\n",
       "                {&quot;sticky&quot;: true}\n",
       "            );\n",
       "        \n",
       "    \n",
       "            var marker_e6ae27ed126c41c6b88c15831f0f7712 = L.marker(\n",
       "                [45.3658443, 15.6575209],\n",
       "                {}\n",
       "            ).addTo(marker_cluster_c40bb7d58d7b1ff2b9ca2b07126a61d5);\n",
       "        \n",
       "    \n",
       "        var popup_c9b8e07371471f8d4a7becc7b4f27ef6 = L.popup({&quot;maxWidth&quot;: &quot;100%&quot;});\n",
       "\n",
       "        \n",
       "            \n",
       "                var html_fec1391148488ee625309a21b9efe9b1 = $(`&lt;div id=&quot;html_fec1391148488ee625309a21b9efe9b1&quot; style=&quot;width: 100.0%; height: 100.0%;&quot;&gt;&lt;strong&gt;Croatia&lt;/strong&gt;&lt;br&gt;GDP per Capita: 1.18649&lt;br&gt;Healthy Life Expectancy: 0.70524&lt;/div&gt;`)[0];\n",
       "                popup_c9b8e07371471f8d4a7becc7b4f27ef6.setContent(html_fec1391148488ee625309a21b9efe9b1);\n",
       "            \n",
       "        \n",
       "\n",
       "        marker_e6ae27ed126c41c6b88c15831f0f7712.bindPopup(popup_c9b8e07371471f8d4a7becc7b4f27ef6)\n",
       "        ;\n",
       "\n",
       "        \n",
       "    \n",
       "    \n",
       "            marker_e6ae27ed126c41c6b88c15831f0f7712.bindTooltip(\n",
       "                `&lt;div&gt;\n",
       "                     Croatia\n",
       "                 &lt;/div&gt;`,\n",
       "                {&quot;sticky&quot;: true}\n",
       "            );\n",
       "        \n",
       "    \n",
       "            var marker_01158a78349fcca672b5186af72a00c0 = L.marker(\n",
       "                [22.2793278, 114.1628131],\n",
       "                {}\n",
       "            ).addTo(marker_cluster_c40bb7d58d7b1ff2b9ca2b07126a61d5);\n",
       "        \n",
       "    \n",
       "        var popup_a941c251967f4aa3d123e8e77a983931 = L.popup({&quot;maxWidth&quot;: &quot;100%&quot;});\n",
       "\n",
       "        \n",
       "            \n",
       "                var html_f4f80194569cc42f50b9eda5952e2e13 = $(`&lt;div id=&quot;html_f4f80194569cc42f50b9eda5952e2e13&quot; style=&quot;width: 100.0%; height: 100.0%;&quot;&gt;&lt;strong&gt;Hong Kong&lt;/strong&gt;&lt;br&gt;GDP per Capita: 1.5107&lt;br&gt;Healthy Life Expectancy: 0.95277&lt;/div&gt;`)[0];\n",
       "                popup_a941c251967f4aa3d123e8e77a983931.setContent(html_f4f80194569cc42f50b9eda5952e2e13);\n",
       "            \n",
       "        \n",
       "\n",
       "        marker_01158a78349fcca672b5186af72a00c0.bindPopup(popup_a941c251967f4aa3d123e8e77a983931)\n",
       "        ;\n",
       "\n",
       "        \n",
       "    \n",
       "    \n",
       "            marker_01158a78349fcca672b5186af72a00c0.bindTooltip(\n",
       "                `&lt;div&gt;\n",
       "                     Hong Kong\n",
       "                 &lt;/div&gt;`,\n",
       "                {&quot;sticky&quot;: true}\n",
       "            );\n",
       "        \n",
       "    \n",
       "            var marker_0942a7e8b6450a713742983c379d6bfb = L.marker(\n",
       "                [8.3676771, 49.083416],\n",
       "                {}\n",
       "            ).addTo(marker_cluster_c40bb7d58d7b1ff2b9ca2b07126a61d5);\n",
       "        \n",
       "    \n",
       "        var popup_938e3544eca6cd440cd3c62d93596883 = L.popup({&quot;maxWidth&quot;: &quot;100%&quot;});\n",
       "\n",
       "        \n",
       "            \n",
       "                var html_1dedf1d6f305e07112e5797ab4882aa3 = $(`&lt;div id=&quot;html_1dedf1d6f305e07112e5797ab4882aa3&quot; style=&quot;width: 100.0%; height: 100.0%;&quot;&gt;&lt;strong&gt;Somalia&lt;/strong&gt;&lt;br&gt;GDP per Capita: 0.0&lt;br&gt;Healthy Life Expectancy: 0.11466&lt;/div&gt;`)[0];\n",
       "                popup_938e3544eca6cd440cd3c62d93596883.setContent(html_1dedf1d6f305e07112e5797ab4882aa3);\n",
       "            \n",
       "        \n",
       "\n",
       "        marker_0942a7e8b6450a713742983c379d6bfb.bindPopup(popup_938e3544eca6cd440cd3c62d93596883)\n",
       "        ;\n",
       "\n",
       "        \n",
       "    \n",
       "    \n",
       "            marker_0942a7e8b6450a713742983c379d6bfb.bindTooltip(\n",
       "                `&lt;div&gt;\n",
       "                     Somalia\n",
       "                 &lt;/div&gt;`,\n",
       "                {&quot;sticky&quot;: true}\n",
       "            );\n",
       "        \n",
       "    \n",
       "            var marker_d04b29bfa0e7434dc5556ef63b9d9b62 = L.marker(\n",
       "                [42.5869578, 20.9021231],\n",
       "                {}\n",
       "            ).addTo(marker_cluster_c40bb7d58d7b1ff2b9ca2b07126a61d5);\n",
       "        \n",
       "    \n",
       "        var popup_99afe7c895bc912de1bad1d6c4f13cc6 = L.popup({&quot;maxWidth&quot;: &quot;100%&quot;});\n",
       "\n",
       "        \n",
       "            \n",
       "                var html_57496cd14054110bc663e3d2972fe74f = $(`&lt;div id=&quot;html_57496cd14054110bc663e3d2972fe74f&quot; style=&quot;width: 100.0%; height: 100.0%;&quot;&gt;&lt;strong&gt;Kosovo&lt;/strong&gt;&lt;br&gt;GDP per Capita: 0.90145&lt;br&gt;Healthy Life Expectancy: 0.54&lt;/div&gt;`)[0];\n",
       "                popup_99afe7c895bc912de1bad1d6c4f13cc6.setContent(html_57496cd14054110bc663e3d2972fe74f);\n",
       "            \n",
       "        \n",
       "\n",
       "        marker_d04b29bfa0e7434dc5556ef63b9d9b62.bindPopup(popup_99afe7c895bc912de1bad1d6c4f13cc6)\n",
       "        ;\n",
       "\n",
       "        \n",
       "    \n",
       "    \n",
       "            marker_d04b29bfa0e7434dc5556ef63b9d9b62.bindTooltip(\n",
       "                `&lt;div&gt;\n",
       "                     Kosovo\n",
       "                 &lt;/div&gt;`,\n",
       "                {&quot;sticky&quot;: true}\n",
       "            );\n",
       "        \n",
       "    \n",
       "            var marker_47fe17034364e703a8f049651ba8f45f = L.marker(\n",
       "                [38.9597594, 34.9249653],\n",
       "                {}\n",
       "            ).addTo(marker_cluster_c40bb7d58d7b1ff2b9ca2b07126a61d5);\n",
       "        \n",
       "    \n",
       "        var popup_5d68c55e198ab73b77110dbd36d39452 = L.popup({&quot;maxWidth&quot;: &quot;100%&quot;});\n",
       "\n",
       "        \n",
       "            \n",
       "                var html_a6c5c6e2f5bf1e69edcceb9762116920 = $(`&lt;div id=&quot;html_a6c5c6e2f5bf1e69edcceb9762116920&quot; style=&quot;width: 100.0%; height: 100.0%;&quot;&gt;&lt;strong&gt;Turkey&lt;/strong&gt;&lt;br&gt;GDP per Capita: 1.16492&lt;br&gt;Healthy Life Expectancy: 0.64718&lt;/div&gt;`)[0];\n",
       "                popup_5d68c55e198ab73b77110dbd36d39452.setContent(html_a6c5c6e2f5bf1e69edcceb9762116920);\n",
       "            \n",
       "        \n",
       "\n",
       "        marker_47fe17034364e703a8f049651ba8f45f.bindPopup(popup_5d68c55e198ab73b77110dbd36d39452)\n",
       "        ;\n",
       "\n",
       "        \n",
       "    \n",
       "    \n",
       "            marker_47fe17034364e703a8f049651ba8f45f.bindTooltip(\n",
       "                `&lt;div&gt;\n",
       "                     Turkey\n",
       "                 &lt;/div&gt;`,\n",
       "                {&quot;sticky&quot;: true}\n",
       "            );\n",
       "        \n",
       "    \n",
       "            var marker_dc4923c858112a2e222a28def92a669e = L.marker(\n",
       "                [-2.4833826, 117.8902853],\n",
       "                {}\n",
       "            ).addTo(marker_cluster_c40bb7d58d7b1ff2b9ca2b07126a61d5);\n",
       "        \n",
       "    \n",
       "        var popup_5ac20c7e701bcf90e5541bb543917906 = L.popup({&quot;maxWidth&quot;: &quot;100%&quot;});\n",
       "\n",
       "        \n",
       "            \n",
       "                var html_e835d40858a7518c5606a28aff1973e4 = $(`&lt;div id=&quot;html_e835d40858a7518c5606a28aff1973e4&quot; style=&quot;width: 100.0%; height: 100.0%;&quot;&gt;&lt;strong&gt;Indonesia&lt;/strong&gt;&lt;br&gt;GDP per Capita: 0.95104&lt;br&gt;Healthy Life Expectancy: 0.49374&lt;/div&gt;`)[0];\n",
       "                popup_5ac20c7e701bcf90e5541bb543917906.setContent(html_e835d40858a7518c5606a28aff1973e4);\n",
       "            \n",
       "        \n",
       "\n",
       "        marker_dc4923c858112a2e222a28def92a669e.bindPopup(popup_5ac20c7e701bcf90e5541bb543917906)\n",
       "        ;\n",
       "\n",
       "        \n",
       "    \n",
       "    \n",
       "            marker_dc4923c858112a2e222a28def92a669e.bindTooltip(\n",
       "                `&lt;div&gt;\n",
       "                     Indonesia\n",
       "                 &lt;/div&gt;`,\n",
       "                {&quot;sticky&quot;: true}\n",
       "            );\n",
       "        \n",
       "    \n",
       "            var marker_98ff37ccd1aca6beab4ff475db94bae3 = L.marker(\n",
       "                [10.6611675, 122.5909592],\n",
       "                {}\n",
       "            ).addTo(marker_cluster_c40bb7d58d7b1ff2b9ca2b07126a61d5);\n",
       "        \n",
       "    \n",
       "        var popup_a16aac11db4f5429d36fe0e66d1db839 = L.popup({&quot;maxWidth&quot;: &quot;100%&quot;});\n",
       "\n",
       "        \n",
       "            \n",
       "                var html_80f68b66414ec843037a76de17e064ed = $(`&lt;div id=&quot;html_80f68b66414ec843037a76de17e064ed&quot; style=&quot;width: 100.0%; height: 100.0%;&quot;&gt;&lt;strong&gt;Jordan&lt;/strong&gt;&lt;br&gt;GDP per Capita: 0.99673&lt;br&gt;Healthy Life Expectancy: 0.60712&lt;/div&gt;`)[0];\n",
       "                popup_a16aac11db4f5429d36fe0e66d1db839.setContent(html_80f68b66414ec843037a76de17e064ed);\n",
       "            \n",
       "        \n",
       "\n",
       "        marker_98ff37ccd1aca6beab4ff475db94bae3.bindPopup(popup_a16aac11db4f5429d36fe0e66d1db839)\n",
       "        ;\n",
       "\n",
       "        \n",
       "    \n",
       "    \n",
       "            marker_98ff37ccd1aca6beab4ff475db94bae3.bindTooltip(\n",
       "                `&lt;div&gt;\n",
       "                     Jordan\n",
       "                 &lt;/div&gt;`,\n",
       "                {&quot;sticky&quot;: true}\n",
       "            );\n",
       "        \n",
       "    \n",
       "            var marker_204bd524d87a5324292db0cf43bf632c = L.marker(\n",
       "                [40.3936294, 47.7872508],\n",
       "                {}\n",
       "            ).addTo(marker_cluster_c40bb7d58d7b1ff2b9ca2b07126a61d5);\n",
       "        \n",
       "    \n",
       "        var popup_db9b8888dd2c3c091d558cf4b9d0f249 = L.popup({&quot;maxWidth&quot;: &quot;100%&quot;});\n",
       "\n",
       "        \n",
       "            \n",
       "                var html_e8035c5a16166edd7e9f4f4d1f16ef10 = $(`&lt;div id=&quot;html_e8035c5a16166edd7e9f4f4d1f16ef10&quot; style=&quot;width: 100.0%; height: 100.0%;&quot;&gt;&lt;strong&gt;Azerbaijan&lt;/strong&gt;&lt;br&gt;GDP per Capita: 1.12373&lt;br&gt;Healthy Life Expectancy: 0.54504&lt;/div&gt;`)[0];\n",
       "                popup_db9b8888dd2c3c091d558cf4b9d0f249.setContent(html_e8035c5a16166edd7e9f4f4d1f16ef10);\n",
       "            \n",
       "        \n",
       "\n",
       "        marker_204bd524d87a5324292db0cf43bf632c.bindPopup(popup_db9b8888dd2c3c091d558cf4b9d0f249)\n",
       "        ;\n",
       "\n",
       "        \n",
       "    \n",
       "    \n",
       "            marker_204bd524d87a5324292db0cf43bf632c.bindTooltip(\n",
       "                `&lt;div&gt;\n",
       "                     Azerbaijan\n",
       "                 &lt;/div&gt;`,\n",
       "                {&quot;sticky&quot;: true}\n",
       "            );\n",
       "        \n",
       "    \n",
       "            var marker_fad32859365033e29fe9a0c6711d40eb = L.marker(\n",
       "                [12.7503486, 122.7312101],\n",
       "                {}\n",
       "            ).addTo(marker_cluster_c40bb7d58d7b1ff2b9ca2b07126a61d5);\n",
       "        \n",
       "    \n",
       "        var popup_9a5aaf56b7ca88252f3dac2585b510a1 = L.popup({&quot;maxWidth&quot;: &quot;100%&quot;});\n",
       "\n",
       "        \n",
       "            \n",
       "                var html_0c6ee11caca59b4fda723880ea60d76d = $(`&lt;div id=&quot;html_0c6ee11caca59b4fda723880ea60d76d&quot; style=&quot;width: 100.0%; height: 100.0%;&quot;&gt;&lt;strong&gt;Philippines&lt;/strong&gt;&lt;br&gt;GDP per Capita: 0.81217&lt;br&gt;Healthy Life Expectancy: 0.47036&lt;/div&gt;`)[0];\n",
       "                popup_9a5aaf56b7ca88252f3dac2585b510a1.setContent(html_0c6ee11caca59b4fda723880ea60d76d);\n",
       "            \n",
       "        \n",
       "\n",
       "        marker_fad32859365033e29fe9a0c6711d40eb.bindPopup(popup_9a5aaf56b7ca88252f3dac2585b510a1)\n",
       "        ;\n",
       "\n",
       "        \n",
       "    \n",
       "    \n",
       "            marker_fad32859365033e29fe9a0c6711d40eb.bindTooltip(\n",
       "                `&lt;div&gt;\n",
       "                     Philippines\n",
       "                 &lt;/div&gt;`,\n",
       "                {&quot;sticky&quot;: true}\n",
       "            );\n",
       "        \n",
       "    \n",
       "            var marker_c028a16de79f340dd62a64bbd030d8c5 = L.marker(\n",
       "                [35.0000663, 104.999955],\n",
       "                {}\n",
       "            ).addTo(marker_cluster_c40bb7d58d7b1ff2b9ca2b07126a61d5);\n",
       "        \n",
       "    \n",
       "        var popup_eec6ed8e054075d9483eba78c59d2b06 = L.popup({&quot;maxWidth&quot;: &quot;100%&quot;});\n",
       "\n",
       "        \n",
       "            \n",
       "                var html_cc58cfed8f299d8bc06dd25871c30bd0 = $(`&lt;div id=&quot;html_cc58cfed8f299d8bc06dd25871c30bd0&quot; style=&quot;width: 100.0%; height: 100.0%;&quot;&gt;&lt;strong&gt;China&lt;/strong&gt;&lt;br&gt;GDP per Capita: 1.0278&lt;br&gt;Healthy Life Expectancy: 0.73561&lt;/div&gt;`)[0];\n",
       "                popup_eec6ed8e054075d9483eba78c59d2b06.setContent(html_cc58cfed8f299d8bc06dd25871c30bd0);\n",
       "            \n",
       "        \n",
       "\n",
       "        marker_c028a16de79f340dd62a64bbd030d8c5.bindPopup(popup_eec6ed8e054075d9483eba78c59d2b06)\n",
       "        ;\n",
       "\n",
       "        \n",
       "    \n",
       "    \n",
       "            marker_c028a16de79f340dd62a64bbd030d8c5.bindTooltip(\n",
       "                `&lt;div&gt;\n",
       "                     China\n",
       "                 &lt;/div&gt;`,\n",
       "                {&quot;sticky&quot;: true}\n",
       "            );\n",
       "        \n",
       "    \n",
       "            var marker_09277452a44bb02db517fe2d8d6a57ae = L.marker(\n",
       "                [27.549511, 90.5119273],\n",
       "                {}\n",
       "            ).addTo(marker_cluster_c40bb7d58d7b1ff2b9ca2b07126a61d5);\n",
       "        \n",
       "    \n",
       "        var popup_3ef169ca49373432643abf72b8ac2a90 = L.popup({&quot;maxWidth&quot;: &quot;100%&quot;});\n",
       "\n",
       "        \n",
       "            \n",
       "                var html_26d001077529a5bdb424a3894cb03ab6 = $(`&lt;div id=&quot;html_26d001077529a5bdb424a3894cb03ab6&quot; style=&quot;width: 100.0%; height: 100.0%;&quot;&gt;&lt;strong&gt;Bhutan&lt;/strong&gt;&lt;br&gt;GDP per Capita: 0.8527&lt;br&gt;Healthy Life Expectancy: 0.49759&lt;/div&gt;`)[0];\n",
       "                popup_3ef169ca49373432643abf72b8ac2a90.setContent(html_26d001077529a5bdb424a3894cb03ab6);\n",
       "            \n",
       "        \n",
       "\n",
       "        marker_09277452a44bb02db517fe2d8d6a57ae.bindPopup(popup_3ef169ca49373432643abf72b8ac2a90)\n",
       "        ;\n",
       "\n",
       "        \n",
       "    \n",
       "    \n",
       "            marker_09277452a44bb02db517fe2d8d6a57ae.bindTooltip(\n",
       "                `&lt;div&gt;\n",
       "                     Bhutan\n",
       "                 &lt;/div&gt;`,\n",
       "                {&quot;sticky&quot;: true}\n",
       "            );\n",
       "        \n",
       "    \n",
       "            var marker_c071d12adaf9612696241c9078b88c2f = L.marker(\n",
       "                [41.5089324, 74.724091],\n",
       "                {}\n",
       "            ).addTo(marker_cluster_c40bb7d58d7b1ff2b9ca2b07126a61d5);\n",
       "        \n",
       "    \n",
       "        var popup_dbda7cdff329e76ea6b47eedca4fa34e = L.popup({&quot;maxWidth&quot;: &quot;100%&quot;});\n",
       "\n",
       "        \n",
       "            \n",
       "                var html_0eff28e1e52b2f68eddfed54a55a00c4 = $(`&lt;div id=&quot;html_0eff28e1e52b2f68eddfed54a55a00c4&quot; style=&quot;width: 100.0%; height: 100.0%;&quot;&gt;&lt;strong&gt;Kyrgyzstan&lt;/strong&gt;&lt;br&gt;GDP per Capita: 0.56044&lt;br&gt;Healthy Life Expectancy: 0.55449&lt;/div&gt;`)[0];\n",
       "                popup_dbda7cdff329e76ea6b47eedca4fa34e.setContent(html_0eff28e1e52b2f68eddfed54a55a00c4);\n",
       "            \n",
       "        \n",
       "\n",
       "        marker_c071d12adaf9612696241c9078b88c2f.bindPopup(popup_dbda7cdff329e76ea6b47eedca4fa34e)\n",
       "        ;\n",
       "\n",
       "        \n",
       "    \n",
       "    \n",
       "            marker_c071d12adaf9612696241c9078b88c2f.bindTooltip(\n",
       "                `&lt;div&gt;\n",
       "                     Kyrgyzstan\n",
       "                 &lt;/div&gt;`,\n",
       "                {&quot;sticky&quot;: true}\n",
       "            );\n",
       "        \n",
       "    \n",
       "            var marker_62da4c5eb8bbe07dd47e698dea14da6b = L.marker(\n",
       "                [44.024322850000004, 21.07657433209902],\n",
       "                {}\n",
       "            ).addTo(marker_cluster_c40bb7d58d7b1ff2b9ca2b07126a61d5);\n",
       "        \n",
       "    \n",
       "        var popup_3f0f378f79a72e34d2594094a6a2e823 = L.popup({&quot;maxWidth&quot;: &quot;100%&quot;});\n",
       "\n",
       "        \n",
       "            \n",
       "                var html_9146dd983fa5085722161d579c90361c = $(`&lt;div id=&quot;html_9146dd983fa5085722161d579c90361c&quot; style=&quot;width: 100.0%; height: 100.0%;&quot;&gt;&lt;strong&gt;Serbia&lt;/strong&gt;&lt;br&gt;GDP per Capita: 1.03437&lt;br&gt;Healthy Life Expectancy: 0.6458&lt;/div&gt;`)[0];\n",
       "                popup_3f0f378f79a72e34d2594094a6a2e823.setContent(html_9146dd983fa5085722161d579c90361c);\n",
       "            \n",
       "        \n",
       "\n",
       "        marker_62da4c5eb8bbe07dd47e698dea14da6b.bindPopup(popup_3f0f378f79a72e34d2594094a6a2e823)\n",
       "        ;\n",
       "\n",
       "        \n",
       "    \n",
       "    \n",
       "            marker_62da4c5eb8bbe07dd47e698dea14da6b.bindTooltip(\n",
       "                `&lt;div&gt;\n",
       "                     Serbia\n",
       "                 &lt;/div&gt;`,\n",
       "                {&quot;sticky&quot;: true}\n",
       "            );\n",
       "        \n",
       "    \n",
       "            var marker_92fe94cf18ec926c68565db8acba58a8 = L.marker(\n",
       "                [44.3053476, 17.5961467],\n",
       "                {}\n",
       "            ).addTo(marker_cluster_c40bb7d58d7b1ff2b9ca2b07126a61d5);\n",
       "        \n",
       "    \n",
       "        var popup_2d5eda0cedeb34487e8d3cb4d8c9eefe = L.popup({&quot;maxWidth&quot;: &quot;100%&quot;});\n",
       "\n",
       "        \n",
       "            \n",
       "                var html_00383eadb59a1569f9bf05e71a68d433 = $(`&lt;div id=&quot;html_00383eadb59a1569f9bf05e71a68d433&quot; style=&quot;width: 100.0%; height: 100.0%;&quot;&gt;&lt;strong&gt;Bosnia and Herzegovina&lt;/strong&gt;&lt;br&gt;GDP per Capita: 0.93383&lt;br&gt;Healthy Life Expectancy: 0.70766&lt;/div&gt;`)[0];\n",
       "                popup_2d5eda0cedeb34487e8d3cb4d8c9eefe.setContent(html_00383eadb59a1569f9bf05e71a68d433);\n",
       "            \n",
       "        \n",
       "\n",
       "        marker_92fe94cf18ec926c68565db8acba58a8.bindPopup(popup_2d5eda0cedeb34487e8d3cb4d8c9eefe)\n",
       "        ;\n",
       "\n",
       "        \n",
       "    \n",
       "    \n",
       "            marker_92fe94cf18ec926c68565db8acba58a8.bindTooltip(\n",
       "                `&lt;div&gt;\n",
       "                     Bosnia and Herzegovina\n",
       "                 &lt;/div&gt;`,\n",
       "                {&quot;sticky&quot;: true}\n",
       "            );\n",
       "        \n",
       "    \n",
       "            var marker_a63081b2b7a920eaea131b22b3057fa3 = L.marker(\n",
       "                [-29.6826112, -51.4687455],\n",
       "                {}\n",
       "            ).addTo(marker_cluster_c40bb7d58d7b1ff2b9ca2b07126a61d5);\n",
       "        \n",
       "    \n",
       "        var popup_6cbe7387dcc73fe5ecf927e6b49a510e = L.popup({&quot;maxWidth&quot;: &quot;100%&quot;});\n",
       "\n",
       "        \n",
       "            \n",
       "                var html_98349ab4a7829e9373bb14615475eb3f = $(`&lt;div id=&quot;html_98349ab4a7829e9373bb14615475eb3f&quot; style=&quot;width: 100.0%; height: 100.0%;&quot;&gt;&lt;strong&gt;Montenegro&lt;/strong&gt;&lt;br&gt;GDP per Capita: 1.07838&lt;br&gt;Healthy Life Expectancy: 0.63533&lt;/div&gt;`)[0];\n",
       "                popup_6cbe7387dcc73fe5ecf927e6b49a510e.setContent(html_98349ab4a7829e9373bb14615475eb3f);\n",
       "            \n",
       "        \n",
       "\n",
       "        marker_a63081b2b7a920eaea131b22b3057fa3.bindPopup(popup_6cbe7387dcc73fe5ecf927e6b49a510e)\n",
       "        ;\n",
       "\n",
       "        \n",
       "    \n",
       "    \n",
       "            marker_a63081b2b7a920eaea131b22b3057fa3.bindTooltip(\n",
       "                `&lt;div&gt;\n",
       "                     Montenegro\n",
       "                 &lt;/div&gt;`,\n",
       "                {&quot;sticky&quot;: true}\n",
       "            );\n",
       "        \n",
       "    \n",
       "            var marker_c878d1e23cfe72b64f39484f5b09b091 = L.marker(\n",
       "                [19.0974031, -70.3028026],\n",
       "                {}\n",
       "            ).addTo(marker_cluster_c40bb7d58d7b1ff2b9ca2b07126a61d5);\n",
       "        \n",
       "    \n",
       "        var popup_c16b58d33b44de7f06850a732f31ac31 = L.popup({&quot;maxWidth&quot;: &quot;100%&quot;});\n",
       "\n",
       "        \n",
       "            \n",
       "                var html_b8ceec99a13fd1398ac920dde4066e5d = $(`&lt;div id=&quot;html_b8ceec99a13fd1398ac920dde4066e5d&quot; style=&quot;width: 100.0%; height: 100.0%;&quot;&gt;&lt;strong&gt;Dominican Republic&lt;/strong&gt;&lt;br&gt;GDP per Capita: 1.02787&lt;br&gt;Healthy Life Expectancy: 0.57669&lt;/div&gt;`)[0];\n",
       "                popup_c16b58d33b44de7f06850a732f31ac31.setContent(html_b8ceec99a13fd1398ac920dde4066e5d);\n",
       "            \n",
       "        \n",
       "\n",
       "        marker_c878d1e23cfe72b64f39484f5b09b091.bindPopup(popup_c16b58d33b44de7f06850a732f31ac31)\n",
       "        ;\n",
       "\n",
       "        \n",
       "    \n",
       "    \n",
       "            marker_c878d1e23cfe72b64f39484f5b09b091.bindTooltip(\n",
       "                `&lt;div&gt;\n",
       "                     Dominican Republic\n",
       "                 &lt;/div&gt;`,\n",
       "                {&quot;sticky&quot;: true}\n",
       "            );\n",
       "        \n",
       "    \n",
       "            var marker_9dea7483e4213119ad56a2940fea5497 = L.marker(\n",
       "                [28.3347722, -10.371337908392647],\n",
       "                {}\n",
       "            ).addTo(marker_cluster_c40bb7d58d7b1ff2b9ca2b07126a61d5);\n",
       "        \n",
       "    \n",
       "        var popup_3fe18a63e0a81a8419ba4e341a76a522 = L.popup({&quot;maxWidth&quot;: &quot;100%&quot;});\n",
       "\n",
       "        \n",
       "            \n",
       "                var html_f45734ee17ac5a95d0648b26636a82b7 = $(`&lt;div id=&quot;html_f45734ee17ac5a95d0648b26636a82b7&quot; style=&quot;width: 100.0%; height: 100.0%;&quot;&gt;&lt;strong&gt;Morocco&lt;/strong&gt;&lt;br&gt;GDP per Capita: 0.84058&lt;br&gt;Healthy Life Expectancy: 0.59471&lt;/div&gt;`)[0];\n",
       "                popup_3fe18a63e0a81a8419ba4e341a76a522.setContent(html_f45734ee17ac5a95d0648b26636a82b7);\n",
       "            \n",
       "        \n",
       "\n",
       "        marker_9dea7483e4213119ad56a2940fea5497.bindPopup(popup_3fe18a63e0a81a8419ba4e341a76a522)\n",
       "        ;\n",
       "\n",
       "        \n",
       "    \n",
       "    \n",
       "            marker_9dea7483e4213119ad56a2940fea5497.bindTooltip(\n",
       "                `&lt;div&gt;\n",
       "                     Morocco\n",
       "                 &lt;/div&gt;`,\n",
       "                {&quot;sticky&quot;: true}\n",
       "            );\n",
       "        \n",
       "    \n",
       "            var marker_80d83192b40ce45df773d46a84dd00c8 = L.marker(\n",
       "                [47.1817585, 19.5060937],\n",
       "                {}\n",
       "            ).addTo(marker_cluster_c40bb7d58d7b1ff2b9ca2b07126a61d5);\n",
       "        \n",
       "    \n",
       "        var popup_d984ed8e1b929898ca628c338074b5e1 = L.popup({&quot;maxWidth&quot;: &quot;100%&quot;});\n",
       "\n",
       "        \n",
       "            \n",
       "                var html_1eb4a1550c5accbcfa0ac04d7194ff92 = $(`&lt;div id=&quot;html_1eb4a1550c5accbcfa0ac04d7194ff92&quot; style=&quot;width: 100.0%; height: 100.0%;&quot;&gt;&lt;strong&gt;Hungary&lt;/strong&gt;&lt;br&gt;GDP per Capita: 1.24142&lt;br&gt;Healthy Life Expectancy: 0.67608&lt;/div&gt;`)[0];\n",
       "                popup_d984ed8e1b929898ca628c338074b5e1.setContent(html_1eb4a1550c5accbcfa0ac04d7194ff92);\n",
       "            \n",
       "        \n",
       "\n",
       "        marker_80d83192b40ce45df773d46a84dd00c8.bindPopup(popup_d984ed8e1b929898ca628c338074b5e1)\n",
       "        ;\n",
       "\n",
       "        \n",
       "    \n",
       "    \n",
       "            marker_80d83192b40ce45df773d46a84dd00c8.bindTooltip(\n",
       "                `&lt;div&gt;\n",
       "                     Hungary\n",
       "                 &lt;/div&gt;`,\n",
       "                {&quot;sticky&quot;: true}\n",
       "            );\n",
       "        \n",
       "    \n",
       "            var marker_8031a2c137c4efb67051a10e390d8df1 = L.marker(\n",
       "                [30.3308401, 71.247499],\n",
       "                {}\n",
       "            ).addTo(marker_cluster_c40bb7d58d7b1ff2b9ca2b07126a61d5);\n",
       "        \n",
       "    \n",
       "        var popup_9ccb36918497dc17386870f78ccc4158 = L.popup({&quot;maxWidth&quot;: &quot;100%&quot;});\n",
       "\n",
       "        \n",
       "            \n",
       "                var html_eec415a47ab7bf73882c974b220fc529 = $(`&lt;div id=&quot;html_eec415a47ab7bf73882c974b220fc529&quot; style=&quot;width: 100.0%; height: 100.0%;&quot;&gt;&lt;strong&gt;Pakistan&lt;/strong&gt;&lt;br&gt;GDP per Capita: 0.68816&lt;br&gt;Healthy Life Expectancy: 0.40306&lt;/div&gt;`)[0];\n",
       "                popup_9ccb36918497dc17386870f78ccc4158.setContent(html_eec415a47ab7bf73882c974b220fc529);\n",
       "            \n",
       "        \n",
       "\n",
       "        marker_8031a2c137c4efb67051a10e390d8df1.bindPopup(popup_9ccb36918497dc17386870f78ccc4158)\n",
       "        ;\n",
       "\n",
       "        \n",
       "    \n",
       "    \n",
       "            marker_8031a2c137c4efb67051a10e390d8df1.bindTooltip(\n",
       "                `&lt;div&gt;\n",
       "                     Pakistan\n",
       "                 &lt;/div&gt;`,\n",
       "                {&quot;sticky&quot;: true}\n",
       "            );\n",
       "        \n",
       "    \n",
       "            var marker_9b00525e40f7d71a6fbd9a342460fb2d = L.marker(\n",
       "                [40.375713, -76.4626118],\n",
       "                {}\n",
       "            ).addTo(marker_cluster_c40bb7d58d7b1ff2b9ca2b07126a61d5);\n",
       "        \n",
       "    \n",
       "        var popup_62782c919907d6dab6433664224f293f = L.popup({&quot;maxWidth&quot;: &quot;100%&quot;});\n",
       "\n",
       "        \n",
       "            \n",
       "                var html_7dc264b068da8d7aa8993b13f48bc49f = $(`&lt;div id=&quot;html_7dc264b068da8d7aa8993b13f48bc49f&quot; style=&quot;width: 100.0%; height: 100.0%;&quot;&gt;&lt;strong&gt;Lebanon&lt;/strong&gt;&lt;br&gt;GDP per Capita: 1.12268&lt;br&gt;Healthy Life Expectancy: 0.76171&lt;/div&gt;`)[0];\n",
       "                popup_62782c919907d6dab6433664224f293f.setContent(html_7dc264b068da8d7aa8993b13f48bc49f);\n",
       "            \n",
       "        \n",
       "\n",
       "        marker_9b00525e40f7d71a6fbd9a342460fb2d.bindPopup(popup_62782c919907d6dab6433664224f293f)\n",
       "        ;\n",
       "\n",
       "        \n",
       "    \n",
       "    \n",
       "            marker_9b00525e40f7d71a6fbd9a342460fb2d.bindTooltip(\n",
       "                `&lt;div&gt;\n",
       "                     Lebanon\n",
       "                 &lt;/div&gt;`,\n",
       "                {&quot;sticky&quot;: true}\n",
       "            );\n",
       "        \n",
       "    \n",
       "            var marker_50f185f04b782f4fe4fb16ed016b6b10 = L.marker(\n",
       "                [39.6621648, -8.1353519],\n",
       "                {}\n",
       "            ).addTo(marker_cluster_c40bb7d58d7b1ff2b9ca2b07126a61d5);\n",
       "        \n",
       "    \n",
       "        var popup_8c24fadb08a1018bbf06da95f3f67a52 = L.popup({&quot;maxWidth&quot;: &quot;100%&quot;});\n",
       "\n",
       "        \n",
       "            \n",
       "                var html_6d60072366ca1bcceef07917e7e9baa2 = $(`&lt;div id=&quot;html_6d60072366ca1bcceef07917e7e9baa2&quot; style=&quot;width: 100.0%; height: 100.0%;&quot;&gt;&lt;strong&gt;Portugal&lt;/strong&gt;&lt;br&gt;GDP per Capita: 1.27607&lt;br&gt;Healthy Life Expectancy: 0.79363&lt;/div&gt;`)[0];\n",
       "                popup_8c24fadb08a1018bbf06da95f3f67a52.setContent(html_6d60072366ca1bcceef07917e7e9baa2);\n",
       "            \n",
       "        \n",
       "\n",
       "        marker_50f185f04b782f4fe4fb16ed016b6b10.bindPopup(popup_8c24fadb08a1018bbf06da95f3f67a52)\n",
       "        ;\n",
       "\n",
       "        \n",
       "    \n",
       "    \n",
       "            marker_50f185f04b782f4fe4fb16ed016b6b10.bindTooltip(\n",
       "                `&lt;div&gt;\n",
       "                     Portugal\n",
       "                 &lt;/div&gt;`,\n",
       "                {&quot;sticky&quot;: true}\n",
       "            );\n",
       "        \n",
       "    \n",
       "            var marker_f6a3f6a64696f2ca54ccccf28fd58042 = L.marker(\n",
       "                [41.1927739, -95.4256198],\n",
       "                {}\n",
       "            ).addTo(marker_cluster_c40bb7d58d7b1ff2b9ca2b07126a61d5);\n",
       "        \n",
       "    \n",
       "        var popup_4382ef2e16fa8b4415ccd7d5508c9932 = L.popup({&quot;maxWidth&quot;: &quot;100%&quot;});\n",
       "\n",
       "        \n",
       "            \n",
       "                var html_cc6a388142395372bc9a3dc0cb09077f = $(`&lt;div id=&quot;html_cc6a388142395372bc9a3dc0cb09077f&quot; style=&quot;width: 100.0%; height: 100.0%;&quot;&gt;&lt;strong&gt;Macedonia&lt;/strong&gt;&lt;br&gt;GDP per Capita: 1.0193&lt;br&gt;Healthy Life Expectancy: 0.64738&lt;/div&gt;`)[0];\n",
       "                popup_4382ef2e16fa8b4415ccd7d5508c9932.setContent(html_cc6a388142395372bc9a3dc0cb09077f);\n",
       "            \n",
       "        \n",
       "\n",
       "        marker_f6a3f6a64696f2ca54ccccf28fd58042.bindPopup(popup_4382ef2e16fa8b4415ccd7d5508c9932)\n",
       "        ;\n",
       "\n",
       "        \n",
       "    \n",
       "    \n",
       "            marker_f6a3f6a64696f2ca54ccccf28fd58042.bindTooltip(\n",
       "                `&lt;div&gt;\n",
       "                     Macedonia\n",
       "                 &lt;/div&gt;`,\n",
       "                {&quot;sticky&quot;: true}\n",
       "            );\n",
       "        \n",
       "    \n",
       "            var marker_a5465aefdc2d8193b0850e0b240e7881 = L.marker(\n",
       "                [15.9266657, 107.9650855],\n",
       "                {}\n",
       "            ).addTo(marker_cluster_c40bb7d58d7b1ff2b9ca2b07126a61d5);\n",
       "        \n",
       "    \n",
       "        var popup_8aa1b6e64cedac2757e1a17d03fb4977 = L.popup({&quot;maxWidth&quot;: &quot;100%&quot;});\n",
       "\n",
       "        \n",
       "            \n",
       "                var html_ebf387b769582d440f499a55af1e44b4 = $(`&lt;div id=&quot;html_ebf387b769582d440f499a55af1e44b4&quot; style=&quot;width: 100.0%; height: 100.0%;&quot;&gt;&lt;strong&gt;Vietnam&lt;/strong&gt;&lt;br&gt;GDP per Capita: 0.74037&lt;br&gt;Healthy Life Expectancy: 0.66157&lt;/div&gt;`)[0];\n",
       "                popup_8aa1b6e64cedac2757e1a17d03fb4977.setContent(html_ebf387b769582d440f499a55af1e44b4);\n",
       "            \n",
       "        \n",
       "\n",
       "        marker_a5465aefdc2d8193b0850e0b240e7881.bindPopup(popup_8aa1b6e64cedac2757e1a17d03fb4977)\n",
       "        ;\n",
       "\n",
       "        \n",
       "    \n",
       "    \n",
       "            marker_a5465aefdc2d8193b0850e0b240e7881.bindTooltip(\n",
       "                `&lt;div&gt;\n",
       "                     Vietnam\n",
       "                 &lt;/div&gt;`,\n",
       "                {&quot;sticky&quot;: true}\n",
       "            );\n",
       "        \n",
       "    \n",
       "            var marker_b8aa8cee1700b7447ec2a66ca1f72eb0 = L.marker(\n",
       "                [10.3743673, 45.1098578],\n",
       "                {}\n",
       "            ).addTo(marker_cluster_c40bb7d58d7b1ff2b9ca2b07126a61d5);\n",
       "        \n",
       "    \n",
       "        var popup_a05fb8a5b8adabfea0329090a3c266ca = L.popup({&quot;maxWidth&quot;: &quot;100%&quot;});\n",
       "\n",
       "        \n",
       "            \n",
       "                var html_c73809a6cc500069e1526e70850a9f35 = $(`&lt;div id=&quot;html_c73809a6cc500069e1526e70850a9f35&quot; style=&quot;width: 100.0%; height: 100.0%;&quot;&gt;&lt;strong&gt;Somaliland Region&lt;/strong&gt;&lt;br&gt;GDP per Capita: 0.25558&lt;br&gt;Healthy Life Expectancy: 0.33108&lt;/div&gt;`)[0];\n",
       "                popup_a05fb8a5b8adabfea0329090a3c266ca.setContent(html_c73809a6cc500069e1526e70850a9f35);\n",
       "            \n",
       "        \n",
       "\n",
       "        marker_b8aa8cee1700b7447ec2a66ca1f72eb0.bindPopup(popup_a05fb8a5b8adabfea0329090a3c266ca)\n",
       "        ;\n",
       "\n",
       "        \n",
       "    \n",
       "    \n",
       "            marker_b8aa8cee1700b7447ec2a66ca1f72eb0.bindTooltip(\n",
       "                `&lt;div&gt;\n",
       "                     Somaliland Region\n",
       "                 &lt;/div&gt;`,\n",
       "                {&quot;sticky&quot;: true}\n",
       "            );\n",
       "        \n",
       "    \n",
       "            var marker_0fbe2463a5735f557cd8b5ecd047a97c = L.marker(\n",
       "                [36.8002068, 10.1857757],\n",
       "                {}\n",
       "            ).addTo(marker_cluster_c40bb7d58d7b1ff2b9ca2b07126a61d5);\n",
       "        \n",
       "    \n",
       "        var popup_19c626c71e49ddc2acdfbd90a54f91cc = L.popup({&quot;maxWidth&quot;: &quot;100%&quot;});\n",
       "\n",
       "        \n",
       "            \n",
       "                var html_c8b27adc5315111d159df4aea5ce8554 = $(`&lt;div id=&quot;html_c8b27adc5315111d159df4aea5ce8554&quot; style=&quot;width: 100.0%; height: 100.0%;&quot;&gt;&lt;strong&gt;Tunisia&lt;/strong&gt;&lt;br&gt;GDP per Capita: 0.97724&lt;br&gt;Healthy Life Expectancy: 0.59577&lt;/div&gt;`)[0];\n",
       "                popup_19c626c71e49ddc2acdfbd90a54f91cc.setContent(html_c8b27adc5315111d159df4aea5ce8554);\n",
       "            \n",
       "        \n",
       "\n",
       "        marker_0fbe2463a5735f557cd8b5ecd047a97c.bindPopup(popup_19c626c71e49ddc2acdfbd90a54f91cc)\n",
       "        ;\n",
       "\n",
       "        \n",
       "    \n",
       "    \n",
       "            marker_0fbe2463a5735f557cd8b5ecd047a97c.bindTooltip(\n",
       "                `&lt;div&gt;\n",
       "                     Tunisia\n",
       "                 &lt;/div&gt;`,\n",
       "                {&quot;sticky&quot;: true}\n",
       "            );\n",
       "        \n",
       "    \n",
       "            var marker_637898905007e3974a6ff3362c60dbb0 = L.marker(\n",
       "                [38.9953683, 21.9877132],\n",
       "                {}\n",
       "            ).addTo(marker_cluster_c40bb7d58d7b1ff2b9ca2b07126a61d5);\n",
       "        \n",
       "    \n",
       "        var popup_810f5912d5f227dcd0c71b3452c0d55a = L.popup({&quot;maxWidth&quot;: &quot;100%&quot;});\n",
       "\n",
       "        \n",
       "            \n",
       "                var html_4ecbb08f883dd0e45a2f48bbca80994f = $(`&lt;div id=&quot;html_4ecbb08f883dd0e45a2f48bbca80994f&quot; style=&quot;width: 100.0%; height: 100.0%;&quot;&gt;&lt;strong&gt;Greece&lt;/strong&gt;&lt;br&gt;GDP per Capita: 1.24886&lt;br&gt;Healthy Life Expectancy: 0.80029&lt;/div&gt;`)[0];\n",
       "                popup_810f5912d5f227dcd0c71b3452c0d55a.setContent(html_4ecbb08f883dd0e45a2f48bbca80994f);\n",
       "            \n",
       "        \n",
       "\n",
       "        marker_637898905007e3974a6ff3362c60dbb0.bindPopup(popup_810f5912d5f227dcd0c71b3452c0d55a)\n",
       "        ;\n",
       "\n",
       "        \n",
       "    \n",
       "    \n",
       "            marker_637898905007e3974a6ff3362c60dbb0.bindTooltip(\n",
       "                `&lt;div&gt;\n",
       "                     Greece\n",
       "                 &lt;/div&gt;`,\n",
       "                {&quot;sticky&quot;: true}\n",
       "            );\n",
       "        \n",
       "    \n",
       "            var marker_d27df1b7697273ab5421fc260a54792a = L.marker(\n",
       "                [38.6281733, 70.8156541],\n",
       "                {}\n",
       "            ).addTo(marker_cluster_c40bb7d58d7b1ff2b9ca2b07126a61d5);\n",
       "        \n",
       "    \n",
       "        var popup_5c8960d805940e4333c3d5d058918171 = L.popup({&quot;maxWidth&quot;: &quot;100%&quot;});\n",
       "\n",
       "        \n",
       "            \n",
       "                var html_1ded4564041efccc078ea9ff80afaac7 = $(`&lt;div id=&quot;html_1ded4564041efccc078ea9ff80afaac7&quot; style=&quot;width: 100.0%; height: 100.0%;&quot;&gt;&lt;strong&gt;Tajikistan&lt;/strong&gt;&lt;br&gt;GDP per Capita: 0.48835&lt;br&gt;Healthy Life Expectancy: 0.53119&lt;/div&gt;`)[0];\n",
       "                popup_5c8960d805940e4333c3d5d058918171.setContent(html_1ded4564041efccc078ea9ff80afaac7);\n",
       "            \n",
       "        \n",
       "\n",
       "        marker_d27df1b7697273ab5421fc260a54792a.bindPopup(popup_5c8960d805940e4333c3d5d058918171)\n",
       "        ;\n",
       "\n",
       "        \n",
       "    \n",
       "    \n",
       "            marker_d27df1b7697273ab5421fc260a54792a.bindTooltip(\n",
       "                `&lt;div&gt;\n",
       "                     Tajikistan\n",
       "                 &lt;/div&gt;`,\n",
       "                {&quot;sticky&quot;: true}\n",
       "            );\n",
       "        \n",
       "    \n",
       "            var marker_099a4fdf2c0a4fd0f4ae4e117bd1b7ce = L.marker(\n",
       "                [43.9382593, -79.2235563],\n",
       "                {}\n",
       "            ).addTo(marker_cluster_c40bb7d58d7b1ff2b9ca2b07126a61d5);\n",
       "        \n",
       "    \n",
       "        var popup_57289c7e0774cabc2894350bb4e3a725 = L.popup({&quot;maxWidth&quot;: &quot;100%&quot;});\n",
       "\n",
       "        \n",
       "            \n",
       "                var html_bff81356773955ce0d700b9868474aa5 = $(`&lt;div id=&quot;html_bff81356773955ce0d700b9868474aa5&quot; style=&quot;width: 100.0%; height: 100.0%;&quot;&gt;&lt;strong&gt;Mongolia&lt;/strong&gt;&lt;br&gt;GDP per Capita: 0.98853&lt;br&gt;Healthy Life Expectancy: 0.55469&lt;/div&gt;`)[0];\n",
       "                popup_57289c7e0774cabc2894350bb4e3a725.setContent(html_bff81356773955ce0d700b9868474aa5);\n",
       "            \n",
       "        \n",
       "\n",
       "        marker_099a4fdf2c0a4fd0f4ae4e117bd1b7ce.bindPopup(popup_57289c7e0774cabc2894350bb4e3a725)\n",
       "        ;\n",
       "\n",
       "        \n",
       "    \n",
       "    \n",
       "            marker_099a4fdf2c0a4fd0f4ae4e117bd1b7ce.bindTooltip(\n",
       "                `&lt;div&gt;\n",
       "                     Mongolia\n",
       "                 &lt;/div&gt;`,\n",
       "                {&quot;sticky&quot;: true}\n",
       "            );\n",
       "        \n",
       "    \n",
       "            var marker_5e9909d1fa3ef8f21724897385fccc4e = L.marker(\n",
       "                [20.0171109, 103.378253],\n",
       "                {}\n",
       "            ).addTo(marker_cluster_c40bb7d58d7b1ff2b9ca2b07126a61d5);\n",
       "        \n",
       "    \n",
       "        var popup_785204726cdf5447caab49f9f6c38e68 = L.popup({&quot;maxWidth&quot;: &quot;100%&quot;});\n",
       "\n",
       "        \n",
       "            \n",
       "                var html_2721d75472806a62970898b05d054aa4 = $(`&lt;div id=&quot;html_2721d75472806a62970898b05d054aa4&quot; style=&quot;width: 100.0%; height: 100.0%;&quot;&gt;&lt;strong&gt;Laos&lt;/strong&gt;&lt;br&gt;GDP per Capita: 0.68042&lt;br&gt;Healthy Life Expectancy: 0.38291&lt;/div&gt;`)[0];\n",
       "                popup_785204726cdf5447caab49f9f6c38e68.setContent(html_2721d75472806a62970898b05d054aa4);\n",
       "            \n",
       "        \n",
       "\n",
       "        marker_5e9909d1fa3ef8f21724897385fccc4e.bindPopup(popup_785204726cdf5447caab49f9f6c38e68)\n",
       "        ;\n",
       "\n",
       "        \n",
       "    \n",
       "    \n",
       "            marker_5e9909d1fa3ef8f21724897385fccc4e.bindTooltip(\n",
       "                `&lt;div&gt;\n",
       "                     Laos\n",
       "                 &lt;/div&gt;`,\n",
       "                {&quot;sticky&quot;: true}\n",
       "            );\n",
       "        \n",
       "    \n",
       "            var marker_d5110594894387dc456dce5482f4db71 = L.marker(\n",
       "                [9.6000359, 7.9999721],\n",
       "                {}\n",
       "            ).addTo(marker_cluster_c40bb7d58d7b1ff2b9ca2b07126a61d5);\n",
       "        \n",
       "    \n",
       "        var popup_25e8695a24b6eb0681e15e466aaf8f17 = L.popup({&quot;maxWidth&quot;: &quot;100%&quot;});\n",
       "\n",
       "        \n",
       "            \n",
       "                var html_efce2b10774d5f12639366916f99d3c6 = $(`&lt;div id=&quot;html_efce2b10774d5f12639366916f99d3c6&quot; style=&quot;width: 100.0%; height: 100.0%;&quot;&gt;&lt;strong&gt;Nigeria&lt;/strong&gt;&lt;br&gt;GDP per Capita: 0.75216&lt;br&gt;Healthy Life Expectancy: 0.05108&lt;/div&gt;`)[0];\n",
       "                popup_25e8695a24b6eb0681e15e466aaf8f17.setContent(html_efce2b10774d5f12639366916f99d3c6);\n",
       "            \n",
       "        \n",
       "\n",
       "        marker_d5110594894387dc456dce5482f4db71.bindPopup(popup_25e8695a24b6eb0681e15e466aaf8f17)\n",
       "        ;\n",
       "\n",
       "        \n",
       "    \n",
       "    \n",
       "            marker_d5110594894387dc456dce5482f4db71.bindTooltip(\n",
       "                `&lt;div&gt;\n",
       "                     Nigeria\n",
       "                 &lt;/div&gt;`,\n",
       "                {&quot;sticky&quot;: true}\n",
       "            );\n",
       "        \n",
       "    \n",
       "            var marker_d093f670bb8f9f7ec9e6ffee7010be86 = L.marker(\n",
       "                [15.2572432, -86.0755145],\n",
       "                {}\n",
       "            ).addTo(marker_cluster_c40bb7d58d7b1ff2b9ca2b07126a61d5);\n",
       "        \n",
       "    \n",
       "        var popup_1968ed0bfad978e852525061f4fd1250 = L.popup({&quot;maxWidth&quot;: &quot;100%&quot;});\n",
       "\n",
       "        \n",
       "            \n",
       "                var html_bd4d19ec99263b10843707040f1b5ab9 = $(`&lt;div id=&quot;html_bd4d19ec99263b10843707040f1b5ab9&quot; style=&quot;width: 100.0%; height: 100.0%;&quot;&gt;&lt;strong&gt;Honduras&lt;/strong&gt;&lt;br&gt;GDP per Capita: 0.69429&lt;br&gt;Healthy Life Expectancy: 0.58383&lt;/div&gt;`)[0];\n",
       "                popup_1968ed0bfad978e852525061f4fd1250.setContent(html_bd4d19ec99263b10843707040f1b5ab9);\n",
       "            \n",
       "        \n",
       "\n",
       "        marker_d093f670bb8f9f7ec9e6ffee7010be86.bindPopup(popup_1968ed0bfad978e852525061f4fd1250)\n",
       "        ;\n",
       "\n",
       "        \n",
       "    \n",
       "    \n",
       "            marker_d093f670bb8f9f7ec9e6ffee7010be86.bindTooltip(\n",
       "                `&lt;div&gt;\n",
       "                     Honduras\n",
       "                 &lt;/div&gt;`,\n",
       "                {&quot;sticky&quot;: true}\n",
       "            );\n",
       "        \n",
       "    \n",
       "            var marker_b81c478fd40c49138d92f60e66f2858e = L.marker(\n",
       "                [32.6475314, 54.5643516],\n",
       "                {}\n",
       "            ).addTo(marker_cluster_c40bb7d58d7b1ff2b9ca2b07126a61d5);\n",
       "        \n",
       "    \n",
       "        var popup_6338aa24f1dabb84d26a65f8b232d3bc = L.popup({&quot;maxWidth&quot;: &quot;100%&quot;});\n",
       "\n",
       "        \n",
       "            \n",
       "                var html_934e576071340ca843baff3cc1376a27 = $(`&lt;div id=&quot;html_934e576071340ca843baff3cc1376a27&quot; style=&quot;width: 100.0%; height: 100.0%;&quot;&gt;&lt;strong&gt;Iran&lt;/strong&gt;&lt;br&gt;GDP per Capita: 1.11758&lt;br&gt;Healthy Life Expectancy: 0.64232&lt;/div&gt;`)[0];\n",
       "                popup_6338aa24f1dabb84d26a65f8b232d3bc.setContent(html_934e576071340ca843baff3cc1376a27);\n",
       "            \n",
       "        \n",
       "\n",
       "        marker_b81c478fd40c49138d92f60e66f2858e.bindPopup(popup_6338aa24f1dabb84d26a65f8b232d3bc)\n",
       "        ;\n",
       "\n",
       "        \n",
       "    \n",
       "    \n",
       "            marker_b81c478fd40c49138d92f60e66f2858e.bindTooltip(\n",
       "                `&lt;div&gt;\n",
       "                     Iran\n",
       "                 &lt;/div&gt;`,\n",
       "                {&quot;sticky&quot;: true}\n",
       "            );\n",
       "        \n",
       "    \n",
       "            var marker_38fb85e9654f4b400b177fceaca4483a = L.marker(\n",
       "                [-14.5189121, 27.5589884],\n",
       "                {}\n",
       "            ).addTo(marker_cluster_c40bb7d58d7b1ff2b9ca2b07126a61d5);\n",
       "        \n",
       "    \n",
       "        var popup_debe2f88e021fdd76ab55504b19883c2 = L.popup({&quot;maxWidth&quot;: &quot;100%&quot;});\n",
       "\n",
       "        \n",
       "            \n",
       "                var html_2bce5ced772e65ff6b661d7f3bd89d62 = $(`&lt;div id=&quot;html_2bce5ced772e65ff6b661d7f3bd89d62&quot; style=&quot;width: 100.0%; height: 100.0%;&quot;&gt;&lt;strong&gt;Zambia&lt;/strong&gt;&lt;br&gt;GDP per Capita: 0.61202&lt;br&gt;Healthy Life Expectancy: 0.23573&lt;/div&gt;`)[0];\n",
       "                popup_debe2f88e021fdd76ab55504b19883c2.setContent(html_2bce5ced772e65ff6b661d7f3bd89d62);\n",
       "            \n",
       "        \n",
       "\n",
       "        marker_38fb85e9654f4b400b177fceaca4483a.bindPopup(popup_debe2f88e021fdd76ab55504b19883c2)\n",
       "        ;\n",
       "\n",
       "        \n",
       "    \n",
       "    \n",
       "            marker_38fb85e9654f4b400b177fceaca4483a.bindTooltip(\n",
       "                `&lt;div&gt;\n",
       "                     Zambia\n",
       "                 &lt;/div&gt;`,\n",
       "                {&quot;sticky&quot;: true}\n",
       "            );\n",
       "        \n",
       "    \n",
       "            var marker_62b56639173fbc7c98865092e60f8bed = L.marker(\n",
       "                [31.762963620549996, 34.9384953773143],\n",
       "                {}\n",
       "            ).addTo(marker_cluster_c40bb7d58d7b1ff2b9ca2b07126a61d5);\n",
       "        \n",
       "    \n",
       "        var popup_9ad948caed51bf9d46af397135b725a0 = L.popup({&quot;maxWidth&quot;: &quot;100%&quot;});\n",
       "\n",
       "        \n",
       "            \n",
       "                var html_96241f08bf91ac94850106e713364621 = $(`&lt;div id=&quot;html_96241f08bf91ac94850106e713364621&quot; style=&quot;width: 100.0%; height: 100.0%;&quot;&gt;&lt;strong&gt;Palestinian Territories&lt;/strong&gt;&lt;br&gt;GDP per Capita: 0.67024&lt;br&gt;Healthy Life Expectancy: 0.56844&lt;/div&gt;`)[0];\n",
       "                popup_9ad948caed51bf9d46af397135b725a0.setContent(html_96241f08bf91ac94850106e713364621);\n",
       "            \n",
       "        \n",
       "\n",
       "        marker_62b56639173fbc7c98865092e60f8bed.bindPopup(popup_9ad948caed51bf9d46af397135b725a0)\n",
       "        ;\n",
       "\n",
       "        \n",
       "    \n",
       "    \n",
       "            marker_62b56639173fbc7c98865092e60f8bed.bindTooltip(\n",
       "                `&lt;div&gt;\n",
       "                     Palestinian Territories\n",
       "                 &lt;/div&gt;`,\n",
       "                {&quot;sticky&quot;: true}\n",
       "            );\n",
       "        \n",
       "    \n",
       "            var marker_2f546a91810ea5d6c295f7dd43c66465 = L.marker(\n",
       "                [5.7587654, -73.9151617],\n",
       "                {}\n",
       "            ).addTo(marker_cluster_c40bb7d58d7b1ff2b9ca2b07126a61d5);\n",
       "        \n",
       "    \n",
       "        var popup_900f358bd0e96d3be276a2e562029411 = L.popup({&quot;maxWidth&quot;: &quot;100%&quot;});\n",
       "\n",
       "        \n",
       "            \n",
       "                var html_c58fc63485a32c80b9f9566db50137a0 = $(`&lt;div id=&quot;html_c58fc63485a32c80b9f9566db50137a0&quot; style=&quot;width: 100.0%; height: 100.0%;&quot;&gt;&lt;strong&gt;Albania&lt;/strong&gt;&lt;br&gt;GDP per Capita: 0.9553&lt;br&gt;Healthy Life Expectancy: 0.73007&lt;/div&gt;`)[0];\n",
       "                popup_900f358bd0e96d3be276a2e562029411.setContent(html_c58fc63485a32c80b9f9566db50137a0);\n",
       "            \n",
       "        \n",
       "\n",
       "        marker_2f546a91810ea5d6c295f7dd43c66465.bindPopup(popup_900f358bd0e96d3be276a2e562029411)\n",
       "        ;\n",
       "\n",
       "        \n",
       "    \n",
       "    \n",
       "            marker_2f546a91810ea5d6c295f7dd43c66465.bindTooltip(\n",
       "                `&lt;div&gt;\n",
       "                     Albania\n",
       "                 &lt;/div&gt;`,\n",
       "                {&quot;sticky&quot;: true}\n",
       "            );\n",
       "        \n",
       "    \n",
       "            var marker_dbbe2b10fc3f49888fb8adb1ab767b28 = L.marker(\n",
       "                [-0.2864982, 36.0514231],\n",
       "                {}\n",
       "            ).addTo(marker_cluster_c40bb7d58d7b1ff2b9ca2b07126a61d5);\n",
       "        \n",
       "    \n",
       "        var popup_f92fc18c13b0bb274576648fe7cca067 = L.popup({&quot;maxWidth&quot;: &quot;100%&quot;});\n",
       "\n",
       "        \n",
       "            \n",
       "                var html_5f0acd483b9ddfdc3fca3e3c92ccc9e8 = $(`&lt;div id=&quot;html_5f0acd483b9ddfdc3fca3e3c92ccc9e8&quot; style=&quot;width: 100.0%; height: 100.0%;&quot;&gt;&lt;strong&gt;Bangladesh&lt;/strong&gt;&lt;br&gt;GDP per Capita: 0.54177&lt;br&gt;Healthy Life Expectancy: 0.52989&lt;/div&gt;`)[0];\n",
       "                popup_f92fc18c13b0bb274576648fe7cca067.setContent(html_5f0acd483b9ddfdc3fca3e3c92ccc9e8);\n",
       "            \n",
       "        \n",
       "\n",
       "        marker_dbbe2b10fc3f49888fb8adb1ab767b28.bindPopup(popup_f92fc18c13b0bb274576648fe7cca067)\n",
       "        ;\n",
       "\n",
       "        \n",
       "    \n",
       "    \n",
       "            marker_dbbe2b10fc3f49888fb8adb1ab767b28.bindTooltip(\n",
       "                `&lt;div&gt;\n",
       "                     Bangladesh\n",
       "                 &lt;/div&gt;`,\n",
       "                {&quot;sticky&quot;: true}\n",
       "            );\n",
       "        \n",
       "    \n",
       "            var marker_34e76f4b880fd69c701c1cce1524c9ad = L.marker(\n",
       "                [33.0955793, 44.1749775],\n",
       "                {}\n",
       "            ).addTo(marker_cluster_c40bb7d58d7b1ff2b9ca2b07126a61d5);\n",
       "        \n",
       "    \n",
       "        var popup_c2f51b74d2a7cf4da4d6dc92ba74cc7f = L.popup({&quot;maxWidth&quot;: &quot;100%&quot;});\n",
       "\n",
       "        \n",
       "            \n",
       "                var html_8bf95b1e45d393e77dadf1cbd0fa83bc = $(`&lt;div id=&quot;html_8bf95b1e45d393e77dadf1cbd0fa83bc&quot; style=&quot;width: 100.0%; height: 100.0%;&quot;&gt;&lt;strong&gt;Iraq&lt;/strong&gt;&lt;br&gt;GDP per Capita: 1.07474&lt;br&gt;Healthy Life Expectancy: 0.51076&lt;/div&gt;`)[0];\n",
       "                popup_c2f51b74d2a7cf4da4d6dc92ba74cc7f.setContent(html_8bf95b1e45d393e77dadf1cbd0fa83bc);\n",
       "            \n",
       "        \n",
       "\n",
       "        marker_34e76f4b880fd69c701c1cce1524c9ad.bindPopup(popup_c2f51b74d2a7cf4da4d6dc92ba74cc7f)\n",
       "        ;\n",
       "\n",
       "        \n",
       "    \n",
       "    \n",
       "            marker_34e76f4b880fd69c701c1cce1524c9ad.bindTooltip(\n",
       "                `&lt;div&gt;\n",
       "                     Iraq\n",
       "                 &lt;/div&gt;`,\n",
       "                {&quot;sticky&quot;: true}\n",
       "            );\n",
       "        \n",
       "    \n",
       "            var marker_e5cbbe2c0a1f7b774910a79a391340fe = L.marker(\n",
       "                [-23.2335499, 17.3231107],\n",
       "                {}\n",
       "            ).addTo(marker_cluster_c40bb7d58d7b1ff2b9ca2b07126a61d5);\n",
       "        \n",
       "    \n",
       "        var popup_7ba7bff18101b9525909ab2518ebf068 = L.popup({&quot;maxWidth&quot;: &quot;100%&quot;});\n",
       "\n",
       "        \n",
       "            \n",
       "                var html_92422c6aeb32c7a999afd2e2c00d4d8c = $(`&lt;div id=&quot;html_92422c6aeb32c7a999afd2e2c00d4d8c&quot; style=&quot;width: 100.0%; height: 100.0%;&quot;&gt;&lt;strong&gt;Namibia&lt;/strong&gt;&lt;br&gt;GDP per Capita: 0.93287&lt;br&gt;Healthy Life Expectancy: 0.34745&lt;/div&gt;`)[0];\n",
       "                popup_7ba7bff18101b9525909ab2518ebf068.setContent(html_92422c6aeb32c7a999afd2e2c00d4d8c);\n",
       "            \n",
       "        \n",
       "\n",
       "        marker_e5cbbe2c0a1f7b774910a79a391340fe.bindPopup(popup_7ba7bff18101b9525909ab2518ebf068)\n",
       "        ;\n",
       "\n",
       "        \n",
       "    \n",
       "    \n",
       "            marker_e5cbbe2c0a1f7b774910a79a391340fe.bindTooltip(\n",
       "                `&lt;div&gt;\n",
       "                     Namibia\n",
       "                 &lt;/div&gt;`,\n",
       "                {&quot;sticky&quot;: true}\n",
       "            );\n",
       "        \n",
       "    \n",
       "            var marker_17302e44885a2a79c690c40b1708574d = L.marker(\n",
       "                [4.6125522, 13.1535811],\n",
       "                {}\n",
       "            ).addTo(marker_cluster_c40bb7d58d7b1ff2b9ca2b07126a61d5);\n",
       "        \n",
       "    \n",
       "        var popup_5d77d97a9945a1d48bcdeba5dee7027e = L.popup({&quot;maxWidth&quot;: &quot;100%&quot;});\n",
       "\n",
       "        \n",
       "            \n",
       "                var html_d238e8684c55b4c4bf4f5586e12784ab = $(`&lt;div id=&quot;html_d238e8684c55b4c4bf4f5586e12784ab&quot; style=&quot;width: 100.0%; height: 100.0%;&quot;&gt;&lt;strong&gt;Cameroon&lt;/strong&gt;&lt;br&gt;GDP per Capita: 0.52497&lt;br&gt;Healthy Life Expectancy: 0.12698&lt;/div&gt;`)[0];\n",
       "                popup_5d77d97a9945a1d48bcdeba5dee7027e.setContent(html_d238e8684c55b4c4bf4f5586e12784ab);\n",
       "            \n",
       "        \n",
       "\n",
       "        marker_17302e44885a2a79c690c40b1708574d.bindPopup(popup_5d77d97a9945a1d48bcdeba5dee7027e)\n",
       "        ;\n",
       "\n",
       "        \n",
       "    \n",
       "    \n",
       "            marker_17302e44885a2a79c690c40b1708574d.bindTooltip(\n",
       "                `&lt;div&gt;\n",
       "                     Cameroon\n",
       "                 &lt;/div&gt;`,\n",
       "                {&quot;sticky&quot;: true}\n",
       "            );\n",
       "        \n",
       "    \n",
       "            var marker_01605d96900be717c2a8aeb2cbc356e2 = L.marker(\n",
       "                [10.2116702, 38.6521203],\n",
       "                {}\n",
       "            ).addTo(marker_cluster_c40bb7d58d7b1ff2b9ca2b07126a61d5);\n",
       "        \n",
       "    \n",
       "        var popup_f859e24eb8ca95eb09207e9d1ff64d98 = L.popup({&quot;maxWidth&quot;: &quot;100%&quot;});\n",
       "\n",
       "        \n",
       "            \n",
       "                var html_e18d05ac9f5d039c9fe23bdf3b7532f7 = $(`&lt;div id=&quot;html_e18d05ac9f5d039c9fe23bdf3b7532f7&quot; style=&quot;width: 100.0%; height: 100.0%;&quot;&gt;&lt;strong&gt;Ethiopia&lt;/strong&gt;&lt;br&gt;GDP per Capita: 0.29283&lt;br&gt;Healthy Life Expectancy: 0.34578&lt;/div&gt;`)[0];\n",
       "                popup_f859e24eb8ca95eb09207e9d1ff64d98.setContent(html_e18d05ac9f5d039c9fe23bdf3b7532f7);\n",
       "            \n",
       "        \n",
       "\n",
       "        marker_01605d96900be717c2a8aeb2cbc356e2.bindPopup(popup_f859e24eb8ca95eb09207e9d1ff64d98)\n",
       "        ;\n",
       "\n",
       "        \n",
       "    \n",
       "    \n",
       "            marker_01605d96900be717c2a8aeb2cbc356e2.bindTooltip(\n",
       "                `&lt;div&gt;\n",
       "                     Ethiopia\n",
       "                 &lt;/div&gt;`,\n",
       "                {&quot;sticky&quot;: true}\n",
       "            );\n",
       "        \n",
       "    \n",
       "            var marker_a902d4b6ee97b796348d8a07d9fb5706 = L.marker(\n",
       "                [-28.8166236, 24.991639],\n",
       "                {}\n",
       "            ).addTo(marker_cluster_c40bb7d58d7b1ff2b9ca2b07126a61d5);\n",
       "        \n",
       "    \n",
       "        var popup_b05e004fd025b92a6ac204075753ea8b = L.popup({&quot;maxWidth&quot;: &quot;100%&quot;});\n",
       "\n",
       "        \n",
       "            \n",
       "                var html_da2097cd37c0d332faa6b4652d39473f = $(`&lt;div id=&quot;html_da2097cd37c0d332faa6b4652d39473f&quot; style=&quot;width: 100.0%; height: 100.0%;&quot;&gt;&lt;strong&gt;South Africa&lt;/strong&gt;&lt;br&gt;GDP per Capita: 1.02416&lt;br&gt;Healthy Life Expectancy: 0.18611&lt;/div&gt;`)[0];\n",
       "                popup_b05e004fd025b92a6ac204075753ea8b.setContent(html_da2097cd37c0d332faa6b4652d39473f);\n",
       "            \n",
       "        \n",
       "\n",
       "        marker_a902d4b6ee97b796348d8a07d9fb5706.bindPopup(popup_b05e004fd025b92a6ac204075753ea8b)\n",
       "        ;\n",
       "\n",
       "        \n",
       "    \n",
       "    \n",
       "            marker_a902d4b6ee97b796348d8a07d9fb5706.bindTooltip(\n",
       "                `&lt;div&gt;\n",
       "                     South Africa\n",
       "                 &lt;/div&gt;`,\n",
       "                {&quot;sticky&quot;: true}\n",
       "            );\n",
       "        \n",
       "    \n",
       "            var marker_e5c54cb843aec7e2cfb66589aaced6e7 = L.marker(\n",
       "                [7.5554942, 80.7137847],\n",
       "                {}\n",
       "            ).addTo(marker_cluster_c40bb7d58d7b1ff2b9ca2b07126a61d5);\n",
       "        \n",
       "    \n",
       "        var popup_69efbe6db6c4910bec9a86fbed6442a8 = L.popup({&quot;maxWidth&quot;: &quot;100%&quot;});\n",
       "\n",
       "        \n",
       "            \n",
       "                var html_3adce9b98f5d7af18fd73a9621f1e7f1 = $(`&lt;div id=&quot;html_3adce9b98f5d7af18fd73a9621f1e7f1&quot; style=&quot;width: 100.0%; height: 100.0%;&quot;&gt;&lt;strong&gt;Sri Lanka&lt;/strong&gt;&lt;br&gt;GDP per Capita: 0.97318&lt;br&gt;Healthy Life Expectancy: 0.62007&lt;/div&gt;`)[0];\n",
       "                popup_69efbe6db6c4910bec9a86fbed6442a8.setContent(html_3adce9b98f5d7af18fd73a9621f1e7f1);\n",
       "            \n",
       "        \n",
       "\n",
       "        marker_e5c54cb843aec7e2cfb66589aaced6e7.bindPopup(popup_69efbe6db6c4910bec9a86fbed6442a8)\n",
       "        ;\n",
       "\n",
       "        \n",
       "    \n",
       "    \n",
       "            marker_e5c54cb843aec7e2cfb66589aaced6e7.bindTooltip(\n",
       "                `&lt;div&gt;\n",
       "                     Sri Lanka\n",
       "                 &lt;/div&gt;`,\n",
       "                {&quot;sticky&quot;: true}\n",
       "            );\n",
       "        \n",
       "    \n",
       "            var marker_0a2861f31f5c65546881a07088755d39 = L.marker(\n",
       "                [22.3511148, 78.6677428],\n",
       "                {}\n",
       "            ).addTo(marker_cluster_c40bb7d58d7b1ff2b9ca2b07126a61d5);\n",
       "        \n",
       "    \n",
       "        var popup_06961f09deceffc7ab3b9b6c1a637329 = L.popup({&quot;maxWidth&quot;: &quot;100%&quot;});\n",
       "\n",
       "        \n",
       "            \n",
       "                var html_73a9f17125856f06fb1c92256fc15d03 = $(`&lt;div id=&quot;html_73a9f17125856f06fb1c92256fc15d03&quot; style=&quot;width: 100.0%; height: 100.0%;&quot;&gt;&lt;strong&gt;India&lt;/strong&gt;&lt;br&gt;GDP per Capita: 0.74036&lt;br&gt;Healthy Life Expectancy: 0.45091&lt;/div&gt;`)[0];\n",
       "                popup_06961f09deceffc7ab3b9b6c1a637329.setContent(html_73a9f17125856f06fb1c92256fc15d03);\n",
       "            \n",
       "        \n",
       "\n",
       "        marker_0a2861f31f5c65546881a07088755d39.bindPopup(popup_06961f09deceffc7ab3b9b6c1a637329)\n",
       "        ;\n",
       "\n",
       "        \n",
       "    \n",
       "    \n",
       "            marker_0a2861f31f5c65546881a07088755d39.bindTooltip(\n",
       "                `&lt;div&gt;\n",
       "                     India\n",
       "                 &lt;/div&gt;`,\n",
       "                {&quot;sticky&quot;: true}\n",
       "            );\n",
       "        \n",
       "    \n",
       "            var marker_e6f9259aaded19ccc5ab35077297e4cb = L.marker(\n",
       "                [17.1750495, 95.9999652],\n",
       "                {}\n",
       "            ).addTo(marker_cluster_c40bb7d58d7b1ff2b9ca2b07126a61d5);\n",
       "        \n",
       "    \n",
       "        var popup_def19ba7e1e569609d06e688de3e8340 = L.popup({&quot;maxWidth&quot;: &quot;100%&quot;});\n",
       "\n",
       "        \n",
       "            \n",
       "                var html_816b4245285b36ef0235fc2b814538c3 = $(`&lt;div id=&quot;html_816b4245285b36ef0235fc2b814538c3&quot; style=&quot;width: 100.0%; height: 100.0%;&quot;&gt;&lt;strong&gt;Myanmar&lt;/strong&gt;&lt;br&gt;GDP per Capita: 0.34112&lt;br&gt;Healthy Life Expectancy: 0.3988&lt;/div&gt;`)[0];\n",
       "                popup_def19ba7e1e569609d06e688de3e8340.setContent(html_816b4245285b36ef0235fc2b814538c3);\n",
       "            \n",
       "        \n",
       "\n",
       "        marker_e6f9259aaded19ccc5ab35077297e4cb.bindPopup(popup_def19ba7e1e569609d06e688de3e8340)\n",
       "        ;\n",
       "\n",
       "        \n",
       "    \n",
       "    \n",
       "            marker_e6f9259aaded19ccc5ab35077297e4cb.bindTooltip(\n",
       "                `&lt;div&gt;\n",
       "                     Myanmar\n",
       "                 &lt;/div&gt;`,\n",
       "                {&quot;sticky&quot;: true}\n",
       "            );\n",
       "        \n",
       "    \n",
       "            var marker_9f2b96e5ad534b8ca43b6ca6c24fdddf = L.marker(\n",
       "                [26.2540493, 29.2675469],\n",
       "                {}\n",
       "            ).addTo(marker_cluster_c40bb7d58d7b1ff2b9ca2b07126a61d5);\n",
       "        \n",
       "    \n",
       "        var popup_d0c59fd7e04f9990a1ddc16b8d36d8de = L.popup({&quot;maxWidth&quot;: &quot;100%&quot;});\n",
       "\n",
       "        \n",
       "            \n",
       "                var html_62d4584cfa07ee8ca43f657c34709cd8 = $(`&lt;div id=&quot;html_62d4584cfa07ee8ca43f657c34709cd8&quot; style=&quot;width: 100.0%; height: 100.0%;&quot;&gt;&lt;strong&gt;Egypt&lt;/strong&gt;&lt;br&gt;GDP per Capita: 0.95395&lt;br&gt;Healthy Life Expectancy: 0.52116&lt;/div&gt;`)[0];\n",
       "                popup_d0c59fd7e04f9990a1ddc16b8d36d8de.setContent(html_62d4584cfa07ee8ca43f657c34709cd8);\n",
       "            \n",
       "        \n",
       "\n",
       "        marker_9f2b96e5ad534b8ca43b6ca6c24fdddf.bindPopup(popup_d0c59fd7e04f9990a1ddc16b8d36d8de)\n",
       "        ;\n",
       "\n",
       "        \n",
       "    \n",
       "    \n",
       "            marker_9f2b96e5ad534b8ca43b6ca6c24fdddf.bindTooltip(\n",
       "                `&lt;div&gt;\n",
       "                     Egypt\n",
       "                 &lt;/div&gt;`,\n",
       "                {&quot;sticky&quot;: true}\n",
       "            );\n",
       "        \n",
       "    \n",
       "            var marker_49167131164e5a3b9a6ec53d2e75a09d = L.marker(\n",
       "                [4.491976149999999, -75.74135085294314],\n",
       "                {}\n",
       "            ).addTo(marker_cluster_c40bb7d58d7b1ff2b9ca2b07126a61d5);\n",
       "        \n",
       "    \n",
       "        var popup_99fc985d69f24ca5d84e6e8eee3c5bdc = L.popup({&quot;maxWidth&quot;: &quot;100%&quot;});\n",
       "\n",
       "        \n",
       "            \n",
       "                var html_18be14abc429218b6d41af0257e5c228 = $(`&lt;div id=&quot;html_18be14abc429218b6d41af0257e5c228&quot; style=&quot;width: 100.0%; height: 100.0%;&quot;&gt;&lt;strong&gt;Armenia&lt;/strong&gt;&lt;br&gt;GDP per Capita: 0.86086&lt;br&gt;Healthy Life Expectancy: 0.64083&lt;/div&gt;`)[0];\n",
       "                popup_99fc985d69f24ca5d84e6e8eee3c5bdc.setContent(html_18be14abc429218b6d41af0257e5c228);\n",
       "            \n",
       "        \n",
       "\n",
       "        marker_49167131164e5a3b9a6ec53d2e75a09d.bindPopup(popup_99fc985d69f24ca5d84e6e8eee3c5bdc)\n",
       "        ;\n",
       "\n",
       "        \n",
       "    \n",
       "    \n",
       "            marker_49167131164e5a3b9a6ec53d2e75a09d.bindTooltip(\n",
       "                `&lt;div&gt;\n",
       "                     Armenia\n",
       "                 &lt;/div&gt;`,\n",
       "                {&quot;sticky&quot;: true}\n",
       "            );\n",
       "        \n",
       "    \n",
       "            var marker_bf22a4b4b3829bd85e193e6a90a558a2 = L.marker(\n",
       "                [1.4419683, 38.4313975],\n",
       "                {}\n",
       "            ).addTo(marker_cluster_c40bb7d58d7b1ff2b9ca2b07126a61d5);\n",
       "        \n",
       "    \n",
       "        var popup_0d79bed60913eeeababcde7ca3d67730 = L.popup({&quot;maxWidth&quot;: &quot;100%&quot;});\n",
       "\n",
       "        \n",
       "            \n",
       "                var html_b7c3c28267d1b42cc0e3890ba6eae4d2 = $(`&lt;div id=&quot;html_b7c3c28267d1b42cc0e3890ba6eae4d2&quot; style=&quot;width: 100.0%; height: 100.0%;&quot;&gt;&lt;strong&gt;Kenya&lt;/strong&gt;&lt;br&gt;GDP per Capita: 0.52267&lt;br&gt;Healthy Life Expectancy: 0.30147&lt;/div&gt;`)[0];\n",
       "                popup_0d79bed60913eeeababcde7ca3d67730.setContent(html_b7c3c28267d1b42cc0e3890ba6eae4d2);\n",
       "            \n",
       "        \n",
       "\n",
       "        marker_bf22a4b4b3829bd85e193e6a90a558a2.bindPopup(popup_0d79bed60913eeeababcde7ca3d67730)\n",
       "        ;\n",
       "\n",
       "        \n",
       "    \n",
       "    \n",
       "            marker_bf22a4b4b3829bd85e193e6a90a558a2.bindTooltip(\n",
       "                `&lt;div&gt;\n",
       "                     Kenya\n",
       "                 &lt;/div&gt;`,\n",
       "                {&quot;sticky&quot;: true}\n",
       "            );\n",
       "        \n",
       "    \n",
       "            var marker_d9b2583304bc46801c3cc493cfd122af = L.marker(\n",
       "                [49.4871968, 31.2718321],\n",
       "                {}\n",
       "            ).addTo(marker_cluster_c40bb7d58d7b1ff2b9ca2b07126a61d5);\n",
       "        \n",
       "    \n",
       "        var popup_26ae42d28a08239f167d991c58c7db06 = L.popup({&quot;maxWidth&quot;: &quot;100%&quot;});\n",
       "\n",
       "        \n",
       "            \n",
       "                var html_2299c4b41d6b793175d0bb5b1e119015 = $(`&lt;div id=&quot;html_2299c4b41d6b793175d0bb5b1e119015&quot; style=&quot;width: 100.0%; height: 100.0%;&quot;&gt;&lt;strong&gt;Ukraine&lt;/strong&gt;&lt;br&gt;GDP per Capita: 0.87287&lt;br&gt;Healthy Life Expectancy: 0.58628&lt;/div&gt;`)[0];\n",
       "                popup_26ae42d28a08239f167d991c58c7db06.setContent(html_2299c4b41d6b793175d0bb5b1e119015);\n",
       "            \n",
       "        \n",
       "\n",
       "        marker_d9b2583304bc46801c3cc493cfd122af.bindPopup(popup_26ae42d28a08239f167d991c58c7db06)\n",
       "        ;\n",
       "\n",
       "        \n",
       "    \n",
       "    \n",
       "            marker_d9b2583304bc46801c3cc493cfd122af.bindTooltip(\n",
       "                `&lt;div&gt;\n",
       "                     Ukraine\n",
       "                 &lt;/div&gt;`,\n",
       "                {&quot;sticky&quot;: true}\n",
       "            );\n",
       "        \n",
       "    \n",
       "            var marker_1f2f0eb6bf6d61bb4082dab5fb4c3ea3 = L.marker(\n",
       "                [8.0300284, -1.0800271],\n",
       "                {}\n",
       "            ).addTo(marker_cluster_c40bb7d58d7b1ff2b9ca2b07126a61d5);\n",
       "        \n",
       "    \n",
       "        var popup_1bb48f0349ef40cee5c88911b039ad77 = L.popup({&quot;maxWidth&quot;: &quot;100%&quot;});\n",
       "\n",
       "        \n",
       "            \n",
       "                var html_14b352ba81106f7c7766cd65a3c33088 = $(`&lt;div id=&quot;html_14b352ba81106f7c7766cd65a3c33088&quot; style=&quot;width: 100.0%; height: 100.0%;&quot;&gt;&lt;strong&gt;Ghana&lt;/strong&gt;&lt;br&gt;GDP per Capita: 0.63107&lt;br&gt;Healthy Life Expectancy: 0.29681&lt;/div&gt;`)[0];\n",
       "                popup_1bb48f0349ef40cee5c88911b039ad77.setContent(html_14b352ba81106f7c7766cd65a3c33088);\n",
       "            \n",
       "        \n",
       "\n",
       "        marker_1f2f0eb6bf6d61bb4082dab5fb4c3ea3.bindPopup(popup_1bb48f0349ef40cee5c88911b039ad77)\n",
       "        ;\n",
       "\n",
       "        \n",
       "    \n",
       "    \n",
       "            marker_1f2f0eb6bf6d61bb4082dab5fb4c3ea3.bindTooltip(\n",
       "                `&lt;div&gt;\n",
       "                     Ghana\n",
       "                 &lt;/div&gt;`,\n",
       "                {&quot;sticky&quot;: true}\n",
       "            );\n",
       "        \n",
       "    \n",
       "            var marker_433c0decfff86c2b2e98f4b0c89a7cca = L.marker(\n",
       "                [-2.9814344, 23.8222636],\n",
       "                {}\n",
       "            ).addTo(marker_cluster_c40bb7d58d7b1ff2b9ca2b07126a61d5);\n",
       "        \n",
       "    \n",
       "        var popup_581f7911ff3b1e5d8437a4aeec58d146 = L.popup({&quot;maxWidth&quot;: &quot;100%&quot;});\n",
       "\n",
       "        \n",
       "            \n",
       "                var html_008378dba9cc66ed92144b994a2cf3f1 = $(`&lt;div id=&quot;html_008378dba9cc66ed92144b994a2cf3f1&quot; style=&quot;width: 100.0%; height: 100.0%;&quot;&gt;&lt;strong&gt;Congo (Kinshasa)&lt;/strong&gt;&lt;br&gt;GDP per Capita: 0.05661&lt;br&gt;Healthy Life Expectancy: 0.188&lt;/div&gt;`)[0];\n",
       "                popup_581f7911ff3b1e5d8437a4aeec58d146.setContent(html_008378dba9cc66ed92144b994a2cf3f1);\n",
       "            \n",
       "        \n",
       "\n",
       "        marker_433c0decfff86c2b2e98f4b0c89a7cca.bindPopup(popup_581f7911ff3b1e5d8437a4aeec58d146)\n",
       "        ;\n",
       "\n",
       "        \n",
       "    \n",
       "    \n",
       "            marker_433c0decfff86c2b2e98f4b0c89a7cca.bindTooltip(\n",
       "                `&lt;div&gt;\n",
       "                     Congo (Kinshasa)\n",
       "                 &lt;/div&gt;`,\n",
       "                {&quot;sticky&quot;: true}\n",
       "            );\n",
       "        \n",
       "    \n",
       "            var marker_eccb408422f152103df964bdcccb0390 = L.marker(\n",
       "                [32.3293809, -83.1137366],\n",
       "                {}\n",
       "            ).addTo(marker_cluster_c40bb7d58d7b1ff2b9ca2b07126a61d5);\n",
       "        \n",
       "    \n",
       "        var popup_1aa94881680fa24ed124306c239d5583 = L.popup({&quot;maxWidth&quot;: &quot;100%&quot;});\n",
       "\n",
       "        \n",
       "            \n",
       "                var html_e1a266430a9db5f966b5694e62f8c031 = $(`&lt;div id=&quot;html_e1a266430a9db5f966b5694e62f8c031&quot; style=&quot;width: 100.0%; height: 100.0%;&quot;&gt;&lt;strong&gt;Georgia&lt;/strong&gt;&lt;br&gt;GDP per Capita: 0.83792&lt;br&gt;Healthy Life Expectancy: 0.64035&lt;/div&gt;`)[0];\n",
       "                popup_1aa94881680fa24ed124306c239d5583.setContent(html_e1a266430a9db5f966b5694e62f8c031);\n",
       "            \n",
       "        \n",
       "\n",
       "        marker_eccb408422f152103df964bdcccb0390.bindPopup(popup_1aa94881680fa24ed124306c239d5583)\n",
       "        ;\n",
       "\n",
       "        \n",
       "    \n",
       "    \n",
       "            marker_eccb408422f152103df964bdcccb0390.bindTooltip(\n",
       "                `&lt;div&gt;\n",
       "                     Georgia\n",
       "                 &lt;/div&gt;`,\n",
       "                {&quot;sticky&quot;: true}\n",
       "            );\n",
       "        \n",
       "    \n",
       "            var marker_d7fff4407ecfe835917007982afcc061 = L.marker(\n",
       "                [-0.7264327, 15.6419155],\n",
       "                {}\n",
       "            ).addTo(marker_cluster_c40bb7d58d7b1ff2b9ca2b07126a61d5);\n",
       "        \n",
       "    \n",
       "        var popup_9408cdd8beddef160d7d16e566fe0851 = L.popup({&quot;maxWidth&quot;: &quot;100%&quot;});\n",
       "\n",
       "        \n",
       "            \n",
       "                var html_1169449f44ec71814bf063ad0eb2d51c = $(`&lt;div id=&quot;html_1169449f44ec71814bf063ad0eb2d51c&quot; style=&quot;width: 100.0%; height: 100.0%;&quot;&gt;&lt;strong&gt;Congo (Brazzaville)&lt;/strong&gt;&lt;br&gt;GDP per Capita: 0.77109&lt;br&gt;Healthy Life Expectancy: 0.28212&lt;/div&gt;`)[0];\n",
       "                popup_9408cdd8beddef160d7d16e566fe0851.setContent(html_1169449f44ec71814bf063ad0eb2d51c);\n",
       "            \n",
       "        \n",
       "\n",
       "        marker_d7fff4407ecfe835917007982afcc061.bindPopup(popup_9408cdd8beddef160d7d16e566fe0851)\n",
       "        ;\n",
       "\n",
       "        \n",
       "    \n",
       "    \n",
       "            marker_d7fff4407ecfe835917007982afcc061.bindTooltip(\n",
       "                `&lt;div&gt;\n",
       "                     Congo (Brazzaville)\n",
       "                 &lt;/div&gt;`,\n",
       "                {&quot;sticky&quot;: true}\n",
       "            );\n",
       "        \n",
       "    \n",
       "            var marker_8a8df9127bbef4291c523708c5de048e = L.marker(\n",
       "                [14.4750607, -14.4529612],\n",
       "                {}\n",
       "            ).addTo(marker_cluster_c40bb7d58d7b1ff2b9ca2b07126a61d5);\n",
       "        \n",
       "    \n",
       "        var popup_fdc661fd60ac415781185f4b806e6288 = L.popup({&quot;maxWidth&quot;: &quot;100%&quot;});\n",
       "\n",
       "        \n",
       "            \n",
       "                var html_bb73e40a572009a4eacf57ec81b87e4e = $(`&lt;div id=&quot;html_bb73e40a572009a4eacf57ec81b87e4e&quot; style=&quot;width: 100.0%; height: 100.0%;&quot;&gt;&lt;strong&gt;Senegal&lt;/strong&gt;&lt;br&gt;GDP per Capita: 0.44314&lt;br&gt;Healthy Life Expectancy: 0.40457&lt;/div&gt;`)[0];\n",
       "                popup_fdc661fd60ac415781185f4b806e6288.setContent(html_bb73e40a572009a4eacf57ec81b87e4e);\n",
       "            \n",
       "        \n",
       "\n",
       "        marker_8a8df9127bbef4291c523708c5de048e.bindPopup(popup_fdc661fd60ac415781185f4b806e6288)\n",
       "        ;\n",
       "\n",
       "        \n",
       "    \n",
       "    \n",
       "            marker_8a8df9127bbef4291c523708c5de048e.bindTooltip(\n",
       "                `&lt;div&gt;\n",
       "                     Senegal\n",
       "                 &lt;/div&gt;`,\n",
       "                {&quot;sticky&quot;: true}\n",
       "            );\n",
       "        \n",
       "    \n",
       "            var marker_46db2afe52e04990f18e78455386b66d = L.marker(\n",
       "                [42.6073975, 25.4856617],\n",
       "                {}\n",
       "            ).addTo(marker_cluster_c40bb7d58d7b1ff2b9ca2b07126a61d5);\n",
       "        \n",
       "    \n",
       "        var popup_67f87da8ff4c7e56c0821363db64e69a = L.popup({&quot;maxWidth&quot;: &quot;100%&quot;});\n",
       "\n",
       "        \n",
       "            \n",
       "                var html_931092e341f03c41698efd3173c838cf = $(`&lt;div id=&quot;html_931092e341f03c41698efd3173c838cf&quot; style=&quot;width: 100.0%; height: 100.0%;&quot;&gt;&lt;strong&gt;Bulgaria&lt;/strong&gt;&lt;br&gt;GDP per Capita: 1.11306&lt;br&gt;Healthy Life Expectancy: 0.67806&lt;/div&gt;`)[0];\n",
       "                popup_67f87da8ff4c7e56c0821363db64e69a.setContent(html_931092e341f03c41698efd3173c838cf);\n",
       "            \n",
       "        \n",
       "\n",
       "        marker_46db2afe52e04990f18e78455386b66d.bindPopup(popup_67f87da8ff4c7e56c0821363db64e69a)\n",
       "        ;\n",
       "\n",
       "        \n",
       "    \n",
       "    \n",
       "            marker_46db2afe52e04990f18e78455386b66d.bindTooltip(\n",
       "                `&lt;div&gt;\n",
       "                     Bulgaria\n",
       "                 &lt;/div&gt;`,\n",
       "                {&quot;sticky&quot;: true}\n",
       "            );\n",
       "        \n",
       "    \n",
       "            var marker_3228da14b9ea6423233392cab5807fdd = L.marker(\n",
       "                [20.2540382, -9.2399263],\n",
       "                {}\n",
       "            ).addTo(marker_cluster_c40bb7d58d7b1ff2b9ca2b07126a61d5);\n",
       "        \n",
       "    \n",
       "        var popup_a5dc6dd54f6db6f5e7bd362dab5e1176 = L.popup({&quot;maxWidth&quot;: &quot;100%&quot;});\n",
       "\n",
       "        \n",
       "            \n",
       "                var html_1b07f4472e05aa90717e16bb41052cd2 = $(`&lt;div id=&quot;html_1b07f4472e05aa90717e16bb41052cd2&quot; style=&quot;width: 100.0%; height: 100.0%;&quot;&gt;&lt;strong&gt;Mauritania&lt;/strong&gt;&lt;br&gt;GDP per Capita: 0.61391&lt;br&gt;Healthy Life Expectancy: 0.28639&lt;/div&gt;`)[0];\n",
       "                popup_a5dc6dd54f6db6f5e7bd362dab5e1176.setContent(html_1b07f4472e05aa90717e16bb41052cd2);\n",
       "            \n",
       "        \n",
       "\n",
       "        marker_3228da14b9ea6423233392cab5807fdd.bindPopup(popup_a5dc6dd54f6db6f5e7bd362dab5e1176)\n",
       "        ;\n",
       "\n",
       "        \n",
       "    \n",
       "    \n",
       "            marker_3228da14b9ea6423233392cab5807fdd.bindTooltip(\n",
       "                `&lt;div&gt;\n",
       "                     Mauritania\n",
       "                 &lt;/div&gt;`,\n",
       "                {&quot;sticky&quot;: true}\n",
       "            );\n",
       "        \n",
       "    \n",
       "            var marker_110bb505048ea08c2811e069e4b2956f = L.marker(\n",
       "                [-18.4554963, 29.7468414],\n",
       "                {}\n",
       "            ).addTo(marker_cluster_c40bb7d58d7b1ff2b9ca2b07126a61d5);\n",
       "        \n",
       "    \n",
       "        var popup_851ab075d5a567ebef2a18355e46d148 = L.popup({&quot;maxWidth&quot;: &quot;100%&quot;});\n",
       "\n",
       "        \n",
       "            \n",
       "                var html_e175bf4917b70a21e502f819a1b72765 = $(`&lt;div id=&quot;html_e175bf4917b70a21e502f819a1b72765&quot; style=&quot;width: 100.0%; height: 100.0%;&quot;&gt;&lt;strong&gt;Zimbabwe&lt;/strong&gt;&lt;br&gt;GDP per Capita: 0.35041&lt;br&gt;Healthy Life Expectancy: 0.1595&lt;/div&gt;`)[0];\n",
       "                popup_851ab075d5a567ebef2a18355e46d148.setContent(html_e175bf4917b70a21e502f819a1b72765);\n",
       "            \n",
       "        \n",
       "\n",
       "        marker_110bb505048ea08c2811e069e4b2956f.bindPopup(popup_851ab075d5a567ebef2a18355e46d148)\n",
       "        ;\n",
       "\n",
       "        \n",
       "    \n",
       "    \n",
       "            marker_110bb505048ea08c2811e069e4b2956f.bindTooltip(\n",
       "                `&lt;div&gt;\n",
       "                     Zimbabwe\n",
       "                 &lt;/div&gt;`,\n",
       "                {&quot;sticky&quot;: true}\n",
       "            );\n",
       "        \n",
       "    \n",
       "            var marker_28706cba09506e8dcff7dcc370b5f887 = L.marker(\n",
       "                [-13.2687204, 33.9301963],\n",
       "                {}\n",
       "            ).addTo(marker_cluster_c40bb7d58d7b1ff2b9ca2b07126a61d5);\n",
       "        \n",
       "    \n",
       "        var popup_9a708a181ad5f63520b0e3e025b89f36 = L.popup({&quot;maxWidth&quot;: &quot;100%&quot;});\n",
       "\n",
       "        \n",
       "            \n",
       "                var html_232c83ab1e4587da6c981a2ff8fbaeab = $(`&lt;div id=&quot;html_232c83ab1e4587da6c981a2ff8fbaeab&quot; style=&quot;width: 100.0%; height: 100.0%;&quot;&gt;&lt;strong&gt;Malawi&lt;/strong&gt;&lt;br&gt;GDP per Capita: 0.08709&lt;br&gt;Healthy Life Expectancy: 0.29364&lt;/div&gt;`)[0];\n",
       "                popup_9a708a181ad5f63520b0e3e025b89f36.setContent(html_232c83ab1e4587da6c981a2ff8fbaeab);\n",
       "            \n",
       "        \n",
       "\n",
       "        marker_28706cba09506e8dcff7dcc370b5f887.bindPopup(popup_9a708a181ad5f63520b0e3e025b89f36)\n",
       "        ;\n",
       "\n",
       "        \n",
       "    \n",
       "    \n",
       "            marker_28706cba09506e8dcff7dcc370b5f887.bindTooltip(\n",
       "                `&lt;div&gt;\n",
       "                     Malawi\n",
       "                 &lt;/div&gt;`,\n",
       "                {&quot;sticky&quot;: true}\n",
       "            );\n",
       "        \n",
       "    \n",
       "            var marker_72a3bd28c78c64f03da3f1411959b162 = L.marker(\n",
       "                [10.9, 6.5],\n",
       "                {}\n",
       "            ).addTo(marker_cluster_c40bb7d58d7b1ff2b9ca2b07126a61d5);\n",
       "        \n",
       "    \n",
       "        var popup_0a87b72cce9e5c945bee0ea1a9f1c898 = L.popup({&quot;maxWidth&quot;: &quot;100%&quot;});\n",
       "\n",
       "        \n",
       "            \n",
       "                var html_c5163a7e0b37a638a34af8ec53ba4115 = $(`&lt;div id=&quot;html_c5163a7e0b37a638a34af8ec53ba4115&quot; style=&quot;width: 100.0%; height: 100.0%;&quot;&gt;&lt;strong&gt;Sudan&lt;/strong&gt;&lt;br&gt;GDP per Capita: 0.63069&lt;br&gt;Healthy Life Expectancy: 0.29759&lt;/div&gt;`)[0];\n",
       "                popup_0a87b72cce9e5c945bee0ea1a9f1c898.setContent(html_c5163a7e0b37a638a34af8ec53ba4115);\n",
       "            \n",
       "        \n",
       "\n",
       "        marker_72a3bd28c78c64f03da3f1411959b162.bindPopup(popup_0a87b72cce9e5c945bee0ea1a9f1c898)\n",
       "        ;\n",
       "\n",
       "        \n",
       "    \n",
       "    \n",
       "            marker_72a3bd28c78c64f03da3f1411959b162.bindTooltip(\n",
       "                `&lt;div&gt;\n",
       "                     Sudan\n",
       "                 &lt;/div&gt;`,\n",
       "                {&quot;sticky&quot;: true}\n",
       "            );\n",
       "        \n",
       "    \n",
       "            var marker_feb786bed2b4936ae809280574956c90 = L.marker(\n",
       "                [-0.8999695, 11.6899699],\n",
       "                {}\n",
       "            ).addTo(marker_cluster_c40bb7d58d7b1ff2b9ca2b07126a61d5);\n",
       "        \n",
       "    \n",
       "        var popup_67c59f2e6cf8cb54772244fbeae2c595 = L.popup({&quot;maxWidth&quot;: &quot;100%&quot;});\n",
       "\n",
       "        \n",
       "            \n",
       "                var html_67c51b096dc3ad25988955fc469043ce = $(`&lt;div id=&quot;html_67c51b096dc3ad25988955fc469043ce&quot; style=&quot;width: 100.0%; height: 100.0%;&quot;&gt;&lt;strong&gt;Gabon&lt;/strong&gt;&lt;br&gt;GDP per Capita: 1.15851&lt;br&gt;Healthy Life Expectancy: 0.3494&lt;/div&gt;`)[0];\n",
       "                popup_67c59f2e6cf8cb54772244fbeae2c595.setContent(html_67c51b096dc3ad25988955fc469043ce);\n",
       "            \n",
       "        \n",
       "\n",
       "        marker_feb786bed2b4936ae809280574956c90.bindPopup(popup_67c59f2e6cf8cb54772244fbeae2c595)\n",
       "        ;\n",
       "\n",
       "        \n",
       "    \n",
       "    \n",
       "            marker_feb786bed2b4936ae809280574956c90.bindTooltip(\n",
       "                `&lt;div&gt;\n",
       "                     Gabon\n",
       "                 &lt;/div&gt;`,\n",
       "                {&quot;sticky&quot;: true}\n",
       "            );\n",
       "        \n",
       "    \n",
       "            var marker_229190ab45a551ac8fe675ff21ae08c4 = L.marker(\n",
       "                [16.3700359, -2.2900239],\n",
       "                {}\n",
       "            ).addTo(marker_cluster_c40bb7d58d7b1ff2b9ca2b07126a61d5);\n",
       "        \n",
       "    \n",
       "        var popup_d5ce676e559fde042c53147b83186ebf = L.popup({&quot;maxWidth&quot;: &quot;100%&quot;});\n",
       "\n",
       "        \n",
       "            \n",
       "                var html_557ddd551f643edef66949a4d9f30070 = $(`&lt;div id=&quot;html_557ddd551f643edef66949a4d9f30070&quot; style=&quot;width: 100.0%; height: 100.0%;&quot;&gt;&lt;strong&gt;Mali&lt;/strong&gt;&lt;br&gt;GDP per Capita: 0.31292&lt;br&gt;Healthy Life Expectancy: 0.16347&lt;/div&gt;`)[0];\n",
       "                popup_d5ce676e559fde042c53147b83186ebf.setContent(html_557ddd551f643edef66949a4d9f30070);\n",
       "            \n",
       "        \n",
       "\n",
       "        marker_229190ab45a551ac8fe675ff21ae08c4.bindPopup(popup_d5ce676e559fde042c53147b83186ebf)\n",
       "        ;\n",
       "\n",
       "        \n",
       "    \n",
       "    \n",
       "            marker_229190ab45a551ac8fe675ff21ae08c4.bindTooltip(\n",
       "                `&lt;div&gt;\n",
       "                     Mali\n",
       "                 &lt;/div&gt;`,\n",
       "                {&quot;sticky&quot;: true}\n",
       "            );\n",
       "        \n",
       "    \n",
       "            var marker_cec5a81e7c68bc5cc368b4d8db17e29e = L.marker(\n",
       "                [19.1399952, -72.3570972],\n",
       "                {}\n",
       "            ).addTo(marker_cluster_c40bb7d58d7b1ff2b9ca2b07126a61d5);\n",
       "        \n",
       "    \n",
       "        var popup_03138b8d5c7822f431f402dc79c75a3e = L.popup({&quot;maxWidth&quot;: &quot;100%&quot;});\n",
       "\n",
       "        \n",
       "            \n",
       "                var html_cea20a660372b97c5d4f982536c8b53b = $(`&lt;div id=&quot;html_cea20a660372b97c5d4f982536c8b53b&quot; style=&quot;width: 100.0%; height: 100.0%;&quot;&gt;&lt;strong&gt;Haiti&lt;/strong&gt;&lt;br&gt;GDP per Capita: 0.34097&lt;br&gt;Healthy Life Expectancy: 0.27494&lt;/div&gt;`)[0];\n",
       "                popup_03138b8d5c7822f431f402dc79c75a3e.setContent(html_cea20a660372b97c5d4f982536c8b53b);\n",
       "            \n",
       "        \n",
       "\n",
       "        marker_cec5a81e7c68bc5cc368b4d8db17e29e.bindPopup(popup_03138b8d5c7822f431f402dc79c75a3e)\n",
       "        ;\n",
       "\n",
       "        \n",
       "    \n",
       "    \n",
       "            marker_cec5a81e7c68bc5cc368b4d8db17e29e.bindTooltip(\n",
       "                `&lt;div&gt;\n",
       "                     Haiti\n",
       "                 &lt;/div&gt;`,\n",
       "                {&quot;sticky&quot;: true}\n",
       "            );\n",
       "        \n",
       "    \n",
       "            var marker_783e97815e1107b1815f6748f182c88a = L.marker(\n",
       "                [-23.1681782, 24.5928742],\n",
       "                {}\n",
       "            ).addTo(marker_cluster_c40bb7d58d7b1ff2b9ca2b07126a61d5);\n",
       "        \n",
       "    \n",
       "        var popup_ad3142e9cf7c65ad34e864953d8d95b3 = L.popup({&quot;maxWidth&quot;: &quot;100%&quot;});\n",
       "\n",
       "        \n",
       "            \n",
       "                var html_4bf93b28c8132c3c2ce610a497a33324 = $(`&lt;div id=&quot;html_4bf93b28c8132c3c2ce610a497a33324&quot; style=&quot;width: 100.0%; height: 100.0%;&quot;&gt;&lt;strong&gt;Botswana&lt;/strong&gt;&lt;br&gt;GDP per Capita: 1.09426&lt;br&gt;Healthy Life Expectancy: 0.34752&lt;/div&gt;`)[0];\n",
       "                popup_ad3142e9cf7c65ad34e864953d8d95b3.setContent(html_4bf93b28c8132c3c2ce610a497a33324);\n",
       "            \n",
       "        \n",
       "\n",
       "        marker_783e97815e1107b1815f6748f182c88a.bindPopup(popup_ad3142e9cf7c65ad34e864953d8d95b3)\n",
       "        ;\n",
       "\n",
       "        \n",
       "    \n",
       "    \n",
       "            marker_783e97815e1107b1815f6748f182c88a.bindTooltip(\n",
       "                `&lt;div&gt;\n",
       "                     Botswana\n",
       "                 &lt;/div&gt;`,\n",
       "                {&quot;sticky&quot;: true}\n",
       "            );\n",
       "        \n",
       "    \n",
       "            var marker_f6d3d45100904251d1778df54982a6d5 = L.marker(\n",
       "                [-12.2045176, 44.2832964],\n",
       "                {}\n",
       "            ).addTo(marker_cluster_c40bb7d58d7b1ff2b9ca2b07126a61d5);\n",
       "        \n",
       "    \n",
       "        var popup_ea5d679bd09a7150bb003de4316f018a = L.popup({&quot;maxWidth&quot;: &quot;100%&quot;});\n",
       "\n",
       "        \n",
       "            \n",
       "                var html_4a1a1023f9c2a526f9527ca3263c142a = $(`&lt;div id=&quot;html_4a1a1023f9c2a526f9527ca3263c142a&quot; style=&quot;width: 100.0%; height: 100.0%;&quot;&gt;&lt;strong&gt;Comoros&lt;/strong&gt;&lt;br&gt;GDP per Capita: 0.27509&lt;br&gt;Healthy Life Expectancy: 0.29981&lt;/div&gt;`)[0];\n",
       "                popup_ea5d679bd09a7150bb003de4316f018a.setContent(html_4a1a1023f9c2a526f9527ca3263c142a);\n",
       "            \n",
       "        \n",
       "\n",
       "        marker_f6d3d45100904251d1778df54982a6d5.bindPopup(popup_ea5d679bd09a7150bb003de4316f018a)\n",
       "        ;\n",
       "\n",
       "        \n",
       "    \n",
       "    \n",
       "            marker_f6d3d45100904251d1778df54982a6d5.bindTooltip(\n",
       "                `&lt;div&gt;\n",
       "                     Comoros\n",
       "                 &lt;/div&gt;`,\n",
       "                {&quot;sticky&quot;: true}\n",
       "            );\n",
       "        \n",
       "    \n",
       "            var marker_690d150d6a08dbd39ca6b92a711af026 = L.marker(\n",
       "                [7.9897371, -5.5679458],\n",
       "                {}\n",
       "            ).addTo(marker_cluster_c40bb7d58d7b1ff2b9ca2b07126a61d5);\n",
       "        \n",
       "    \n",
       "        var popup_9323e3ad069f84a630ed3404896b0185 = L.popup({&quot;maxWidth&quot;: &quot;100%&quot;});\n",
       "\n",
       "        \n",
       "            \n",
       "                var html_eabeaa880b2a8bff598741017992a242 = $(`&lt;div id=&quot;html_eabeaa880b2a8bff598741017992a242&quot; style=&quot;width: 100.0%; height: 100.0%;&quot;&gt;&lt;strong&gt;Ivory Coast&lt;/strong&gt;&lt;br&gt;GDP per Capita: 0.55507&lt;br&gt;Healthy Life Expectancy: 0.04476&lt;/div&gt;`)[0];\n",
       "                popup_9323e3ad069f84a630ed3404896b0185.setContent(html_eabeaa880b2a8bff598741017992a242);\n",
       "            \n",
       "        \n",
       "\n",
       "        marker_690d150d6a08dbd39ca6b92a711af026.bindPopup(popup_9323e3ad069f84a630ed3404896b0185)\n",
       "        ;\n",
       "\n",
       "        \n",
       "    \n",
       "    \n",
       "            marker_690d150d6a08dbd39ca6b92a711af026.bindTooltip(\n",
       "                `&lt;div&gt;\n",
       "                     Ivory Coast\n",
       "                 &lt;/div&gt;`,\n",
       "                {&quot;sticky&quot;: true}\n",
       "            );\n",
       "        \n",
       "    \n",
       "            var marker_8cc3d183434e0d1b746b686dd21d852f = L.marker(\n",
       "                [12.5433216, 104.8144914],\n",
       "                {}\n",
       "            ).addTo(marker_cluster_c40bb7d58d7b1ff2b9ca2b07126a61d5);\n",
       "        \n",
       "    \n",
       "        var popup_7ce5bfc52193101dd20f6febf4e2fd0f = L.popup({&quot;maxWidth&quot;: &quot;100%&quot;});\n",
       "\n",
       "        \n",
       "            \n",
       "                var html_3604f2bfaa7a49bf1b9e7837253cdbc9 = $(`&lt;div id=&quot;html_3604f2bfaa7a49bf1b9e7837253cdbc9&quot; style=&quot;width: 100.0%; height: 100.0%;&quot;&gt;&lt;strong&gt;Cambodia&lt;/strong&gt;&lt;br&gt;GDP per Capita: 0.55604&lt;br&gt;Healthy Life Expectancy: 0.42494&lt;/div&gt;`)[0];\n",
       "                popup_7ce5bfc52193101dd20f6febf4e2fd0f.setContent(html_3604f2bfaa7a49bf1b9e7837253cdbc9);\n",
       "            \n",
       "        \n",
       "\n",
       "        marker_8cc3d183434e0d1b746b686dd21d852f.bindPopup(popup_7ce5bfc52193101dd20f6febf4e2fd0f)\n",
       "        ;\n",
       "\n",
       "        \n",
       "    \n",
       "    \n",
       "            marker_8cc3d183434e0d1b746b686dd21d852f.bindTooltip(\n",
       "                `&lt;div&gt;\n",
       "                     Cambodia\n",
       "                 &lt;/div&gt;`,\n",
       "                {&quot;sticky&quot;: true}\n",
       "            );\n",
       "        \n",
       "    \n",
       "            var marker_9694b9cc77ef9be8eaaa8d7226155d1d = L.marker(\n",
       "                [-11.8775768, 17.5691241],\n",
       "                {}\n",
       "            ).addTo(marker_cluster_c40bb7d58d7b1ff2b9ca2b07126a61d5);\n",
       "        \n",
       "    \n",
       "        var popup_572f8178108ac252deaf639aff34134b = L.popup({&quot;maxWidth&quot;: &quot;100%&quot;});\n",
       "\n",
       "        \n",
       "            \n",
       "                var html_7a40b95da989b216d75b6ef49ef20804 = $(`&lt;div id=&quot;html_7a40b95da989b216d75b6ef49ef20804&quot; style=&quot;width: 100.0%; height: 100.0%;&quot;&gt;&lt;strong&gt;Angola&lt;/strong&gt;&lt;br&gt;GDP per Capita: 0.84731&lt;br&gt;Healthy Life Expectancy: 0.04991&lt;/div&gt;`)[0];\n",
       "                popup_572f8178108ac252deaf639aff34134b.setContent(html_7a40b95da989b216d75b6ef49ef20804);\n",
       "            \n",
       "        \n",
       "\n",
       "        marker_9694b9cc77ef9be8eaaa8d7226155d1d.bindPopup(popup_572f8178108ac252deaf639aff34134b)\n",
       "        ;\n",
       "\n",
       "        \n",
       "    \n",
       "    \n",
       "            marker_9694b9cc77ef9be8eaaa8d7226155d1d.bindTooltip(\n",
       "                `&lt;div&gt;\n",
       "                     Angola\n",
       "                 &lt;/div&gt;`,\n",
       "                {&quot;sticky&quot;: true}\n",
       "            );\n",
       "        \n",
       "    \n",
       "            var marker_e90d92c73389530a1d83d1526e09df35 = L.marker(\n",
       "                [17.7356214, 9.3238432],\n",
       "                {}\n",
       "            ).addTo(marker_cluster_c40bb7d58d7b1ff2b9ca2b07126a61d5);\n",
       "        \n",
       "    \n",
       "        var popup_7b2576660e00baf93d1ba7e02b571a45 = L.popup({&quot;maxWidth&quot;: &quot;100%&quot;});\n",
       "\n",
       "        \n",
       "            \n",
       "                var html_5376566fbc327972b1e493a659686b6a = $(`&lt;div id=&quot;html_5376566fbc327972b1e493a659686b6a&quot; style=&quot;width: 100.0%; height: 100.0%;&quot;&gt;&lt;strong&gt;Niger&lt;/strong&gt;&lt;br&gt;GDP per Capita: 0.1327&lt;br&gt;Healthy Life Expectancy: 0.26162&lt;/div&gt;`)[0];\n",
       "                popup_7b2576660e00baf93d1ba7e02b571a45.setContent(html_5376566fbc327972b1e493a659686b6a);\n",
       "            \n",
       "        \n",
       "\n",
       "        marker_e90d92c73389530a1d83d1526e09df35.bindPopup(popup_7b2576660e00baf93d1ba7e02b571a45)\n",
       "        ;\n",
       "\n",
       "        \n",
       "    \n",
       "    \n",
       "            marker_e90d92c73389530a1d83d1526e09df35.bindTooltip(\n",
       "                `&lt;div&gt;\n",
       "                     Niger\n",
       "                 &lt;/div&gt;`,\n",
       "                {&quot;sticky&quot;: true}\n",
       "            );\n",
       "        \n",
       "    \n",
       "            var marker_fa18a6b7773a904df0caf1dea34030f0 = L.marker(\n",
       "                [7.8699431, 29.6667897],\n",
       "                {}\n",
       "            ).addTo(marker_cluster_c40bb7d58d7b1ff2b9ca2b07126a61d5);\n",
       "        \n",
       "    \n",
       "        var popup_f8527f94a3ea41c86dba235e9cd5e49a = L.popup({&quot;maxWidth&quot;: &quot;100%&quot;});\n",
       "\n",
       "        \n",
       "            \n",
       "                var html_f309ee766623e72416f31b2f07e1dca4 = $(`&lt;div id=&quot;html_f309ee766623e72416f31b2f07e1dca4&quot; style=&quot;width: 100.0%; height: 100.0%;&quot;&gt;&lt;strong&gt;South Sudan&lt;/strong&gt;&lt;br&gt;GDP per Capita: 0.39394&lt;br&gt;Healthy Life Expectancy: 0.15781&lt;/div&gt;`)[0];\n",
       "                popup_f8527f94a3ea41c86dba235e9cd5e49a.setContent(html_f309ee766623e72416f31b2f07e1dca4);\n",
       "            \n",
       "        \n",
       "\n",
       "        marker_fa18a6b7773a904df0caf1dea34030f0.bindPopup(popup_f8527f94a3ea41c86dba235e9cd5e49a)\n",
       "        ;\n",
       "\n",
       "        \n",
       "    \n",
       "    \n",
       "            marker_fa18a6b7773a904df0caf1dea34030f0.bindTooltip(\n",
       "                `&lt;div&gt;\n",
       "                     South Sudan\n",
       "                 &lt;/div&gt;`,\n",
       "                {&quot;sticky&quot;: true}\n",
       "            );\n",
       "        \n",
       "    \n",
       "            var marker_faa2a43d6c43cf715af16e3bf943c603 = L.marker(\n",
       "                [15.6134137, 19.0156172],\n",
       "                {}\n",
       "            ).addTo(marker_cluster_c40bb7d58d7b1ff2b9ca2b07126a61d5);\n",
       "        \n",
       "    \n",
       "        var popup_abdb02824daf54920722720ca1845257 = L.popup({&quot;maxWidth&quot;: &quot;100%&quot;});\n",
       "\n",
       "        \n",
       "            \n",
       "                var html_27e653e1689ab3e46f1fa0b293e19e67 = $(`&lt;div id=&quot;html_27e653e1689ab3e46f1fa0b293e19e67&quot; style=&quot;width: 100.0%; height: 100.0%;&quot;&gt;&lt;strong&gt;Chad&lt;/strong&gt;&lt;br&gt;GDP per Capita: 0.42214&lt;br&gt;Healthy Life Expectancy: 0.03824&lt;/div&gt;`)[0];\n",
       "                popup_abdb02824daf54920722720ca1845257.setContent(html_27e653e1689ab3e46f1fa0b293e19e67);\n",
       "            \n",
       "        \n",
       "\n",
       "        marker_faa2a43d6c43cf715af16e3bf943c603.bindPopup(popup_abdb02824daf54920722720ca1845257)\n",
       "        ;\n",
       "\n",
       "        \n",
       "    \n",
       "    \n",
       "            marker_faa2a43d6c43cf715af16e3bf943c603.bindTooltip(\n",
       "                `&lt;div&gt;\n",
       "                     Chad\n",
       "                 &lt;/div&gt;`,\n",
       "                {&quot;sticky&quot;: true}\n",
       "            );\n",
       "        \n",
       "    \n",
       "            var marker_b16e99c64438c68f993b13a7ac221d09 = L.marker(\n",
       "                [12.0753083, -1.6880314],\n",
       "                {}\n",
       "            ).addTo(marker_cluster_c40bb7d58d7b1ff2b9ca2b07126a61d5);\n",
       "        \n",
       "    \n",
       "        var popup_7882cc0eb60deaad306140e37bb2a1fb = L.popup({&quot;maxWidth&quot;: &quot;100%&quot;});\n",
       "\n",
       "        \n",
       "            \n",
       "                var html_7a1d3a684f994a20317f80f985c34820 = $(`&lt;div id=&quot;html_7a1d3a684f994a20317f80f985c34820&quot; style=&quot;width: 100.0%; height: 100.0%;&quot;&gt;&lt;strong&gt;Burkina Faso&lt;/strong&gt;&lt;br&gt;GDP per Capita: 0.31995&lt;br&gt;Healthy Life Expectancy: 0.21297&lt;/div&gt;`)[0];\n",
       "                popup_7882cc0eb60deaad306140e37bb2a1fb.setContent(html_7a1d3a684f994a20317f80f985c34820);\n",
       "            \n",
       "        \n",
       "\n",
       "        marker_b16e99c64438c68f993b13a7ac221d09.bindPopup(popup_7882cc0eb60deaad306140e37bb2a1fb)\n",
       "        ;\n",
       "\n",
       "        \n",
       "    \n",
       "    \n",
       "            marker_b16e99c64438c68f993b13a7ac221d09.bindTooltip(\n",
       "                `&lt;div&gt;\n",
       "                     Burkina Faso\n",
       "                 &lt;/div&gt;`,\n",
       "                {&quot;sticky&quot;: true}\n",
       "            );\n",
       "        \n",
       "    \n",
       "            var marker_ce048d633876c8d8a848b79568320206 = L.marker(\n",
       "                [1.5333554, 32.2166578],\n",
       "                {}\n",
       "            ).addTo(marker_cluster_c40bb7d58d7b1ff2b9ca2b07126a61d5);\n",
       "        \n",
       "    \n",
       "        var popup_5ccf0fde42a30ce307e71bf070025dff = L.popup({&quot;maxWidth&quot;: &quot;100%&quot;});\n",
       "\n",
       "        \n",
       "            \n",
       "                var html_51a7413d89aaf9d6413862fb89460f4b = $(`&lt;div id=&quot;html_51a7413d89aaf9d6413862fb89460f4b&quot; style=&quot;width: 100.0%; height: 100.0%;&quot;&gt;&lt;strong&gt;Uganda&lt;/strong&gt;&lt;br&gt;GDP per Capita: 0.34719&lt;br&gt;Healthy Life Expectancy: 0.19625&lt;/div&gt;`)[0];\n",
       "                popup_5ccf0fde42a30ce307e71bf070025dff.setContent(html_51a7413d89aaf9d6413862fb89460f4b);\n",
       "            \n",
       "        \n",
       "\n",
       "        marker_ce048d633876c8d8a848b79568320206.bindPopup(popup_5ccf0fde42a30ce307e71bf070025dff)\n",
       "        ;\n",
       "\n",
       "        \n",
       "    \n",
       "    \n",
       "            marker_ce048d633876c8d8a848b79568320206.bindTooltip(\n",
       "                `&lt;div&gt;\n",
       "                     Uganda\n",
       "                 &lt;/div&gt;`,\n",
       "                {&quot;sticky&quot;: true}\n",
       "            );\n",
       "        \n",
       "    \n",
       "            var marker_1c5c7d39cb7fcc303f121a02b6a5d0ae = L.marker(\n",
       "                [16.3471243, 47.8915271],\n",
       "                {}\n",
       "            ).addTo(marker_cluster_c40bb7d58d7b1ff2b9ca2b07126a61d5);\n",
       "        \n",
       "    \n",
       "        var popup_75a70c8d334bac15542cadbf0cbcd457 = L.popup({&quot;maxWidth&quot;: &quot;100%&quot;});\n",
       "\n",
       "        \n",
       "            \n",
       "                var html_90c54d1007d92429d5016ea06a9d37de = $(`&lt;div id=&quot;html_90c54d1007d92429d5016ea06a9d37de&quot; style=&quot;width: 100.0%; height: 100.0%;&quot;&gt;&lt;strong&gt;Yemen&lt;/strong&gt;&lt;br&gt;GDP per Capita: 0.57939&lt;br&gt;Healthy Life Expectancy: 0.31048&lt;/div&gt;`)[0];\n",
       "                popup_75a70c8d334bac15542cadbf0cbcd457.setContent(html_90c54d1007d92429d5016ea06a9d37de);\n",
       "            \n",
       "        \n",
       "\n",
       "        marker_1c5c7d39cb7fcc303f121a02b6a5d0ae.bindPopup(popup_75a70c8d334bac15542cadbf0cbcd457)\n",
       "        ;\n",
       "\n",
       "        \n",
       "    \n",
       "    \n",
       "            marker_1c5c7d39cb7fcc303f121a02b6a5d0ae.bindTooltip(\n",
       "                `&lt;div&gt;\n",
       "                     Yemen\n",
       "                 &lt;/div&gt;`,\n",
       "                {&quot;sticky&quot;: true}\n",
       "            );\n",
       "        \n",
       "    \n",
       "            var marker_beb104370bd9fa8d34c98a73aca12b89 = L.marker(\n",
       "                [-18.9249604, 46.4416422],\n",
       "                {}\n",
       "            ).addTo(marker_cluster_c40bb7d58d7b1ff2b9ca2b07126a61d5);\n",
       "        \n",
       "    \n",
       "        var popup_83ba6b723492962a9404e271dd4d6ffd = L.popup({&quot;maxWidth&quot;: &quot;100%&quot;});\n",
       "\n",
       "        \n",
       "            \n",
       "                var html_15ed892237fcd9e25db04a519aa0e024 = $(`&lt;div id=&quot;html_15ed892237fcd9e25db04a519aa0e024&quot; style=&quot;width: 100.0%; height: 100.0%;&quot;&gt;&lt;strong&gt;Madagascar&lt;/strong&gt;&lt;br&gt;GDP per Capita: 0.27954&lt;br&gt;Healthy Life Expectancy: 0.37109&lt;/div&gt;`)[0];\n",
       "                popup_83ba6b723492962a9404e271dd4d6ffd.setContent(html_15ed892237fcd9e25db04a519aa0e024);\n",
       "            \n",
       "        \n",
       "\n",
       "        marker_beb104370bd9fa8d34c98a73aca12b89.bindPopup(popup_83ba6b723492962a9404e271dd4d6ffd)\n",
       "        ;\n",
       "\n",
       "        \n",
       "    \n",
       "    \n",
       "            marker_beb104370bd9fa8d34c98a73aca12b89.bindTooltip(\n",
       "                `&lt;div&gt;\n",
       "                     Madagascar\n",
       "                 &lt;/div&gt;`,\n",
       "                {&quot;sticky&quot;: true}\n",
       "            );\n",
       "        \n",
       "    \n",
       "            var marker_34e458a7617a796ffdc703c1f2a3bc94 = L.marker(\n",
       "                [-6.5247123, 35.7878438],\n",
       "                {}\n",
       "            ).addTo(marker_cluster_c40bb7d58d7b1ff2b9ca2b07126a61d5);\n",
       "        \n",
       "    \n",
       "        var popup_d829034d6429640725430076264252c7 = L.popup({&quot;maxWidth&quot;: &quot;100%&quot;});\n",
       "\n",
       "        \n",
       "            \n",
       "                var html_227b7f75bf7cf923aa82b18422b5e30f = $(`&lt;div id=&quot;html_227b7f75bf7cf923aa82b18422b5e30f&quot; style=&quot;width: 100.0%; height: 100.0%;&quot;&gt;&lt;strong&gt;Tanzania&lt;/strong&gt;&lt;br&gt;GDP per Capita: 0.47155&lt;br&gt;Healthy Life Expectancy: 0.357&lt;/div&gt;`)[0];\n",
       "                popup_d829034d6429640725430076264252c7.setContent(html_227b7f75bf7cf923aa82b18422b5e30f);\n",
       "            \n",
       "        \n",
       "\n",
       "        marker_34e458a7617a796ffdc703c1f2a3bc94.bindPopup(popup_d829034d6429640725430076264252c7)\n",
       "        ;\n",
       "\n",
       "        \n",
       "    \n",
       "    \n",
       "            marker_34e458a7617a796ffdc703c1f2a3bc94.bindTooltip(\n",
       "                `&lt;div&gt;\n",
       "                     Tanzania\n",
       "                 &lt;/div&gt;`,\n",
       "                {&quot;sticky&quot;: true}\n",
       "            );\n",
       "        \n",
       "    \n",
       "            var marker_dc57ec188d9670ffcf0101d5fed6e283 = L.marker(\n",
       "                [5.7499721, -9.3658524],\n",
       "                {}\n",
       "            ).addTo(marker_cluster_c40bb7d58d7b1ff2b9ca2b07126a61d5);\n",
       "        \n",
       "    \n",
       "        var popup_ac3e448e395a613034d567635baa7bbf = L.popup({&quot;maxWidth&quot;: &quot;100%&quot;});\n",
       "\n",
       "        \n",
       "            \n",
       "                var html_b66711bea88ed331d2b4f26c6bd94091 = $(`&lt;div id=&quot;html_b66711bea88ed331d2b4f26c6bd94091&quot; style=&quot;width: 100.0%; height: 100.0%;&quot;&gt;&lt;strong&gt;Liberia&lt;/strong&gt;&lt;br&gt;GDP per Capita: 0.10706&lt;br&gt;Healthy Life Expectancy: 0.23165&lt;/div&gt;`)[0];\n",
       "                popup_ac3e448e395a613034d567635baa7bbf.setContent(html_b66711bea88ed331d2b4f26c6bd94091);\n",
       "            \n",
       "        \n",
       "\n",
       "        marker_dc57ec188d9670ffcf0101d5fed6e283.bindPopup(popup_ac3e448e395a613034d567635baa7bbf)\n",
       "        ;\n",
       "\n",
       "        \n",
       "    \n",
       "    \n",
       "            marker_dc57ec188d9670ffcf0101d5fed6e283.bindTooltip(\n",
       "                `&lt;div&gt;\n",
       "                     Liberia\n",
       "                 &lt;/div&gt;`,\n",
       "                {&quot;sticky&quot;: true}\n",
       "            );\n",
       "        \n",
       "    \n",
       "            var marker_e863014f8f1488353e8be9399e45dec2 = L.marker(\n",
       "                [10.7226226, -10.7083587],\n",
       "                {}\n",
       "            ).addTo(marker_cluster_c40bb7d58d7b1ff2b9ca2b07126a61d5);\n",
       "        \n",
       "    \n",
       "        var popup_f82a5a4e40a5bbc6a1fc849ce749d529 = L.popup({&quot;maxWidth&quot;: &quot;100%&quot;});\n",
       "\n",
       "        \n",
       "            \n",
       "                var html_979f5e4d7c4011f461ec45a73b1c6ef7 = $(`&lt;div id=&quot;html_979f5e4d7c4011f461ec45a73b1c6ef7&quot; style=&quot;width: 100.0%; height: 100.0%;&quot;&gt;&lt;strong&gt;Guinea&lt;/strong&gt;&lt;br&gt;GDP per Capita: 0.22415&lt;br&gt;Healthy Life Expectancy: 0.18829&lt;/div&gt;`)[0];\n",
       "                popup_f82a5a4e40a5bbc6a1fc849ce749d529.setContent(html_979f5e4d7c4011f461ec45a73b1c6ef7);\n",
       "            \n",
       "        \n",
       "\n",
       "        marker_e863014f8f1488353e8be9399e45dec2.bindPopup(popup_f82a5a4e40a5bbc6a1fc849ce749d529)\n",
       "        ;\n",
       "\n",
       "        \n",
       "    \n",
       "    \n",
       "            marker_e863014f8f1488353e8be9399e45dec2.bindTooltip(\n",
       "                `&lt;div&gt;\n",
       "                     Guinea\n",
       "                 &lt;/div&gt;`,\n",
       "                {&quot;sticky&quot;: true}\n",
       "            );\n",
       "        \n",
       "    \n",
       "            var marker_174312613609d33b2579565af80c1c57 = L.marker(\n",
       "                [-1.9646631, 30.0644358],\n",
       "                {}\n",
       "            ).addTo(marker_cluster_c40bb7d58d7b1ff2b9ca2b07126a61d5);\n",
       "        \n",
       "    \n",
       "        var popup_73e13da9cc6ea70f75fd1d1e9b8a3227 = L.popup({&quot;maxWidth&quot;: &quot;100%&quot;});\n",
       "\n",
       "        \n",
       "            \n",
       "                var html_c4c955cf680e7ac06748929e52de44c6 = $(`&lt;div id=&quot;html_c4c955cf680e7ac06748929e52de44c6&quot; style=&quot;width: 100.0%; height: 100.0%;&quot;&gt;&lt;strong&gt;Rwanda&lt;/strong&gt;&lt;br&gt;GDP per Capita: 0.32846&lt;br&gt;Healthy Life Expectancy: 0.31865&lt;/div&gt;`)[0];\n",
       "                popup_73e13da9cc6ea70f75fd1d1e9b8a3227.setContent(html_c4c955cf680e7ac06748929e52de44c6);\n",
       "            \n",
       "        \n",
       "\n",
       "        marker_174312613609d33b2579565af80c1c57.bindPopup(popup_73e13da9cc6ea70f75fd1d1e9b8a3227)\n",
       "        ;\n",
       "\n",
       "        \n",
       "    \n",
       "    \n",
       "            marker_174312613609d33b2579565af80c1c57.bindTooltip(\n",
       "                `&lt;div&gt;\n",
       "                     Rwanda\n",
       "                 &lt;/div&gt;`,\n",
       "                {&quot;sticky&quot;: true}\n",
       "            );\n",
       "        \n",
       "    \n",
       "            var marker_7782b76d648f6cbe33b12c26cbe5a6b0 = L.marker(\n",
       "                [9.5293472, 2.2584408],\n",
       "                {}\n",
       "            ).addTo(marker_cluster_c40bb7d58d7b1ff2b9ca2b07126a61d5);\n",
       "        \n",
       "    \n",
       "        var popup_6813815c437644a4b2059beeffb5b4ca = L.popup({&quot;maxWidth&quot;: &quot;100%&quot;});\n",
       "\n",
       "        \n",
       "            \n",
       "                var html_8dde939b99eaa4f341ccea68677570e1 = $(`&lt;div id=&quot;html_8dde939b99eaa4f341ccea68677570e1&quot; style=&quot;width: 100.0%; height: 100.0%;&quot;&gt;&lt;strong&gt;Benin&lt;/strong&gt;&lt;br&gt;GDP per Capita: 0.39499&lt;br&gt;Healthy Life Expectancy: 0.21028&lt;/div&gt;`)[0];\n",
       "                popup_6813815c437644a4b2059beeffb5b4ca.setContent(html_8dde939b99eaa4f341ccea68677570e1);\n",
       "            \n",
       "        \n",
       "\n",
       "        marker_7782b76d648f6cbe33b12c26cbe5a6b0.bindPopup(popup_6813815c437644a4b2059beeffb5b4ca)\n",
       "        ;\n",
       "\n",
       "        \n",
       "    \n",
       "    \n",
       "            marker_7782b76d648f6cbe33b12c26cbe5a6b0.bindTooltip(\n",
       "                `&lt;div&gt;\n",
       "                     Benin\n",
       "                 &lt;/div&gt;`,\n",
       "                {&quot;sticky&quot;: true}\n",
       "            );\n",
       "        \n",
       "    \n",
       "            var marker_7072890331f37ab8ba8f81fed0696404 = L.marker(\n",
       "                [33.7680065, 66.2385139],\n",
       "                {}\n",
       "            ).addTo(marker_cluster_c40bb7d58d7b1ff2b9ca2b07126a61d5);\n",
       "        \n",
       "    \n",
       "        var popup_9e35e8b688e51153fddbf5c5cb6cb80c = L.popup({&quot;maxWidth&quot;: &quot;100%&quot;});\n",
       "\n",
       "        \n",
       "            \n",
       "                var html_0156104e108046727da16b7fef5efe9d = $(`&lt;div id=&quot;html_0156104e108046727da16b7fef5efe9d&quot; style=&quot;width: 100.0%; height: 100.0%;&quot;&gt;&lt;strong&gt;Afghanistan&lt;/strong&gt;&lt;br&gt;GDP per Capita: 0.38227&lt;br&gt;Healthy Life Expectancy: 0.17344&lt;/div&gt;`)[0];\n",
       "                popup_9e35e8b688e51153fddbf5c5cb6cb80c.setContent(html_0156104e108046727da16b7fef5efe9d);\n",
       "            \n",
       "        \n",
       "\n",
       "        marker_7072890331f37ab8ba8f81fed0696404.bindPopup(popup_9e35e8b688e51153fddbf5c5cb6cb80c)\n",
       "        ;\n",
       "\n",
       "        \n",
       "    \n",
       "    \n",
       "            marker_7072890331f37ab8ba8f81fed0696404.bindTooltip(\n",
       "                `&lt;div&gt;\n",
       "                     Afghanistan\n",
       "                 &lt;/div&gt;`,\n",
       "                {&quot;sticky&quot;: true}\n",
       "            );\n",
       "        \n",
       "    \n",
       "            var marker_a4c168223600a834d15aad223e9d51b0 = L.marker(\n",
       "                [8.7800265, 1.0199765],\n",
       "                {}\n",
       "            ).addTo(marker_cluster_c40bb7d58d7b1ff2b9ca2b07126a61d5);\n",
       "        \n",
       "    \n",
       "        var popup_54e52756023941258b45ee708048179f = L.popup({&quot;maxWidth&quot;: &quot;100%&quot;});\n",
       "\n",
       "        \n",
       "            \n",
       "                var html_3651137661c2524bd6a1fbd6841db05c = $(`&lt;div id=&quot;html_3651137661c2524bd6a1fbd6841db05c&quot; style=&quot;width: 100.0%; height: 100.0%;&quot;&gt;&lt;strong&gt;Togo&lt;/strong&gt;&lt;br&gt;GDP per Capita: 0.28123&lt;br&gt;Healthy Life Expectancy: 0.24811&lt;/div&gt;`)[0];\n",
       "                popup_54e52756023941258b45ee708048179f.setContent(html_3651137661c2524bd6a1fbd6841db05c);\n",
       "            \n",
       "        \n",
       "\n",
       "        marker_a4c168223600a834d15aad223e9d51b0.bindPopup(popup_54e52756023941258b45ee708048179f)\n",
       "        ;\n",
       "\n",
       "        \n",
       "    \n",
       "    \n",
       "            marker_a4c168223600a834d15aad223e9d51b0.bindTooltip(\n",
       "                `&lt;div&gt;\n",
       "                     Togo\n",
       "                 &lt;/div&gt;`,\n",
       "                {&quot;sticky&quot;: true}\n",
       "            );\n",
       "        \n",
       "    \n",
       "            var marker_7f86f403a3d31f7c68be605526cb9111 = L.marker(\n",
       "                [34.8147886, 38.42317811509885],\n",
       "                {}\n",
       "            ).addTo(marker_cluster_c40bb7d58d7b1ff2b9ca2b07126a61d5);\n",
       "        \n",
       "    \n",
       "        var popup_d9b6a4959c64480ca2abafdcdc75c7d7 = L.popup({&quot;maxWidth&quot;: &quot;100%&quot;});\n",
       "\n",
       "        \n",
       "            \n",
       "                var html_230bfc074aa4752c285167b9a537d40b = $(`&lt;div id=&quot;html_230bfc074aa4752c285167b9a537d40b&quot; style=&quot;width: 100.0%; height: 100.0%;&quot;&gt;&lt;strong&gt;Syria&lt;/strong&gt;&lt;br&gt;GDP per Capita: 0.74719&lt;br&gt;Healthy Life Expectancy: 0.62994&lt;/div&gt;`)[0];\n",
       "                popup_d9b6a4959c64480ca2abafdcdc75c7d7.setContent(html_230bfc074aa4752c285167b9a537d40b);\n",
       "            \n",
       "        \n",
       "\n",
       "        marker_7f86f403a3d31f7c68be605526cb9111.bindPopup(popup_d9b6a4959c64480ca2abafdcdc75c7d7)\n",
       "        ;\n",
       "\n",
       "        \n",
       "    \n",
       "    \n",
       "            marker_7f86f403a3d31f7c68be605526cb9111.bindTooltip(\n",
       "                `&lt;div&gt;\n",
       "                     Syria\n",
       "                 &lt;/div&gt;`,\n",
       "                {&quot;sticky&quot;: true}\n",
       "            );\n",
       "        \n",
       "    \n",
       "            var marker_ca8430cef6c3992d4f713262f7b099c6 = L.marker(\n",
       "                [-3.426449, 29.9324519],\n",
       "                {}\n",
       "            ).addTo(marker_cluster_c40bb7d58d7b1ff2b9ca2b07126a61d5);\n",
       "        \n",
       "    \n",
       "        var popup_f4fd891bb99a830b07fc8b60259cf4b5 = L.popup({&quot;maxWidth&quot;: &quot;100%&quot;});\n",
       "\n",
       "        \n",
       "            \n",
       "                var html_d4243001bf3accc872a714a0a969e184 = $(`&lt;div id=&quot;html_d4243001bf3accc872a714a0a969e184&quot; style=&quot;width: 100.0%; height: 100.0%;&quot;&gt;&lt;strong&gt;Burundi&lt;/strong&gt;&lt;br&gt;GDP per Capita: 0.06831&lt;br&gt;Healthy Life Expectancy: 0.15747&lt;/div&gt;`)[0];\n",
       "                popup_f4fd891bb99a830b07fc8b60259cf4b5.setContent(html_d4243001bf3accc872a714a0a969e184);\n",
       "            \n",
       "        \n",
       "\n",
       "        marker_ca8430cef6c3992d4f713262f7b099c6.bindPopup(popup_f4fd891bb99a830b07fc8b60259cf4b5)\n",
       "        ;\n",
       "\n",
       "        \n",
       "    \n",
       "    \n",
       "            marker_ca8430cef6c3992d4f713262f7b099c6.bindTooltip(\n",
       "                `&lt;div&gt;\n",
       "                     Burundi\n",
       "                 &lt;/div&gt;`,\n",
       "                {&quot;sticky&quot;: true}\n",
       "            );\n",
       "        \n",
       "    \n",
       "            marker_cluster_c40bb7d58d7b1ff2b9ca2b07126a61d5.addTo(map_06a1420f9985c2c5655def3928d2992e);\n",
       "        \n",
       "    \n",
       "            tile_layer_5ea91630472f9d04c5bf1304b9f56a30.addTo(map_06a1420f9985c2c5655def3928d2992e);\n",
       "        \n",
       "    \n",
       "            marker_cluster_c40bb7d58d7b1ff2b9ca2b07126a61d5.addTo(map_06a1420f9985c2c5655def3928d2992e);\n",
       "        \n",
       "&lt;/script&gt;\n",
       "&lt;/html&gt;\" style=\"position:absolute;width:100%;height:100%;left:0;top:0;border:none !important;\" allowfullscreen webkitallowfullscreen mozallowfullscreen></iframe></div></div>"
      ],
      "text/plain": [
       "<folium.folium.Map at 0x1d7c9513c50>"
      ]
     },
     "execution_count": 15,
     "metadata": {},
     "output_type": "execute_result"
    }
   ],
   "source": [
    "import folium\n",
    "from geopy.geocoders import Nominatim\n",
    "from folium.plugins import MarkerCluster\n",
    "import time\n",
    "\n",
    "# Initialize the geolocator\n",
    "geolocator = Nominatim(user_agent=\"geoapi\")\n",
    "\n",
    "# Define a function to get latitude and longitude based on the country name\n",
    "def get_coordinates(country):\n",
    "    try:\n",
    "        location = geolocator.geocode(country)\n",
    "        return location.latitude, location.longitude\n",
    "    except:\n",
    "        return None, None\n",
    "\n",
    "# Apply the function to add 'latitude' and 'longitude' columns\n",
    "data_cleaned['Latitude'], data_cleaned['Longitude'] = zip(*data_cleaned['Country'].apply(get_coordinates))\n",
    "\n",
    "# Filter out countries where coordinates could not be found\n",
    "map_data = data_cleaned.dropna(subset=['Latitude', 'Longitude'])\n",
    "\n",
    "# Initialize the Folium map\n",
    "world_map = folium.Map(location=[20, 0], zoom_start=2, tiles=\"CartoDB positron\")\n",
    "\n",
    "# Add a marker cluster\n",
    "marker_cluster = MarkerCluster().add_to(world_map)\n",
    "\n",
    "# Add markers to the map\n",
    "for idx, row in map_data.iterrows():\n",
    "    folium.Marker(\n",
    "        location=[row['Latitude'], row['Longitude']],\n",
    "        popup=f\"<strong>{row['Country']}</strong><br>GDP per Capita: {row['Economy (GDP per Capita)']}<br>Healthy Life Expectancy: {row['Health (Life Expectancy)']}\",\n",
    "        tooltip=row['Country']\n",
    "    ).add_to(marker_cluster)\n",
    "    time.sleep(1)  # Add delay to avoid hitting geocoding API limits\n",
    "\n",
    "# Save the map to an HTML file\n",
    "map_file = \"map.html\"\n",
    "world_map.save(map_file)\n",
    "\n",
    "# Display the map\n",
    "world_map\n"
   ]
  },
  {
   "cell_type": "markdown",
   "metadata": {},
   "source": [
    "#### Prompt-10: **```before we create the dashboard we need to see and save the last version of the data```**"
   ]
  },
  {
   "cell_type": "code",
   "execution_count": 16,
   "metadata": {},
   "outputs": [
    {
     "name": "stdout",
     "output_type": "stream",
     "text": [
      "Data has been saved successfully to 'cleaned_happiness_data.csv'\n"
     ]
    }
   ],
   "source": [
    "# Displaying the last version of the cleaned dataset and saving it to a CSV file for future use\n",
    "data_cleaned.head()\n",
    "\n",
    "# Save the cleaned data to a CSV file\n",
    "data_cleaned.to_csv('cleaned_happiness_data.csv', index=False)\n",
    "\n",
    "print(\"Data has been saved successfully to 'cleaned_happiness_data.csv'\")"
   ]
  }
 ],
 "metadata": {
  "kernelspec": {
   "display_name": ".venv",
   "language": "python",
   "name": "python3"
  },
  "language_info": {
   "codemirror_mode": {
    "name": "ipython",
    "version": 3
   },
   "file_extension": ".py",
   "mimetype": "text/x-python",
   "name": "python",
   "nbconvert_exporter": "python",
   "pygments_lexer": "ipython3",
   "version": "3.12.4"
  }
 },
 "nbformat": 4,
 "nbformat_minor": 2
}
